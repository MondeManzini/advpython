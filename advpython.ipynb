{
 "cells": [
  {
   "cell_type": "markdown",
   "metadata": {
    "slideshow": {
     "slide_type": "slide"
    }
   },
   "source": [
    "# Advanced Python\n",
    "\n"
   ]
  },
  {
   "cell_type": "markdown",
   "metadata": {},
   "source": [
    "# PEP 8\n",
    "\n",
    "PEP 8 contains the Python style guide.  Here follows some of the relevant chapters from PEP 8.\n",
    "\n",
    "## Code Lay-out\n",
    "\n",
    "### Indentation\n",
    "Use **4 spaces** per indentation level.\n",
    "\n",
    "Continuation lines should align wrapped elements either vertically using Python's implicit line joining inside parentheses, brackets and braces, or using a hanging indent. When using a hanging indent the following should be considered; there should be no arguments on the first line and further indentation should be used to clearly distinguish itself as a continuation line.\n",
    "\n",
    "**Yes:**\n",
    "```python\n",
    "\n",
    "# Aligned with opening delimiter.\n",
    "foo = long_function_name(var_one, var_two,\n",
    "                         var_three, var_four)\n",
    "\n",
    "# Add 4 spaces (an extra level of indentation) to distinguish arguments from the rest.\n",
    "def long_function_name(\n",
    "        var_one, var_two, var_three,\n",
    "        var_four):\n",
    "    print(var_one)\n",
    "\n",
    "# Hanging indents should add a level.\n",
    "foo = long_function_name(\n",
    "    var_one, var_two,\n",
    "    var_three, var_four)\n",
    "```\n",
    "****No:****\n",
    "```python\n",
    "# Arguments on first line forbidden when not using vertical alignment.\n",
    "foo = long_function_name(var_one, var_two,\n",
    "    var_three, var_four)\n",
    "\n",
    "# Further indentation required as indentation is not distinguishable.\n",
    "def long_function_name(\n",
    "    var_one, var_two, var_three,\n",
    "    var_four):\n",
    "    print(var_one)\n",
    "\n",
    "```    \n",
    "The 4-space rule is optional for continuation lines.\n",
    "\n",
    "Optional:\n",
    "```python\n",
    "# Hanging indents *may* be indented to other than 4 spaces.\n",
    "foo = long_function_name(\n",
    "  var_one, var_two,\n",
    "  var_three, var_four)\n",
    "```\n",
    "When the conditional part of an if-statement is long enough to require that it be written across multiple lines, it's worth noting that the combination of a two character keyword (i.e. if), plus a single space, plus an opening parenthesis creates a natural 4-space indent for the subsequent lines of the multiline conditional. This can produce a visual conflict with the indented suite of code nested inside the if-statement, which would also naturally be indented to 4 spaces. This PEP takes no explicit position on how (or whether) to further visually distinguish such conditional lines from the nested suite inside the if-statement. \n",
    "\n",
    "Acceptable options in this situation include, but are not limited to:\n",
    "```python\n",
    "# No extra indentation.\n",
    "if (this_is_one_thing and\n",
    "    that_is_another_thing):\n",
    "    do_something()\n",
    "\n",
    "# Add a comment, which will provide some distinction in editors\n",
    "# supporting syntax highlighting.\n",
    "if (this_is_one_thing and\n",
    "    that_is_another_thing):\n",
    "    # Since both conditions are true, we can frobnicate.\n",
    "    do_something()\n",
    "\n",
    "# Add some extra indentation on the conditional continuation line.\n",
    "if (this_is_one_thing\n",
    "        and that_is_another_thing):\n",
    "    do_something()\n",
    "```\n",
    "(Also see the discussion of whether to break before or after binary operators below.)\n",
    "\n",
    "The closing brace/bracket/parenthesis on multiline constructs may either line up under the first non-whitespace character of the last line of list, as in:\n",
    "```python\n",
    "my_list = [\n",
    "    1, 2, 3,\n",
    "    4, 5, 6,\n",
    "    ]\n",
    "result = some_function_that_takes_arguments(\n",
    "    'a', 'b', 'c',\n",
    "    'd', 'e', 'f',\n",
    "    )\n",
    "```\n",
    "or it may be lined up under the first character of the line that starts the multiline construct, as in:\n",
    "```python\n",
    "my_list = [\n",
    "    1, 2, 3,\n",
    "    4, 5, 6,\n",
    "]\n",
    "result = some_function_that_takes_arguments(\n",
    "    'a', 'b', 'c',\n",
    "    'd', 'e', 'f',\n",
    ")\n",
    "```\n",
    "### Tabs or Spaces?\n",
    "Spaces are the preferred indentation method.\n",
    "\n",
    "Tabs should be used solely to remain consistent with code that is already indented with tabs.\n",
    "\n",
    "Python 3 disallows mixing the use of tabs and spaces for indentation.\n",
    "\n",
    "Python 2 code indented with a mixture of tabs and spaces should be converted to using spaces exclusively.\n",
    "\n",
    "When invoking the Python 2 command line interpreter with the -t option, it issues warnings about code that illegally mixes tabs and spaces. When using -tt these warnings become errors. These options are highly recommended!"
   ]
  },
  {
   "cell_type": "markdown",
   "metadata": {},
   "source": [
    "### Maximum Line Length\n",
    "Limit all lines to a maximum of **79** characters.\n",
    "\n",
    "For flowing long blocks of text with fewer structural restrictions (docstrings or comments), the line length should be limited to 72 characters.\n",
    "\n",
    "Limiting the required editor window width makes it possible to have several files open side-by-side, and works well when using code review tools that present the two versions in adjacent columns.\n",
    "\n",
    "The default wrapping in most tools disrupts the visual structure of the code, making it more difficult to understand. The limits are chosen to avoid wrapping in editors with the window width set to 80, even if the tool places a marker glyph in the final column when wrapping lines. Some web based tools may not offer dynamic line wrapping at all.\n",
    "\n",
    "Some teams strongly prefer a longer line length. For code maintained exclusively or primarily by a team that can reach agreement on this issue, it is okay to increase the line length limit up to 99 characters, provided that comments and docstrings are still wrapped at 72 characters.\n",
    "\n",
    "The Python standard library is conservative and requires limiting lines to 79 characters (and docstrings/comments to 72).\n",
    "\n",
    "The preferred way of wrapping long lines is by using Python's implied line continuation inside parentheses, brackets and braces. Long lines can be broken over multiple lines by wrapping expressions in parentheses. These should be used in preference to using a backslash for line continuation.\n",
    "\n",
    "Backslashes may still be appropriate at times. For example, long, multiple with-statements cannot use implicit continuation, so backslashes are acceptable:\n",
    "```python\n",
    "with open('/path/to/some/file/you/want/to/read') as file_1, \\\n",
    "     open('/path/to/some/file/being/written', 'w') as file_2:\n",
    "    file_2.write(file_1.read())\n",
    "```\n",
    "(See the previous discussion on multiline if-statements for further thoughts on the indentation of such multiline with-statements.)\n",
    "\n",
    "Another such case is with assert statements.\n",
    "\n",
    "Make sure to indent the continued line appropriately.\n",
    "\n",
    "Should a Line Break Before or After a Binary Operator?\n",
    "For decades the recommended style was to break after binary operators. But this can hurt readability in two ways: the operators tend to get scattered across different columns on the screen, and each operator is moved away from its operand and onto the previous line. Here, the eye has to do extra work to tell which items are added and which are subtracted:\n",
    "\n",
    "**No:**\n",
    "```python\n",
    "# operators sit far away from their operands\n",
    "income = (gross_wages +\n",
    "          taxable_interest +\n",
    "          (dividends - qualified_dividends) -\n",
    "          ira_deduction -\n",
    "          student_loan_interest)\n",
    "```\n",
    "To solve this readability problem, mathematicians and their publishers follow the opposite convention. Donald Knuth explains the traditional rule in his Computers and Typesetting series: \"Although formulas within a paragraph always break after binary operations and relations, displayed formulas always break before binary operations\" [3].\n",
    "\n",
    "Following the tradition from mathematics usually results in more readable code:\n",
    "\n",
    "**Yes:**\n",
    "```python\n",
    "# easy to match operators with operands\n",
    "income = (gross_wages\n",
    "          + taxable_interest\n",
    "          + (dividends - qualified_dividends)\n",
    "          - ira_deduction\n",
    "          - student_loan_interest)\n",
    "```\n",
    "In Python code, it is permissible to break before or after a binary operator, as long as the convention is consistent locally. For new code Knuth's style is suggested."
   ]
  },
  {
   "cell_type": "markdown",
   "metadata": {},
   "source": [
    "### Blank Lines\n",
    "Surround top-level function and class definitions with two blank lines.\n",
    "\n",
    "Method definitions inside a class are surrounded by a single blank line.\n",
    "\n",
    "Extra blank lines may be used (sparingly) to separate groups of related functions. Blank lines may be omitted between a bunch of related one-liners (e.g. a set of dummy implementations).\n",
    "\n",
    "Use blank lines in functions, sparingly, to indicate logical sections.\n",
    "\n",
    "Python accepts the control-L (i.e. ^L) form feed character as whitespace; Many tools treat these characters as page separators, so you may use them to separate pages of related sections of your file. Note, some editors and web-based code viewers may not recognize control-L as a form feed and will show another glyph in its place.\n",
    "\n",
    "### Source File Encoding\n",
    "Code in the core Python distribution should always use UTF-8 (or ASCII in Python 2).\n",
    "\n",
    "Files using ASCII (in Python 2) or UTF-8 (in Python 3) should not have an encoding declaration.\n",
    "\n",
    "In the standard library, non-default encodings should be used only for test purposes or when a comment or docstring needs to mention an author name that contains non-ASCII characters; otherwise, using \\x, \\u, \\U, or \\N escapes is the preferred way to include non-ASCII data in string literals.\n",
    "\n",
    "For Python 3.0 and beyond, the following policy is prescribed for the standard library (see PEP 3131): All identifiers in the Python standard library MUST use ASCII-only identifiers, and SHOULD use English words wherever feasible (in many cases, abbreviations and technical terms are used which aren't English). In addition, string literals and comments must also be in ASCII. The only exceptions are (a) test cases testing the non-ASCII features, and (b) names of authors. Authors whose names are not based on the Latin alphabet (latin-1, ISO/IEC 8859-1 character set) MUST provide a transliteration of their names in this character set.\n",
    "\n",
    "Open source projects with a global audience are encouraged to adopt a similar policy."
   ]
  },
  {
   "cell_type": "markdown",
   "metadata": {},
   "source": [
    "### Imports\n",
    "Imports should usually be on separate lines:\n",
    "\n",
    "**Yes:** \n",
    "```python\n",
    "import os\n",
    "import sys\n",
    "```\n",
    "****No:****\n",
    "```python\n",
    "import sys, os\n",
    "```\n",
    "It's okay to say this though:\n",
    "```python\n",
    "from subprocess import Popen, PIPE\n",
    "```\n",
    "Imports are always put at the top of the file, just after any module comments and docstrings, and before module globals and constants.\n",
    "\n",
    "Imports should be grouped in the following order:\n",
    "\n",
    "- Standard library imports.\n",
    "- Related third party imports.\n",
    "- Local application/library specific imports.\n",
    "\n",
    "You should put a blank line between each group of imports.\n",
    "\n",
    "Absolute imports are recommended, as they are usually more readable and tend to be better behaved (or at least give better error messages) if the import system is incorrectly configured (such as when a directory inside a package ends up on sys.path):\n",
    "```python\n",
    "import mypkg.sibling\n",
    "from mypkg import sibling\n",
    "from mypkg.sibling import example\n",
    "```\n",
    "However, explicit relative imports are an acceptable alternative to absolute imports, especially when dealing with complex package layouts where using absolute imports would be unnecessarily verbose:\n",
    "```python\n",
    "from . import sibling\n",
    "from .sibling import example\n",
    "```\n",
    "Standard library code should avoid complex package layouts and always use absolute imports.\n",
    "\n",
    "Implicit relative imports should never be used and have been removed in Python 3.\n",
    "\n",
    "When importing a class from a class-containing module, it's usually okay to spell this:\n",
    "```python\n",
    "from myclass import MyClass\n",
    "from foo.bar.yourclass import YourClass\n",
    "```\n",
    "If this spelling causes local name clashes, then spell them explicitly:\n",
    "```python\n",
    "import myclass\n",
    "import foo.bar.yourclass\n",
    "```\n",
    "and use \"myclass.MyClass\" and \"foo.bar.yourclass.YourClass\".\n",
    "\n",
    "Wildcard imports (`from <module> import *`) should be avoided, as they make it unclear which names are present in the namespace, confusing both readers and many automated tools. There is one defensible use case for a wildcard import, which is to republish an internal interface as part of a public API (for example, overwriting a pure Python implementation of an interface with the definitions from an optional accelerator module and exactly which definitions will be overwritten isn't known in advance).\n",
    "\n",
    "When republishing names this way, the guidelines below regarding public and internal interfaces still apply."
   ]
  },
  {
   "cell_type": "markdown",
   "metadata": {},
   "source": [
    "### Module Level Dunder Names\n",
    "Module level \"dunders\" (i.e. names with two leading and two trailing underscores) such as `__all__, __author__, __version__,` etc. should be placed after the module docstring but before any import statements except `from __future__ imports`. Python mandates that future-imports must appear in the module before any other code except docstrings:\n",
    "\n",
    "```python\n",
    "\"\"\"This is the example module.\n",
    "\n",
    "This module does stuff.\n",
    "\"\"\"\n",
    "\n",
    "from __future__ import barry_as_FLUFL\n",
    "\n",
    "__all__ = ['a', 'b', 'c']\n",
    "__version__ = '0.1'\n",
    "__author__ = 'Cardinal Biggles'\n",
    "\n",
    "import os\n",
    "import sys\n",
    "```"
   ]
  },
  {
   "cell_type": "markdown",
   "metadata": {},
   "source": [
    "## String Quotes\n",
    "In Python, single-quoted strings and double-quoted strings are the same. This PEP does not make a recommendation for this. Pick a rule and stick to it. When a string contains single or double quote characters, however, use the other one to avoid backslashes in the string. It improves readability.\n",
    "\n",
    "For triple-quoted strings, always use double quote characters to be consistent with the docstring convention in PEP 257.\n",
    "\n",
    "Whitespace in Expressions and Statements\n",
    "### Pet Peeves\n",
    "Avoid extraneous whitespace in the following situations:\n",
    "\n",
    "Immediately inside parentheses, brackets or braces.\n",
    "\n",
    "**Yes:** `spam(ham[1], {eggs: 2})`\n",
    "\n",
    "****No:****  `spam( ham[ 1 ], { eggs: 2 } )`\n",
    "\n",
    "Between a trailing comma and a following close parenthesis.\n",
    "\n",
    "**Yes:** `foo = (0,)`\n",
    "\n",
    "****No:****  `bar = (0, )`\n",
    "\n",
    "Immediately before a comma, semicolon, or colon:\n",
    "\n",
    "**Yes:** `if x == 4: print x, y; x, y = y, x`\n",
    "\n",
    "****No:****  `if x == 4 : print x , y ; x , y = y , x`\n",
    "\n",
    "However, in a slice the colon acts like a binary operator, and should have equal amounts on either side (treating it as the operator with the lowest priority). In an extended slice, both colons must have the same amount of spacing applied. Exception: when a slice parameter is omitted, the space is omitted.\n",
    "\n",
    "**Yes:**\n",
    "```python\n",
    "ham[1:9], ham[1:9:3], ham[:9:3], ham[1::3], ham[1:9:]\n",
    "ham[lower:upper], ham[lower:upper:], ham[lower::step]\n",
    "ham[lower+offset : upper+offset]\n",
    "ham[: upper_fn(x) : step_fn(x)], ham[:: step_fn(x)]\n",
    "ham[lower + offset : upper + offset]\n",
    "```\n",
    "****No:****\n",
    "```python\n",
    "ham[lower + offset:upper + offset]\n",
    "ham[1: 9], ham[1 :9], ham[1:9 :3]\n",
    "ham[lower : : upper]\n",
    "ham[ : upper]\n",
    "```\n",
    "Immediately before the open parenthesis that starts the argument list of a function call:\n",
    "\n",
    "**Yes:** `spam(1)`\n",
    "****No:****  `spam (1)`\n",
    "\n",
    "Immediately before the open parenthesis that starts an indexing or slicing:\n",
    "\n",
    "**Yes:** `dct['key'] = lst[index]`\n",
    "****No:****  `dct ['key'] = lst [index]`\n",
    "\n",
    "More than one space around an assignment (or other) operator to align it with another.\n",
    "\n",
    "**Yes:**\n",
    "```python\n",
    "x = 1\n",
    "y = 2\n",
    "long_variable = 3\n",
    "```\n",
    "****No:****\n",
    "```python\n",
    "x             = 1\n",
    "y             = 2\n",
    "long_variable = 3\n",
    "```"
   ]
  },
  {
   "cell_type": "markdown",
   "metadata": {},
   "source": [
    "## Other Recommendations\n",
    "Avoid trailing whitespace anywhere. Because it's usually invisible, it can be confusing: e.g. a backslash followed by a space and a newline does not count as a line continuation marker. Some editors don't preserve it and many projects (like CPython itself) have pre-commit hooks that reject it.\n",
    "\n",
    "Always surround these binary operators with a single space on either side: assignment (`=`), augmented assignment (`+=`, `-=` etc.), comparisons (`==`, `<`, `>`, `!=`, `<>`, `<=`, `>=`, `in`, `not in`, `is`, `is not`), Booleans (`and`, `or`, `not`).\n",
    "\n",
    "If operators with different priorities are used, consider adding whitespace around the operators with the lowest priority(ies). Use your own judgment; however, never use more than one space, and always have the same amount of whitespace on both sides of a binary operator.\n",
    "\n",
    "**Yes:**\n",
    "```python\n",
    "i = i + 1\n",
    "submitted += 1\n",
    "x = x*2 - 1\n",
    "hypot2 = x*x + y*y\n",
    "c = (a+b) * (a-b)\n",
    "```\n",
    "****No:****\n",
    "```python\n",
    "i=i+1\n",
    "submitted +=1\n",
    "x = x * 2 - 1\n",
    "hypot2 = x * x + y * y\n",
    "c = (a + b) * (a - b)\n",
    "```\n",
    "Function annotations should use the normal rules for colons and always have spaces around the -> arrow if present. (See Function Annotations below for more about function annotations.)\n",
    "\n",
    "**Yes:**\n",
    "```python\n",
    "def munge(input: AnyStr): pass\n",
    "def munge() -> AnyStr: pass\n",
    "```\n",
    "****No:****\n",
    "```python\n",
    "def munge(input:AnyStr): pass\n",
    "def munge()->PosInt: pass\n",
    "```\n",
    "Don't use spaces around the = sign when used to indicate a keyword argument, or when used to indicate a default value for an unannotated function parameter.\n",
    "\n",
    "**Yes:**\n",
    "```python\n",
    "def complex(real, imag=0.0):\n",
    "    return magic(r=real, i=imag)\n",
    "```\n",
    "****No:****\n",
    "```python\n",
    "def complex(real, imag = 0.0):\n",
    "    return magic(r = real, i = imag)\n",
    "```\n",
    "When combining an argument annotation with a default value, however, do use spaces around the = sign:\n",
    "\n",
    "**Yes:**\n",
    "```python\n",
    "def munge(sep: AnyStr = None): pass\n",
    "def munge(input: AnyStr, sep: AnyStr = None, limit=1000): pass\n",
    "```\n",
    "****No:****\n",
    "```python\n",
    "def munge(input: AnyStr=None): pass\n",
    "def munge(input: AnyStr, limit = 1000): pass\n",
    "```\n",
    "Compound statements (multiple statements on the same line) are generally discouraged.\n",
    "\n",
    "**Yes:**\n",
    "```python\n",
    "if foo == 'blah':\n",
    "    do_blah_thing()\n",
    "do_one()\n",
    "do_two()\n",
    "do_three()\n",
    "```\n",
    "\n",
    "**Rather not:**\n",
    "```python\n",
    "if foo == 'blah': do_blah_thing()\n",
    "do_one(); do_two(); do_three()\n",
    "```\n",
    "While sometimes it's okay to put an if/for/while with a small body on the same line, never do this for multi-clause statements. Also avoid folding such long lines!\n",
    "\n",
    "**Rather not:**\n",
    "\n",
    "```python\n",
    "if foo == 'blah': do_blah_thing()\n",
    "for x in lst: total += x\n",
    "while t < 10: t = delay()\n",
    "```\n",
    "\n",
    "**Definitely not:**\n",
    "\n",
    "```python\n",
    "if foo == 'blah': do_blah_thing()\n",
    "else: do_non_blah_thing()\n",
    "\n",
    "try: something()\n",
    "finally: cleanup()\n",
    "\n",
    "do_one(); do_two(); do_three(long, argument,\n",
    "                             list, like, this)\n",
    "\n",
    "if foo == 'blah': one(); two(); three()\n",
    "```"
   ]
  },
  {
   "cell_type": "markdown",
   "metadata": {},
   "source": [
    "### When to Use Trailing Commas\n",
    "Trailing commas are usually optional, except they are mandatory when making a tuple of one element (and in Python 2 they have semantics for the print statement). For clarity, it is recommended to surround the latter in (technically redundant) parentheses.\n",
    "\n",
    "**Yes:**\n",
    "```python\n",
    "FILES = ('setup.cfg',)\n",
    "```\n",
    "\n",
    "**OK, but confusing:**\n",
    "\n",
    "```python\n",
    "FILES = 'setup.cfg',\n",
    "```\n",
    "When trailing commas are redundant, they are often helpful when a version control system is used, when a list of values, arguments or imported items is expected to be extended over time. The pattern is to put each value (etc.) on a line by itself, always adding a trailing comma, and add the close parenthesis/bracket/brace on the next line. However it does not make sense to have a trailing comma on the same line as the closing delimiter (except in the above case of singleton tuples).\n",
    "\n",
    "**Yes:**\n",
    "\n",
    "```python\n",
    "FILES = [\n",
    "    'setup.cfg',\n",
    "    'tox.ini',\n",
    "    ]\n",
    "initialize(FILES,\n",
    "           error=True,\n",
    "           )\n",
    "```\n",
    "\n",
    "****No:****\n",
    "\n",
    "```python\n",
    "FILES = ['setup.cfg', 'tox.ini',]\n",
    "initialize(FILES, error=True,)\n",
    "```"
   ]
  },
  {
   "cell_type": "markdown",
   "metadata": {},
   "source": [
    "### Comments\n",
    "Comments that contradict the code are worse than no comments. Always make a priority of keeping the comments up-to-date when the code changes!\n",
    "\n",
    "Comments should be complete sentences. The first word should be capitalized, unless it is an identifier that begins with a lower case letter (never alter the case of identifiers!).\n",
    "\n",
    "Block comments generally consist of one or more paragraphs built out of complete sentences, with each sentence ending in a period.\n",
    "\n",
    "You should use two spaces after a sentence-ending period in multi- sentence comments, except after the final sentence.\n",
    "\n",
    "When writing English, follow Strunk and White.\n",
    "\n",
    "Python coders from non-English speaking countries: please write your comments in English, unless you are 120% sure that the code will never be read by people who don't speak your language.\n",
    "\n",
    "#### Block Comments\n",
    "Block comments generally apply to some (or all) code that follows them, and are indented to the same level as that code. Each line of a block comment starts with a # and a single space (unless it is indented text inside the comment).\n",
    "\n",
    "Paragraphs inside a block comment are separated by a line containing a single #.\n",
    "\n",
    "#### Inline Comments\n",
    "Use inline comments sparingly.\n",
    "\n",
    "An inline comment is a comment on the same line as a statement. Inline comments should be separated by at least two spaces from the statement. They should start with a # and a single space.\n",
    "\n",
    "Inline comments are unnecessary and in fact distracting if they state the obvious. Don't do this:\n",
    "\n",
    "```python\n",
    "x = x + 1                 # Increment x\n",
    "```\n",
    "\n",
    "But sometimes, this is useful:\n",
    "\n",
    "```python\n",
    "x = x + 1                 # Compensate for border\n",
    "```"
   ]
  },
  {
   "cell_type": "markdown",
   "metadata": {},
   "source": [
    "## Documentation Strings\n",
    "Conventions for writing good documentation strings (a.k.a. \"docstrings\") are immortalized in PEP 257.\n",
    "\n",
    "Write docstrings for all public modules, functions, classes, and methods. Docstrings are not necessary for non-public methods, but you should have a comment that describes what the method does. This comment should appear after the def line.\n",
    "\n",
    "PEP 257 describes good docstring conventions. Note that most importantly, the \"\"\" that ends a multiline docstring should be on a line by itself:\n",
    "\n",
    "```python\n",
    "\"\"\"Return a foobang\n",
    "\n",
    "Optional plotz says to frobnicate the bizbaz first.\n",
    "\"\"\"\n",
    "```\n",
    "\n",
    "For one liner docstrings, please keep the closing `\"\"\"` on the same line."
   ]
  },
  {
   "cell_type": "markdown",
   "metadata": {},
   "source": [
    "### Google Style Docstrings\n",
    "\n",
    "```python\n",
    "\n",
    "def example_method(self, param1, param2):\n",
    "        \"\"\"Class methods are similar to regular functions.\n",
    "\n",
    "        Note:\n",
    "            Do not include the `self` parameter in the ``Args`` section.\n",
    "\n",
    "        Args:\n",
    "            param1: The first parameter.\n",
    "            param2: The second parameter.\n",
    "\n",
    "        Returns:\n",
    "            True if successful, False otherwise.\n",
    "\n",
    "        \"\"\"\n",
    "        return True\n",
    "```\n",
    "\n",
    "### Pandas doc string\n",
    "\n",
    "```python\n",
    "def add(num1, num2):\n",
    "\"\"\"\n",
    "Add up two integer numbers.\n",
    "\n",
    "This function simply wraps the `+` operator, and does not\n",
    "do anything interesting, except for illustrating what is\n",
    "the docstring of a very simple function.\n",
    "\n",
    "Parameters\n",
    "----------\n",
    "num1 : int\n",
    "    First number to add\n",
    "num2 : int\n",
    "    Second number to add\n",
    "\n",
    "Returns\n",
    "-------\n",
    "int\n",
    "    The sum of `num1` and `num2`\n",
    "\n",
    "See Also\n",
    "--------\n",
    "subtract : Subtract one integer from another\n",
    "\n",
    "Examples\n",
    "--------\n",
    ">>> add(2, 2)\n",
    "4\n",
    ">>> add(25, 0)\n",
    "25\n",
    ">>> add(10, -10)\n",
    "0\n",
    "\"\"\"\n",
    "return num1 + num2\n",
    "\n",
    "```\n",
    "\n",
    "### Epytext doc string\n",
    "Historically a javadoc like style was prevalent, so it was taken as a base for Epydoc (with the called Epytext format) to generate documentation.\n",
    "\n",
    "```python\n",
    "\n",
    "\"\"\"\n",
    "This is a javadoc style.\n",
    "\n",
    "@param param1: this is a first param\n",
    "@param param2: this is a second param\n",
    "@return: this is a description of what is returned\n",
    "@raise keyError: raises an exception\n",
    "\"\"\"\n",
    "```\n",
    "### reST\n",
    "Nowadays, the probably more prevalent format is the reStructuredText (reST) format that is used by Sphinx to generate documentation. Note: it is used by default in JetBrains PyCharm (type triple quotes after defining a method and hit enter). It is also used by default as output format in Pyment.\n",
    "\n",
    "```python\n",
    "\"\"\"\n",
    "This is a reST style.\n",
    "\n",
    ":param param1: this is a first param\n",
    ":param param2: this is a second param\n",
    ":returns: this is a description of what is returned\n",
    ":raises keyError: raises an exception\n",
    "\"\"\"\n",
    "```"
   ]
  },
  {
   "cell_type": "markdown",
   "metadata": {},
   "source": [
    "## Naming Conventions\n",
    "The naming conventions of Python's library are a bit of a mess, so we'll never get this completely consistent -- nevertheless, here are the currently recommended naming standards. New modules and packages (including third party frameworks) should be written to these standards, but where an existing library has a different style, internal consistency is preferred.\n",
    "\n",
    "### Overriding Principle\n",
    "Names that are visible to the user as public parts of the API should follow conventions that reflect usage rather than implementation.\n",
    "\n",
    "Descriptive: Naming Styles\n",
    "There are a lot of different naming styles. It helps to be able to recognize what naming style is being used, independently from what they are used for.\n",
    "\n",
    "The following naming styles are commonly distinguished:\n",
    "\n",
    "`b` (single lowercase letter)\n",
    "\n",
    "`B` (single uppercase letter)\n",
    "\n",
    "`lowercase`\n",
    "\n",
    "`lower_case_with_underscores`\n",
    "\n",
    "`UPPERCASE`\n",
    "\n",
    "`UPPER_CASE_WITH_UNDERSCORES`\n",
    "\n",
    "`CapitalizedWords` (or `CapWords`, or `CamelCase` -- so named because of the bumpy look of its letters [4]). This is also sometimes known as `StudlyCaps`.\n",
    "\n",
    "Note: When using acronyms in `CapWord`s, capitalize all the letters of the acronym. Thus `HTTPServerError` is better than `HttpServerError`.\n",
    "\n",
    "`mixedCase` (differs from `CapitalizedWord`s by initial lowercase character!)\n",
    "\n",
    "`Capitalized_Words_With_Underscores` (ugly!)\n",
    "\n",
    "There's also the style of using a short unique prefix to group related names together. This is not used much in Python, but it is mentioned for completeness. For example, the os.stat() function returns a tuple whose items traditionally have names like `st_mode`, `st_size`, `st_mtime` and so on. (This is done to emphasize the correspondence with the fields of the POSIX system call struct, which helps programmers familiar with that.)\n",
    "\n",
    "The `X11` library uses a leading `X` for all its public functions. In Python, this style is generally deemed unnecessary because attribute and method names are prefixed with an object, and function names are prefixed with a module name.\n",
    "\n",
    "In addition, the following special forms using leading or trailing underscores are recognized (these can generally be combined with any case convention):\n",
    "\n",
    "`_single_leading_underscore`: weak \"internal use\" indicator. E.g. from M import * does not import objects whose names start with an underscore.\n",
    "\n",
    "`single_trailing_underscore_`: used by convention to avoid conflicts with Python keyword, e.g.\n",
    "`Tkinter.Toplevel(master, class_='ClassName')`\n",
    "\n",
    "`__double_leading_underscore`: when naming a class attribute, invokes name mangling (inside class FooBar, `__boo` becomes `_FooBar__boo`; see below).\n",
    "\n",
    "`__double_leading_and_trailing_underscore__`: \"magic\" objects or attributes that live in user-controlled namespaces. E.g. `__init__`, `__import__` or `__file__`. Never invent such names; only use them as documented.\n",
    "\n",
    "### Prescriptive: Naming Conventions\n",
    "\n",
    "#### Names to Avoid\n",
    "Never use the characters 'l' (lowercase letter el), 'O' (uppercase letter oh), or 'I' (uppercase letter eye) as single character variable names.\n",
    "\n",
    "In some fonts, these characters are indistinguishable from the numerals one and zero. When tempted to use 'l', use 'L' instead.\n",
    "\n",
    "#### ASCII Compatibility\n",
    "Identifiers used in the standard library must be ASCII compatible as described in the policy section of PEP 3131.\n",
    "\n",
    "#### Package and Module Names\n",
    "Modules should have short, all-lowercase names. Underscores can be used in the module name if it improves readability. Python packages should also have short, all-lowercase names, although the use of underscores is discouraged.\n",
    "\n",
    "When an extension module written in C or C++ has an accompanying Python module that provides a higher level (e.g. more object oriented) interface, the C/C++ module has a leading underscore (e.g. _socket).\n",
    "\n",
    "#### Class Names\n",
    "Class names should normally use the CapWords convention.\n",
    "\n",
    "The naming convention for functions may be used instead in cases where the interface is documented and used primarily as a callable.\n",
    "\n",
    "Note that there is a separate convention for builtin names: most builtin names are single words (or two words run together), with the CapWords convention used only for exception names and builtin constants.\n",
    "\n",
    "#### Type Variable Names\n",
    "Names of type variables introduced in `PEP 484` should normally use `CapWords` preferring short names: `T`, `AnyStr`, `Num`. It is recommended to add suffixes `_co` or `_contra` to the variables used to declare covariant or contravariant behavior correspondingly:\n",
    "\n",
    "```python\n",
    "from typing import TypeVar\n",
    "\n",
    "VT_co = TypeVar('VT_co', covariant=True)\n",
    "KT_contra = TypeVar('KT_contra', contravariant=True)\n",
    "```\n",
    "\n",
    "#### Exception Names\n",
    "Because exceptions should be classes, the class naming convention applies here. However, you should use the suffix \"Error\" on your exception names (if the exception actually is an error).\n",
    "\n",
    "### Global Variable Names\n",
    "(Let's hope that these variables are meant for use inside one module only.) The conventions are about the same as those for functions.\n",
    "\n",
    "Modules that are designed for use via `from M import *` should use the `__all__` mechanism to prevent exporting globals, or use the older convention of prefixing such globals with an underscore (which you might want to do to indicate these globals are \"module non-public\").\n",
    "\n",
    "### Function and Variable Names\n",
    "Function names should be lowercase, with words separated by underscores as necessary to improve readability.\n",
    "\n",
    "Variable names follow the same convention as function names.\n",
    "\n",
    "`mixedCase` is allowed only in contexts where that's already the prevailing style (e.g. threading.py), to retain backwards compatibility.\n",
    "\n",
    "#### Function and Method Arguments\n",
    "Always use `self` for the first argument to instance methods.\n",
    "\n",
    "Always use `cls` for the first argument to class methods.\n",
    "\n",
    "If a function argument's name clashes with a reserved keyword, it is generally better to append a single trailing underscore rather than use an abbreviation or spelling corruption. Thus class_ is better than clss. (Perhaps better is to avoid such clashes by using a synonym.)\n",
    "\n",
    "#### Method Names and Instance Variables\n",
    "Use the function naming rules: lowercase with words separated by underscores as necessary to improve readability.\n",
    "\n",
    "Use one leading underscore only for non-public methods and instance variables.\n",
    "\n",
    "To avoid name clashes with subclasses, use two leading underscores to invoke Python's name mangling rules.\n",
    "\n",
    "Python mangles these names with the class name: if class Foo has an attribute named `__a`, it cannot be accessed by `Foo.__a`. (An insistent user could still gain access by calling `Foo._Foo__a`.) Generally, double leading underscores should be used only to avoid name conflicts with attributes in classes designed to be subclassed.\n",
    "\n",
    "Note: there is some controversy about the use of `__names` (see below).\n",
    "\n",
    "### Constants\n",
    "Constants are usually defined on a module level and written in all capital letters with underscores separating words. Examples include `MAX_OVERFLOW` and `TOTAL`.\n"
   ]
  },
  {
   "cell_type": "code",
   "execution_count": 64,
   "metadata": {
    "slideshow": {
     "slide_type": "fragment"
    }
   },
   "outputs": [],
   "source": [
    "#%load_ext pycodestyle_magic"
   ]
  },
  {
   "cell_type": "markdown",
   "metadata": {
    "slideshow": {
     "slide_type": "subslide"
    }
   },
   "source": [
    "### Builtin Types \n",
    "\n",
    "Numeric\n",
    "\n",
    "-   int, long (py2), float, complex\n",
    "\n",
    "Sequences\n",
    "\n",
    "-   str, list, tuple, bytes (py3)\n",
    "\n",
    "Other Iterables\n",
    "\n",
    "-   set, frozenset, dictionary, file\n",
    "\n",
    "Structures\n",
    "\n",
    "-   Functions, Classes, Modules"
   ]
  },
  {
   "cell_type": "markdown",
   "metadata": {
    "slideshow": {
     "slide_type": "slide"
    }
   },
   "source": [
    "## Python 2 amd 3 Compatibility"
   ]
  },
  {
   "cell_type": "markdown",
   "metadata": {
    "slideshow": {
     "slide_type": "fragment"
    }
   },
   "source": [
    "- Python 3 is a complete rewrite\n",
    "- Not backwards compatible with Python 2"
   ]
  },
  {
   "cell_type": "markdown",
   "metadata": {
    "slideshow": {
     "slide_type": "subslide"
    }
   },
   "source": [
    "### Main Differences\n",
    "- print\n",
    "  + Py2 `print` is a statemet\n",
    "  + Py3 `print()` is a function\n",
    "  + Py2 a trailing comma suppresses new lines\n",
    "  + Py3 `end` parameter which defaults to `'\\n'`\n",
    "- Division \n",
    "  + Py3 / float and // int\n",
    "  + Py2 uses arithmetic promotion\n",
    "- Strings\n",
    "  + Py3 strings are Unicode by default, use  `b' ... '`  to create a Py2 compatible `bytes` object\n",
    "  + Py2 srings are *ASCII* by default, use `u' ... '` ro create a Py3 compatible unicode string\n",
    "  + `s.encode()` and `s.decode()` to concert str and bytes objects.\n",
    "- Lists vs Generators\n",
    "   + Most functions/methods that create actual lists in Py2, create generators in Py3\n",
    "   + Use list(range(10)) for example to emulate Py2 behaviour"
   ]
  },
  {
   "cell_type": "markdown",
   "metadata": {
    "slideshow": {
     "slide_type": "subslide"
    }
   },
   "source": [
    "### Python 2to3\n",
    "- there is a script called 2to3\n",
    "- 2to3 converts Py2 code to Py3\n",
    "- Makes the adjustments listed above\n",
    "- Does not fix renamed modules in std lib"
   ]
  },
  {
   "cell_type": "markdown",
   "metadata": {
    "slideshow": {
     "slide_type": "subslide"
    }
   },
   "source": [
    "### Writing future proof Py2 Code"
   ]
  },
  {
   "cell_type": "markdown",
   "metadata": {
    "slideshow": {
     "slide_type": "notes"
    }
   },
   "source": [
    "To offer backward compatibility with Python 2 from your Python 3 code, you can use the pasteurize script. This adds these lines at the top of each module:"
   ]
  },
  {
   "cell_type": "code",
   "execution_count": 65,
   "metadata": {
    "slideshow": {
     "slide_type": "fragment"
    }
   },
   "outputs": [],
   "source": [
    "from __future__ import absolute_import"
   ]
  },
  {
   "cell_type": "markdown",
   "metadata": {
    "slideshow": {
     "slide_type": "notes"
    }
   },
   "source": [
    "Absolute is a Py3 behaviour import which favours the `stdlib` functions over modules in the path, unless you use `import . modulename`."
   ]
  },
  {
   "cell_type": "code",
   "execution_count": 66,
   "metadata": {
    "slideshow": {
     "slide_type": "fragment"
    }
   },
   "outputs": [],
   "source": [
    "from __future__ import division"
   ]
  },
  {
   "cell_type": "markdown",
   "metadata": {
    "slideshow": {
     "slide_type": "notes"
    }
   },
   "source": [
    "Make Python2 use `/` for *float* division and `//` for *int* division."
   ]
  },
  {
   "cell_type": "code",
   "execution_count": 67,
   "metadata": {
    "slideshow": {
     "slide_type": "fragment"
    }
   },
   "outputs": [],
   "source": [
    "from __future__ import print_function"
   ]
  },
  {
   "cell_type": "markdown",
   "metadata": {
    "slideshow": {
     "slide_type": "notes"
    }
   },
   "source": [
    "Creates a function called `print()` in Python2."
   ]
  },
  {
   "cell_type": "code",
   "execution_count": 68,
   "metadata": {
    "slideshow": {
     "slide_type": "fragment"
    }
   },
   "outputs": [],
   "source": [
    "from __future__ import unicode_literals"
   ]
  },
  {
   "cell_type": "markdown",
   "metadata": {
    "slideshow": {
     "slide_type": "notes"
    }
   },
   "source": [
    "Python 3 string literals, that is `'text'` is now unicode and `b'text'` is ASCII."
   ]
  },
  {
   "cell_type": "markdown",
   "metadata": {
    "slideshow": {
     "slide_type": "notes"
    }
   },
   "source": [
    "See: (Python compatible idioms)[http://www.python-future.org/compatible_idioms.html]"
   ]
  },
  {
   "cell_type": "markdown",
   "metadata": {
    "slideshow": {
     "slide_type": "subslide"
    }
   },
   "source": [
    "### Pythonic code"
   ]
  },
  {
   "cell_type": "code",
   "execution_count": 69,
   "metadata": {
    "slideshow": {
     "slide_type": "fragment"
    }
   },
   "outputs": [],
   "source": [
    "x = 5\n",
    "y = 10\n",
    "x, y = y, y+x"
   ]
  },
  {
   "cell_type": "markdown",
   "metadata": {
    "slideshow": {
     "slide_type": "fragment"
    }
   },
   "source": [
    "Replaces"
   ]
  },
  {
   "cell_type": "code",
   "execution_count": 70,
   "metadata": {
    "slideshow": {
     "slide_type": "fragment"
    }
   },
   "outputs": [],
   "source": [
    "old_x = x\n",
    "x = y\n",
    "y = y + old_x"
   ]
  },
  {
   "cell_type": "markdown",
   "metadata": {
    "slideshow": {
     "slide_type": "fragment"
    }
   },
   "source": [
    "### Quick Dictionary Creation"
   ]
  },
  {
   "cell_type": "code",
   "execution_count": 71,
   "metadata": {
    "slideshow": {
     "slide_type": "fragment"
    }
   },
   "outputs": [
    {
     "data": {
      "text/plain": [
       "[('A', 'a'), ('B', 'b'), ('C', 'c')]"
      ]
     },
     "execution_count": 71,
     "metadata": {},
     "output_type": "execute_result"
    }
   ],
   "source": [
    "keys = list('ABC')\n",
    "vals = list('abc')\n",
    "list(zip(keys, vals))"
   ]
  },
  {
   "cell_type": "code",
   "execution_count": null,
   "metadata": {
    "slideshow": {
     "slide_type": "fragment"
    }
   },
   "outputs": [],
   "source": [
    "dict(zip(keys,vals))"
   ]
  },
  {
   "cell_type": "markdown",
   "metadata": {
    "slideshow": {
     "slide_type": "subslide"
    }
   },
   "source": [
    "### Setting Default Value"
   ]
  },
  {
   "cell_type": "code",
   "execution_count": 72,
   "metadata": {
    "slideshow": {
     "slide_type": "fragment"
    }
   },
   "outputs": [],
   "source": [
    "def create_dict():\n",
    "    if key in my_dict:\n",
    "        return my_dict[key]\n",
    "    else:\n",
    "        my_dict[key] = DEFAULT"
   ]
  },
  {
   "cell_type": "markdown",
   "metadata": {
    "slideshow": {
     "slide_type": "fragment"
    }
   },
   "source": [
    "Becomes:"
   ]
  },
  {
   "cell_type": "code",
   "execution_count": 73,
   "metadata": {
    "slideshow": {
     "slide_type": "fragment"
    }
   },
   "outputs": [
    {
     "data": {
      "text/plain": [
       "'DEFAULT'"
      ]
     },
     "execution_count": 73,
     "metadata": {},
     "output_type": "execute_result"
    }
   ],
   "source": [
    "my_dict = {}\n",
    "my_dict.setdefault('key', 'DEFAULT')"
   ]
  },
  {
   "cell_type": "markdown",
   "metadata": {
    "slideshow": {
     "slide_type": "fragment"
    }
   },
   "source": [
    "Also see `defaultdict` later"
   ]
  },
  {
   "cell_type": "markdown",
   "metadata": {
    "slideshow": {
     "slide_type": "slide"
    }
   },
   "source": [
    "\n",
    "# Functions \n",
    "\n",
    "Definition"
   ]
  },
  {
   "cell_type": "code",
   "execution_count": 74,
   "metadata": {
    "slideshow": {
     "slide_type": "fragment"
    }
   },
   "outputs": [],
   "source": [
    "def function_name():\n",
    "    #statements\n",
    "    pass"
   ]
  },
  {
   "cell_type": "markdown",
   "metadata": {
    "slideshow": {
     "slide_type": "fragment"
    }
   },
   "source": [
    "Calling Function"
   ]
  },
  {
   "cell_type": "code",
   "execution_count": 75,
   "metadata": {
    "slideshow": {
     "slide_type": "fragment"
    }
   },
   "outputs": [],
   "source": [
    "function_name()"
   ]
  },
  {
   "cell_type": "markdown",
   "metadata": {
    "slideshow": {
     "slide_type": "subslide"
    }
   },
   "source": [
    "### Objects\n",
    "Functions in Python are first class objects. \n",
    "Using a function name without parenthesis is a reference to the function, \n",
    "when a function name is followed by parenthesis (with or without arguments) it is a function call.  \n",
    "\n",
    "For example:"
   ]
  },
  {
   "cell_type": "code",
   "execution_count": 76,
   "metadata": {
    "slideshow": {
     "slide_type": "fragment"
    }
   },
   "outputs": [],
   "source": [
    "def square(x):\n",
    "    return x**2"
   ]
  },
  {
   "cell_type": "code",
   "execution_count": 77,
   "metadata": {
    "slideshow": {
     "slide_type": "fragment"
    }
   },
   "outputs": [
    {
     "name": "stdout",
     "output_type": "stream",
     "text": [
      "<function square at 0x10ccfdb70> <function square at 0x10ccfdb70>\n"
     ]
    }
   ],
   "source": [
    "fn = square\n",
    "print(fn, square)"
   ]
  },
  {
   "cell_type": "code",
   "execution_count": 79,
   "metadata": {
    "slideshow": {
     "slide_type": "fragment"
    }
   },
   "outputs": [
    {
     "name": "stdout",
     "output_type": "stream",
     "text": [
      "4 9\n"
     ]
    }
   ],
   "source": [
    "print(fn(2), square(3))"
   ]
  },
  {
   "cell_type": "markdown",
   "metadata": {
    "slideshow": {
     "slide_type": "subslide"
    }
   },
   "source": [
    "## Parameters"
   ]
  },
  {
   "cell_type": "code",
   "execution_count": 80,
   "metadata": {
    "slideshow": {
     "slide_type": "fragment"
    }
   },
   "outputs": [],
   "source": [
    "def fn(arg1, arg2):\n",
    "    '''accpts two arguments'''"
   ]
  },
  {
   "cell_type": "code",
   "execution_count": 81,
   "metadata": {
    "slideshow": {
     "slide_type": "fragment"
    }
   },
   "outputs": [],
   "source": [
    "fn(1,2) # positional parameters or args"
   ]
  },
  {
   "cell_type": "markdown",
   "metadata": {
    "slideshow": {
     "slide_type": "fragment"
    }
   },
   "source": [
    "-   calls function fn with arg1=1 and arg2=2"
   ]
  },
  {
   "cell_type": "code",
   "execution_count": 82,
   "metadata": {
    "slideshow": {
     "slide_type": "fragment"
    }
   },
   "outputs": [],
   "source": [
    "fn(arg2=1,arg1=2) #named parameters or key word args (kwargs)"
   ]
  },
  {
   "cell_type": "markdown",
   "metadata": {
    "slideshow": {
     "slide_type": "fragment"
    }
   },
   "source": [
    "-   calls function fn with arg2=1 and arg1=2"
   ]
  },
  {
   "cell_type": "markdown",
   "metadata": {
    "slideshow": {
     "slide_type": "subslide"
    }
   },
   "source": [
    "### Parameter Passing Semantics\n",
    "\n",
    "Parameters are passed by **value**.  \n",
    "All python variables are **object refences**.\n",
    "Hence Mutability is important when passing variables."
   ]
  },
  {
   "cell_type": "markdown",
   "metadata": {
    "slideshow": {
     "slide_type": "subslide"
    }
   },
   "source": [
    "### Mutability\n",
    "Mutible objects can be changed after instantiation. Immutible objects cannot. This is not the same thing as a constant since the variable that refers to the immutible object may still be reassigned.\n",
    "\n",
    "Immutability prevents an object referred to by one refence being altered by a different reference."
   ]
  },
  {
   "cell_type": "markdown",
   "metadata": {
    "slideshow": {
     "slide_type": "subslide"
    }
   },
   "source": [
    "Immutable objects include: \n",
    "- int \n",
    "- log \n",
    "- float\n",
    "- complex\n",
    "- str\n",
    "- tuple"
   ]
  },
  {
   "cell_type": "markdown",
   "metadata": {
    "slideshow": {
     "slide_type": "subslide"
    }
   },
   "source": [
    "Mutable objects include:\n",
    "- list\n",
    "- dict\n",
    "- set\n",
    "- file"
   ]
  },
  {
   "cell_type": "markdown",
   "metadata": {
    "slideshow": {
     "slide_type": "subslide"
    }
   },
   "source": [
    "Strings are immutible"
   ]
  },
  {
   "cell_type": "code",
   "execution_count": 83,
   "metadata": {
    "slideshow": {
     "slide_type": "fragment"
    }
   },
   "outputs": [
    {
     "data": {
      "text/plain": [
       "True"
      ]
     },
     "execution_count": 83,
     "metadata": {},
     "output_type": "execute_result"
    }
   ],
   "source": [
    "s1 = 'test'\n",
    "s2 = s1\n",
    "s1 is s2"
   ]
  },
  {
   "cell_type": "code",
   "execution_count": 84,
   "metadata": {
    "slideshow": {
     "slide_type": "fragment"
    }
   },
   "outputs": [
    {
     "name": "stdout",
     "output_type": "stream",
     "text": [
      "testing test\n"
     ]
    }
   ],
   "source": [
    "s1 += 'ing'\n",
    "print(s1, s2)"
   ]
  },
  {
   "cell_type": "markdown",
   "metadata": {
    "slideshow": {
     "slide_type": "subslide"
    }
   },
   "source": [
    "Lists are mutible."
   ]
  },
  {
   "cell_type": "code",
   "execution_count": 85,
   "metadata": {
    "slideshow": {
     "slide_type": "fragment"
    }
   },
   "outputs": [
    {
     "data": {
      "text/plain": [
       "True"
      ]
     },
     "execution_count": 85,
     "metadata": {},
     "output_type": "execute_result"
    }
   ],
   "source": [
    "l1 = [1,2,3]\n",
    "l2 = l1\n",
    "l1 is l2"
   ]
  },
  {
   "cell_type": "code",
   "execution_count": 86,
   "metadata": {
    "slideshow": {
     "slide_type": "fragment"
    }
   },
   "outputs": [
    {
     "data": {
      "text/plain": [
       "[1, 2, 3, 4]"
      ]
     },
     "execution_count": 86,
     "metadata": {},
     "output_type": "execute_result"
    }
   ],
   "source": [
    "l1 += [4]\n",
    "l2"
   ]
  },
  {
   "cell_type": "markdown",
   "metadata": {
    "slideshow": {
     "slide_type": "subslide"
    }
   },
   "source": [
    "### Hence ..."
   ]
  },
  {
   "cell_type": "code",
   "execution_count": 87,
   "metadata": {
    "slideshow": {
     "slide_type": "fragment"
    }
   },
   "outputs": [
    {
     "name": "stdout",
     "output_type": "stream",
     "text": [
      "aa\n"
     ]
    }
   ],
   "source": [
    "def doubler(x):\n",
    "    x += x\n",
    "    print(x)\n",
    "\n",
    "a = 'a'\n",
    "doubler(a)"
   ]
  },
  {
   "cell_type": "code",
   "execution_count": 11,
   "metadata": {
    "slideshow": {
     "slide_type": "fragment"
    }
   },
   "outputs": [
    {
     "data": {
      "text/plain": [
       "'a'"
      ]
     },
     "execution_count": 11,
     "metadata": {},
     "output_type": "execute_result"
    }
   ],
   "source": [
    "a"
   ]
  },
  {
   "cell_type": "code",
   "execution_count": 88,
   "metadata": {
    "slideshow": {
     "slide_type": "fragment"
    }
   },
   "outputs": [
    {
     "name": "stdout",
     "output_type": "stream",
     "text": [
      "['a', 'a']\n"
     ]
    }
   ],
   "source": [
    "b = ['a']\n",
    "doubler(b)"
   ]
  },
  {
   "cell_type": "code",
   "execution_count": 89,
   "metadata": {
    "slideshow": {
     "slide_type": "fragment"
    }
   },
   "outputs": [
    {
     "data": {
      "text/plain": [
       "['a', 'a']"
      ]
     },
     "execution_count": 89,
     "metadata": {},
     "output_type": "execute_result"
    }
   ],
   "source": [
    "b"
   ]
  },
  {
   "cell_type": "markdown",
   "metadata": {
    "slideshow": {
     "slide_type": "subslide"
    }
   },
   "source": [
    "### Scope\n",
    "In Python a block does not create a variable scope, only functions.\n",
    "Global variables may be referenced, but not assigned (unless *global* keyword used)"
   ]
  },
  {
   "cell_type": "code",
   "execution_count": 14,
   "metadata": {
    "slideshow": {
     "slide_type": "fragment"
    }
   },
   "outputs": [
    {
     "name": "stdout",
     "output_type": "stream",
     "text": [
      "1.0\n"
     ]
    },
    {
     "ename": "UnboundLocalError",
     "evalue": "local variable 'VER' referenced before assignment",
     "output_type": "error",
     "traceback": [
      "\u001b[0;31m---------------------------------------------------------------------------\u001b[0m",
      "\u001b[0;31mUnboundLocalError\u001b[0m                         Traceback (most recent call last)",
      "\u001b[0;32m<ipython-input-14-c91f88ec8e52>\u001b[0m in \u001b[0;36m<module>\u001b[0;34m\u001b[0m\n\u001b[1;32m     13\u001b[0m \u001b[0;34m\u001b[0m\u001b[0m\n\u001b[1;32m     14\u001b[0m \u001b[0;34m\u001b[0m\u001b[0m\n\u001b[0;32m---> 15\u001b[0;31m \u001b[0malter_ver\u001b[0m\u001b[0;34m(\u001b[0m\u001b[0;34m)\u001b[0m\u001b[0;34m\u001b[0m\u001b[0;34m\u001b[0m\u001b[0m\n\u001b[0m",
      "\u001b[0;32m<ipython-input-14-c91f88ec8e52>\u001b[0m in \u001b[0;36malter_ver\u001b[0;34m()\u001b[0m\n\u001b[1;32m     10\u001b[0m \u001b[0;34m\u001b[0m\u001b[0m\n\u001b[1;32m     11\u001b[0m \u001b[0;32mdef\u001b[0m \u001b[0malter_ver\u001b[0m\u001b[0;34m(\u001b[0m\u001b[0;34m)\u001b[0m\u001b[0;34m:\u001b[0m\u001b[0;34m\u001b[0m\u001b[0;34m\u001b[0m\u001b[0m\n\u001b[0;32m---> 12\u001b[0;31m     \u001b[0mVER\u001b[0m \u001b[0;34m+=\u001b[0m \u001b[0;36m1\u001b[0m\u001b[0;34m\u001b[0m\u001b[0;34m\u001b[0m\u001b[0m\n\u001b[0m\u001b[1;32m     13\u001b[0m \u001b[0;34m\u001b[0m\u001b[0m\n\u001b[1;32m     14\u001b[0m \u001b[0;34m\u001b[0m\u001b[0m\n",
      "\u001b[0;31mUnboundLocalError\u001b[0m: local variable 'VER' referenced before assignment"
     ]
    }
   ],
   "source": [
    "VER = 1.0\n",
    "\n",
    "\n",
    "def print_ver():\n",
    "    print(VER)\n",
    "\n",
    "\n",
    "print_ver()\n",
    "\n",
    "\n",
    "def alter_ver():\n",
    "    VER += 1\n",
    "\n",
    "\n",
    "alter_ver()"
   ]
  },
  {
   "cell_type": "code",
   "execution_count": 90,
   "metadata": {
    "slideshow": {
     "slide_type": "fragment"
    }
   },
   "outputs": [],
   "source": [
    "VER = 1.0\n",
    "\n",
    "\n",
    "def global_alter_ver():\n",
    "    global VER\n",
    "    VER += 1\n",
    "\n",
    "\n",
    "global_alter_ver()"
   ]
  },
  {
   "cell_type": "markdown",
   "metadata": {
    "slideshow": {
     "slide_type": "subslide"
    }
   },
   "source": [
    "Hence `print_ver` and `global_alter_ver` work, but `alter_ver` has the above error:"
   ]
  },
  {
   "cell_type": "markdown",
   "metadata": {
    "slideshow": {
     "slide_type": "subslide"
    }
   },
   "source": [
    "### Optional Arguments"
   ]
  },
  {
   "cell_type": "code",
   "execution_count": 91,
   "metadata": {
    "slideshow": {
     "slide_type": "fragment"
    }
   },
   "outputs": [],
   "source": [
    "def fn(arg1, arg2=0):\n",
    "    'arg2 is optional'"
   ]
  },
  {
   "cell_type": "markdown",
   "metadata": {
    "slideshow": {
     "slide_type": "fragment"
    }
   },
   "source": [
    "-   statements\n",
    "-   Default values make an argument optional\n",
    "-   All mandatory arguments are defined before any optional arguments."
   ]
  },
  {
   "cell_type": "markdown",
   "metadata": {
    "slideshow": {
     "slide_type": "subslide"
    }
   },
   "source": [
    "### Variable argument lists"
   ]
  },
  {
   "cell_type": "code",
   "execution_count": 92,
   "metadata": {
    "slideshow": {
     "slide_type": "fragment"
    }
   },
   "outputs": [
    {
     "name": "stdout",
     "output_type": "stream",
     "text": [
      "(1, 2, 3)\n"
     ]
    }
   ],
   "source": [
    "def fn(*args):\n",
    "    print(args)\n",
    "\n",
    "\n",
    "fn(1,2,3)"
   ]
  },
  {
   "cell_type": "markdown",
   "metadata": {
    "slideshow": {
     "slide_type": "fragment"
    }
   },
   "source": [
    "-   **args** becomes a tuple"
   ]
  },
  {
   "cell_type": "markdown",
   "metadata": {
    "slideshow": {
     "slide_type": "subslide"
    }
   },
   "source": [
    "### Key word args"
   ]
  },
  {
   "cell_type": "code",
   "execution_count": 93,
   "metadata": {
    "slideshow": {
     "slide_type": "fragment"
    }
   },
   "outputs": [
    {
     "name": "stdout",
     "output_type": "stream",
     "text": [
      "{'a': 'A', 'b': 'B'}\n"
     ]
    }
   ],
   "source": [
    "def fn(**kwargs):\n",
    "    print(kwargs)\n",
    "\n",
    "\n",
    "\n",
    "fn(a='A',b='B')"
   ]
  },
  {
   "cell_type": "markdown",
   "metadata": {
    "slideshow": {
     "slide_type": "fragment"
    }
   },
   "source": [
    "-   **kwargs** becomes a dictionary"
   ]
  },
  {
   "cell_type": "markdown",
   "metadata": {
    "slideshow": {
     "slide_type": "subslide"
    }
   },
   "source": [
    "### Type Hinting (Py3.5+)"
   ]
  },
  {
   "cell_type": "markdown",
   "metadata": {
    "slideshow": {
     "slide_type": "notes"
    }
   },
   "source": [
    "With the rise of intelligent IDEs type hinting has become  more compelling, as types can be checked and resolved in real time. The IDE's perform the validation, not Python itself. Python doesn't use this information currently, it only stores it as metadata and ignores it during execution.\n"
   ]
  },
  {
   "cell_type": "markdown",
   "metadata": {
    "slideshow": {
     "slide_type": "fragment"
    }
   },
   "source": [
    "- Type hinting for:\n",
    "  + Parameters and\n",
    "  + Return type"
   ]
  },
  {
   "cell_type": "code",
   "execution_count": 94,
   "metadata": {
    "slideshow": {
     "slide_type": "fragment"
    }
   },
   "outputs": [],
   "source": [
    "def greeting(name: str) -> str:\n",
    "    return 'Hello ' + name"
   ]
  },
  {
   "cell_type": "markdown",
   "metadata": {
    "slideshow": {
     "slide_type": "fragment"
    }
   },
   "source": [
    "-  New module : `typing`"
   ]
  },
  {
   "cell_type": "code",
   "execution_count": 95,
   "metadata": {
    "slideshow": {
     "slide_type": "fragment"
    }
   },
   "outputs": [],
   "source": [
    "from typing import Dict, Tuple, List"
   ]
  },
  {
   "cell_type": "markdown",
   "metadata": {
    "slideshow": {
     "slide_type": "subslide"
    }
   },
   "source": [
    "### Type aliases\n",
    "\n",
    "A type alias is defined by assigning the type to the alias. In this example, Vector and List[float] will be treated as interchangeable synonyms:"
   ]
  },
  {
   "cell_type": "code",
   "execution_count": 96,
   "metadata": {
    "slideshow": {
     "slide_type": "fragment"
    }
   },
   "outputs": [],
   "source": [
    "from typing import List\n",
    "Vector = List[float]\n",
    "\n",
    "\n",
    "def scale(scalar: float, vector: Vector) -> Vector:\n",
    "    return [scalar * num for num in vector]\n",
    "\n",
    "\n",
    "# typechecks; a list of floats qualifies as a Vector.\n",
    "new_vector = scale(2.0, [1.0, -4.2, 5.4])"
   ]
  },
  {
   "cell_type": "markdown",
   "metadata": {},
   "source": [
    "The dictionary below will only contain strings."
   ]
  },
  {
   "cell_type": "code",
   "execution_count": 97,
   "metadata": {},
   "outputs": [],
   "source": [
    "from typing import Dict\n",
    "\n",
    "mydict : Dict[str, str] = {}"
   ]
  },
  {
   "cell_type": "markdown",
   "metadata": {},
   "source": [
    "## Unions and Optional\n",
    "\n",
    "Types can be one of a list.   Below a `column` can be either `None` or a `str`."
   ]
  },
  {
   "cell_type": "code",
   "execution_count": 98,
   "metadata": {},
   "outputs": [],
   "source": [
    "from typing import Union, Optional\n",
    "\n",
    "column = Union[None, str]"
   ]
  },
  {
   "cell_type": "markdown",
   "metadata": {},
   "source": [
    "This achieves the same thing."
   ]
  },
  {
   "cell_type": "code",
   "execution_count": 99,
   "metadata": {},
   "outputs": [],
   "source": [
    "column = Optional[str]"
   ]
  },
  {
   "cell_type": "markdown",
   "metadata": {},
   "source": [
    "## Type"
   ]
  },
  {
   "cell_type": "code",
   "execution_count": 100,
   "metadata": {},
   "outputs": [
    {
     "name": "stdout",
     "output_type": "stream",
     "text": [
      "<class 'type'>\n",
      "<class 'type'>\n"
     ]
    }
   ],
   "source": [
    "from typing import Type\n",
    "\n",
    "class BaseClass:\n",
    "    pass\n",
    "\n",
    "class SubClass(BaseClass):\n",
    "    pass\n",
    "\n",
    "def useclass(cs: Type[BaseClass]):\n",
    "    print(type(cs))\n",
    "\n",
    "useclass(BaseClass) \n",
    "useclass(SubClass) #passes static type checking"
   ]
  },
  {
   "cell_type": "markdown",
   "metadata": {},
   "source": [
    "## Generics\n",
    "\n",
    "Generic typing allows for type variables (of type `TypeVar`) these can be used create collections classes whose members can potentially be of any type, a particular instance can be assigned a type without sub classing the collection.\n",
    "\n",
    "Example from the python documentations."
   ]
  },
  {
   "cell_type": "code",
   "execution_count": 101,
   "metadata": {},
   "outputs": [],
   "source": [
    "from typing import TypeVar, Generic\n",
    "from logging import Logger\n",
    "\n",
    "T = TypeVar('T')\n",
    "\n",
    "class LoggedVar(Generic[T]):\n",
    "    def __init__(self, value: T, name: str, logger: Logger) -> None:\n",
    "        self.name = name\n",
    "        self.logger = logger\n",
    "        self.value = value\n",
    "\n",
    "    def set(self, new: T) -> None:\n",
    "        self.log('Set ' + repr(self.value))\n",
    "        self.value = new\n",
    "\n",
    "    def get(self) -> T:\n",
    "        self.log('Get ' + repr(self.value))\n",
    "        return self.value\n",
    "\n",
    "    def log(self, message: str) -> None:\n",
    "        self.logger.info('%s: %s', self.name, message)"
   ]
  },
  {
   "cell_type": "markdown",
   "metadata": {},
   "source": [
    "## Type Checkers\n",
    "\n",
    "The original type checker is called Mypy.  Facebook have created their own called Pyre, which is faster for large code bases.  Microsoft has a plugin for VS Code calles Pyright."
   ]
  },
  {
   "cell_type": "markdown",
   "metadata": {},
   "source": [
    "## Stubs\n",
    "\n",
    "The type checker only needs a stubs file to let programs access a Python module. There is no need to port the entire module to mypy. A stubs file is also a good starting point for porting an entire Python module to mypy. They can also highlight potential areas of improvement in the mypy type system.\n",
    "\n",
    "A stubs file only contains a description of the public interface of the module without any implementations. Stubs can be dynamically typed, statically typed or a mixture of both. Based on preliminary results, it seems that over 95% of the names defined in the Python standard library can be given static types. The rest will be dynamically typed (use type 'Any') or have 'Any' components, but that is fine, since mypy supports seamless mixing of dynamic and static types in programs.\n",
    "\n",
    "Mypy uses stubs from [Type Shed](https://github.com/python/typeshed) -- all stub changes should be contributed there. Mypy developers will periodically pull latest changes from typeshed to be included with mypy. There are stubs for both Python 2.7 and 3.x, though not every stub supports both 2 and 3. Some stubs can be shared between Python 2.7 and 3.x."
   ]
  },
  {
   "cell_type": "markdown",
   "metadata": {},
   "source": [
    "## MonkeyType\n",
    "MonkeyType collects runtime types of function arguments and return values, and can automatically generate stub files or even add draft type annotations directly to your Python code based on the types collected at runtime.\n",
    "\n",
    "**Example**\n",
    "\n",
    "Say `some/module.py` originally contains:\n",
    "\n",
    "```python\n",
    "def add(a, b):\n",
    "    return a + b\n",
    "```\n",
    "\n",
    "And myscript.py contains:\n",
    "\n",
    "```python\n",
    "from some.module import add\n",
    "\n",
    "add(1, 2)\n",
    "```\n",
    "\n",
    "Now we want to infer the type annotation of add in some/module.py by running myscript.py with MonkeyType. One way is to run:\n",
    "\n",
    "`$ monkeytype run myscript.py`\n",
    "\n",
    "By default, this will dump call traces into a SQLite database in the file monkeytype.sqlite3 in the current working directory. You can then use the monkeytype command to generate a stub file for a module, or apply the type annotations directly to your code.\n",
    "\n",
    "Running monkeytype stub `some.module` will output a stub:\n",
    "\n",
    "```python\n",
    "def add(a: int, b: int) -> int: ...\n",
    "```\n",
    "\n",
    "Running monkeytype apply some.module will modify some/module.py to:\n",
    "\n",
    "```python\n",
    "def add(a: int, b: int) -> int:\n",
    "    return a + b\n",
    "```    \n",
    "    \n",
    "This example demonstrates both the value and the limitations of MonkeyType. With MonkeyType, it's very easy to add annotations that reflect the concrete types you use at runtime, but those annotations may not always match the full intended capability of the functions. For instance, add is capable of handling many more types than just integers. Similarly, MonkeyType may generate a concrete List annotation where an abstract Sequence or Iterable would be more appropriate. MonkeyType's annotations are an informative first draft, to be checked and corrected by a developer."
   ]
  },
  {
   "cell_type": "markdown",
   "metadata": {},
   "source": [
    "# Functional Programming\n",
    "\n",
    "## List Comprehension"
   ]
  },
  {
   "cell_type": "code",
   "execution_count": 102,
   "metadata": {
    "slideshow": {
     "slide_type": "fragment"
    }
   },
   "outputs": [
    {
     "data": {
      "text/plain": [
       "[0, 1, 4, 9, 16]"
      ]
     },
     "execution_count": 102,
     "metadata": {},
     "output_type": "execute_result"
    }
   ],
   "source": [
    "[x**2 for x in range(5)]"
   ]
  },
  {
   "cell_type": "markdown",
   "metadata": {
    "slideshow": {
     "slide_type": "fragment"
    }
   },
   "source": [
    "-   Actual list created"
   ]
  },
  {
   "cell_type": "markdown",
   "metadata": {
    "slideshow": {
     "slide_type": "notes"
    }
   },
   "source": [
    "The list comprehension behaves like `map()`, except that instead of requiring a function, the expression before *for* is applied to every element in the *iterable*. "
   ]
  },
  {
   "cell_type": "markdown",
   "metadata": {
    "slideshow": {
     "slide_type": "slide"
    }
   },
   "source": [
    "## lambda \n",
    "\n",
    "Inline anonymous function"
   ]
  },
  {
   "cell_type": "markdown",
   "metadata": {
    "slideshow": {
     "slide_type": "fragment"
    }
   },
   "source": [
    "```python\n",
    "lambda arg1[,...] : expression\n",
    "```"
   ]
  },
  {
   "cell_type": "markdown",
   "metadata": {},
   "source": [
    "-   `arg1[,...]` function argument list\n",
    "-   expression is returned by the function"
   ]
  },
  {
   "cell_type": "markdown",
   "metadata": {
    "slideshow": {
     "slide_type": "subslide"
    }
   },
   "source": [
    "### Simple lambda functions \n",
    "\n",
    "Square"
   ]
  },
  {
   "cell_type": "code",
   "execution_count": 103,
   "metadata": {
    "slideshow": {
     "slide_type": "fragment"
    }
   },
   "outputs": [],
   "source": [
    "square = lambda x: x**2"
   ]
  },
  {
   "cell_type": "markdown",
   "metadata": {
    "slideshow": {
     "slide_type": "fragment"
    }
   },
   "source": [
    "Even"
   ]
  },
  {
   "cell_type": "code",
   "execution_count": 104,
   "metadata": {
    "slideshow": {
     "slide_type": "fragment"
    }
   },
   "outputs": [],
   "source": [
    "is_even = lambda x: x % 2 == 0"
   ]
  },
  {
   "cell_type": "markdown",
   "metadata": {
    "slideshow": {
     "slide_type": "subslide"
    }
   },
   "source": [
    "Normally one would not assign an object reference to a `lambda`, using `def` is preffered.  Lambda is normally used where a function expects a function to be passed as a *callback*. \n",
    "\n",
    "### Map"
   ]
  },
  {
   "cell_type": "code",
   "execution_count": 105,
   "metadata": {
    "slideshow": {
     "slide_type": "fragment"
    }
   },
   "outputs": [
    {
     "data": {
      "text/plain": [
       "<map at 0x10d2fd6d8>"
      ]
     },
     "execution_count": 105,
     "metadata": {},
     "output_type": "execute_result"
    }
   ],
   "source": [
    "map(lambda x: x**2, range(5))"
   ]
  },
  {
   "cell_type": "code",
   "execution_count": 106,
   "metadata": {
    "slideshow": {
     "slide_type": "fragment"
    }
   },
   "outputs": [
    {
     "data": {
      "text/plain": [
       "[0, 1, 4, 9, 16]"
      ]
     },
     "execution_count": 106,
     "metadata": {},
     "output_type": "execute_result"
    }
   ],
   "source": [
    "list(map(lambda x: x**2, range(5)))"
   ]
  },
  {
   "cell_type": "markdown",
   "metadata": {
    "slideshow": {
     "slide_type": "subslide"
    }
   },
   "source": [
    "### Filter"
   ]
  },
  {
   "cell_type": "code",
   "execution_count": 107,
   "metadata": {
    "slideshow": {
     "slide_type": "fragment"
    }
   },
   "outputs": [
    {
     "data": {
      "text/plain": [
       "[0, 2, 4]"
      ]
     },
     "execution_count": 107,
     "metadata": {},
     "output_type": "execute_result"
    }
   ],
   "source": [
    "list(filter(lambda x: x % 2 == 0, range(5)))"
   ]
  },
  {
   "cell_type": "markdown",
   "metadata": {
    "slideshow": {
     "slide_type": "subslide"
    }
   },
   "source": [
    "### Generator expression"
   ]
  },
  {
   "cell_type": "markdown",
   "metadata": {
    "slideshow": {
     "slide_type": "fragment"
    }
   },
   "source": [
    "- Not an actual list\n",
    "- Iterable object i.e. has next()"
   ]
  },
  {
   "cell_type": "markdown",
   "metadata": {
    "slideshow": {
     "slide_type": "notes"
    }
   },
   "source": [
    "A generator expression creates an iterable object instead of a list. The difference between a generator expressions and a list comprehension is analogous to that between `range()` and `xrange()`.  If the number of elements being processed is large a generator expression will be much more memory efficient than a list comprehension."
   ]
  },
  {
   "cell_type": "code",
   "execution_count": 109,
   "metadata": {
    "slideshow": {
     "slide_type": "fragment"
    }
   },
   "outputs": [
    {
     "name": "stdout",
     "output_type": "stream",
     "text": [
      "0 1 4 9 16 "
     ]
    }
   ],
   "source": [
    "for i in (x**2 for x in range(5)):\n",
    "    print(i, end=' ')"
   ]
  },
  {
   "cell_type": "code",
   "execution_count": 110,
   "metadata": {},
   "outputs": [],
   "source": [
    " o = (x**2 for x in range(5))"
   ]
  },
  {
   "cell_type": "code",
   "execution_count": 111,
   "metadata": {},
   "outputs": [
    {
     "data": {
      "text/plain": [
       "0"
      ]
     },
     "execution_count": 111,
     "metadata": {},
     "output_type": "execute_result"
    }
   ],
   "source": [
    "next(o)"
   ]
  },
  {
   "cell_type": "code",
   "execution_count": 112,
   "metadata": {},
   "outputs": [
    {
     "data": {
      "text/plain": [
       "1"
      ]
     },
     "execution_count": 112,
     "metadata": {},
     "output_type": "execute_result"
    }
   ],
   "source": [
    "o.__next__()"
   ]
  },
  {
   "cell_type": "code",
   "execution_count": 113,
   "metadata": {},
   "outputs": [
    {
     "name": "stdout",
     "output_type": "stream",
     "text": [
      "4 9 16 "
     ]
    }
   ],
   "source": [
    "for i in o:\n",
    "    print(i, end=' ')"
   ]
  },
  {
   "cell_type": "markdown",
   "metadata": {
    "slideshow": {
     "slide_type": "subslide"
    }
   },
   "source": [
    "### Generator Functions \n",
    "\n",
    "- yield\n",
    "\n",
    "-   Keyword always present in generator function\n",
    "-   Function returns a generator object"
   ]
  },
  {
   "cell_type": "markdown",
   "metadata": {
    "slideshow": {
     "slide_type": "fragment"
    }
   },
   "source": [
    "```python\n",
    "o = generator_func()   \n",
    "next(o)\n",
    "```"
   ]
  },
  {
   "cell_type": "markdown",
   "metadata": {
    "slideshow": {
     "slide_type": "fragment"
    }
   },
   "source": [
    "-   Executes up until **yield**\n",
    "-   \"break point\" where execution temporarily stops and returns a value"
   ]
  },
  {
   "cell_type": "markdown",
   "metadata": {
    "slideshow": {
     "slide_type": "notes"
    }
   },
   "source": [
    "Generator functions create iterable objects.  These objects have a method called *`next()`*, or *`__next__()`* in Python 3.  The each time this method is called the object will run through the function's code up until a `yield`  at which point that expression is returned.  When iterated over the generator object will have its `next()` method called successively, until it reaches the end at which point a *StopIteration* exception is raised."
   ]
  },
  {
   "cell_type": "markdown",
   "metadata": {
    "slideshow": {
     "slide_type": "subslide"
    }
   },
   "source": [
    "### Updown"
   ]
  },
  {
   "cell_type": "markdown",
   "metadata": {
    "slideshow": {
     "slide_type": "notes"
    }
   },
   "source": [
    "Example generator function `updown()` returns a generator object, that iterates up to (but not including) n, and the down again to 1."
   ]
  },
  {
   "cell_type": "code",
   "execution_count": 114,
   "metadata": {
    "slideshow": {
     "slide_type": "fragment"
    }
   },
   "outputs": [],
   "source": [
    "def updown(n):\n",
    "    for i in range(n):\n",
    "        yield i\n",
    "    for i in range(n,0,-1):\n",
    "        yield i"
   ]
  },
  {
   "cell_type": "code",
   "execution_count": 115,
   "metadata": {
    "slideshow": {
     "slide_type": "fragment"
    }
   },
   "outputs": [
    {
     "name": "stdout",
     "output_type": "stream",
     "text": [
      "0 1 2 3 4 5 4 3 2 1 "
     ]
    }
   ],
   "source": [
    "for x in updown(5) : print(x, end=' ')"
   ]
  },
  {
   "cell_type": "code",
   "execution_count": 116,
   "metadata": {},
   "outputs": [
    {
     "data": {
      "text/plain": [
       "0"
      ]
     },
     "execution_count": 116,
     "metadata": {},
     "output_type": "execute_result"
    }
   ],
   "source": [
    "o = updown(5)\n",
    "next(o)"
   ]
  },
  {
   "cell_type": "code",
   "execution_count": 117,
   "metadata": {},
   "outputs": [
    {
     "data": {
      "text/plain": [
       "1"
      ]
     },
     "execution_count": 117,
     "metadata": {},
     "output_type": "execute_result"
    }
   ],
   "source": [
    "next(o)"
   ]
  },
  {
   "cell_type": "code",
   "execution_count": 118,
   "metadata": {},
   "outputs": [
    {
     "data": {
      "text/plain": [
       "4"
      ]
     },
     "execution_count": 118,
     "metadata": {},
     "output_type": "execute_result"
    }
   ],
   "source": [
    "o.__next__(); o.__next__(); o.__next__()"
   ]
  },
  {
   "cell_type": "code",
   "execution_count": 119,
   "metadata": {},
   "outputs": [
    {
     "data": {
      "text/plain": [
       "5"
      ]
     },
     "execution_count": 119,
     "metadata": {},
     "output_type": "execute_result"
    }
   ],
   "source": [
    "next(o)"
   ]
  },
  {
   "cell_type": "code",
   "execution_count": 120,
   "metadata": {},
   "outputs": [
    {
     "ename": "StopIteration",
     "evalue": "",
     "output_type": "error",
     "traceback": [
      "\u001b[0;31m---------------------------------------------------------------------------\u001b[0m",
      "\u001b[0;31mStopIteration\u001b[0m                             Traceback (most recent call last)",
      "\u001b[0;32m<ipython-input-120-33d451fb1a65>\u001b[0m in \u001b[0;36m<module>\u001b[0;34m\u001b[0m\n\u001b[0;32m----> 1\u001b[0;31m \u001b[0mo\u001b[0m\u001b[0;34m.\u001b[0m\u001b[0m__next__\u001b[0m\u001b[0;34m(\u001b[0m\u001b[0;34m)\u001b[0m\u001b[0;34m;\u001b[0m \u001b[0mo\u001b[0m\u001b[0;34m.\u001b[0m\u001b[0m__next__\u001b[0m\u001b[0;34m(\u001b[0m\u001b[0;34m)\u001b[0m\u001b[0;34m;\u001b[0m \u001b[0mo\u001b[0m\u001b[0;34m.\u001b[0m\u001b[0m__next__\u001b[0m\u001b[0;34m(\u001b[0m\u001b[0;34m)\u001b[0m\u001b[0;34m;\u001b[0m \u001b[0mo\u001b[0m\u001b[0;34m.\u001b[0m\u001b[0m__next__\u001b[0m\u001b[0;34m(\u001b[0m\u001b[0;34m)\u001b[0m\u001b[0;34m;\u001b[0m \u001b[0mo\u001b[0m\u001b[0;34m.\u001b[0m\u001b[0m__next__\u001b[0m\u001b[0;34m(\u001b[0m\u001b[0;34m)\u001b[0m\u001b[0;34m\u001b[0m\u001b[0;34m\u001b[0m\u001b[0m\n\u001b[0m",
      "\u001b[0;31mStopIteration\u001b[0m: "
     ]
    }
   ],
   "source": [
    "o.__next__(); o.__next__(); o.__next__(); o.__next__(); o.__next__()"
   ]
  },
  {
   "cell_type": "markdown",
   "metadata": {
    "slideshow": {
     "slide_type": "slide"
    }
   },
   "source": [
    "# Iteration Patterns in Python"
   ]
  },
  {
   "cell_type": "code",
   "execution_count": 121,
   "metadata": {
    "slideshow": {
     "slide_type": "fragment"
    }
   },
   "outputs": [
    {
     "name": "stdout",
     "output_type": "stream",
     "text": [
      "keys\n",
      "A B C \n",
      "values\n",
      "abc"
     ]
    }
   ],
   "source": [
    "d = {'A':'a', 'B':'b', 'C':'c'}\n",
    "print('keys')\n",
    "for k in d:\n",
    "    print(k, end=' ')\n",
    "print('\\nvalues')\n",
    "for v in d.values():\n",
    "    print(v, end='')"
   ]
  },
  {
   "cell_type": "code",
   "execution_count": 122,
   "metadata": {
    "slideshow": {
     "slide_type": "fragment"
    }
   },
   "outputs": [
    {
     "name": "stdout",
     "output_type": "stream",
     "text": [
      "key => value\n",
      "A  =>  a\n",
      "B  =>  b\n",
      "C  =>  c\n"
     ]
    }
   ],
   "source": [
    "print('key => value')\n",
    "for k, v in d.items():\n",
    "    print(k, ' => ', v)"
   ]
  },
  {
   "cell_type": "code",
   "execution_count": 123,
   "metadata": {
    "slideshow": {
     "slide_type": "fragment"
    }
   },
   "outputs": [
    {
     "name": "stdout",
     "output_type": "stream",
     "text": [
      "key => value\n",
      "A => a\n",
      "B => b\n",
      "C => c\n"
     ]
    }
   ],
   "source": [
    "print('key => value')\n",
    "for item in d.items():\n",
    "    print('%s => %s' % item)"
   ]
  },
  {
   "cell_type": "code",
   "execution_count": 124,
   "metadata": {
    "slideshow": {
     "slide_type": "fragment"
    }
   },
   "outputs": [
    {
     "name": "stdout",
     "output_type": "stream",
     "text": [
      "key => value\n",
      "A => a\n",
      "B => b\n",
      "C => c\n"
     ]
    }
   ],
   "source": [
    "print('key => value')\n",
    "print('\\n'.join('%s => %s' % item for item in d.items()))"
   ]
  },
  {
   "cell_type": "markdown",
   "metadata": {
    "slideshow": {
     "slide_type": "subslide"
    }
   },
   "source": [
    "### Iterating over Files"
   ]
  },
  {
   "cell_type": "markdown",
   "metadata": {
    "slideshow": {
     "slide_type": "notes"
    }
   },
   "source": [
    "The traditional way to iterate over a file (`for line in file:`), has the disadvantage of not safely limiting the possible size pf the data read from the file at a time.  If we do not trust that the file has reasonably sized lines, we could do the following, and read 32 byte blocks."
   ]
  },
  {
   "cell_type": "markdown",
   "metadata": {
    "slideshow": {
     "slide_type": "fragment"
    }
   },
   "source": [
    "```python\n",
    "from functools import partial\n",
    "with open('...') as f:\n",
    "    blocks = []\n",
    "    for block in iter(partial(f.read,32),''):\n",
    "        blocks.append(block)\n",
    "```"
   ]
  },
  {
   "cell_type": "code",
   "execution_count": 125,
   "metadata": {
    "slideshow": {
     "slide_type": "fragment"
    }
   },
   "outputs": [
    {
     "data": {
      "text/plain": [
       "['# config file 1.1\\n\\nport = 10001 ',\n",
       " '# port to connect\\nhost = localho',\n",
       " 'st\\nuser = pyuser\\ndbname = pydb1\\n',\n",
       " '   #end section\\n']"
      ]
     },
     "execution_count": 125,
     "metadata": {},
     "output_type": "execute_result"
    }
   ],
   "source": [
    "from functools import partial\n",
    "with open('config.text') as f:\n",
    "    blocks = []\n",
    "    for block in iter(partial(f.read,32),''):\n",
    "        blocks.append(block)\n",
    "blocks"
   ]
  },
  {
   "cell_type": "markdown",
   "metadata": {
    "slideshow": {
     "slide_type": "notes"
    }
   },
   "source": [
    "`Iter` takes a sentinal, as its second argument.  Appending a list is more efficient than concatenating strings!  "
   ]
  },
  {
   "cell_type": "markdown",
   "metadata": {
    "slideshow": {
     "slide_type": "subslide"
    }
   },
   "source": [
    "### Stdlib has interesting iterables"
   ]
  },
  {
   "cell_type": "markdown",
   "metadata": {
    "slideshow": {
     "slide_type": "fragment"
    }
   },
   "source": [
    "```python\n",
    "for match in re.finditer(pattern, string):\n",
    "    # once for each regex match...\n",
    "\n",
    "for root, dirs, files in os.walk('/some/dir'):\n",
    "    # once for eamh sub-directory\n",
    "```"
   ]
  },
  {
   "cell_type": "markdown",
   "metadata": {
    "slideshow": {
     "slide_type": "subslide"
    }
   },
   "source": [
    "## Itertools"
   ]
  },
  {
   "cell_type": "markdown",
   "metadata": {
    "slideshow": {
     "slide_type": "notes"
    }
   },
   "source": [
    "The `itertools` module has a number of functions, useful fro iteration."
   ]
  },
  {
   "cell_type": "markdown",
   "metadata": {
    "slideshow": {
     "slide_type": "fragment"
    }
   },
   "source": [
    "```python\n",
    "# itertools is a module full of tools for playing with iteration\n",
    "for num in itertools.count():\n",
    "    # once for each integer... Infinite!\n",
    "\n",
    "from itertools import chain, repeat, cycle\n",
    "seq = chain(repeat(17, 3), cycle(range(4)))   # cycles forever \n",
    "for num in seq:\n",
    "    #17, 17, 17, 0, 1, 2, 3, 0, 1, 2, 3, 0, 1, 2, 3, ...\n",
    "```"
   ]
  },
  {
   "cell_type": "markdown",
   "metadata": {
    "slideshow": {
     "slide_type": "subslide"
    }
   },
   "source": [
    "### Other functions useful with iterables"
   ]
  },
  {
   "cell_type": "code",
   "execution_count": 126,
   "metadata": {
    "slideshow": {
     "slide_type": "fragment"
    }
   },
   "outputs": [],
   "source": [
    "iterable = range(1,10)\n",
    "new_list = list(iterable)"
   ]
  },
  {
   "cell_type": "code",
   "execution_count": 127,
   "metadata": {
    "slideshow": {
     "slide_type": "fragment"
    }
   },
   "outputs": [],
   "source": [
    "results = [square(x) for x in iterable]"
   ]
  },
  {
   "cell_type": "code",
   "execution_count": 128,
   "metadata": {
    "slideshow": {
     "slide_type": "fragment"
    }
   },
   "outputs": [],
   "source": [
    "total = sum(iterable)"
   ]
  },
  {
   "cell_type": "code",
   "execution_count": 129,
   "metadata": {
    "slideshow": {
     "slide_type": "fragment"
    }
   },
   "outputs": [],
   "source": [
    "smallest = min(iterable)\n",
    "largest = max(iterable)"
   ]
  },
  {
   "cell_type": "code",
   "execution_count": 130,
   "metadata": {
    "slideshow": {
     "slide_type": "fragment"
    }
   },
   "outputs": [
    {
     "data": {
      "text/plain": [
       "'i,t,e,r,a,b,l,e'"
      ]
     },
     "execution_count": 130,
     "metadata": {},
     "output_type": "execute_result"
    }
   ],
   "source": [
    "\",\".join('iterable')"
   ]
  },
  {
   "cell_type": "markdown",
   "metadata": {
    "slideshow": {
     "slide_type": "subslide"
    }
   },
   "source": [
    "### Getting the index of a list in a loop"
   ]
  },
  {
   "cell_type": "code",
   "execution_count": 131,
   "metadata": {},
   "outputs": [],
   "source": [
    "my_list = \"abc def ghi jkl\".split()"
   ]
  },
  {
   "cell_type": "code",
   "execution_count": 132,
   "metadata": {},
   "outputs": [
    {
     "name": "stdout",
     "output_type": "stream",
     "text": [
      "0 abc\n",
      "1 def\n",
      "2 ghi\n",
      "3 jkl\n"
     ]
    }
   ],
   "source": [
    "#Don't do this\n",
    "for i in range(len(my_list)):\n",
    "    v = my_list[i]\n",
    "    print(i, v)"
   ]
  },
  {
   "cell_type": "code",
   "execution_count": 133,
   "metadata": {
    "slideshow": {
     "slide_type": "fragment"
    }
   },
   "outputs": [
    {
     "name": "stdout",
     "output_type": "stream",
     "text": [
      "0 abc\n",
      "1 def\n",
      "2 ghi\n",
      "3 jkl\n"
     ]
    }
   ],
   "source": [
    "#Do it this way instead\n",
    "for i, v in enumerate(my_list):\n",
    "    print(i, v)"
   ]
  },
  {
   "cell_type": "markdown",
   "metadata": {
    "slideshow": {
     "slide_type": "subslide"
    }
   },
   "source": [
    "### enumerate() makes useful pairs"
   ]
  },
  {
   "cell_type": "code",
   "execution_count": 134,
   "metadata": {
    "slideshow": {
     "slide_type": "fragment"
    }
   },
   "outputs": [
    {
     "name": "stdout",
     "output_type": "stream",
     "text": [
      "0 Eiffel Tower\n",
      "1 Empire State\n",
      "2 Sears Tower\n"
     ]
    }
   ],
   "source": [
    "names = [\"Eiffel Tower\", \"Empire State\", \"Sears Tower\"]\n",
    "list(enumerate(names))\n",
    "\n",
    "for num, name in enumerate(names):\n",
    "    print(num, name)"
   ]
  },
  {
   "cell_type": "markdown",
   "metadata": {
    "slideshow": {
     "slide_type": "subslide"
    }
   },
   "source": [
    "### Iteration vs indexing\n",
    "* Limited:"
   ]
  },
  {
   "cell_type": "code",
   "execution_count": 135,
   "metadata": {
    "slideshow": {
     "slide_type": "fragment"
    }
   },
   "outputs": [
    {
     "name": "stdout",
     "output_type": "stream",
     "text": [
      "0 abc\n",
      "1 def\n",
      "2 ghi\n",
      "3 jkl\n"
     ]
    }
   ],
   "source": [
    "for i in range(len(my_list)):\n",
    "    v = my_list[i]  # indexing\n",
    "    print(i, v)"
   ]
  },
  {
   "cell_type": "markdown",
   "metadata": {
    "slideshow": {
     "slide_type": "subslide"
    }
   },
   "source": [
    "**More powerful:**\n",
    "* some iterables can't be indexed, such as an open file"
   ]
  },
  {
   "cell_type": "code",
   "execution_count": 136,
   "metadata": {
    "slideshow": {
     "slide_type": "fragment"
    }
   },
   "outputs": [
    {
     "name": "stdout",
     "output_type": "stream",
     "text": [
      "0 1\t1 2\t2 3\t3 4\t4 5\t5 6\t6 7\t7 8\t8 9\t"
     ]
    }
   ],
   "source": [
    "for i, v in enumerate(iterable):\n",
    "    print (i, v, end = '\\t')"
   ]
  },
  {
   "cell_type": "markdown",
   "metadata": {
    "slideshow": {
     "slide_type": "fragment"
    }
   },
   "source": [
    "```python\n",
    "for linenum, line in enumerate(f, start=1):\n",
    "    #...\n",
    "```"
   ]
  },
  {
   "cell_type": "markdown",
   "metadata": {
    "slideshow": {
     "slide_type": "subslide"
    }
   },
   "source": [
    "### Looping over two lists"
   ]
  },
  {
   "cell_type": "code",
   "execution_count": 137,
   "metadata": {
    "slideshow": {
     "slide_type": "fragment"
    }
   },
   "outputs": [],
   "source": [
    "names = [\"Eiffel Tower\", \"Empire State\", \"Sears Tower\"]\n",
    "heights = [324, 381, 442]"
   ]
  },
  {
   "cell_type": "code",
   "execution_count": 138,
   "metadata": {
    "slideshow": {
     "slide_type": "fragment"
    }
   },
   "outputs": [
    {
     "name": "stdout",
     "output_type": "stream",
     "text": [
      "Eiffel Tower: 324 meters\n",
      "Empire State: 381 meters\n",
      "Sears Tower: 442 meters\n"
     ]
    }
   ],
   "source": [
    "#Non - Pythonic way\n",
    "for i in range(len(names)):\n",
    "    name = names[i]\n",
    "    height = heights[i]\n",
    "    print(\"%s: %s meters\" % (name, height))"
   ]
  },
  {
   "cell_type": "markdown",
   "metadata": {
    "slideshow": {
     "slide_type": "subslide"
    }
   },
   "source": [
    "**A: zip() makes pair-wise loops**\n",
    "* A pair of streams becomes a stream of pairs\n",
    "* zip() takes iterables and produces iterables"
   ]
  },
  {
   "cell_type": "code",
   "execution_count": 139,
   "metadata": {
    "slideshow": {
     "slide_type": "fragment"
    }
   },
   "outputs": [
    {
     "name": "stdout",
     "output_type": "stream",
     "text": [
      "Eiffel Tower: 324 meters\n",
      "Empire State: 381 meters\n",
      "Sears Tower: 442 meters\n"
     ]
    }
   ],
   "source": [
    "for name, height in zip(names, heights):\n",
    "    print(\"%s: %s meters\" % (name, height))"
   ]
  },
  {
   "cell_type": "markdown",
   "metadata": {
    "slideshow": {
     "slide_type": "subslide"
    }
   },
   "source": [
    "**dict() accepts a stream of pairs**"
   ]
  },
  {
   "cell_type": "code",
   "execution_count": 140,
   "metadata": {
    "slideshow": {
     "slide_type": "fragment"
    }
   },
   "outputs": [
    {
     "data": {
      "text/plain": [
       "{'Eiffel Tower': 324, 'Empire State': 381, 'Sears Tower': 442}"
      ]
     },
     "execution_count": 140,
     "metadata": {},
     "output_type": "execute_result"
    }
   ],
   "source": [
    "dict(zip(names, heights))"
   ]
  },
  {
   "cell_type": "markdown",
   "metadata": {
    "slideshow": {
     "slide_type": "subslide"
    }
   },
   "source": [
    "**Powerful**"
   ]
  },
  {
   "cell_type": "code",
   "execution_count": 141,
   "metadata": {
    "slideshow": {
     "slide_type": "fragment"
    }
   },
   "outputs": [],
   "source": [
    "tall_buildings = {\n",
    "   \"Empire State\": 381, \"Sears Tower\": 442,\n",
    "   \"Burj Khalifa\": 828, \"Taipei 101\": 509,\n",
    "}"
   ]
  },
  {
   "cell_type": "code",
   "execution_count": 142,
   "metadata": {
    "slideshow": {
     "slide_type": "fragment"
    }
   },
   "outputs": [
    {
     "name": "stdout",
     "output_type": "stream",
     "text": [
      "828\n"
     ]
    }
   ],
   "source": [
    "print(max(tall_buildings.values()))"
   ]
  },
  {
   "cell_type": "code",
   "execution_count": 143,
   "metadata": {
    "slideshow": {
     "slide_type": "fragment"
    }
   },
   "outputs": [
    {
     "name": "stdout",
     "output_type": "stream",
     "text": [
      "('Burj Khalifa', 828)\n"
     ]
    }
   ],
   "source": [
    "print(max(tall_buildings.items(), key=lambda b: b[1]))"
   ]
  },
  {
   "cell_type": "code",
   "execution_count": 144,
   "metadata": {
    "slideshow": {
     "slide_type": "fragment"
    }
   },
   "outputs": [
    {
     "name": "stdout",
     "output_type": "stream",
     "text": [
      "Burj Khalifa\n"
     ]
    }
   ],
   "source": [
    "print(max(tall_buildings, key=tall_buildings.get))"
   ]
  },
  {
   "cell_type": "markdown",
   "metadata": {
    "slideshow": {
     "slide_type": "subslide"
    }
   },
   "source": [
    "### Abstracting iteration\n",
    "* When doing 2 things in the loop such as picking items out of the list and then doing something with those values.\n",
    "* The picking and the doing can be two separate pieces that can be abstracted apart."
   ]
  },
  {
   "cell_type": "markdown",
   "metadata": {
    "slideshow": {
     "slide_type": "fragment"
    }
   },
   "source": [
    "```python\n",
    "nums = [88, 73, 92, 72, 40, 30, 25, 20, 98, 72]\n",
    "for n in nums:\n",
    "    if n % 2 == 0:\n",
    "        do_something(n)\n",
    "```"
   ]
  },
  {
   "cell_type": "markdown",
   "metadata": {
    "slideshow": {
     "slide_type": "subslide"
    }
   },
   "source": [
    "## Iterable Pattern\n",
    "- Function evens accepts an iterable and produces a new iterable"
   ]
  },
  {
   "cell_type": "markdown",
   "metadata": {
    "slideshow": {
     "slide_type": "fragment"
    }
   },
   "source": [
    "```python\n",
    "def evens(stream):\n",
    "    them = []\n",
    "    for n in stream:\n",
    "        if n % 2 == 0:\n",
    "            them.append(n)\n",
    "    return them\n",
    "\n",
    "for n in evens(nums):\n",
    "    do_something(n)\n",
    "```"
   ]
  },
  {
   "cell_type": "markdown",
   "metadata": {
    "slideshow": {
     "slide_type": "subslide"
    }
   },
   "source": [
    "**Functions return one value - Generators produce a stream**\n",
    "\n",
    "* A Generator is like a function.\n",
    "* A function when you call it, it runs all the statements and returns one value.\n",
    "* A Generator when you call it produces an iterator and when you iterate the values in the iterator, it runs the statements in a generator, and every time it encounters a yield statement, it produces one more value.\n",
    "* It's kind of like a function that can keep producing values over and over again.\n",
    "* Generators are a really really powerful way to implement iteration.\n",
    "* You should be writing more Generators."
   ]
  },
  {
   "cell_type": "markdown",
   "metadata": {
    "slideshow": {
     "slide_type": "subslide"
    }
   },
   "source": [
    "**Evens generator**\n",
    "- Let's turn our `evens` function into a generator"
   ]
  },
  {
   "cell_type": "code",
   "execution_count": 145,
   "metadata": {
    "slideshow": {
     "slide_type": "fragment"
    }
   },
   "outputs": [],
   "source": [
    "def evens(stream):\n",
    "    for n in stream:\n",
    "        if n % 2 == 0:\n",
    "            yield n"
   ]
  },
  {
   "cell_type": "markdown",
   "metadata": {
    "slideshow": {
     "slide_type": "subslide"
    }
   },
   "source": [
    "**Chaining iterables**"
   ]
  },
  {
   "cell_type": "code",
   "execution_count": 146,
   "metadata": {
    "slideshow": {
     "slide_type": "fragment"
    }
   },
   "outputs": [],
   "source": [
    "def do_something(n):\n",
    "    print(n, end='')"
   ]
  },
  {
   "cell_type": "code",
   "execution_count": 147,
   "metadata": {
    "slideshow": {
     "slide_type": "fragment"
    }
   },
   "outputs": [
    {
     "name": "stdout",
     "output_type": "stream",
     "text": [
      "2468"
     ]
    }
   ],
   "source": [
    "for n in evens([1,2,3,4,5,6,7,8]):\n",
    "    do_something(n)"
   ]
  },
  {
   "cell_type": "code",
   "execution_count": 148,
   "metadata": {
    "slideshow": {
     "slide_type": "fragment"
    }
   },
   "outputs": [],
   "source": [
    "def evens(stream):\n",
    "    for n in stream:\n",
    "        if n % 2 == 0:\n",
    "            yield n"
   ]
  },
  {
   "cell_type": "code",
   "execution_count": 149,
   "metadata": {
    "slideshow": {
     "slide_type": "fragment"
    }
   },
   "outputs": [
    {
     "name": "stdout",
     "output_type": "stream",
     "text": [
      "2468"
     ]
    }
   ],
   "source": [
    "for n in evens([1,2,3,4,5,6,7,8]):\n",
    "    do_something(n)"
   ]
  },
  {
   "cell_type": "markdown",
   "metadata": {
    "slideshow": {
     "slide_type": "subslide"
    }
   },
   "source": [
    "## Abstracting the iteration"
   ]
  },
  {
   "cell_type": "code",
   "execution_count": 150,
   "metadata": {
    "slideshow": {
     "slide_type": "fragment"
    }
   },
   "outputs": [
    {
     "name": "stdout",
     "output_type": "stream",
     "text": [
      "port = 10001 # port to connecthost = localhostuser = pyuserdbname = pydb1"
     ]
    }
   ],
   "source": [
    "with open(\"config.text\") as f:\n",
    "    for line in f:\n",
    "        line = line.strip()\n",
    "        if line.startswith('#'):\n",
    "            # A comment line, skip it\n",
    "            continue\n",
    "        if not line:\n",
    "            # A blank line, skip it\n",
    "            continue\n",
    "\n",
    "        # An interesting line.\n",
    "        do_something(line)"
   ]
  },
  {
   "cell_type": "markdown",
   "metadata": {
    "slideshow": {
     "slide_type": "notes"
    }
   },
   "source": [
    "Note:\n",
    "There are essentially two parts to this code.  The first part prodices the interesting lines in the file.  The second part applies some logic to the lines."
   ]
  },
  {
   "cell_type": "markdown",
   "metadata": {
    "slideshow": {
     "slide_type": "subslide"
    }
   },
   "source": [
    "**Your own generator**"
   ]
  },
  {
   "cell_type": "code",
   "execution_count": 151,
   "metadata": {
    "slideshow": {
     "slide_type": "fragment"
    }
   },
   "outputs": [],
   "source": [
    "def interesting_lines(f):\n",
    "    for line in f:\n",
    "        line = line.strip()\n",
    "        if line.startswith('#'):\n",
    "            continue\n",
    "        if not line:\n",
    "            continue\n",
    "        yield line"
   ]
  },
  {
   "cell_type": "code",
   "execution_count": 152,
   "metadata": {
    "slideshow": {
     "slide_type": "subslide"
    }
   },
   "outputs": [
    {
     "name": "stdout",
     "output_type": "stream",
     "text": [
      "port = 10001 # port to connecthost = localhostuser = pyuserdbname = pydb12018-05-24 11:47:04,335:DEBUG:ROOT:TEST\n",
      "2018-05-24 11:48:17,270:DEBUG:TEST1:TEST\n",
      "2018-05-24 11:49:46,408:DEBUG:TEST1:TEST\n",
      "2018-05-24 11:59:47,925:ERROR:TEST1:DEBUGGING\n",
      "2018-05-24 12:10:59,632:DEBUG:TEST1:NEW MESSAGE\n",
      "2018-05-24 12:11:22,744:WARNING:TEST1:NEW MESSAGE\n",
      "2018-05-24 12:11:52,244:WARNING:TEST1:NEW MESSAGE\n",
      "2018-05-24 12:11:59,727:DEBUG:TEST1:NEW MESSAGE\n"
     ]
    }
   ],
   "source": [
    "def do_something_else(line):\n",
    "    print(line.upper())\n",
    "\n",
    "\n",
    "with open(\"config.text\") as f:\n",
    "    for line in interesting_lines(f):\n",
    "        do_something(line)\n",
    "\n",
    "with open(\"test.log\") as f2:\n",
    "    for line in interesting_lines(f2):\n",
    "        do_something_else(line)"
   ]
  },
  {
   "cell_type": "markdown",
   "metadata": {
    "slideshow": {
     "slide_type": "subslide"
    }
   },
   "source": [
    "### Breaking out of a nested loop\n",
    "- How is it done?"
   ]
  },
  {
   "cell_type": "markdown",
   "metadata": {
    "slideshow": {
     "slide_type": "fragment"
    }
   },
   "source": [
    "```python\n",
    "for row in range(height):\n",
    "    for col in range(width):\n",
    "\n",
    "        value = spreadsheet.get_value(col, row)\n",
    "        do_something(value)\n",
    "\n",
    "        if this_is_my_value(value):\n",
    "            break  # <-  ???\n",
    "```"
   ]
  },
  {
   "cell_type": "markdown",
   "metadata": {
    "slideshow": {
     "slide_type": "subslide"
    }
   },
   "source": [
    "**Make the double loop single**\n",
    "* Through the use of a generator"
   ]
  },
  {
   "cell_type": "code",
   "execution_count": 153,
   "metadata": {
    "slideshow": {
     "slide_type": "fragment"
    }
   },
   "outputs": [],
   "source": [
    "def range_2d(width, height):\n",
    "    \"\"\"Produce a stream of two-D coordinates.\"\"\"\n",
    "    for y in range(height):\n",
    "        for x in range(width):\n",
    "            yield x,y"
   ]
  },
  {
   "cell_type": "markdown",
   "metadata": {
    "slideshow": {
     "slide_type": "subslide"
    }
   },
   "source": [
    "```python\n",
    "for col, row in range_2d(width, height):\n",
    "    value = spreadsheet.get_value(col, row)\n",
    "    do_something(value)\n",
    "    \n",
    "    if this_is_my_value(value):\n",
    "        break\n",
    "```"
   ]
  },
  {
   "cell_type": "markdown",
   "metadata": {
    "slideshow": {
     "slide_type": "fragment"
    }
   },
   "source": [
    "**Better: iterate cells**"
   ]
  },
  {
   "cell_type": "markdown",
   "metadata": {
    "slideshow": {
     "slide_type": "fragment"
    }
   },
   "source": [
    "```python\n",
    "for cell in spreadsheet.cells():\n",
    "    value = cell.get_value()\n",
    "    do_something(value)\n",
    "    \n",
    "    if this_is_my_value(value):\n",
    "        break\n",
    "```"
   ]
  },
  {
   "cell_type": "markdown",
   "metadata": {
    "slideshow": {
     "slide_type": "subslide"
    }
   },
   "source": [
    "## Low Level Iteration\n",
    "**Lower level**\n",
    "* Iterable: produces and iterator\n",
    "* Iterator: produces a stream of values\n",
    "* Only operation on iterators is next()"
   ]
  },
  {
   "cell_type": "markdown",
   "metadata": {
    "slideshow": {
     "slide_type": "subslide"
    }
   },
   "source": [
    "```python\n",
    "iterator = iter(iterable)  # iterable.__iter__()\n",
    "value = next(iterator)     # iterator.next() or .__next\n",
    "value = next(iterator)\n",
    "...\n",
    "```\n"
   ]
  },
  {
   "cell_type": "markdown",
   "metadata": {},
   "source": [
    "**Low-level iteration**"
   ]
  },
  {
   "cell_type": "markdown",
   "metadata": {},
   "source": [
    "```python\n",
    "with open(\"blah.dat\") as f:\n",
    "    # Read the first line\n",
    "    header_line = next(f)\n",
    "    \n",
    "    # Read the rest\n",
    "    for data_line in f:\n",
    "        # ...\n",
    "```"
   ]
  },
  {
   "cell_type": "markdown",
   "metadata": {
    "slideshow": {
     "slide_type": "subslide"
    }
   },
   "source": [
    "**Making your object iterable**"
   ]
  },
  {
   "cell_type": "code",
   "execution_count": 154,
   "metadata": {},
   "outputs": [],
   "source": [
    "class ToDoList(object):\n",
    "    def __init__(self):\n",
    "        self.tasks = []\n",
    "        \n",
    "    def __iter__(self):\n",
    "        return iter(self.tasks)    # returns an iterator over the list"
   ]
  },
  {
   "cell_type": "markdown",
   "metadata": {
    "slideshow": {
     "slide_type": "subslide"
    }
   },
   "source": [
    "```python\n",
    "todo = ToDoList()\n",
    "...\n",
    "for task in todo:\n",
    "    # ...\n",
    "```"
   ]
  },
  {
   "cell_type": "markdown",
   "metadata": {
    "slideshow": {
     "slide_type": "subslide"
    }
   },
   "source": [
    "**`__iter__` generators**"
   ]
  },
  {
   "cell_type": "code",
   "execution_count": 155,
   "metadata": {
    "slideshow": {
     "slide_type": "fragment"
    }
   },
   "outputs": [],
   "source": [
    "class ToDoList(object):\n",
    "    def __init__(self):\n",
    "        self.tasks = []\n",
    "\n",
    "    def __iter__(self):\n",
    "        for task in self.tasks:\n",
    "            if not task.done:\n",
    "                yield task\n",
    "\n",
    "    def all(self):\n",
    "        return iter(self.tasks)\n",
    "\n",
    "    def done(self):\n",
    "        # This is a generator expression\n",
    "        return (t for t in self.tasks if t.done)"
   ]
  },
  {
   "cell_type": "markdown",
   "metadata": {
    "slideshow": {
     "slide_type": "slide"
    }
   },
   "source": [
    "---\n",
    "# Database Programming\n",
    "\n",
    "## SQLite\n",
    "The SQLite library allows SQL commands to access data in flat files."
   ]
  },
  {
   "cell_type": "code",
   "execution_count": 156,
   "metadata": {
    "slideshow": {
     "slide_type": "fragment"
    }
   },
   "outputs": [],
   "source": [
    "import sqlite3"
   ]
  },
  {
   "cell_type": "markdown",
   "metadata": {
    "slideshow": {
     "slide_type": "subslide"
    }
   },
   "source": [
    "## Common DB API\n",
    "- **`connect`**(*`filename`*) connect to a database stored in *filename* and return a *Connection* object \n",
    "\n",
    "- **`Connection.cursor`**() return a *cursor* object for the *connection*.\n",
    "\n",
    "- **`Connection.commit`**() Commit Transaction (if `autocommit` is off).\n",
    "\n",
    "- **`Connection.close`**() Close connection. Connection supports the *with* statement.\n",
    "\n",
    "- **cursor.execute**(*sql*) execute a query in an *sql* string.\n",
    "\n",
    "- **cursor.executemany**(*sql*,[()..]) execute parameterised query against a list of parameters.\n",
    "\n",
    "- **cursor.fetch\\[all\\]**() return query result.\n",
    "\n",
    "- **cursor.description** query meta data i.e. field names and properties."
   ]
  },
  {
   "cell_type": "markdown",
   "metadata": {
    "slideshow": {
     "slide_type": "subslide"
    }
   },
   "source": [
    "## SQL examples"
   ]
  },
  {
   "cell_type": "code",
   "execution_count": 157,
   "metadata": {
    "slideshow": {
     "slide_type": "fragment"
    }
   },
   "outputs": [],
   "source": [
    "import sqlite3 as db\n",
    "conn = db.connect(':memory:')\n",
    "cur = conn.cursor()\n",
    "sql = '...' # sql query as str\n",
    "#cur.execute(sql)"
   ]
  },
  {
   "cell_type": "markdown",
   "metadata": {
    "slideshow": {
     "slide_type": "subslide"
    }
   },
   "source": [
    "## Create a table"
   ]
  },
  {
   "cell_type": "code",
   "execution_count": 158,
   "metadata": {
    "slideshow": {
     "slide_type": "fragment"
    }
   },
   "outputs": [
    {
     "data": {
      "text/plain": [
       "<sqlite3.Cursor at 0x10d349f10>"
      ]
     },
     "execution_count": 158,
     "metadata": {},
     "output_type": "execute_result"
    }
   ],
   "source": [
    "sql = '''\n",
    "   create table users(\n",
    "   id int primary key,\n",
    "   username varchar(64),\n",
    "   password varchar(64))\n",
    "   '''\n",
    "cur.execute(sql)"
   ]
  },
  {
   "cell_type": "markdown",
   "metadata": {
    "slideshow": {
     "slide_type": "subslide"
    }
   },
   "source": [
    "## Insert a row\n",
    "### Parameterised Query"
   ]
  },
  {
   "cell_type": "code",
   "execution_count": 159,
   "metadata": {
    "slideshow": {
     "slide_type": "fragment"
    }
   },
   "outputs": [],
   "source": [
    "sql = '''\n",
    "    insert into users \n",
    "    values(?,?,?)'''\n",
    "cur.executemany(sql,[\n",
    "    (2, 'fred', 'qwerty'),\n",
    "    (3, 'sarah', 'asdf')])\n",
    "conn.commit() #if auto commit not on"
   ]
  },
  {
   "cell_type": "markdown",
   "metadata": {
    "slideshow": {
     "slide_type": "subslide"
    }
   },
   "source": [
    "## Selecting"
   ]
  },
  {
   "cell_type": "code",
   "execution_count": 160,
   "metadata": {
    "slideshow": {
     "slide_type": "fragment"
    }
   },
   "outputs": [
    {
     "data": {
      "text/plain": [
       "<sqlite3.Cursor at 0x10d349f10>"
      ]
     },
     "execution_count": 160,
     "metadata": {},
     "output_type": "execute_result"
    }
   ],
   "source": [
    "sql = \"select * from users\"\n",
    "cur.execute(sql)"
   ]
  },
  {
   "cell_type": "markdown",
   "metadata": {
    "slideshow": {
     "slide_type": "subslide"
    }
   },
   "source": [
    "** Fetching Rows **\n",
    "- cur.fetchall() -> list of tuples\n",
    "- cur.fetchone() ) -> tuple\n",
    "- for row in cur: \n",
    "   Iterate over result set "
   ]
  },
  {
   "cell_type": "code",
   "execution_count": 161,
   "metadata": {
    "slideshow": {
     "slide_type": "subslide"
    }
   },
   "outputs": [
    {
     "data": {
      "text/plain": [
       "[(2, 'fred', 'qwerty'), (3, 'sarah', 'asdf')]"
      ]
     },
     "execution_count": 161,
     "metadata": {},
     "output_type": "execute_result"
    }
   ],
   "source": [
    "cur.fetchall()"
   ]
  },
  {
   "cell_type": "markdown",
   "metadata": {
    "slideshow": {
     "slide_type": "subslide"
    }
   },
   "source": [
    "## Description\n",
    "- The description allows us to fetch query meta data\n",
    "- SQLITE only supports the column name meta data, hence other fields are always `None`."
   ]
  },
  {
   "cell_type": "code",
   "execution_count": 162,
   "metadata": {
    "slideshow": {
     "slide_type": "fragment"
    }
   },
   "outputs": [
    {
     "data": {
      "text/plain": [
       "(('id', None, None, None, None, None, None),\n",
       " ('username', None, None, None, None, None, None),\n",
       " ('password', None, None, None, None, None, None))"
      ]
     },
     "execution_count": 162,
     "metadata": {},
     "output_type": "execute_result"
    }
   ],
   "source": [
    "cur.description"
   ]
  },
  {
   "cell_type": "code",
   "execution_count": 172,
   "metadata": {},
   "outputs": [
    {
     "data": {
      "text/plain": [
       "['id', 'username', 'password']"
      ]
     },
     "execution_count": 172,
     "metadata": {},
     "output_type": "execute_result"
    }
   ],
   "source": [
    "keys = [x[0] for x in cur.description]\n",
    "keys"
   ]
  },
  {
   "cell_type": "code",
   "execution_count": 173,
   "metadata": {},
   "outputs": [],
   "source": [
    "rows = [(2, 'fred', 'qwerty'), (3, 'sarah', 'asdf')]"
   ]
  },
  {
   "cell_type": "code",
   "execution_count": 174,
   "metadata": {},
   "outputs": [
    {
     "data": {
      "text/plain": [
       "[{'id': 2, 'username': 'fred', 'password': 'qwerty'},\n",
       " {'id': 3, 'username': 'sarah', 'password': 'asdf'}]"
      ]
     },
     "execution_count": 174,
     "metadata": {},
     "output_type": "execute_result"
    }
   ],
   "source": [
    "dict_list = []\n",
    "for row in rows:\n",
    "    dict_list.append(dict(zip(keys,row)))\n",
    "dict_list"
   ]
  },
  {
   "cell_type": "code",
   "execution_count": 175,
   "metadata": {},
   "outputs": [],
   "source": [
    "list_dict = {key: [] for key in keys}"
   ]
  },
  {
   "cell_type": "code",
   "execution_count": 176,
   "metadata": {},
   "outputs": [
    {
     "data": {
      "text/plain": [
       "{'id': [], 'username': [], 'password': []}"
      ]
     },
     "execution_count": 176,
     "metadata": {},
     "output_type": "execute_result"
    }
   ],
   "source": [
    "list_dict"
   ]
  },
  {
   "cell_type": "code",
   "execution_count": 177,
   "metadata": {},
   "outputs": [
    {
     "data": {
      "text/plain": [
       "{'id': [2, 3], 'username': ['fred', 'sarah'], 'password': ['qwerty', 'asdf']}"
      ]
     },
     "execution_count": 177,
     "metadata": {},
     "output_type": "execute_result"
    }
   ],
   "source": [
    "for row in rows:\n",
    "    for i, key in enumerate(keys):\n",
    "        list_dict[key].append(row[i])\n",
    "        \n",
    "list_dict"
   ]
  },
  {
   "cell_type": "code",
   "execution_count": 179,
   "metadata": {},
   "outputs": [
    {
     "data": {
      "text/plain": [
       "{'id': [], 'username': [], 'password': []}"
      ]
     },
     "execution_count": 179,
     "metadata": {},
     "output_type": "execute_result"
    }
   ],
   "source": [
    "list_dict2 = dict.fromkeys(keys, [])\n",
    "list_dict2"
   ]
  },
  {
   "cell_type": "code",
   "execution_count": 180,
   "metadata": {},
   "outputs": [
    {
     "data": {
      "text/plain": [
       "{'id': [2, 'fred', 'qwerty', 3, 'sarah', 'asdf'],\n",
       " 'username': [2, 'fred', 'qwerty', 3, 'sarah', 'asdf'],\n",
       " 'password': [2, 'fred', 'qwerty', 3, 'sarah', 'asdf']}"
      ]
     },
     "execution_count": 180,
     "metadata": {},
     "output_type": "execute_result"
    }
   ],
   "source": [
    "for row in rows:\n",
    "    for i, key in enumerate(keys):\n",
    "        list_dict2[key].append(row[i])\n",
    "        \n",
    "list_dict2"
   ]
  },
  {
   "cell_type": "markdown",
   "metadata": {
    "slideshow": {
     "slide_type": "slide"
    }
   },
   "source": [
    "---\n",
    "\n",
    "# Modules \n",
    "\n",
    "-   normal python file\n",
    "-   or pre-compiled c object, .dll .so\n",
    "-   found in sys.path"
   ]
  },
  {
   "cell_type": "markdown",
   "metadata": {
    "slideshow": {
     "slide_type": "subslide"
    }
   },
   "source": [
    "## import \n",
    "\n",
    "import module\n",
    "\n",
    "-   creates a namespace\n",
    "-   named after module\n",
    "-   same as file name sans extension\n",
    "-   hence filename must be valid python identifier"
   ]
  },
  {
   "cell_type": "markdown",
   "metadata": {
    "slideshow": {
     "slide_type": "subslide"
    }
   },
   "source": [
    "## import invocation"
   ]
  },
  {
   "cell_type": "markdown",
   "metadata": {
    "slideshow": {
     "slide_type": "fragment"
    }
   },
   "source": [
    "```python\n",
    "import mod\n",
    "```"
   ]
  },
  {
   "cell_type": "markdown",
   "metadata": {
    "slideshow": {
     "slide_type": "notes"
    }
   },
   "source": [
    "Imports a module from a file in the ``python_path`` named ``mod.py`` with a namespace ``mod``."
   ]
  },
  {
   "cell_type": "markdown",
   "metadata": {
    "slideshow": {
     "slide_type": "fragment"
    }
   },
   "source": [
    "```python\n",
    "import mod1, mod2\n",
    "```"
   ]
  },
  {
   "cell_type": "markdown",
   "metadata": {
    "slideshow": {
     "slide_type": "notes"
    }
   },
   "source": [
    "Imports both modules ``mod1`` and ``mod2``."
   ]
  },
  {
   "cell_type": "markdown",
   "metadata": {
    "slideshow": {
     "slide_type": "fragment"
    }
   },
   "source": [
    "```python\n",
    "import mod1 as alias\n",
    "```"
   ]
  },
  {
   "cell_type": "markdown",
   "metadata": {
    "slideshow": {
     "slide_type": "notes"
    }
   },
   "source": [
    "Imports a module ``mod`` with a namespace ``alias``."
   ]
  },
  {
   "cell_type": "markdown",
   "metadata": {
    "slideshow": {
     "slide_type": "fragment"
    }
   },
   "source": [
    "```python\n",
    "from mod import attribute[, ...]\n",
    "```"
   ]
  },
  {
   "cell_type": "markdown",
   "metadata": {
    "slideshow": {
     "slide_type": "notes"
    }
   },
   "source": [
    "Imports module ``mod`` and places listed attributes into the ``__main__`` namespace, or that of the current module."
   ]
  },
  {
   "cell_type": "markdown",
   "metadata": {
    "slideshow": {
     "slide_type": "fragment"
    }
   },
   "source": [
    "```python\n",
    "from mod import *\n",
    "```"
   ]
  },
  {
   "cell_type": "markdown",
   "metadata": {
    "slideshow": {
     "slide_type": "notes"
    }
   },
   "source": [
    "Imports module mod and places *all* attributes into the `__main__` namespace, or that of the current module."
   ]
  },
  {
   "cell_type": "markdown",
   "metadata": {
    "slideshow": {
     "slide_type": "subslide"
    }
   },
   "source": [
    "## Packages\n",
    "- sub directories within `the python_path`\n",
    "- directory must contain `__init__.py`\n",
    "  + May be empty\n",
    "  + Any code is executed on `import packagename`\n",
    "  + most often imports default modules from within the package"
   ]
  },
  {
   "cell_type": "markdown",
   "metadata": {
    "slideshow": {
     "slide_type": "subslide"
    }
   },
   "source": [
    "**Importing Packages**"
   ]
  },
  {
   "cell_type": "markdown",
   "metadata": {
    "slideshow": {
     "slide_type": "fragment"
    }
   },
   "source": [
    "```python\n",
    "import package #effectively executes __init__.py\n",
    "import package.mod #imports module within package\n",
    "```"
   ]
  },
  {
   "cell_type": "markdown",
   "metadata": {
    "slideshow": {
     "slide_type": "slide"
    }
   },
   "source": [
    "---\n",
    "\n",
    "# class \n",
    "\n",
    "`class` allows custom object types.\n",
    "\n",
    "contains\n",
    "\n",
    "- class variables\n",
    "- methods\n",
    "- docstrings"
   ]
  },
  {
   "cell_type": "code",
   "execution_count": 181,
   "metadata": {
    "slideshow": {
     "slide_type": "fragment"
    }
   },
   "outputs": [],
   "source": [
    "class C1(object): pass"
   ]
  },
  {
   "cell_type": "markdown",
   "metadata": {
    "slideshow": {
     "slide_type": "notes"
    }
   },
   "source": [
    "The above code defines an empty class name `C1`. Note that the class name is in TitleCase by convention  The value in parenthesis is, the *super* or *base* class.  That is this class inherrits from a built in class called `object`.  Classes that inherrit from `object` are *new style classes*.  An object of this class is instantiated when the classname is *called* as if it were a function."
   ]
  },
  {
   "cell_type": "code",
   "execution_count": 182,
   "metadata": {
    "slideshow": {
     "slide_type": "fragment"
    }
   },
   "outputs": [],
   "source": [
    "new_object = C1() #instantiates the class"
   ]
  },
  {
   "cell_type": "markdown",
   "metadata": {
    "slideshow": {
     "slide_type": "subslide"
    }
   },
   "source": [
    "## class variable \n",
    "\n",
    "-   normal variable\n",
    "-   class acts as a namespace"
   ]
  },
  {
   "cell_type": "code",
   "execution_count": 183,
   "metadata": {
    "slideshow": {
     "slide_type": "fragment"
    }
   },
   "outputs": [],
   "source": [
    "class C2(object): \n",
    "    class_var = 'Class Variable'"
   ]
  },
  {
   "cell_type": "code",
   "execution_count": 184,
   "metadata": {
    "slideshow": {
     "slide_type": "fragment"
    }
   },
   "outputs": [
    {
     "name": "stdout",
     "output_type": "stream",
     "text": [
      "Static Ref: Class Variable\n",
      "non-static: Class Variable\n"
     ]
    }
   ],
   "source": [
    "print(\"Static Ref:\", C2.class_var) #static reference\n",
    "c2_object = C2\n",
    "print(\"non-static:\", c2_object.class_var) #non-static reference to the same variable"
   ]
  },
  {
   "cell_type": "markdown",
   "metadata": {
    "slideshow": {
     "slide_type": "notes"
    }
   },
   "source": [
    "Class variables behave like any other module variables, that is *global* variables defined in the module, escept that the class name acts as a namespace or qualifier before the variable name and class variables can automatically be assigned within a function, without requiring the `global` keyword."
   ]
  },
  {
   "cell_type": "code",
   "execution_count": 185,
   "metadata": {
    "slideshow": {
     "slide_type": "notes"
    }
   },
   "outputs": [
    {
     "data": {
      "text/plain": [
       "'Class Variable Modified'"
      ]
     },
     "execution_count": 185,
     "metadata": {},
     "output_type": "execute_result"
    }
   ],
   "source": [
    "def fn():\n",
    "    C2.class_var += \" Modified\"\n",
    "\n",
    "fn()\n",
    "C2.class_var"
   ]
  },
  {
   "cell_type": "markdown",
   "metadata": {
    "slideshow": {
     "slide_type": "subslide"
    }
   },
   "source": [
    "## instance vars \n",
    "\n",
    "-   variables contained in the *instance*"
   ]
  },
  {
   "cell_type": "code",
   "execution_count": 186,
   "metadata": {
    "slideshow": {
     "slide_type": "fragment"
    }
   },
   "outputs": [
    {
     "data": {
      "text/plain": [
       "4"
      ]
     },
     "execution_count": 186,
     "metadata": {},
     "output_type": "execute_result"
    }
   ],
   "source": [
    "c1 = C2()\n",
    "c1.var = 4\n",
    "c1.__dict__['var']"
   ]
  },
  {
   "cell_type": "markdown",
   "metadata": {
    "slideshow": {
     "slide_type": "notes"
    }
   },
   "source": [
    "Every time a new *instance* of the class is created (that is, we create an oject of that class).  A new copy of every instance variable is created.  The instance variables are stored in a dictionary called `__dict__`.  Classes similarly also have dictionaries:"
   ]
  },
  {
   "cell_type": "code",
   "execution_count": 187,
   "metadata": {
    "slideshow": {
     "slide_type": "notes"
    }
   },
   "outputs": [
    {
     "data": {
      "text/plain": [
       "mappingproxy({'__module__': '__main__',\n",
       "              'class_var': 'Class Variable Modified',\n",
       "              '__dict__': <attribute '__dict__' of 'C2' objects>,\n",
       "              '__weakref__': <attribute '__weakref__' of 'C2' objects>,\n",
       "              '__doc__': None})"
      ]
     },
     "execution_count": 187,
     "metadata": {},
     "output_type": "execute_result"
    }
   ],
   "source": [
    "C2.__dict__"
   ]
  },
  {
   "cell_type": "code",
   "execution_count": 188,
   "metadata": {
    "slideshow": {
     "slide_type": "notes"
    }
   },
   "outputs": [
    {
     "data": {
      "text/plain": [
       "{'var': 4}"
      ]
     },
     "execution_count": 188,
     "metadata": {},
     "output_type": "execute_result"
    }
   ],
   "source": [
    "c1.__dict__"
   ]
  },
  {
   "cell_type": "code",
   "execution_count": 189,
   "metadata": {},
   "outputs": [
    {
     "data": {
      "text/plain": [
       "{'var': 4}"
      ]
     },
     "execution_count": 189,
     "metadata": {},
     "output_type": "execute_result"
    }
   ],
   "source": [
    "vars(c1)"
   ]
  },
  {
   "cell_type": "code",
   "execution_count": 190,
   "metadata": {},
   "outputs": [
    {
     "data": {
      "text/plain": [
       "mappingproxy({'__module__': '__main__',\n",
       "              'class_var': 'Class Variable Modified',\n",
       "              '__dict__': <attribute '__dict__' of 'C2' objects>,\n",
       "              '__weakref__': <attribute '__weakref__' of 'C2' objects>,\n",
       "              '__doc__': None})"
      ]
     },
     "execution_count": 190,
     "metadata": {},
     "output_type": "execute_result"
    }
   ],
   "source": [
    "vars(C2)"
   ]
  },
  {
   "cell_type": "markdown",
   "metadata": {
    "slideshow": {
     "slide_type": "subslide"
    }
   },
   "source": [
    "## methods \n",
    "\n",
    "-   must accept *self*\n",
    "-   self represents the *instance object* the method was called from"
   ]
  },
  {
   "cell_type": "code",
   "execution_count": 191,
   "metadata": {
    "slideshow": {
     "slide_type": "subslide"
    }
   },
   "outputs": [],
   "source": [
    "class C3(object):\n",
    "    def show_dict(self):\n",
    "        print(self.__dict__)"
   ]
  },
  {
   "cell_type": "markdown",
   "metadata": {
    "slideshow": {
     "slide_type": "notes"
    }
   },
   "source": [
    "The above class has a single method: `show_dict`.  This method accepts `self`, which always must be the firts argument to a method.  `self` is a reference to the *instance* of the class from which the method is called is called.  The method is said to be *bound* to the method. "
   ]
  },
  {
   "cell_type": "code",
   "execution_count": 192,
   "metadata": {
    "slideshow": {
     "slide_type": "fragment"
    }
   },
   "outputs": [
    {
     "name": "stdout",
     "output_type": "stream",
     "text": [
      "{'var': 10}\n"
     ]
    }
   ],
   "source": [
    "test1 = C3()\n",
    "test1.var = 10\n",
    "test1.show_dict()"
   ]
  },
  {
   "cell_type": "code",
   "execution_count": 193,
   "metadata": {
    "slideshow": {
     "slide_type": "fragment"
    }
   },
   "outputs": [
    {
     "name": "stdout",
     "output_type": "stream",
     "text": [
      "{'other_var': 999}\n"
     ]
    }
   ],
   "source": [
    "test2 = C3()\n",
    "test2.other_var = 999\n",
    "test2.show_dict()"
   ]
  },
  {
   "cell_type": "markdown",
   "metadata": {
    "slideshow": {
     "slide_type": "subslide"
    }
   },
   "source": [
    "### Function bound and unbound methods"
   ]
  },
  {
   "cell_type": "markdown",
   "metadata": {
    "slideshow": {
     "slide_type": "notes"
    }
   },
   "source": [
    "A function is a *callable* object defined outside of a class, a method is a *callable* defined within a class.  Unbound methods are referenced using the class as a qualifier, a bound method is referenced using the *instance* as a qualifier."
   ]
  },
  {
   "cell_type": "code",
   "execution_count": 194,
   "metadata": {
    "slideshow": {
     "slide_type": "fragment"
    }
   },
   "outputs": [
    {
     "data": {
      "text/plain": [
       "<function __main__.C3.show_dict(self)>"
      ]
     },
     "execution_count": 194,
     "metadata": {},
     "output_type": "execute_result"
    }
   ],
   "source": [
    "C3.show_dict"
   ]
  },
  {
   "cell_type": "code",
   "execution_count": 195,
   "metadata": {
    "slideshow": {
     "slide_type": "fragment"
    }
   },
   "outputs": [
    {
     "data": {
      "text/plain": [
       "<bound method C3.show_dict of <__main__.C3 object at 0x10d39c748>>"
      ]
     },
     "execution_count": 195,
     "metadata": {},
     "output_type": "execute_result"
    }
   ],
   "source": [
    "test1.show_dict"
   ]
  },
  {
   "cell_type": "markdown",
   "metadata": {
    "slideshow": {
     "slide_type": "notes"
    }
   },
   "source": [
    "Both above references are to the same object.  When *calling* and ubound method it is necessary to supply an instance to satisfy the `self` parameter."
   ]
  },
  {
   "cell_type": "code",
   "execution_count": 196,
   "metadata": {
    "slideshow": {
     "slide_type": "fragment"
    }
   },
   "outputs": [
    {
     "name": "stdout",
     "output_type": "stream",
     "text": [
      "{'other_var': 999}\n"
     ]
    }
   ],
   "source": [
    "C3.show_dict(test2)"
   ]
  },
  {
   "cell_type": "code",
   "execution_count": 197,
   "metadata": {
    "slideshow": {
     "slide_type": "fragment"
    }
   },
   "outputs": [
    {
     "name": "stdout",
     "output_type": "stream",
     "text": [
      "{'other_var': 999}\n"
     ]
    }
   ],
   "source": [
    "test2.show_dict()"
   ]
  },
  {
   "cell_type": "markdown",
   "metadata": {
    "slideshow": {
     "slide_type": "notes"
    }
   },
   "source": [
    "Both above calls are to the same method.  In both cases `self` is assigned to `test2`. "
   ]
  },
  {
   "cell_type": "markdown",
   "metadata": {
    "slideshow": {
     "slide_type": "subslide"
    }
   },
   "source": [
    "## Initialising Objects`__init__`"
   ]
  },
  {
   "cell_type": "markdown",
   "metadata": {
    "slideshow": {
     "slide_type": "notes"
    }
   },
   "source": [
    "As can be seen from the previous examples an object has no instance variables by default.  Instance variables can be created at any time, however we normally want all objects of a certain class to have the same set (or should I say, dictionary) of instance variables;"
   ]
  },
  {
   "cell_type": "markdown",
   "metadata": {
    "slideshow": {
     "slide_type": "fragment"
    }
   },
   "source": [
    "```python\n",
    "def __init__(): # initialise object\n",
    "```"
   ]
  },
  {
   "cell_type": "markdown",
   "metadata": {
    "slideshow": {
     "slide_type": "fragment"
    }
   },
   "source": [
    "-   intercepts the classname() call.\n",
    "-   often used to initialise instance variables"
   ]
  },
  {
   "cell_type": "code",
   "execution_count": 198,
   "metadata": {
    "slideshow": {
     "slide_type": "subslide"
    }
   },
   "outputs": [],
   "source": [
    "class C4(object):\n",
    "    def __init__(self):\n",
    "        self.a = 'A'\n",
    "        self.b = 'B'"
   ]
  },
  {
   "cell_type": "code",
   "execution_count": 199,
   "metadata": {
    "slideshow": {
     "slide_type": "fragment"
    }
   },
   "outputs": [
    {
     "data": {
      "text/plain": [
       "{'a': 'A', 'b': 'B'}"
      ]
     },
     "execution_count": 199,
     "metadata": {},
     "output_type": "execute_result"
    }
   ],
   "source": [
    "o = C4()\n",
    "o.__dict__"
   ]
  },
  {
   "cell_type": "markdown",
   "metadata": {
    "slideshow": {
     "slide_type": "subslide"
    }
   },
   "source": [
    "**Passing `__init__` arguments**"
   ]
  },
  {
   "cell_type": "markdown",
   "metadata": {
    "slideshow": {
     "slide_type": "notes"
    }
   },
   "source": [
    "If init accepts additional arguments, these can be passed when the instance is created."
   ]
  },
  {
   "cell_type": "code",
   "execution_count": 200,
   "metadata": {
    "slideshow": {
     "slide_type": "fragment"
    }
   },
   "outputs": [],
   "source": [
    "class C5(object):\n",
    "    def __init__(self, arg):\n",
    "        self.a = arg\n",
    "        self.b = 'B'"
   ]
  },
  {
   "cell_type": "code",
   "execution_count": 201,
   "metadata": {
    "slideshow": {
     "slide_type": "fragment"
    }
   },
   "outputs": [
    {
     "data": {
      "text/plain": [
       "{'a': 20, 'b': 'B'}"
      ]
     },
     "execution_count": 201,
     "metadata": {},
     "output_type": "execute_result"
    }
   ],
   "source": [
    "o = C5(20)\n",
    "o.__dict__"
   ]
  },
  {
   "cell_type": "markdown",
   "metadata": {
    "slideshow": {
     "slide_type": "slide"
    }
   },
   "source": [
    "# Inheritance\n",
    "\n",
    "Part of the class definition\n",
    "\n",
    "-   `class classname(baseclass[,...])`\n",
    "-   attribute resolution delegation"
   ]
  },
  {
   "cell_type": "markdown",
   "metadata": {
    "slideshow": {
     "slide_type": "notes"
    }
   },
   "source": [
    "In Python inheritance is a matter of attribute delegation. When an attribute (variable or method) is referenced from an object (`o.attribute`) : Python first searches `o.__dict__`, if not found it then searches `ClassName.__dict__`, and after that the base classes and their base classes.   "
   ]
  },
  {
   "cell_type": "markdown",
   "metadata": {
    "slideshow": {
     "slide_type": "subslide"
    }
   },
   "source": [
    "![attribute delegation](images/attribute_delegation.png)"
   ]
  },
  {
   "cell_type": "markdown",
   "metadata": {
    "slideshow": {
     "slide_type": "slide"
    }
   },
   "source": [
    "# Exceptions"
   ]
  },
  {
   "cell_type": "markdown",
   "metadata": {
    "slideshow": {
     "slide_type": "notes"
    }
   },
   "source": [
    "An exception is a signal that an error or other unusual condition has occurred. There are a number of built-in exceptions, which indicate conditions like reading past the end of a file, or dividing by zero. You can also define your own exceptions."
   ]
  },
  {
   "cell_type": "markdown",
   "metadata": {
    "slideshow": {
     "slide_type": "fragment"
    }
   },
   "source": [
    "## Handling Exceptions"
   ]
  },
  {
   "cell_type": "markdown",
   "metadata": {
    "slideshow": {
     "slide_type": "fragment"
    }
   },
   "source": [
    "```python\n",
    "try: \n",
    "    block\n",
    "except [exceptionclass] as e: \n",
    "    block\n",
    "else: \n",
    "    block\n",
    "finally: \n",
    "    block\n",
    "```"
   ]
  },
  {
   "cell_type": "markdown",
   "metadata": {
    "slideshow": {
     "slide_type": "notes"
    }
   },
   "source": [
    "In order to handle errors, you can set up exception handling blocks in your code. The keywords `try` and `except` are used to catch exceptions. When an error occurs within the try block, Python looks for a matching except block to handle it. If there is one, execution jumps there. If no exception occurs Python jumps to the `else` block.\n",
    "\n",
    "The `finally` block will be executed no matter what."
   ]
  },
  {
   "cell_type": "markdown",
   "metadata": {
    "slideshow": {
     "slide_type": "subslide"
    }
   },
   "source": [
    "### Unhandled Exception"
   ]
  },
  {
   "cell_type": "code",
   "execution_count": 202,
   "metadata": {
    "slideshow": {
     "slide_type": "fragment"
    }
   },
   "outputs": [
    {
     "ename": "ZeroDivisionError",
     "evalue": "division by zero",
     "output_type": "error",
     "traceback": [
      "\u001b[0;31m---------------------------------------------------------------------------\u001b[0m",
      "\u001b[0;31mZeroDivisionError\u001b[0m                         Traceback (most recent call last)",
      "\u001b[0;32m<ipython-input-202-9e1622b385b6>\u001b[0m in \u001b[0;36m<module>\u001b[0;34m\u001b[0m\n\u001b[0;32m----> 1\u001b[0;31m \u001b[0;36m1\u001b[0m\u001b[0;34m/\u001b[0m\u001b[0;36m0\u001b[0m\u001b[0;34m\u001b[0m\u001b[0;34m\u001b[0m\u001b[0m\n\u001b[0m",
      "\u001b[0;31mZeroDivisionError\u001b[0m: division by zero"
     ]
    }
   ],
   "source": [
    "1/0"
   ]
  },
  {
   "cell_type": "markdown",
   "metadata": {
    "slideshow": {
     "slide_type": "subslide"
    }
   },
   "source": [
    "### Example of Handled Exception"
   ]
  },
  {
   "cell_type": "code",
   "execution_count": 203,
   "metadata": {
    "slideshow": {
     "slide_type": "fragment"
    }
   },
   "outputs": [
    {
     "name": "stdout",
     "output_type": "stream",
     "text": [
      "we do this no matter what\n"
     ]
    },
    {
     "ename": "AssertionError",
     "evalue": "force exception",
     "output_type": "error",
     "traceback": [
      "\u001b[0;31m---------------------------------------------------------------------------\u001b[0m",
      "\u001b[0;31mAssertionError\u001b[0m                            Traceback (most recent call last)",
      "\u001b[0;32m<ipython-input-203-9c4b9a21749d>\u001b[0m in \u001b[0;36m<module>\u001b[0;34m\u001b[0m\n\u001b[1;32m      1\u001b[0m \u001b[0;32mtry\u001b[0m \u001b[0;34m:\u001b[0m\u001b[0;34m\u001b[0m\u001b[0;34m\u001b[0m\u001b[0m\n\u001b[0;32m----> 2\u001b[0;31m     \u001b[0;32massert\u001b[0m \u001b[0;32mFalse\u001b[0m\u001b[0;34m,\u001b[0m \u001b[0;34m\"force exception\"\u001b[0m\u001b[0;34m\u001b[0m\u001b[0;34m\u001b[0m\u001b[0m\n\u001b[0m\u001b[1;32m      3\u001b[0m     \u001b[0mx\u001b[0m\u001b[0;34m[\u001b[0m\u001b[0;36m4\u001b[0m\u001b[0;34m]\u001b[0m\u001b[0;34m\u001b[0m\u001b[0;34m\u001b[0m\u001b[0m\n\u001b[1;32m      4\u001b[0m     \u001b[0;36m1\u001b[0m\u001b[0;34m/\u001b[0m\u001b[0;36m0\u001b[0m\u001b[0;34m\u001b[0m\u001b[0;34m\u001b[0m\u001b[0m\n\u001b[1;32m      5\u001b[0m     \u001b[0mprint\u001b[0m\u001b[0;34m(\u001b[0m\u001b[0ma\u001b[0m\u001b[0;34m)\u001b[0m\u001b[0;34m\u001b[0m\u001b[0;34m\u001b[0m\u001b[0m\n",
      "\u001b[0;31mAssertionError\u001b[0m: force exception"
     ]
    }
   ],
   "source": [
    "try :\n",
    "    assert False, \"force exception\"\n",
    "    x[4]\n",
    "    1/0\n",
    "    print(a)\n",
    "\n",
    "except ZeroDivisionError:\n",
    "    print(\"can't devide by zero\")\n",
    "    \n",
    "\n",
    "except NameError:\n",
    "    print(\"name not defined\")\n",
    "\n",
    "except IndexError as e:\n",
    "    print(\"index out of range\", e)\n",
    "\n",
    "else:\n",
    "    print(\"no exception occured\")\n",
    "finally:\n",
    "    print(\"we do this no matter what\")"
   ]
  },
  {
   "cell_type": "markdown",
   "metadata": {
    "slideshow": {
     "slide_type": "notes"
    }
   },
   "source": [
    "When handling multiple exceptions Python will jump to the first `except` clause that matches the exception. Exceptions are classes with an inheritance hierarchy. An exception can be matched by the class that raised the exception or any of it's base classes.  \n",
    "\n",
    "Exception clauses therefore should be sorted from the specific to the general.  Always make sure that a *catchall* except clause identifies the true nature of the exception with a stack trace or similar."
   ]
  },
  {
   "cell_type": "markdown",
   "metadata": {
    "slideshow": {
     "slide_type": "subslide"
    }
   },
   "source": [
    "### Built in Exception Classes.\n",
    "\n",
    "```\n",
    "BaseException\n",
    " +-- SystemExit\n",
    " +-- KeyboardInterrupt\n",
    " +-- GeneratorExit\n",
    " +-- Exception\n",
    "      +-- StopIteration\n",
    "      +-- StopAsyncIteration\n",
    "      +-- ArithmeticError\n",
    "      |    +-- FloatingPointError\n",
    "      |    +-- OverflowError\n",
    "      |    +-- ZeroDivisionError\n",
    "      +-- AssertionError\n",
    "      +-- AttributeError\n",
    "      +-- BufferError\n",
    "      +-- EOFError\n",
    "      +-- ImportError\n",
    "      |    +-- ModuleNotFoundError\n",
    "      +-- LookupError\n",
    "      |    +-- IndexError\n",
    "      |    +-- KeyError\n",
    "      +-- MemoryError\n",
    "      +-- NameError\n",
    "      |    +-- UnboundLocalError\n",
    "      +-- OSError\n",
    "      |    +-- BlockingIOError\n",
    "      |    +-- ChildProcessError\n",
    "      |    +-- ConnectionError\n",
    "      |    |    +-- BrokenPipeError\n",
    "      |    |    +-- ConnectionAbortedError\n",
    "      |    |    +-- ConnectionRefusedError\n",
    "      |    |    +-- ConnectionResetError\n",
    "      |    +-- FileExistsError\n",
    "      |    +-- FileNotFoundError\n",
    "      |    +-- InterruptedError\n",
    "      |    +-- IsADirectoryError\n",
    "      |    +-- NotADirectoryError\n",
    "      |    +-- PermissionError\n",
    "      |    +-- ProcessLookupError\n",
    "      |    +-- TimeoutError\n",
    "      +-- ReferenceError\n",
    "      +-- RuntimeError\n",
    "      |    +-- NotImplementedError\n",
    "      |    +-- RecursionError\n",
    "      +-- SyntaxError\n",
    "      |    +-- IndentationError\n",
    "      |         +-- TabError\n",
    "      +-- SystemError\n",
    "      +-- TypeError\n",
    "      +-- ValueError\n",
    "      |    +-- UnicodeError\n",
    "      |         +-- UnicodeDecodeError\n",
    "      |         +-- UnicodeEncodeError\n",
    "      |         +-- UnicodeTranslateError\n",
    "      +-- Warning\n",
    "           +-- DeprecationWarning\n",
    "           +-- PendingDeprecationWarning\n",
    "           +-- RuntimeWarning\n",
    "           +-- SyntaxWarning\n",
    "           +-- UserWarning\n",
    "           +-- FutureWarning\n",
    "           +-- ImportWarning\n",
    "           +-- UnicodeWarning\n",
    "           +-- BytesWarning\n",
    "           +-- ResourceWarning\n",
    "```"
   ]
  },
  {
   "cell_type": "markdown",
   "metadata": {
    "slideshow": {
     "slide_type": "subslide"
    }
   },
   "source": [
    "## Raising exceptions"
   ]
  },
  {
   "cell_type": "markdown",
   "metadata": {
    "slideshow": {
     "slide_type": "fragment"
    }
   },
   "source": [
    "```python\n",
    "raise Exceptionclass, message #(py2)\n",
    "raise Exceptionclass(message) #(py3)\n",
    "assert boolean_expression, message\n",
    "```"
   ]
  },
  {
   "cell_type": "markdown",
   "metadata": {
    "slideshow": {
     "slide_type": "subslide"
    }
   },
   "source": [
    "## traceback\n",
    "the traceback module allows provides functions for the display and formatting f error\n",
    "messages."
   ]
  },
  {
   "cell_type": "code",
   "execution_count": 204,
   "metadata": {
    "slideshow": {
     "slide_type": "fragment"
    }
   },
   "outputs": [],
   "source": [
    "import traceback as tb"
   ]
  },
  {
   "cell_type": "markdown",
   "metadata": {
    "slideshow": {
     "slide_type": "subslide"
    }
   },
   "source": [
    "## traceback\n",
    "- tb.**print_exception(etype, value, tb, limit=none, file=none)**\n",
    "print exception up to 'limit' stack trace entries from 'tb' to 'file'.\n",
    "\n",
    "- tb.**print_exc(limit=none, file=none)**\n",
    "shorthand for 'print_exception(sys.exc_type, sys.exc_value, sys.exc_traceback, limit, file)'.\n",
    "\n",
    "- tb.**format_exc(limit=none)**\n",
    "like print_exc() but return a string."
   ]
  },
  {
   "cell_type": "markdown",
   "metadata": {
    "slideshow": {
     "slide_type": "subslide"
    }
   },
   "source": [
    "## logging\n",
    "Often the best way to track errors and debug your program is by using a log file.  The logging module can be used both procedurally and in an object oriented fasion."
   ]
  },
  {
   "cell_type": "code",
   "execution_count": 205,
   "metadata": {
    "slideshow": {
     "slide_type": "fragment"
    }
   },
   "outputs": [],
   "source": [
    "import logging as log"
   ]
  },
  {
   "cell_type": "markdown",
   "metadata": {
    "slideshow": {
     "slide_type": "subslide"
    }
   },
   "source": [
    "Setup logging with\n",
    "- **basicconfig**(*format*, *filename*, *loglevel*)\n",
    "\n",
    "Use a convenience method to log a message.\n",
    "- **debug**(*message*) ->debug,message)\n",
    "- **warn**(*message*)\n",
    "- **error**(*message*)\n",
    "\n",
    "\n",
    "```python\n",
    "except:\n",
    "    print(\"other error\")\n",
    "    #log.error(\"some other exception occured\")\n",
    "    #log.error(tb.format_exc())\n",
    "    log.exception(\"some other exception occured\")  # replaces the two lines above\n",
    "```\n",
    "\n",
    "\n",
    "\n",
    "---"
   ]
  },
  {
   "cell_type": "code",
   "execution_count": 206,
   "metadata": {},
   "outputs": [
    {
     "name": "stderr",
     "output_type": "stream",
     "text": [
      "WARNING:root:This is a warning\n"
     ]
    }
   ],
   "source": [
    "log.warning('This is a warning')"
   ]
  },
  {
   "cell_type": "code",
   "execution_count": 207,
   "metadata": {},
   "outputs": [
    {
     "name": "stderr",
     "output_type": "stream",
     "text": [
      "ERROR:root:This is an error\n"
     ]
    }
   ],
   "source": [
    "log.error('This is an error')"
   ]
  },
  {
   "cell_type": "markdown",
   "metadata": {},
   "source": [
    "### Configuration\n",
    "Initially logging can be configures with the `basicConfig` function."
   ]
  },
  {
   "cell_type": "code",
   "execution_count": 208,
   "metadata": {},
   "outputs": [
    {
     "name": "stdout",
     "output_type": "stream",
     "text": [
      "Help on function basicConfig in module logging:\n",
      "\n",
      "basicConfig(**kwargs)\n",
      "    Do basic configuration for the logging system.\n",
      "    \n",
      "    This function does nothing if the root logger already has handlers\n",
      "    configured. It is a convenience method intended for use by simple scripts\n",
      "    to do one-shot configuration of the logging package.\n",
      "    \n",
      "    The default behaviour is to create a StreamHandler which writes to\n",
      "    sys.stderr, set a formatter using the BASIC_FORMAT format string, and\n",
      "    add the handler to the root logger.\n",
      "    \n",
      "    A number of optional keyword arguments may be specified, which can alter\n",
      "    the default behaviour.\n",
      "    \n",
      "    filename  Specifies that a FileHandler be created, using the specified\n",
      "              filename, rather than a StreamHandler.\n",
      "    filemode  Specifies the mode to open the file, if filename is specified\n",
      "              (if filemode is unspecified, it defaults to 'a').\n",
      "    format    Use the specified format string for the handler.\n",
      "    datefmt   Use the specified date/time format.\n",
      "    style     If a format string is specified, use this to specify the\n",
      "              type of format string (possible values '%', '{', '$', for\n",
      "              %-formatting, :meth:`str.format` and :class:`string.Template`\n",
      "              - defaults to '%').\n",
      "    level     Set the root logger level to the specified level.\n",
      "    stream    Use the specified stream to initialize the StreamHandler. Note\n",
      "              that this argument is incompatible with 'filename' - if both\n",
      "              are present, 'stream' is ignored.\n",
      "    handlers  If specified, this should be an iterable of already created\n",
      "              handlers, which will be added to the root handler. Any handler\n",
      "              in the list which does not have a formatter assigned will be\n",
      "              assigned the formatter created in this function.\n",
      "    \n",
      "    Note that you could specify a stream created using open(filename, mode)\n",
      "    rather than passing the filename and mode in. However, it should be\n",
      "    remembered that StreamHandler does not close its stream (since it may be\n",
      "    using sys.stdout or sys.stderr), whereas FileHandler closes its stream\n",
      "    when the handler is closed.\n",
      "    \n",
      "    .. versionchanged:: 3.2\n",
      "       Added the ``style`` parameter.\n",
      "    \n",
      "    .. versionchanged:: 3.3\n",
      "       Added the ``handlers`` parameter. A ``ValueError`` is now thrown for\n",
      "       incompatible arguments (e.g. ``handlers`` specified together with\n",
      "       ``filename``/``filemode``, or ``filename``/``filemode`` specified\n",
      "       together with ``stream``, or ``handlers`` specified together with\n",
      "       ``stream``.\n",
      "\n"
     ]
    }
   ],
   "source": [
    "help(log.basicConfig)"
   ]
  },
  {
   "cell_type": "markdown",
   "metadata": {},
   "source": [
    "### Formating a log"
   ]
  },
  {
   "cell_type": "code",
   "execution_count": 209,
   "metadata": {},
   "outputs": [
    {
     "name": "stdout",
     "output_type": "stream",
     "text": [
      "\n",
      "    Formatter instances are used to convert a LogRecord to text.\n",
      "\n",
      "    Formatters need to know how a LogRecord is constructed. They are\n",
      "    responsible for converting a LogRecord to (usually) a string which can\n",
      "    be interpreted by either a human or an external system. The base Formatter\n",
      "    allows a formatting string to be specified. If none is supplied, the\n",
      "    the style-dependent default value, \"%(message)s\", \"{message}\", or\n",
      "    \"${message}\", is used.\n",
      "\n",
      "    The Formatter can be initialized with a format string which makes use of\n",
      "    knowledge of the LogRecord attributes - e.g. the default value mentioned\n",
      "    above makes use of the fact that the user's message and arguments are pre-\n",
      "    formatted into a LogRecord's message attribute. Currently, the useful\n",
      "    attributes in a LogRecord are described by:\n",
      "\n",
      "    %(name)s            Name of the logger (logging channel)\n",
      "    %(levelno)s         Numeric logging level for the message (DEBUG, INFO,\n",
      "                        WARNING, ERROR, CRITICAL)\n",
      "    %(levelname)s       Text logging level for the message (\"DEBUG\", \"INFO\",\n",
      "                        \"WARNING\", \"ERROR\", \"CRITICAL\")\n",
      "    %(pathname)s        Full pathname of the source file where the logging\n",
      "                        call was issued (if available)\n",
      "    %(filename)s        Filename portion of pathname\n",
      "    %(module)s          Module (name portion of filename)\n",
      "    %(lineno)d          Source line number where the logging call was issued\n",
      "                        (if available)\n",
      "    %(funcName)s        Function name\n",
      "    %(created)f         Time when the LogRecord was created (time.time()\n",
      "                        return value)\n",
      "    %(asctime)s         Textual time when the LogRecord was created\n",
      "    %(msecs)d           Millisecond portion of the creation time\n",
      "    %(relativeCreated)d Time in milliseconds when the LogRecord was created,\n",
      "                        relative to the time the logging module was loaded\n",
      "                        (typically at application startup time)\n",
      "    %(thread)d          Thread ID (if available)\n",
      "    %(threadName)s      Thread name (if available)\n",
      "    %(process)d         Process ID (if available)\n",
      "    %(message)s         The result of record.getMessage(), computed just as\n",
      "                        the record is emitted\n",
      "    \n"
     ]
    }
   ],
   "source": [
    "print(log.Formatter.__doc__)"
   ]
  },
  {
   "cell_type": "markdown",
   "metadata": {},
   "source": [
    "```python\n",
    "help(log)\n",
    "\n",
    "...\n",
    "\n",
    "DATA\n",
    "    BASIC_FORMAT = '%(levelname)s:%(name)s:%(message)s'\n",
    "    CRITICAL = 50\n",
    "    DEBUG = 10\n",
    "    ERROR = 40\n",
    "    FATAL = 50\n",
    "    INFO = 20\n",
    "    NOTSET = 0\n",
    "    WARN = 30\n",
    "    WARNING = 30\n",
    "```"
   ]
  },
  {
   "cell_type": "markdown",
   "metadata": {},
   "source": [
    "Adding a time filed to the log message."
   ]
  },
  {
   "cell_type": "code",
   "execution_count": 210,
   "metadata": {},
   "outputs": [
    {
     "data": {
      "text/plain": [
       "'%(asctime)s:%(levelname)s:%(name)s:%(message)s'"
      ]
     },
     "execution_count": 210,
     "metadata": {},
     "output_type": "execute_result"
    }
   ],
   "source": [
    "FORMAT = '%(asctime)s:' + log.BASIC_FORMAT\n",
    "FORMAT"
   ]
  },
  {
   "cell_type": "code",
   "execution_count": 211,
   "metadata": {},
   "outputs": [],
   "source": [
    "log.basicConfig(filename='my.log', level=log.DEBUG, format=FORMAT)"
   ]
  },
  {
   "cell_type": "markdown",
   "metadata": {},
   "source": [
    "Only one instance of log can write to a log file, hence getlogger."
   ]
  },
  {
   "cell_type": "code",
   "execution_count": 212,
   "metadata": {},
   "outputs": [],
   "source": [
    "import logging\n",
    "logger = logging.getLogger(__name__)"
   ]
  },
  {
   "cell_type": "markdown",
   "metadata": {
    "slideshow": {
     "slide_type": "subslide"
    }
   },
   "source": [
    "# object special methods\n",
    "- Inherited from the `object` class\n",
    "- Known as dunder due to the double under scores in their names"
   ]
  },
  {
   "cell_type": "code",
   "execution_count": 213,
   "metadata": {
    "slideshow": {
     "slide_type": "subslide"
    }
   },
   "outputs": [
    {
     "data": {
      "text/plain": [
       "['__class__',\n",
       " '__delattr__',\n",
       " '__dict__',\n",
       " '__dir__',\n",
       " '__doc__',\n",
       " '__eq__',\n",
       " '__format__',\n",
       " '__ge__',\n",
       " '__getattribute__',\n",
       " '__gt__',\n",
       " '__hash__',\n",
       " '__init__',\n",
       " '__init_subclass__',\n",
       " '__le__',\n",
       " '__lt__',\n",
       " '__module__',\n",
       " '__ne__',\n",
       " '__new__',\n",
       " '__reduce__',\n",
       " '__reduce_ex__',\n",
       " '__repr__',\n",
       " '__setattr__',\n",
       " '__sizeof__',\n",
       " '__str__',\n",
       " '__subclasshook__',\n",
       " '__weakref__']"
      ]
     },
     "execution_count": 213,
     "metadata": {},
     "output_type": "execute_result"
    }
   ],
   "source": [
    "class c(object): pass\n",
    "\n",
    "c = c()\n",
    "dir(c)"
   ]
  },
  {
   "cell_type": "markdown",
   "metadata": {
    "slideshow": {
     "slide_type": "subslide"
    }
   },
   "source": [
    "### object special attributes\n",
    "- **`__class__`**   the class used to construct the object\n",
    "- **`__module__`** the name of the module the function was defined in, or none if unavailable.\n",
    "- **`__doc__`** docstring"
   ]
  },
  {
   "cell_type": "markdown",
   "metadata": {
    "slideshow": {
     "slide_type": "subslide"
    }
   },
   "source": [
    "### object special attributes\n",
    "- **`__hash__`** method returning a hash of the object, most immutable object are hashable, set members and dict keys **must** be hashable.\n",
    "- **`__format__`** method used to create formatted str. \n",
    "- **`__dict__`** dictionary of instance variables\n",
    "- **`__slots__`** Iterable of instance attribute names.  If defined eliminates need for `__dict__` and makes possible attribute fixed. Reduces the memory footprint per instance."
   ]
  },
  {
   "cell_type": "markdown",
   "metadata": {
    "slideshow": {
     "slide_type": "subslide"
    }
   },
   "source": [
    "**Slot Example**"
   ]
  },
  {
   "cell_type": "code",
   "execution_count": 214,
   "metadata": {
    "slideshow": {
     "slide_type": "fragment"
    }
   },
   "outputs": [
    {
     "ename": "AttributeError",
     "evalue": "a",
     "output_type": "error",
     "traceback": [
      "\u001b[0;31m---------------------------------------------------------------------------\u001b[0m",
      "\u001b[0;31mAttributeError\u001b[0m                            Traceback (most recent call last)",
      "\u001b[0;32m<ipython-input-214-c9e4f7d6b78f>\u001b[0m in \u001b[0;36m<module>\u001b[0;34m\u001b[0m\n\u001b[1;32m      4\u001b[0m \u001b[0;34m\u001b[0m\u001b[0m\n\u001b[1;32m      5\u001b[0m \u001b[0mc\u001b[0m \u001b[0;34m=\u001b[0m \u001b[0mTestSlot\u001b[0m\u001b[0;34m(\u001b[0m\u001b[0;34m)\u001b[0m\u001b[0;34m\u001b[0m\u001b[0;34m\u001b[0m\u001b[0m\n\u001b[0;32m----> 6\u001b[0;31m \u001b[0mc\u001b[0m\u001b[0;34m.\u001b[0m\u001b[0ma\u001b[0m\u001b[0;34m\u001b[0m\u001b[0;34m\u001b[0m\u001b[0m\n\u001b[0m",
      "\u001b[0;31mAttributeError\u001b[0m: a"
     ]
    }
   ],
   "source": [
    "class TestSlot(object):\n",
    "    __slots__ = ['a','b','c']\n",
    "\n",
    "\n",
    "c = TestSlot()\n",
    "c.a"
   ]
  },
  {
   "cell_type": "code",
   "execution_count": 215,
   "metadata": {
    "slideshow": {
     "slide_type": "subslide"
    }
   },
   "outputs": [
    {
     "ename": "AttributeError",
     "evalue": "'TestSlot' object has no attribute 'd'",
     "output_type": "error",
     "traceback": [
      "\u001b[0;31m---------------------------------------------------------------------------\u001b[0m",
      "\u001b[0;31mAttributeError\u001b[0m                            Traceback (most recent call last)",
      "\u001b[0;32m<ipython-input-215-198902109f2d>\u001b[0m in \u001b[0;36m<module>\u001b[0;34m\u001b[0m\n\u001b[1;32m      2\u001b[0m \u001b[0mc\u001b[0m\u001b[0;34m.\u001b[0m\u001b[0mb\u001b[0m \u001b[0;34m=\u001b[0m\u001b[0;36m2\u001b[0m\u001b[0;34m\u001b[0m\u001b[0;34m\u001b[0m\u001b[0m\n\u001b[1;32m      3\u001b[0m \u001b[0mc\u001b[0m\u001b[0;34m.\u001b[0m\u001b[0mc\u001b[0m \u001b[0;34m=\u001b[0m\u001b[0;36m2\u001b[0m\u001b[0;34m\u001b[0m\u001b[0;34m\u001b[0m\u001b[0m\n\u001b[0;32m----> 4\u001b[0;31m \u001b[0mc\u001b[0m\u001b[0;34m.\u001b[0m\u001b[0md\u001b[0m \u001b[0;34m=\u001b[0m\u001b[0;36m2\u001b[0m\u001b[0;34m\u001b[0m\u001b[0;34m\u001b[0m\u001b[0m\n\u001b[0m",
      "\u001b[0;31mAttributeError\u001b[0m: 'TestSlot' object has no attribute 'd'"
     ]
    }
   ],
   "source": [
    "c.a =1\n",
    "c.b =2\n",
    "c.c =2\n",
    "c.d =2"
   ]
  },
  {
   "cell_type": "code",
   "execution_count": 216,
   "metadata": {
    "slideshow": {
     "slide_type": "subslide"
    }
   },
   "outputs": [
    {
     "ename": "AttributeError",
     "evalue": "'TestSlot' object has no attribute '__dict__'",
     "output_type": "error",
     "traceback": [
      "\u001b[0;31m---------------------------------------------------------------------------\u001b[0m",
      "\u001b[0;31mAttributeError\u001b[0m                            Traceback (most recent call last)",
      "\u001b[0;32m<ipython-input-216-dac4a86e0bb3>\u001b[0m in \u001b[0;36m<module>\u001b[0;34m\u001b[0m\n\u001b[0;32m----> 1\u001b[0;31m \u001b[0mc\u001b[0m\u001b[0;34m.\u001b[0m\u001b[0m__dict__\u001b[0m\u001b[0;34m\u001b[0m\u001b[0;34m\u001b[0m\u001b[0m\n\u001b[0m",
      "\u001b[0;31mAttributeError\u001b[0m: 'TestSlot' object has no attribute '__dict__'"
     ]
    }
   ],
   "source": [
    "c.__dict__"
   ]
  },
  {
   "cell_type": "markdown",
   "metadata": {
    "slideshow": {
     "slide_type": "subslide"
    }
   },
   "source": [
    "### interceptors \n",
    "![interceptors](images/tie-interceptor.jpg)\n",
    "\n",
    "- **`__setattr__`** method intercepts attempt to set an attribute e.g. `o.x = 10`\n",
    "- **`__getattribute__`** method intercepts an attempt to get an attribute e.g. `print o.x` \n",
    "- **`__getattr__`** called if no attribute found in class. this method is not inherited from *object*\n",
    "- **`__delattr__`** intercepts `del o.attribute`. "
   ]
  },
  {
   "cell_type": "markdown",
   "metadata": {
    "slideshow": {
     "slide_type": "subslide"
    }
   },
   "source": [
    "### object special attributes\n",
    "- **`__weakref__`**\n",
    "stores a weak reference to the object if one exists.  weak references do not prevent garbage collection. \n",
    "that is an object is destroyed when the \"strong\" reference count reaches 0.\n",
    "weak references are created using the weakref module. "
   ]
  },
  {
   "cell_type": "markdown",
   "metadata": {
    "slideshow": {
     "slide_type": "subslide"
    }
   },
   "source": [
    "### object creation and deletion\n",
    "- **`__new__`** called when object created, used in *metaclasses*\n",
    "- **`__init__`** called after object created, but before it is returned.\n",
    "- **`__del__`** destructor, called when reference count is 0. *object* does not define a destructor.\n",
    "- **`__subclasshook__`** determine if class is a subclass of a given class."
   ]
  },
  {
   "cell_type": "markdown",
   "metadata": {
    "slideshow": {
     "slide_type": "subslide"
    }
   },
   "source": [
    "### object special attributes\n",
    "- **`__str__`**  \"to string\" method, produces a string i.e.  called by *str()*\n",
    "- **`__repr__`** a string representation, that can be used as a literal to create *o*."
   ]
  },
  {
   "cell_type": "code",
   "execution_count": 217,
   "metadata": {
    "slideshow": {
     "slide_type": "fragment"
    }
   },
   "outputs": [
    {
     "data": {
      "text/plain": [
       "'hello'"
      ]
     },
     "execution_count": 217,
     "metadata": {},
     "output_type": "execute_result"
    }
   ],
   "source": [
    "s = 'hello'\n",
    "s.__str__()"
   ]
  },
  {
   "cell_type": "code",
   "execution_count": 219,
   "metadata": {},
   "outputs": [
    {
     "data": {
      "text/plain": [
       "'hello'"
      ]
     },
     "execution_count": 219,
     "metadata": {},
     "output_type": "execute_result"
    }
   ],
   "source": [
    "str(s)"
   ]
  },
  {
   "cell_type": "code",
   "execution_count": 218,
   "metadata": {
    "slideshow": {
     "slide_type": "fragment"
    }
   },
   "outputs": [
    {
     "data": {
      "text/plain": [
       "\"'hello'\""
      ]
     },
     "execution_count": 218,
     "metadata": {},
     "output_type": "execute_result"
    }
   ],
   "source": [
    "s.__repr__()"
   ]
  },
  {
   "cell_type": "code",
   "execution_count": 220,
   "metadata": {},
   "outputs": [
    {
     "data": {
      "text/plain": [
       "\"'hello'\""
      ]
     },
     "execution_count": 220,
     "metadata": {},
     "output_type": "execute_result"
    }
   ],
   "source": [
    "repr(s)"
   ]
  },
  {
   "cell_type": "markdown",
   "metadata": {
    "slideshow": {
     "slide_type": "subslide"
    }
   },
   "source": [
    "### Operator overriding\n",
    "- **`__add__`** Overide the `+` operator, that is `a.__add__(b)` is called when `a + b` is executed. \n",
    "- **`__sub__`** Overide the `-` operator\n",
    "- **`__mull__`** Overide the `*` operator\n",
    "- **`__div__`** Overide the `/` operator.\n",
    "- **`__iadd__`** Overide the `+=` operator, that is `a.__iadd__(b)` is called when `a += b` is executed. \n"
   ]
  },
  {
   "cell_type": "markdown",
   "metadata": {
    "slideshow": {
     "slide_type": "subslide"
    }
   },
   "source": [
    "## Descriptors\n",
    "\n",
    "A descriptor is an object which implements the following methods:"
   ]
  },
  {
   "cell_type": "markdown",
   "metadata": {
    "slideshow": {
     "slide_type": "fragment"
    }
   },
   "source": [
    "- **`__get__`**(*`self, object[, type]`*) "
   ]
  },
  {
   "cell_type": "markdown",
   "metadata": {
    "slideshow": {
     "slide_type": "notes"
    }
   },
   "source": [
    "Intercepts an attempt to access the value of field. That is, if an an object *o* belongs to a class with a descriptor field called *field*, whose class is Desc, is accessed as follows:\n",
    "  - `print o.field`  ... becomes ...\n",
    "  - `print Desc.__get__(field, o)`"
   ]
  },
  {
   "cell_type": "markdown",
   "metadata": {
    "slideshow": {
     "slide_type": "fragment"
    }
   },
   "source": [
    "- **`__set__`**(*`self, value`*)"
   ]
  },
  {
   "cell_type": "markdown",
   "metadata": {
    "slideshow": {
     "slide_type": "notes"
    }
   },
   "source": [
    "Intercepts an attempt to set the value of field. That is, if an an object *o* belongs to a class with a descriptor field called *field* is set as follows:\n",
    "  - `o.field = 10` ... becomes ...\n",
    "  - `print Desc.__set__(field, o, 10) `"
   ]
  },
  {
   "cell_type": "markdown",
   "metadata": {
    "slideshow": {
     "slide_type": "fragment"
    }
   },
   "source": [
    "- **`__delete__`**(*`self, object`*)"
   ]
  },
  {
   "cell_type": "markdown",
   "metadata": {
    "slideshow": {
     "slide_type": "notes"
    }
   },
   "source": [
    "Intercepts an attempt to delete a field. \n",
    "-  `del(o.field)`  becomes ...\n",
    "- `Desc.__del__(field, o)`"
   ]
  },
  {
   "cell_type": "markdown",
   "metadata": {
    "slideshow": {
     "slide_type": "subslide"
    }
   },
   "source": [
    "From\n",
    "[python-descriptors-made-simple](https://www.smallsurething.com/python-descriptors-made-simple/)"
   ]
  },
  {
   "cell_type": "code",
   "execution_count": 221,
   "metadata": {
    "slideshow": {
     "slide_type": "subslide"
    }
   },
   "outputs": [],
   "source": [
    "# Price is the class for the descriptor\n",
    "from weakref import WeakKeyDictionary\n",
    "\n",
    "class Price(object):\n",
    "    def __init__(self):\n",
    "        self.default = 0\n",
    "        self.values = WeakKeyDictionary()\n",
    "\n",
    "    def __get__(self, instance, owner):\n",
    "        return self.values.get(instance, self.default)\n",
    "\n",
    "    def __set__(self, instance, value):\n",
    "        if value < 0 or value > 100:\n",
    "            raise ValueError(\"Price must be between 0 and 100.\")\n",
    "        self.values[instance] = value\n",
    "\n",
    "    def __delete__(self, instance):\n",
    "        del self.values[instance]"
   ]
  },
  {
   "cell_type": "code",
   "execution_count": 222,
   "metadata": {
    "slideshow": {
     "slide_type": "fragment"
    }
   },
   "outputs": [],
   "source": [
    "class Book(object):\n",
    "    price = Price() #Descriptor\n",
    "\n",
    "    def __init__(self, author, title, price):\n",
    "        self.author = author\n",
    "        self.title = title\n",
    "        self.price = price\n",
    "\n",
    "    def __str__(self):\n",
    "        return \"{0} - {1}\".format(self.author, self.title)\n",
    "    \n",
    "    def __repr__(self):\n",
    "        return \"Book('{0}', '{1}', {2})\".format(self.author, self.title, self.price)"
   ]
  },
  {
   "cell_type": "code",
   "execution_count": 223,
   "metadata": {},
   "outputs": [
    {
     "data": {
      "text/plain": [
       "Book('fred', 'fred's book', 10)"
      ]
     },
     "execution_count": 223,
     "metadata": {},
     "output_type": "execute_result"
    }
   ],
   "source": [
    "book = Book('fred', \"fred's book\", 10)\n",
    "book"
   ]
  },
  {
   "cell_type": "code",
   "execution_count": 224,
   "metadata": {},
   "outputs": [
    {
     "ename": "ValueError",
     "evalue": "Price must be between 0 and 100.",
     "output_type": "error",
     "traceback": [
      "\u001b[0;31m---------------------------------------------------------------------------\u001b[0m",
      "\u001b[0;31mValueError\u001b[0m                                Traceback (most recent call last)",
      "\u001b[0;32m<ipython-input-224-dc0fabf7e0cb>\u001b[0m in \u001b[0;36m<module>\u001b[0;34m\u001b[0m\n\u001b[0;32m----> 1\u001b[0;31m \u001b[0mbook\u001b[0m\u001b[0;34m.\u001b[0m\u001b[0mprice\u001b[0m \u001b[0;34m=\u001b[0m \u001b[0;36m150\u001b[0m\u001b[0;34m\u001b[0m\u001b[0;34m\u001b[0m\u001b[0m\n\u001b[0m",
      "\u001b[0;32m<ipython-input-221-108f010d8ce2>\u001b[0m in \u001b[0;36m__set__\u001b[0;34m(self, instance, value)\u001b[0m\n\u001b[1;32m     12\u001b[0m     \u001b[0;32mdef\u001b[0m \u001b[0m__set__\u001b[0m\u001b[0;34m(\u001b[0m\u001b[0mself\u001b[0m\u001b[0;34m,\u001b[0m \u001b[0minstance\u001b[0m\u001b[0;34m,\u001b[0m \u001b[0mvalue\u001b[0m\u001b[0;34m)\u001b[0m\u001b[0;34m:\u001b[0m\u001b[0;34m\u001b[0m\u001b[0;34m\u001b[0m\u001b[0m\n\u001b[1;32m     13\u001b[0m         \u001b[0;32mif\u001b[0m \u001b[0mvalue\u001b[0m \u001b[0;34m<\u001b[0m \u001b[0;36m0\u001b[0m \u001b[0;32mor\u001b[0m \u001b[0mvalue\u001b[0m \u001b[0;34m>\u001b[0m \u001b[0;36m100\u001b[0m\u001b[0;34m:\u001b[0m\u001b[0;34m\u001b[0m\u001b[0;34m\u001b[0m\u001b[0m\n\u001b[0;32m---> 14\u001b[0;31m             \u001b[0;32mraise\u001b[0m \u001b[0mValueError\u001b[0m\u001b[0;34m(\u001b[0m\u001b[0;34m\"Price must be between 0 and 100.\"\u001b[0m\u001b[0;34m)\u001b[0m\u001b[0;34m\u001b[0m\u001b[0;34m\u001b[0m\u001b[0m\n\u001b[0m\u001b[1;32m     15\u001b[0m         \u001b[0mself\u001b[0m\u001b[0;34m.\u001b[0m\u001b[0mvalues\u001b[0m\u001b[0;34m[\u001b[0m\u001b[0minstance\u001b[0m\u001b[0;34m]\u001b[0m \u001b[0;34m=\u001b[0m \u001b[0mvalue\u001b[0m\u001b[0;34m\u001b[0m\u001b[0;34m\u001b[0m\u001b[0m\n\u001b[1;32m     16\u001b[0m \u001b[0;34m\u001b[0m\u001b[0m\n",
      "\u001b[0;31mValueError\u001b[0m: Price must be between 0 and 100."
     ]
    }
   ],
   "source": [
    "book.price = 150"
   ]
  },
  {
   "cell_type": "markdown",
   "metadata": {
    "slideshow": {
     "slide_type": "slide"
    }
   },
   "source": [
    "# Decorators\n",
    "- @decorator\n",
    "- Wraps function"
   ]
  },
  {
   "cell_type": "markdown",
   "metadata": {
    "slideshow": {
     "slide_type": "subslide"
    }
   },
   "source": [
    "## Closure"
   ]
  },
  {
   "cell_type": "code",
   "execution_count": 225,
   "metadata": {
    "slideshow": {
     "slide_type": "fragment"
    }
   },
   "outputs": [],
   "source": [
    "def make_double(fn):\n",
    "    def inner(*args,**kwargs):\n",
    "        return 2*fn(*args,**kwargs)\n",
    "    return inner"
   ]
  },
  {
   "cell_type": "markdown",
   "metadata": {
    "slideshow": {
     "slide_type": "subslide"
    }
   },
   "source": [
    "- Function factory: accepts and returns a function\n",
    "- outer function args are available to inner\n",
    "- once *inner* returned, value of *fn* is fixed "
   ]
  },
  {
   "cell_type": "markdown",
   "metadata": {
    "slideshow": {
     "slide_type": "subslide"
    }
   },
   "source": [
    "## Applying closure"
   ]
  },
  {
   "cell_type": "code",
   "execution_count": 226,
   "metadata": {
    "slideshow": {
     "slide_type": "fragment"
    }
   },
   "outputs": [],
   "source": [
    "def square(x):\n",
    "    return x**2\n",
    "\n",
    "orig = square\n",
    "square = make_double(square)"
   ]
  },
  {
   "cell_type": "markdown",
   "metadata": {
    "slideshow": {
     "slide_type": "fragment"
    }
   },
   "source": [
    "- Using square"
   ]
  },
  {
   "cell_type": "code",
   "execution_count": 227,
   "metadata": {
    "slideshow": {
     "slide_type": "fragment"
    }
   },
   "outputs": [
    {
     "name": "stdout",
     "output_type": "stream",
     "text": [
      "18 9\n"
     ]
    }
   ],
   "source": [
    "print(square(3), orig(3))"
   ]
  },
  {
   "cell_type": "code",
   "execution_count": 228,
   "metadata": {},
   "outputs": [
    {
     "name": "stdout",
     "output_type": "stream",
     "text": [
      "<function make_double.<locals>.inner at 0x10ccfdea0>\n"
     ]
    }
   ],
   "source": [
    "print(square)"
   ]
  },
  {
   "cell_type": "markdown",
   "metadata": {
    "slideshow": {
     "slide_type": "subslide"
    }
   },
   "source": [
    "## Decorator Equivalent"
   ]
  },
  {
   "cell_type": "code",
   "execution_count": 229,
   "metadata": {
    "slideshow": {
     "slide_type": "fragment"
    }
   },
   "outputs": [],
   "source": [
    "@make_double\n",
    "def square(x):\n",
    "     return x**2"
   ]
  },
  {
   "cell_type": "code",
   "execution_count": 230,
   "metadata": {},
   "outputs": [
    {
     "name": "stdout",
     "output_type": "stream",
     "text": [
      "<function make_double.<locals>.inner at 0x10d373d90>\n"
     ]
    }
   ],
   "source": [
    "print(square)"
   ]
  },
  {
   "cell_type": "markdown",
   "metadata": {
    "slideshow": {
     "slide_type": "subslide"
    }
   },
   "source": [
    "## Decorators with args\n",
    "- To create a decorator that can take args\n",
    "- Create an outer function that takes the args"
   ]
  },
  {
   "cell_type": "markdown",
   "metadata": {
    "slideshow": {
     "slide_type": "subslide"
    }
   },
   "source": [
    "### Decorator Example"
   ]
  },
  {
   "cell_type": "code",
   "execution_count": 231,
   "metadata": {
    "slideshow": {
     "slide_type": "fragment"
    }
   },
   "outputs": [],
   "source": [
    "def make_x(factor):\n",
    "    def real_make_x(fn):\n",
    "        def inner(*args,**kwargs):\n",
    "            return factor*fn(*args,**kwargs)\n",
    "        return inner\n",
    "    return real_make_x"
   ]
  },
  {
   "cell_type": "code",
   "execution_count": 232,
   "metadata": {
    "slideshow": {
     "slide_type": "subslide"
    }
   },
   "outputs": [
    {
     "data": {
      "text/plain": [
       "12"
      ]
     },
     "execution_count": 232,
     "metadata": {},
     "output_type": "execute_result"
    }
   ],
   "source": [
    "@make_x(3)\n",
    "def square(x):\n",
    "    '''Retunns x**2\n",
    "    >>> square(2)\n",
    "    4\n",
    "    '''\n",
    "    return x**2\n",
    "\n",
    "square(2) # 3 * 2**2"
   ]
  },
  {
   "cell_type": "markdown",
   "metadata": {
    "slideshow": {
     "slide_type": "subslide"
    }
   },
   "source": [
    "### Problem with Decorator Example\n",
    "- `square.__doc__`\n",
    "   Removed\n",
    "- `square.__name__`\n",
    "   inner\n",
    "- **functools wraps** to the rescue "
   ]
  },
  {
   "cell_type": "code",
   "execution_count": 233,
   "metadata": {},
   "outputs": [],
   "source": [
    "square.__doc__"
   ]
  },
  {
   "cell_type": "code",
   "execution_count": 234,
   "metadata": {},
   "outputs": [
    {
     "data": {
      "text/plain": [
       "'inner'"
      ]
     },
     "execution_count": 234,
     "metadata": {},
     "output_type": "execute_result"
    }
   ],
   "source": [
    "square.__name__"
   ]
  },
  {
   "cell_type": "code",
   "execution_count": 235,
   "metadata": {},
   "outputs": [
    {
     "data": {
      "text/plain": [
       "'square'"
      ]
     },
     "execution_count": 235,
     "metadata": {},
     "output_type": "execute_result"
    }
   ],
   "source": [
    "orig.__name__"
   ]
  },
  {
   "cell_type": "markdown",
   "metadata": {
    "slideshow": {
     "slide_type": "subslide"
    }
   },
   "source": [
    "**Example**"
   ]
  },
  {
   "cell_type": "code",
   "execution_count": 236,
   "metadata": {
    "slideshow": {
     "slide_type": "fragment"
    }
   },
   "outputs": [],
   "source": [
    "from functools import wraps\n",
    "def make_double(fn):\n",
    "    @wraps(fn)\n",
    "    def inner(*args,**kwargs):\n",
    "        return 2*fn(*args,**kwargs)\n",
    "    return inner"
   ]
  },
  {
   "cell_type": "code",
   "execution_count": 237,
   "metadata": {
    "slideshow": {
     "slide_type": "fragment"
    }
   },
   "outputs": [],
   "source": [
    "@make_double\n",
    "def square(x):\n",
    "    'returns the square of x'\n",
    "    return x**2"
   ]
  },
  {
   "cell_type": "code",
   "execution_count": 238,
   "metadata": {
    "slideshow": {
     "slide_type": "subslide"
    }
   },
   "outputs": [
    {
     "data": {
      "text/plain": [
       "'returns the square of x'"
      ]
     },
     "execution_count": 238,
     "metadata": {},
     "output_type": "execute_result"
    }
   ],
   "source": [
    "square.__doc__"
   ]
  },
  {
   "cell_type": "code",
   "execution_count": 239,
   "metadata": {
    "slideshow": {
     "slide_type": "fragment"
    }
   },
   "outputs": [
    {
     "data": {
      "text/plain": [
       "<function __main__.square(x)>"
      ]
     },
     "execution_count": 239,
     "metadata": {},
     "output_type": "execute_result"
    }
   ],
   "source": [
    "square"
   ]
  },
  {
   "cell_type": "code",
   "execution_count": 240,
   "metadata": {
    "slideshow": {
     "slide_type": "fragment"
    }
   },
   "outputs": [
    {
     "data": {
      "text/plain": [
       "'square'"
      ]
     },
     "execution_count": 240,
     "metadata": {},
     "output_type": "execute_result"
    }
   ],
   "source": [
    "square.__name__"
   ]
  },
  {
   "cell_type": "markdown",
   "metadata": {
    "slideshow": {
     "slide_type": "subslide"
    }
   },
   "source": [
    "**functools with args**"
   ]
  },
  {
   "cell_type": "code",
   "execution_count": 241,
   "metadata": {
    "slideshow": {
     "slide_type": "fragment"
    }
   },
   "outputs": [],
   "source": [
    "from functools import wraps, partial\n",
    "\n",
    "def make_x(factor, fn=None):\n",
    "    if not fn: \n",
    "        return partial(make_x, factor)\n",
    "    @wraps(fn)\n",
    "    def inner(*args, **kwargs):\n",
    "        return factor*fn(*args, **kwargs)\n",
    "    return inner"
   ]
  },
  {
   "cell_type": "code",
   "execution_count": 242,
   "metadata": {
    "slideshow": {
     "slide_type": "subslide"
    }
   },
   "outputs": [
    {
     "data": {
      "text/plain": [
       "12"
      ]
     },
     "execution_count": 242,
     "metadata": {},
     "output_type": "execute_result"
    }
   ],
   "source": [
    "@make_x(3)\n",
    "def square(x):\n",
    "    '''Returns the square of x\n",
    "    >>> square(2)\n",
    "    4\n",
    "    '''\n",
    "    return x**2\n",
    "\n",
    "\n",
    "square(2)"
   ]
  },
  {
   "cell_type": "code",
   "execution_count": 243,
   "metadata": {},
   "outputs": [
    {
     "name": "stdout",
     "output_type": "stream",
     "text": [
      "square Returns the square of x\n",
      "    >>> square(2)\n",
      "    4\n",
      "    \n"
     ]
    }
   ],
   "source": [
    "print(square.__name__, square.__doc__)"
   ]
  },
  {
   "cell_type": "markdown",
   "metadata": {
    "slideshow": {
     "slide_type": "subslide"
    }
   },
   "source": [
    "### Decorator Exercise\n",
    "- Create a logging decorator that\n",
    "- Logs method as you enter it\n",
    "- ... entering method x\n",
    "- do method x\n",
    "- Additional make a method timer decorator.\n",
    "\n",
    "---"
   ]
  },
  {
   "cell_type": "markdown",
   "metadata": {
    "slideshow": {
     "slide_type": "slide"
    }
   },
   "source": [
    "# Property"
   ]
  },
  {
   "cell_type": "markdown",
   "metadata": {
    "slideshow": {
     "slide_type": "fragment"
    }
   },
   "source": [
    "```python\n",
    "property(fget=None, fset=None, fdel=None, doc=None)\n",
    "```"
   ]
  },
  {
   "cell_type": "markdown",
   "metadata": {
    "slideshow": {
     "slide_type": "fragment"
    }
   },
   "source": [
    "- Executed in class body\n",
    "- Assigns getters and setters methods"
   ]
  },
  {
   "cell_type": "code",
   "execution_count": 244,
   "metadata": {
    "slideshow": {
     "slide_type": "fragment"
    }
   },
   "outputs": [
    {
     "data": {
      "text/plain": [
       "25.0"
      ]
     },
     "execution_count": 244,
     "metadata": {},
     "output_type": "execute_result"
    }
   ],
   "source": [
    "class Triangle(object):\n",
    "    def __init__(self, base, height):\n",
    "        self.base = base\n",
    "        self.height = height\n",
    "    \n",
    "    def getarea(self):\n",
    "        return 0.5 * self.base * self.height\n",
    "        \n",
    "    #area = property(fget=lambda self: self.height * self.base * 0.5)\n",
    "    area = property(fget=getarea)\n",
    "    \n",
    "tri = Triangle(5, 10)\n",
    "tri.area"
   ]
  },
  {
   "cell_type": "markdown",
   "metadata": {
    "slideshow": {
     "slide_type": "subslide"
    }
   },
   "source": [
    "## Example in Documentation"
   ]
  },
  {
   "cell_type": "code",
   "execution_count": 245,
   "metadata": {
    "slideshow": {
     "slide_type": "fragment"
    }
   },
   "outputs": [],
   "source": [
    "class C(object):\n",
    "    def __init__(self):\n",
    "        self._x = None\n",
    "\n",
    "    def getx(self):\n",
    "        return self._x\n",
    "    def setx(self, value):\n",
    "        self._x = value\n",
    "    def delx(self):\n",
    "        del self._x\n",
    "    x = property(getx, setx, delx, \"I'm the 'x' property.\")"
   ]
  },
  {
   "cell_type": "markdown",
   "metadata": {
    "slideshow": {
     "slide_type": "subslide"
    }
   },
   "source": [
    "## Original Class \n",
    "- person01.py"
   ]
  },
  {
   "cell_type": "code",
   "execution_count": 246,
   "metadata": {
    "slideshow": {
     "slide_type": "subslide"
    }
   },
   "outputs": [
    {
     "name": "stdout",
     "output_type": "stream",
     "text": [
      "Name: Fred Age: 10\n",
      "Name: sally Age: 80\n"
     ]
    }
   ],
   "source": [
    "class Person(object):\n",
    "    \n",
    "    def __init__(self,name='', age=0):\n",
    "        self.name = name\n",
    "        self.age = age \n",
    "\n",
    "def test_person(pers):\n",
    "    print('Name:',pers.name, 'Age:',pers.age)\n",
    "\n",
    "if __name__ == '__main__':\n",
    "    fred = Person('Fred',10)\n",
    "    test_person(fred)\n",
    "    test_person(Person('sally',80))"
   ]
  },
  {
   "cell_type": "markdown",
   "metadata": {
    "slideshow": {
     "slide_type": "subslide"
    }
   },
   "source": [
    "### Altering Instance Variables\n",
    "- name -> fname, surname\n",
    "- Use property to retain attribute name as\n",
    "- fname + surname"
   ]
  },
  {
   "cell_type": "markdown",
   "metadata": {
    "slideshow": {
     "slide_type": "subslide"
    }
   },
   "source": [
    "**Answer**"
   ]
  },
  {
   "cell_type": "code",
   "execution_count": 247,
   "metadata": {
    "slideshow": {
     "slide_type": "fragment"
    }
   },
   "outputs": [],
   "source": [
    "class Person(object):\n",
    "\n",
    "    def __init__(self,name, age=0):\n",
    "        self.set_name(name)\n",
    "        self.age = age \n",
    "\n",
    "    def get_name(self):\n",
    "        return self.fname + ' ' + self.surname\n",
    "\n",
    "    def set_name(self,name):\n",
    "        if ' ' in name:\n",
    "            self.fname,self.surname = name.split(' ')\n",
    "        else:\n",
    "            self.fname = name\n",
    "            self.surname = ''\n",
    "    name = property(get_name, set_name)"
   ]
  },
  {
   "cell_type": "markdown",
   "metadata": {
    "slideshow": {
     "slide_type": "subslide"
    }
   },
   "source": [
    "**Testing Answer**"
   ]
  },
  {
   "cell_type": "code",
   "execution_count": 248,
   "metadata": {
    "slideshow": {
     "slide_type": "fragment"
    }
   },
   "outputs": [
    {
     "name": "stdout",
     "output_type": "stream",
     "text": [
      "Name: Fred  Age: 10\n",
      "Name: Sally Derkins Age: 80\n",
      "Fred\n"
     ]
    }
   ],
   "source": [
    "def test_person(pers):\n",
    "    print('Name:',pers.name, 'Age:',pers.age)\n",
    "\n",
    "if __name__ == '__main__':\n",
    "    fred = Person('Fred',10)\n",
    "    test_person(fred)\n",
    "    test_person(Person('Sally Derkins',80))\n",
    "    print(fred.fname)"
   ]
  },
  {
   "cell_type": "markdown",
   "metadata": {
    "slideshow": {
     "slide_type": "subslide"
    }
   },
   "source": [
    "### Property Decorator\n",
    "- @property\n",
    "- Used to decorate getter and setter and deleter methods"
   ]
  },
  {
   "cell_type": "markdown",
   "metadata": {
    "slideshow": {
     "slide_type": "subslide"
    }
   },
   "source": [
    "### Property Decorator Example"
   ]
  },
  {
   "cell_type": "code",
   "execution_count": 249,
   "metadata": {
    "slideshow": {
     "slide_type": "fragment"
    }
   },
   "outputs": [
    {
     "name": "stdout",
     "output_type": "stream",
     "text": [
      "10\n"
     ]
    }
   ],
   "source": [
    "class C(object):\n",
    "    def __init__(self):\n",
    "        self._x = None\n",
    "\n",
    "    @property\n",
    "    def x(self):\n",
    "        \"\"\"I'm the 'x' property.\"\"\"\n",
    "        return self._x\n",
    "\n",
    "    @x.setter\n",
    "    def x(self, value):\n",
    "        assert value < 20, \"limitted to 20\"\n",
    "        self._x = value\n",
    "\n",
    "    @x.deleter\n",
    "    def x(self):\n",
    "        del self._x\n",
    "\n",
    "o = C()\n",
    "o.x = 10\n",
    "print(o.x)\n",
    "del o.x"
   ]
  },
  {
   "cell_type": "markdown",
   "metadata": {
    "slideshow": {
     "slide_type": "subslide"
    }
   },
   "source": [
    "### Property Decorator Exercise\n",
    "- Alter Person Class\n",
    "- Use decorator instead"
   ]
  },
  {
   "cell_type": "markdown",
   "metadata": {
    "slideshow": {
     "slide_type": "subslide"
    }
   },
   "source": [
    "**Answer**"
   ]
  },
  {
   "cell_type": "code",
   "execution_count": 250,
   "metadata": {
    "slideshow": {
     "slide_type": "fragment"
    }
   },
   "outputs": [],
   "source": [
    "class Person(object):\n",
    "\n",
    "    def __init__(self,_name, age=0):\n",
    "        self.name = _name\n",
    "        self.age = age\n",
    "\n",
    "    @property\n",
    "    def name(self):\n",
    "        return self.fname + ' ' + self.surname\n",
    "\n",
    "    @name.setter\n",
    "    def name(self,_name):\n",
    "        if ' ' in _name:\n",
    "            self.fname,self.surname = _name.split(' ')\n",
    "        else:\n",
    "            self.fname = _name\n",
    "            self.surname = ''"
   ]
  },
  {
   "cell_type": "markdown",
   "metadata": {
    "slideshow": {
     "slide_type": "subslide"
    }
   },
   "source": [
    "### Emulating Property Class"
   ]
  },
  {
   "cell_type": "code",
   "execution_count": 251,
   "metadata": {
    "slideshow": {
     "slide_type": "fragment"
    }
   },
   "outputs": [],
   "source": [
    "class Property(object):\n",
    "\n",
    "    def __init__(self, fget=None, fset=None, fdel=None, doc=None):\n",
    "        self.fget = fget\n",
    "        self.fset = fset\n",
    "        self.fdel = fdel\n",
    "        self.__doc__ = doc if doc else fget.__doc__"
   ]
  },
  {
   "cell_type": "markdown",
   "metadata": {
    "slideshow": {
     "slide_type": "subslide"
    }
   },
   "source": [
    "**Emulating Property Class Cont...**"
   ]
  },
  {
   "cell_type": "code",
   "execution_count": 252,
   "metadata": {
    "slideshow": {
     "slide_type": "fragment"
    }
   },
   "outputs": [],
   "source": [
    "    def __get__(self, obj, objtype=None):\n",
    "        if obj is None:\n",
    "            return self\n",
    "        if self.fget is None:\n",
    "            raise AttributeError(\"unreadable attribute\")\n",
    "        return self.fget(obj)\n",
    "\n",
    "    def __set__(self, obj, value):\n",
    "        if self.fset is None:\n",
    "            raise AttributeError(\"can't set attribute\")\n",
    "        self.fset(obj, value)\n",
    "\n",
    "    def __delete__(self, obj):\n",
    "        if self.fdel is None:\n",
    "            raise AttributeError(\"can't delete attribute\")\n",
    "        self.fdel(obj)"
   ]
  },
  {
   "cell_type": "markdown",
   "metadata": {
    "slideshow": {
     "slide_type": "subslide"
    }
   },
   "source": [
    "**Emulating Property Class Cont...**"
   ]
  },
  {
   "cell_type": "code",
   "execution_count": 253,
   "metadata": {
    "slideshow": {
     "slide_type": "fragment"
    }
   },
   "outputs": [],
   "source": [
    "def getter(self, fget):\n",
    "    return type(self)(fget, self.fset, self.fdel, self.__doc__)\n",
    "\n",
    "def setter(self, fset):\n",
    "    return type(self)(self.fget, fset, self.fdel, self.__doc__)\n",
    "\n",
    "def deleter(self, fdel):\n",
    "    return type(self)(self.fget, self.fset, fdel, self.__doc__)"
   ]
  },
  {
   "cell_type": "markdown",
   "metadata": {
    "slideshow": {
     "slide_type": "slide"
    }
   },
   "source": [
    "---\n",
    "# Meta Programming\n",
    "\n",
    "Meta programming is the practice of altering code using code. This can be done with *decorators* and *metaclasses*."
   ]
  },
  {
   "cell_type": "markdown",
   "metadata": {
    "slideshow": {
     "slide_type": "subslide"
    }
   },
   "source": [
    "## Class Decorator\n",
    "- decorators/decorate_class.py"
   ]
  },
  {
   "cell_type": "code",
   "execution_count": 254,
   "metadata": {
    "slideshow": {
     "slide_type": "fragment"
    }
   },
   "outputs": [],
   "source": [
    "from functools import wraps\n",
    "\n",
    "\n",
    "def debug(method):\n",
    "    '''Method decorator that prints debug messages'''\n",
    "    @wraps(method)\n",
    "    def inner(*args, **kwargs):\n",
    "        print('entering', method.__name__)\n",
    "        out = method(*args, **kwargs)\n",
    "        print('returns', out)\n",
    "        return out\n",
    "    return inner"
   ]
  },
  {
   "cell_type": "code",
   "execution_count": 255,
   "metadata": {
    "slideshow": {
     "slide_type": "fragment"
    }
   },
   "outputs": [],
   "source": [
    "def debugclass(cls):\n",
    "    '''Class decorator that applies the debug decorator\n",
    "       to all the methods of the class.\n",
    "    '''\n",
    "    for key, val in vars(cls).items():\n",
    "        if callable(val):\n",
    "            setattr(cls, key, debug(val))\n",
    "    return cls"
   ]
  },
  {
   "cell_type": "markdown",
   "metadata": {
    "slideshow": {
     "slide_type": "subslide"
    }
   },
   "source": [
    "### Apply Class Decorator"
   ]
  },
  {
   "cell_type": "code",
   "execution_count": 257,
   "metadata": {
    "slideshow": {
     "slide_type": "fragment"
    }
   },
   "outputs": [],
   "source": [
    "@debugclass\n",
    "class Person(object):\n",
    "\n",
    "    def __init__(self, name='', age=0):\n",
    "        self.name = name\n",
    "        self.age = age\n",
    "\n",
    "    def getname(self):\n",
    "        return self.name\n",
    "\n",
    "    def getage(self):\n",
    "        return self.age"
   ]
  },
  {
   "cell_type": "code",
   "execution_count": 258,
   "metadata": {
    "slideshow": {
     "slide_type": "fragment"
    }
   },
   "outputs": [],
   "source": [
    "def test_person(pers):\n",
    "    print('Name:',pers.getname(), 'Age:',pers.getage())"
   ]
  },
  {
   "cell_type": "markdown",
   "metadata": {
    "slideshow": {
     "slide_type": "subslide"
    }
   },
   "source": [
    "## Meta Classes\n",
    "\n",
    "### Classes are instances of type\n",
    "\n",
    "In order understand metaclasses, we must first understand that classes are instances of type."
   ]
  },
  {
   "cell_type": "code",
   "execution_count": 259,
   "metadata": {
    "slideshow": {
     "slide_type": "fragment"
    }
   },
   "outputs": [
    {
     "data": {
      "text/plain": [
       "type"
      ]
     },
     "execution_count": 259,
     "metadata": {},
     "output_type": "execute_result"
    }
   ],
   "source": [
    "#from personDec import Person\n",
    "type(Person)"
   ]
  },
  {
   "cell_type": "code",
   "execution_count": 260,
   "metadata": {
    "slideshow": {
     "slide_type": "fragment"
    }
   },
   "outputs": [
    {
     "data": {
      "text/plain": [
       "True"
      ]
     },
     "execution_count": 260,
     "metadata": {},
     "output_type": "execute_result"
    }
   ],
   "source": [
    "isinstance(Person, type)"
   ]
  },
  {
   "cell_type": "markdown",
   "metadata": {
    "slideshow": {
     "slide_type": "subslide"
    }
   },
   "source": [
    "## Create Class using type()"
   ]
  },
  {
   "cell_type": "code",
   "execution_count": 261,
   "metadata": {
    "slideshow": {
     "slide_type": "fragment"
    }
   },
   "outputs": [
    {
     "data": {
      "text/plain": [
       "10"
      ]
     },
     "execution_count": 261,
     "metadata": {},
     "output_type": "execute_result"
    }
   ],
   "source": [
    "Spam = type('Spam',(object,),{'a':10,'b': lambda self: self.__dict__.get('x')}) \n",
    "spam = Spam()\n",
    "spam.a"
   ]
  },
  {
   "cell_type": "code",
   "execution_count": 262,
   "metadata": {
    "slideshow": {
     "slide_type": "fragment"
    }
   },
   "outputs": [
    {
     "data": {
      "text/plain": [
       "<bound method <lambda> of <__main__.Spam object at 0x10d3652b0>>"
      ]
     },
     "execution_count": 262,
     "metadata": {},
     "output_type": "execute_result"
    }
   ],
   "source": [
    "spam.b"
   ]
  },
  {
   "cell_type": "code",
   "execution_count": 263,
   "metadata": {
    "slideshow": {
     "slide_type": "fragment"
    }
   },
   "outputs": [
    {
     "data": {
      "text/plain": [
       "5"
      ]
     },
     "execution_count": 263,
     "metadata": {},
     "output_type": "execute_result"
    }
   ],
   "source": [
    "spam.x = 5\n",
    "spam.b()"
   ]
  },
  {
   "cell_type": "markdown",
   "metadata": {
    "slideshow": {
     "slide_type": "subslide"
    }
   },
   "source": [
    "### Default MetaClass is type\n",
    "- That is the type of a class is type\n",
    "- Use the **`__metaclass__`**  attribute for alternative *type*\n",
    "- Custom metaclasses can extend *type*\n",
    "- subclasses inherit **`__metaclass__`**"
   ]
  },
  {
   "cell_type": "markdown",
   "metadata": {
    "slideshow": {
     "slide_type": "subslide"
    }
   },
   "source": [
    "## Example MetaClass"
   ]
  },
  {
   "cell_type": "code",
   "execution_count": 264,
   "metadata": {
    "slideshow": {
     "slide_type": "fragment"
    }
   },
   "outputs": [
    {
     "name": "stdout",
     "output_type": "stream",
     "text": [
      "Creating class BaseClass using CustomMetaclass\n",
      "Creating class Subclass1 using CustomMetaclass\n"
     ]
    }
   ],
   "source": [
    "class CustomMetaclass(type):\n",
    "    def __init__(cls, name, bases, dct):\n",
    "        print(\"Creating class %s using CustomMetaclass\" % name)\n",
    "        super(CustomMetaclass, cls).__init__(name, bases, dct)\n",
    "\n",
    "class BaseClass(object, metaclass=CustomMetaclass):\n",
    "    '''Class udsing the Cutom Meta Class'''\n",
    "\n",
    "class Subclass1(BaseClass):\n",
    "    pass"
   ]
  },
  {
   "cell_type": "markdown",
   "metadata": {
    "slideshow": {
     "slide_type": "subslide"
    }
   },
   "source": [
    "## `__new__()`\n",
    "\n",
    "- **`__new__`** accepts a type as the first argument, and (usually) returns a new instance of that type. \n",
    "\n",
    "- **`__init__`** accepts an instance as the first argument and modifies the attributes of that instance. "
   ]
  },
  {
   "cell_type": "markdown",
   "metadata": {
    "slideshow": {
     "slide_type": "subslide"
    }
   },
   "source": [
    "## Using `__new__()` to alter class properties"
   ]
  },
  {
   "cell_type": "code",
   "execution_count": 265,
   "metadata": {
    "slideshow": {
     "slide_type": "fragment"
    }
   },
   "outputs": [
    {
     "name": "stdout",
     "output_type": "stream",
     "text": [
      "entering x\n",
      "returns 10\n"
     ]
    },
    {
     "data": {
      "text/plain": [
       "10"
      ]
     },
     "execution_count": 265,
     "metadata": {},
     "output_type": "execute_result"
    }
   ],
   "source": [
    "class MetaLogger(type):\n",
    "    def __new__(cls,name,bases,dct):\n",
    "        for attribute in dct:\n",
    "            if callable(dct[attribute]):\n",
    "                dct[attribute] = debug(dct[attribute])\n",
    "        return super(MetaLogger,cls).__new__(cls,name,bases,dct)\n",
    "    \n",
    "class LoggedExample(metaclass=MetaLogger):\n",
    "\n",
    "    def x(self, a):\n",
    "        return a * 2\n",
    "\n",
    "    \n",
    "logged = LoggedExample()\n",
    "logged.x(5)\n"
   ]
  },
  {
   "cell_type": "markdown",
   "metadata": {
    "slideshow": {
     "slide_type": "subslide"
    }
   },
   "source": [
    "### Why not use `__init__()`?\n",
    "\n",
    "The `__init__()` method could not do this task because the *new* object has already been created and therefore could not have its class' attributes altered. \n",
    "\n",
    "---"
   ]
  },
  {
   "cell_type": "markdown",
   "metadata": {
    "slideshow": {
     "slide_type": "subslide"
    }
   },
   "source": [
    "## ABC\n",
    "**Abstract Base Classes**"
   ]
  },
  {
   "cell_type": "markdown",
   "metadata": {
    "slideshow": {
     "slide_type": "fragment"
    }
   },
   "source": [
    "```python\n",
    "from abc import ABCMeta\n",
    "...\n",
    "metaclass=ABCMeta\n",
    "```"
   ]
  },
  {
   "cell_type": "markdown",
   "metadata": {
    "slideshow": {
     "slide_type": "subslide"
    }
   },
   "source": [
    "**Abstract Base Classes**\n",
    "- allows you to create abstract classes\n",
    "- @abstractmethod\n",
    "- @abstractproperty\n",
    "Subclasses are forced to override the above"
   ]
  },
  {
   "cell_type": "markdown",
   "metadata": {
    "slideshow": {
     "slide_type": "subslide"
    }
   },
   "source": [
    "## Collections\n",
    "The collections module contains classes on ABCs.\n",
    "\n",
    "(Collections)[https://docs.python.org/3/library/collections.html#collections-abstract-base-classes]\n",
    "\n",
    "Including:\n",
    "- **`namedtuple`** factory function for creating tuple subclasses with named fields \n",
    "- **`deque`** list-like container with fast appends and pops on either end\n",
    "- **`Counter`** dict subclass for counting hashable objects\n",
    "- **`OrderedDict`** dict subclass that remembers the order entries were added\n",
    "- **`defaultdict`** dict subclass that calls a factory function to supply missing values \n",
    "\n",
    "\n",
    "---"
   ]
  },
  {
   "cell_type": "code",
   "execution_count": 266,
   "metadata": {},
   "outputs": [],
   "source": [
    "from collections import *\n",
    "list_dict = defaultdict(list)"
   ]
  },
  {
   "cell_type": "code",
   "execution_count": 267,
   "metadata": {},
   "outputs": [
    {
     "data": {
      "text/plain": [
       "defaultdict(list, {})"
      ]
     },
     "execution_count": 267,
     "metadata": {},
     "output_type": "execute_result"
    }
   ],
   "source": [
    "list_dict"
   ]
  },
  {
   "cell_type": "code",
   "execution_count": 268,
   "metadata": {},
   "outputs": [
    {
     "data": {
      "text/plain": [
       "defaultdict(list,\n",
       "            {'id': [2, 3],\n",
       "             'username': ['fred', 'sarah'],\n",
       "             'password': ['qwerty', 'asdf']})"
      ]
     },
     "execution_count": 268,
     "metadata": {},
     "output_type": "execute_result"
    }
   ],
   "source": [
    "for row in rows:\n",
    "    for i, key in enumerate(keys):\n",
    "        list_dict[key].append(row[i])\n",
    "        \n",
    "list_dict"
   ]
  },
  {
   "cell_type": "markdown",
   "metadata": {
    "slideshow": {
     "slide_type": "subslide"
    }
   },
   "source": [
    "# With and Context Managers\n",
    "- The **`with`** statement provides for the automatic closing of resources\n",
    "- Context managers are objects designed for use with the `with` statement.\n",
    "\n",
    "\n",
    "## Opening Files"
   ]
  },
  {
   "cell_type": "markdown",
   "metadata": {
    "slideshow": {
     "slide_type": "notes"
    }
   },
   "source": [
    "The file object is one of the best known context managers.  It makes a useful example to understand the operation of a context manager"
   ]
  },
  {
   "cell_type": "code",
   "execution_count": 269,
   "metadata": {
    "slideshow": {
     "slide_type": "fragment"
    }
   },
   "outputs": [],
   "source": [
    "   f = open('config.text', 'r')\n",
    "   #using context\n",
    "   with open('config.text', 'r') as f:\n",
    "        'work_with_f'"
   ]
  },
  {
   "cell_type": "markdown",
   "metadata": {
    "slideshow": {
     "slide_type": "subslide"
    }
   },
   "source": [
    "### With equivalent"
   ]
  },
  {
   "cell_type": "markdown",
   "metadata": {
    "slideshow": {
     "slide_type": "fragment"
    }
   },
   "source": [
    "```python\n",
    "try:\n",
    "    f = open('config.text', 'r')\n",
    "    'work_with_f'\n",
    "finally:\n",
    "    f.close()\n",
    "```"
   ]
  },
  {
   "cell_type": "code",
   "execution_count": 270,
   "metadata": {
    "slideshow": {
     "slide_type": "subslide"
    }
   },
   "outputs": [],
   "source": [
    "#Equivalent to the File Class\n",
    "class File(object):\n",
    "    def __init__(self, file_name, method):\n",
    "        self.file_obj = open(file_name, method)\n",
    "    def __enter__(self):\n",
    "        return self.file_obj\n",
    "    def __exit__(self, type, value, traceback):\n",
    "        print(\"Exception has been handled\")\n",
    "        self.file_obj.close()\n",
    "        return True"
   ]
  },
  {
   "cell_type": "markdown",
   "metadata": {
    "slideshow": {
     "slide_type": "notes"
    }
   },
   "source": [
    "The context manager simply ensures that the file will be closed once outside the *with* block. "
   ]
  },
  {
   "cell_type": "markdown",
   "metadata": {
    "slideshow": {
     "slide_type": "subslide"
    }
   },
   "source": [
    "### How it works"
   ]
  },
  {
   "cell_type": "markdown",
   "metadata": {
    "slideshow": {
     "slide_type": "fragment"
    }
   },
   "source": [
    "```python\n",
    "with contextmanager() as c:\n",
    "    do_stuff\n",
    "```"
   ]
  },
  {
   "cell_type": "markdown",
   "metadata": {
    "slideshow": {
     "slide_type": "fragment"
    }
   },
   "source": [
    "- Equivalent"
   ]
  },
  {
   "cell_type": "markdown",
   "metadata": {
    "slideshow": {
     "slide_type": "fragment"
    }
   },
   "source": [
    "```python\n",
    "try:\n",
    "    c = contextmanager().__enter__()\n",
    "    do_stuff\n",
    "finally:\n",
    "    c.__exit__()\n",
    "```"
   ]
  },
  {
   "cell_type": "markdown",
   "metadata": {
    "slideshow": {
     "slide_type": "notes"
    }
   },
   "source": [
    "It is in fact the `__enter__()` and `__exit__()` methods that are called."
   ]
  },
  {
   "cell_type": "markdown",
   "metadata": {
    "slideshow": {
     "slide_type": "subslide"
    }
   },
   "source": [
    "### file context\n",
    "- **`__enter__:`** return self \n",
    "- **`__exit__:`** self.close()"
   ]
  },
  {
   "cell_type": "markdown",
   "metadata": {
    "slideshow": {
     "slide_type": "notes"
    }
   },
   "source": [
    "The enter and exit methods of the *file* object are simple."
   ]
  },
  {
   "cell_type": "markdown",
   "metadata": {
    "slideshow": {
     "slide_type": "subslide"
    }
   },
   "source": [
    "## My Context Manager"
   ]
  },
  {
   "cell_type": "code",
   "execution_count": 271,
   "metadata": {
    "slideshow": {
     "slide_type": "fragment"
    }
   },
   "outputs": [],
   "source": [
    "class test_context(object):\n",
    "    def __init__(self, context=''):\n",
    "        self.context = context\n",
    "\n",
    "    def __enter__(self):\n",
    "        print('entering', self.context, 'context')\n",
    "        return 'my context %s' % self.context\n",
    " \n",
    "    def __exit__(self, exc_type, exc_val, exc_tb):\n",
    "        print('closing', self.context)"
   ]
  },
  {
   "cell_type": "markdown",
   "metadata": {
    "slideshow": {
     "slide_type": "subslide"
    }
   },
   "source": [
    "### Using My Context Manager"
   ]
  },
  {
   "cell_type": "code",
   "execution_count": 272,
   "metadata": {
    "slideshow": {
     "slide_type": "fragment"
    }
   },
   "outputs": [
    {
     "name": "stdout",
     "output_type": "stream",
     "text": [
      "entering blah context\n",
      "Welcome to  my context blah\n",
      "closing blah\n"
     ]
    }
   ],
   "source": [
    "with test_context('blah') as c:\n",
    "    print(\"Welcome to \",c)"
   ]
  },
  {
   "cell_type": "markdown",
   "metadata": {},
   "source": [
    "## Context Decorator\n",
    "- contextlib package\n",
    "- contextmanager decorator"
   ]
  },
  {
   "cell_type": "markdown",
   "metadata": {
    "slideshow": {
     "slide_type": "subslide"
    }
   },
   "source": [
    "### Using Context Decorator"
   ]
  },
  {
   "cell_type": "code",
   "execution_count": 273,
   "metadata": {
    "slideshow": {
     "slide_type": "fragment"
    }
   },
   "outputs": [],
   "source": [
    "from contextlib import contextmanager"
   ]
  },
  {
   "cell_type": "code",
   "execution_count": 274,
   "metadata": {
    "slideshow": {
     "slide_type": "fragment"
    }
   },
   "outputs": [],
   "source": [
    "@contextmanager\n",
    "def test_context(context=''):\n",
    "    # __enter__\n",
    "    print('entering',context, 'context')\n",
    "    yield 'my context %s' % context\n",
    "    # __exit__\n",
    "    print('closing', context)"
   ]
  },
  {
   "cell_type": "markdown",
   "metadata": {
    "slideshow": {
     "slide_type": "subslide"
    }
   },
   "source": [
    "### Using contextlib"
   ]
  },
  {
   "cell_type": "code",
   "execution_count": 275,
   "metadata": {
    "slideshow": {
     "slide_type": "fragment"
    }
   },
   "outputs": [
    {
     "name": "stdout",
     "output_type": "stream",
     "text": [
      "entering blah context\n",
      "Welcome to  my context blah\n",
      "closing blah\n"
     ]
    }
   ],
   "source": [
    "with test_context('blah') as c:\n",
    "    print(\"Welcome to \",c)"
   ]
  },
  {
   "cell_type": "markdown",
   "metadata": {
    "slideshow": {
     "slide_type": "subslide"
    }
   },
   "source": [
    "### Supporting the Context-Management Protocol"
   ]
  },
  {
   "cell_type": "code",
   "execution_count": 276,
   "metadata": {
    "slideshow": {
     "slide_type": "fragment"
    }
   },
   "outputs": [],
   "source": [
    "from socket import socket, AF_INET, SOCK_STREAM\n",
    "\n",
    "class LazyConnection:\n",
    "    def __init__(self, address, family=AF_INET, type=SOCK_STREAM):\n",
    "        self.address = address\n",
    "        self.family = AF_INET\n",
    "        self.type = SOCK_STREAM\n",
    "        self.sock = None\n",
    "\n",
    "    def __enter__(self):\n",
    "        if self.sock is not None:\n",
    "            raise RuntimeError('Already connected')\n",
    "        self.sock = socket(self.family, self.type)\n",
    "        self.sock.connect(self.address)\n",
    "        return self.sock\n",
    "\n",
    "    def __exit__(self, exc_ty, exc_val, tb):\n",
    "        self.sock.close()\n",
    "        self.sock = None"
   ]
  },
  {
   "cell_type": "markdown",
   "metadata": {
    "slideshow": {
     "slide_type": "notes"
    }
   },
   "source": [
    "Note:\n",
    "The key feature of this class is that it represents a network connection, but it doesn't actually do anything initially (e.g., it doesn't establish a connection). Instead, the connection is established and closed using the with statement (essentially on demand). For example:"
   ]
  },
  {
   "cell_type": "markdown",
   "metadata": {
    "slideshow": {
     "slide_type": "subslide"
    }
   },
   "source": [
    "### Using Solution"
   ]
  },
  {
   "cell_type": "code",
   "execution_count": 277,
   "metadata": {
    "slideshow": {
     "slide_type": "fragment"
    }
   },
   "outputs": [],
   "source": [
    "from functools import partial\n",
    "\n",
    "conn = LazyConnection(('www.python.org', 80))\n",
    "# Connection closed\n",
    "with conn as s:\n",
    "    # conn.__enter__() executes: connection open\n",
    "    s.send(b'GET /index.html HTTP/1.0\\r\\n')\n",
    "    s.send(b'Host: www.python.org\\r\\n')\n",
    "    s.send(b'\\r\\n')\n",
    "    resp = b''.join(iter(partial(s.recv, 8192), b''))\n",
    "    # conn.__exit__() executes: connection closed"
   ]
  },
  {
   "cell_type": "markdown",
   "metadata": {
    "slideshow": {
     "slide_type": "notes"
    }
   },
   "source": [
    "Note:\n",
    "\n",
    "- The main principle behind writing a context manager is that you're writing code that's meant to surround a block of statements as defined by the use of the with statement. When the with statement is first encountered, the `__enter__()` method is triggered. The return value of `__enter__()` (if any) is placed into the variable indicated with the as qualifier. Afterward, the statements in the body of the with statement execute. Finally, the `__exit__()` method is triggered to clean up.\n",
    "\n",
    "- This control flow happens regardless of what happens in the body of the with statement, including if there are exceptions. In fact, the three arguments to the `__exit__()` method contain the exception type, value, and traceback for pending exceptions (if any). The `__exit__()` method can choose to use the exception information in some way or to ignore it by doing nothing and returning None as a result. If `__exit__()` returns True, the exception is cleared as if nothing happened and the program continues executing statements immediately after the with block.\n",
    "\n",
    "- One subtle aspect of this recipe is whether or not the LazyConnection class allows nested use of the connection with multiple with statements. As shown, only a single socket connection at a time is allowed, and an exception is raised if a repeated with statement is attempted when a socket is already in use. You can work around this limitation with a slightly different implementation, as shown here:"
   ]
  },
  {
   "cell_type": "markdown",
   "metadata": {
    "slideshow": {
     "slide_type": "notes"
    }
   },
   "source": [
    "### Nested With"
   ]
  },
  {
   "cell_type": "code",
   "execution_count": 278,
   "metadata": {
    "slideshow": {
     "slide_type": "fragment"
    }
   },
   "outputs": [],
   "source": [
    "from socket import socket, AF_INET, SOCK_STREAM\n",
    "\n",
    "class LazyConnection:\n",
    "    def __init__(self, address, family=AF_INET, type=SOCK_STREAM):\n",
    "        self.address = address\n",
    "        self.family = AF_INET\n",
    "        self.type = SOCK_STREAM\n",
    "        self.connections = []\n",
    "\n",
    "    def __enter__(self):\n",
    "        sock = socket(self.family, self.type)\n",
    "        sock.connect(self.address)\n",
    "        self.connections.append(sock)\n",
    "        return sock\n",
    "\n",
    "    def __exit__(self, exc_ty, exc_val, tb):\n",
    "        self.connections.pop().close()"
   ]
  },
  {
   "cell_type": "markdown",
   "metadata": {
    "slideshow": {
     "slide_type": "subslide"
    }
   },
   "source": [
    "### Example use"
   ]
  },
  {
   "cell_type": "markdown",
   "metadata": {
    "slideshow": {
     "slide_type": "fragment"
    }
   },
   "source": [
    "```python\n",
    "from functools import partial\n",
    "\n",
    "conn = LazyConnection(('www.python.org', 80))\n",
    "with conn as s1:\n",
    "     ...\n",
    "     with conn as s2:\n",
    "          ...\n",
    "          # s1 and s2 are independent sockets\n",
    "```"
   ]
  },
  {
   "cell_type": "markdown",
   "metadata": {
    "slideshow": {
     "slide_type": "notes"
    }
   },
   "source": [
    "Note:\n",
    "In this second version, the LazyConnection class serves as a kind of factory for connections. Internally, a list is used to keep a stack. Whenever `__enter__()` executes, it makes a new connection and adds it to the stack. The `__exit__()` method simply pops the last connection off the stack and closes it. It's subtle, but this allows multiple connections to be created at once with nested with statements, as shown.\n",
    "\n",
    "Context managers are most commonly used in programs that need to manage resources such as files, network connections, and locks. A key part of such resources is they have to be explicitly closed or released to operate correctly. For instance, if you acquire a lock, then you have to make sure you release it, or else you risk deadlock. By implementing `__enter__()`, `__exit__()`, and using the with statement, it is much easier to avoid such problems, since the cleanup code in the `__exit__()` method is guaranteed to run no matter what.\n",
    "\n",
    "---"
   ]
  },
  {
   "cell_type": "markdown",
   "metadata": {
    "slideshow": {
     "slide_type": "slide"
    }
   },
   "source": [
    "# Design Patterns in Python\n",
    "\n",
    "- Brandon Rhodes Vid http://pyvideo.org/video/1369/python-design-patterns-1\n",
    "- Example Code: https://github.com/faif/python-patterns"
   ]
  },
  {
   "cell_type": "markdown",
   "metadata": {
    "slideshow": {
     "slide_type": "subslide"
    }
   },
   "source": [
    "## Design Patterns Implement\n",
    "\n",
    "- Separation of Concerns\n",
    "- Single point of responsibility\n",
    "- Encapsulate what varies\n",
    "- Code to interface not implementation\n",
    "- Favour Composition over inheritance\n",
    "- Dependency Inversion Principle"
   ]
  },
  {
   "cell_type": "markdown",
   "metadata": {
    "slideshow": {
     "slide_type": "subslide"
    }
   },
   "source": [
    "## Original GoF\n",
    "- Creational Patterns (5)\n",
    "- Structural Patterns (7)\n",
    "- Behvioural Petterns (11)"
   ]
  },
  {
   "attachments": {
    "image.png": {
     "image/png": "[encoded data removed]"
    }
   },
   "cell_type": "markdown",
   "metadata": {
    "slideshow": {
     "slide_type": "subslide"
    }
   },
   "source": [
    "![image.png](attachment:image.png)"
   ]
  },
  {
   "cell_type": "markdown",
   "metadata": {
    "slideshow": {
     "slide_type": "subslide"
    }
   },
   "source": [
    "## Creational Patterns\n",
    "\n",
    "- Factories\n",
    "- Singletons\n",
    "- Prototype\n",
    "- Builder"
   ]
  },
  {
   "cell_type": "markdown",
   "metadata": {
    "slideshow": {
     "slide_type": "subslide"
    }
   },
   "source": [
    "## Factories\n",
    "\n",
    "- Trivial in Python because\n",
    "    - No *new* opertor\n",
    "    - function and constructor look alike\n",
    "    "
   ]
  },
  {
   "cell_type": "markdown",
   "metadata": {
    "slideshow": {
     "slide_type": "subslide"
    }
   },
   "source": [
    "## Factory Method"
   ]
  },
  {
   "cell_type": "markdown",
   "metadata": {
    "slideshow": {
     "slide_type": "subslide"
    }
   },
   "source": [
    "![Factory.png](images/FactoryUML.png)"
   ]
  },
  {
   "cell_type": "markdown",
   "metadata": {
    "slideshow": {
     "slide_type": "subslide"
    }
   },
   "source": [
    "### AbstractFacory\n",
    "![AbstractFactory.png](images/AbstractFactory.png)"
   ]
  },
  {
   "cell_type": "markdown",
   "metadata": {
    "slideshow": {
     "slide_type": "subslide"
    }
   },
   "source": [
    "## Singletons\n",
    "\n",
    "- Using a global variable is bad, because you can never switch in something dynamic: mymodule.foo can not be intercepted!\n",
    "- You should always make callers\n",
    "  actually invoke a function to get your singleton; minimally\n",
    "- Can use *The Borg* (shared instance variables rather than single object) instead in Python"
   ]
  },
  {
   "cell_type": "markdown",
   "metadata": {
    "slideshow": {
     "slide_type": "subslide"
    }
   },
   "source": [
    "![Singleton.png](images/SingletonUML.png)"
   ]
  },
  {
   "cell_type": "code",
   "execution_count": 279,
   "metadata": {
    "slideshow": {
     "slide_type": "subslide"
    }
   },
   "outputs": [],
   "source": [
    "# A kind-of singleton\n",
    "class MyClass:\n",
    "    pass\n",
    "_singleton = MyClass()\n",
    "\n",
    "\n",
    "def get_singleton():\n",
    "    return _singleton"
   ]
  },
  {
   "cell_type": "markdown",
   "metadata": {
    "slideshow": {
     "slide_type": "subslide"
    }
   },
   "source": [
    "## Singleton User Provided Class"
   ]
  },
  {
   "cell_type": "code",
   "execution_count": 280,
   "metadata": {
    "slideshow": {
     "slide_type": "fragment"
    }
   },
   "outputs": [],
   "source": [
    "_singleton = None\n",
    "\n",
    "def get_singleton(cls=MyClass):\n",
    "    global _singleton\n",
    "    if _singleton is None:\n",
    "        _singleton = cls()\n",
    "    return _singleton"
   ]
  },
  {
   "cell_type": "markdown",
   "metadata": {
    "slideshow": {
     "slide_type": "subslide"
    }
   },
   "source": [
    "## ProtoType\n",
    "- Provided by Stdlib\n",
    "- Copy module\n",
    "  - Introspect and copy an object\n",
    "  "
   ]
  },
  {
   "cell_type": "markdown",
   "metadata": {
    "slideshow": {
     "slide_type": "subslide"
    }
   },
   "source": [
    "![Prototype.png](images/PrototypeUML.png)"
   ]
  },
  {
   "cell_type": "markdown",
   "metadata": {
    "slideshow": {
     "slide_type": "subslide"
    }
   },
   "source": [
    "## Builder\n",
    "- The most complex creational\n",
    "pattern is actually very useful:\n",
    "- a Builder receives instructions about\n",
    "what to build, and hides the details\n",
    "of the instances it links together"
   ]
  },
  {
   "cell_type": "markdown",
   "metadata": {
    "slideshow": {
     "slide_type": "subslide"
    }
   },
   "source": [
    "![Builder.png](images/Builder.png)"
   ]
  },
  {
   "cell_type": "markdown",
   "metadata": {
    "slideshow": {
     "slide_type": "subslide"
    }
   },
   "source": [
    "### XML without a builder"
   ]
  },
  {
   "cell_type": "code",
   "execution_count": 281,
   "metadata": {
    "slideshow": {
     "slide_type": "fragment"
    }
   },
   "outputs": [
    {
     "name": "stdout",
     "output_type": "stream",
     "text": [
      "h1\n",
      "{'a': [1, 2]}\n",
      "p\n",
      "{}\n"
     ]
    }
   ],
   "source": [
    "from xml.etree import ElementTree as etree\n",
    "\n",
    "root = etree.Element('body')\n",
    "h1 = etree.Element('h1')\n",
    "h1.text = 'The Title'\n",
    "h1.attrib = {'a':[1,2]}\n",
    "root.append(h1)\n",
    "p = etree.Element('p')\n",
    "p.text = 'Always write Python'\n",
    "root.append(p)\n",
    "for child in root:\n",
    "    print(child.tag)\n",
    "    print(child.attrib)"
   ]
  },
  {
   "cell_type": "markdown",
   "metadata": {
    "slideshow": {
     "slide_type": "subslide"
    }
   },
   "source": [
    "### XML with a builder"
   ]
  },
  {
   "cell_type": "code",
   "execution_count": 282,
   "metadata": {
    "slideshow": {
     "slide_type": "fragment"
    }
   },
   "outputs": [],
   "source": [
    "from lxml.builder import E\n",
    "\n",
    "doc = E('body',\n",
    "        E('h1', 'The Title'),\n",
    "        E('p', 'Always write Python'))"
   ]
  },
  {
   "cell_type": "markdown",
   "metadata": {
    "slideshow": {
     "slide_type": "subslide"
    }
   },
   "source": [
    "## Creational Patterns Summary\n",
    "\n",
    "- Designed away by language:\n",
    "    - Abstract Factory\n",
    "    - Factory Method\n",
    "\n",
    "- Trivial:\n",
    "    - Singleton\n",
    "    - Prototype\n",
    "\n",
    "- Useful:\n",
    "    - Builder"
   ]
  },
  {
   "cell_type": "markdown",
   "metadata": {
    "slideshow": {
     "slide_type": "subslide"
    }
   },
   "source": [
    "## Structural Patterns\n",
    "- Adapter\n",
    "- Bridge\n",
    "- Composite\n",
    "- Facade\n",
    "- Flyweight\n",
    "- Proxy\n",
    "- Decorator"
   ]
  },
  {
   "cell_type": "markdown",
   "metadata": {
    "slideshow": {
     "slide_type": "subslide"
    }
   },
   "source": [
    "## Adapter\n",
    "- Very Useful\n",
    "- Wraps one class so that it behaves like another class\n",
    "- Supplies a single interface to a set of interfaces within a system.\n",
    "- Use When\n",
    "    - A simple interface is needed to provide access to a complex system. \n",
    "    - There are many dependencies between system implementations and clients. \n",
    "    - Systems and subsystems should be layered. "
   ]
  },
  {
   "cell_type": "markdown",
   "metadata": {
    "slideshow": {
     "slide_type": "subslide"
    }
   },
   "source": [
    "![Adapter.png](images/adaptorUML.png)"
   ]
  },
  {
   "cell_type": "markdown",
   "metadata": {
    "slideshow": {
     "slide_type": "subslide"
    }
   },
   "source": [
    "### Adapter example\n",
    "- Sockets do not read and write like files do\n",
    "- Tornado Future can wrap *asycio* or *trollis*"
   ]
  },
  {
   "cell_type": "code",
   "execution_count": 283,
   "metadata": {
    "slideshow": {
     "slide_type": "fragment"
    }
   },
   "outputs": [
    {
     "ename": "AttributeError",
     "evalue": "'socket' object has no attribute 'read'",
     "output_type": "error",
     "traceback": [
      "\u001b[0;31m---------------------------------------------------------------------------\u001b[0m",
      "\u001b[0;31mAttributeError\u001b[0m                            Traceback (most recent call last)",
      "\u001b[0;32m<ipython-input-283-209ade6ee77a>\u001b[0m in \u001b[0;36m<module>\u001b[0;34m\u001b[0m\n\u001b[1;32m      1\u001b[0m \u001b[0;32mimport\u001b[0m \u001b[0msocket\u001b[0m\u001b[0;34m\u001b[0m\u001b[0;34m\u001b[0m\u001b[0m\n\u001b[1;32m      2\u001b[0m \u001b[0ms\u001b[0m \u001b[0;34m=\u001b[0m \u001b[0msocket\u001b[0m\u001b[0;34m.\u001b[0m\u001b[0msocket\u001b[0m\u001b[0;34m(\u001b[0m\u001b[0;34m)\u001b[0m\u001b[0;34m\u001b[0m\u001b[0;34m\u001b[0m\u001b[0m\n\u001b[0;32m----> 3\u001b[0;31m \u001b[0ms\u001b[0m\u001b[0;34m.\u001b[0m\u001b[0mread\u001b[0m\u001b[0;34m\u001b[0m\u001b[0;34m\u001b[0m\u001b[0m\n\u001b[0m",
      "\u001b[0;31mAttributeError\u001b[0m: 'socket' object has no attribute 'read'"
     ]
    }
   ],
   "source": [
    "import socket\n",
    "s = socket.socket()\n",
    "s.read"
   ]
  },
  {
   "cell_type": "markdown",
   "metadata": {
    "slideshow": {
     "slide_type": "fragment"
    }
   },
   "source": [
    "- Instead, they “send” and “receive”"
   ]
  },
  {
   "cell_type": "code",
   "execution_count": 284,
   "metadata": {
    "slideshow": {
     "slide_type": "fragment"
    }
   },
   "outputs": [
    {
     "data": {
      "text/plain": [
       "<function socket.send>"
      ]
     },
     "execution_count": 284,
     "metadata": {},
     "output_type": "execute_result"
    }
   ],
   "source": [
    "s.send"
   ]
  },
  {
   "cell_type": "code",
   "execution_count": 285,
   "metadata": {
    "slideshow": {
     "slide_type": "fragment"
    }
   },
   "outputs": [
    {
     "data": {
      "text/plain": [
       "<function socket.recv>"
      ]
     },
     "execution_count": 285,
     "metadata": {},
     "output_type": "execute_result"
    }
   ],
   "source": [
    "s.recv"
   ]
  },
  {
   "cell_type": "markdown",
   "metadata": {
    "slideshow": {
     "slide_type": "subslide"
    }
   },
   "source": [
    "### Adapter in stdlib\n",
    "- Standard Library provides\n",
    "- socket._fileobject \n",
    "- file-like read() and write()\n",
    "- operations into send() and recv()"
   ]
  },
  {
   "cell_type": "code",
   "execution_count": 286,
   "metadata": {
    "slideshow": {
     "slide_type": "fragment"
    }
   },
   "outputs": [
    {
     "data": {
      "text/plain": [
       "<function TextIOWrapper.read(size=-1, /)>"
      ]
     },
     "execution_count": 286,
     "metadata": {},
     "output_type": "execute_result"
    }
   ],
   "source": [
    "f = s.makefile()\n",
    "f.read"
   ]
  },
  {
   "cell_type": "markdown",
   "metadata": {
    "slideshow": {
     "slide_type": "subslide"
    }
   },
   "source": [
    "## Bridge\n",
    "\n",
    "- Says not to use subclassing for\n",
    "two separate purposes in one class\n",
    "- Then you wind up with"
   ]
  },
  {
   "cell_type": "markdown",
   "metadata": {
    "slideshow": {
     "slide_type": "subslide"
    }
   },
   "source": [
    "![Bridge.png](images/BridgeUML.png)"
   ]
  },
  {
   "cell_type": "markdown",
   "metadata": {
    "slideshow": {
     "slide_type": "subslide"
    }
   },
   "source": [
    "**Use When**\n",
    "\n",
    "- Abstractions and implementations should not be bound at compile time. \n",
    "- Abstractions and implementations should be independently extensible. \n",
    "- Changes in the implementation of an abstraction should have no impact on clients. \n",
    "- Implementation details should be hidden from the client. "
   ]
  },
  {
   "cell_type": "markdown",
   "metadata": {
    "slideshow": {
     "slide_type": "fragment"
    }
   },
   "source": [
    "- Partly rationalized by limitations\n",
    "  of C++ (no mixins, much subclassing)"
   ]
  },
  {
   "cell_type": "markdown",
   "metadata": {
    "slideshow": {
     "slide_type": "subslide"
    }
   },
   "source": [
    "**Solution: another layer!**\n",
    "\n",
    "- Have one class that translates\n",
    "the Plain and Bordered ideas\n",
    "into primitive window operations"
   ]
  },
  {
   "cell_type": "markdown",
   "metadata": {
    "slideshow": {
     "slide_type": "fragment"
    }
   },
   "source": [
    "Then\n",
    "\n",
    "- Have another class that can\n",
    "perform these operations under\n",
    "Windows, Mac, and Linux"
   ]
  },
  {
   "cell_type": "markdown",
   "metadata": {
    "slideshow": {
     "slide_type": "fragment"
    }
   },
   "source": [
    "**This principle actually applies\n",
    "at many levels in Python!**"
   ]
  },
  {
   "cell_type": "markdown",
   "metadata": {
    "slideshow": {
     "slide_type": "subslide"
    }
   },
   "source": [
    "**Question**\n",
    "\n",
    "- My models are full of business\n",
    "logic — how can I write simple tests\n",
    "that don't write to the database?\n",
    "    - Gary Bernhardt at PyCon 2012"
   ]
  },
  {
   "cell_type": "markdown",
   "metadata": {
    "slideshow": {
     "slide_type": "fragment"
    }
   },
   "source": [
    "```python\n",
    "class Person(Database_Model):\n",
    "    def rename(self, new_name): ...\n",
    "    def direct_deposit(self, amount): ...\n",
    "```"
   ]
  },
  {
   "cell_type": "markdown",
   "metadata": {
    "slideshow": {
     "slide_type": "subslide"
    }
   },
   "source": [
    "**Answer**\n",
    "- Have models that do nothing but\n",
    "persist information to storage\n",
    "and then\n",
    "- write a business logic layer\n",
    "that implements the operations\n",
    "that were expressed in methods\n",
    "- Tests can call *dummy* presistance class"
   ]
  },
  {
   "cell_type": "markdown",
   "metadata": {
    "slideshow": {
     "slide_type": "subslide"
    }
   },
   "source": [
    "## Composite\n",
    "- Class whose instances\n",
    "are designed in a tree structure\n",
    "- Composition is a common pattern\n",
    "\n",
    "- email.Message can have messages inside\n",
    "- lxml.etree.Element lists child elements"
   ]
  },
  {
   "cell_type": "markdown",
   "metadata": {
    "slideshow": {
     "slide_type": "subslide"
    }
   },
   "source": [
    "![Composite.png](images/CompositeUML.png)"
   ]
  },
  {
   "cell_type": "markdown",
   "metadata": {
    "slideshow": {
     "slide_type": "subslide"
    }
   },
   "source": [
    "**Two common mechanisms:**"
   ]
  },
  {
   "cell_type": "markdown",
   "metadata": {
    "slideshow": {
     "slide_type": "fragment"
    }
   },
   "source": [
    "```python\n",
    "# Store children in attributes\n",
    "\n",
    "obj.attr = subobject\n",
    "\n",
    "# Store a list or dict of children\n",
    "\n",
    "obj.children = [subobject, ...]\n",
    "```"
   ]
  },
  {
   "cell_type": "markdown",
   "metadata": {
    "slideshow": {
     "slide_type": "subslide"
    }
   },
   "source": [
    "**Use When**\n",
    "\n",
    "- Hierarchical representations of objects are needed. \n",
    "- Objects and compositions of objects should be treated uniformly. "
   ]
  },
  {
   "cell_type": "markdown",
   "metadata": {
    "slideshow": {
     "slide_type": "subslide"
    }
   },
   "source": [
    "## Facade\n",
    "\n",
    "- An object that hides a complex\n",
    "tree or network of other objects\n",
    "- An etree Element lets you root.find()\n",
    "and root.iter() which traverse the entire\n",
    "tree of nodes for you"
   ]
  },
  {
   "cell_type": "markdown",
   "metadata": {
    "slideshow": {
     "slide_type": "subslide"
    }
   },
   "source": [
    "![Facade](images/FacadeUML.png)"
   ]
  },
  {
   "cell_type": "markdown",
   "metadata": {
    "slideshow": {
     "slide_type": "subslide"
    }
   },
   "source": [
    "- Supplies a single interface to a set of interfaces within a system.\n",
    "- Use When\n",
    "    - A simple interface is needed to provide access to a complex system. \n",
    "    - There are many dependencies between system implementations and clients. \n",
    "    - Systems and subsystems should be layered. "
   ]
  },
  {
   "cell_type": "markdown",
   "metadata": {
    "slideshow": {
     "slide_type": "subslide"
    }
   },
   "source": [
    "## Flyweight\n",
    "\n",
    "- A flyweight is a small object\n",
    "that is immutable and can be\n",
    "- re-used in many contexts"
   ]
  },
  {
   "cell_type": "markdown",
   "metadata": {
    "slideshow": {
     "slide_type": "subslide"
    }
   },
   "source": [
    "![Flywheight](images/FlyweightUML.png)"
   ]
  },
  {
   "cell_type": "markdown",
   "metadata": {
    "slideshow": {
     "slide_type": "subslide"
    }
   },
   "source": [
    "- Facilitates the reuse of many fine grained objects, making the utilization of large numbers of objects more efficient.\n",
    "- Use When\n",
    "    - Many like objects are used and storage cost is high. \n",
    "    - The majority of each object's state can be made extrinsic. \n",
    "    - A few shared objects can replace many unshared ones. \n",
    "    - The identity of each object does not matter. "
   ]
  },
  {
   "cell_type": "markdown",
   "metadata": {
    "slideshow": {
     "slide_type": "subslide"
    }
   },
   "source": [
    "**A text box implemented without flyweights**"
   ]
  },
  {
   "cell_type": "markdown",
   "metadata": {
    "slideshow": {
     "slide_type": "fragment"
    }
   },
   "source": [
    "```python\n",
    "textbox.chars = [c1, c2, c3, ...]\n",
    "\n",
    "c1.letter = 'T'\n",
    "c1.width = 9\n",
    "c1.height = 10\n",
    "c1.depth = 0\n",
    "c1.outline = [(0, 10), (9, 10), ...]\n",
    "c1.x = 0\n",
    "c1.y = 14\n",
    "c1.draw()\n",
    "\n",
    "c2.letter = 'h'\n",
    "⋮\n",
    "c3.letter = 'e'\n",
    "⋮\n",
    "```"
   ]
  },
  {
   "cell_type": "markdown",
   "metadata": {
    "slideshow": {
     "slide_type": "subslide"
    }
   },
   "source": [
    "- You have to create n instances\n",
    "of the letter “T” so that each can\n",
    "occupy a different x and y"
   ]
  },
  {
   "cell_type": "markdown",
   "metadata": {
    "slideshow": {
     "slide_type": "fragment"
    }
   },
   "source": [
    "```python\n",
    "c1.letter = 'T'\n",
    "c1.width = 9\n",
    "c1.height = 10\n",
    "c1.depth = 0\n",
    "c1.outline = [(0, 10), (9, 10), ...]\n",
    "c1.x = 0\n",
    "c1.y = 14\n",
    "c1.draw()\n",
    "```"
   ]
  },
  {
   "cell_type": "markdown",
   "metadata": {
    "slideshow": {
     "slide_type": "subslide"
    }
   },
   "source": [
    "The flyweight pattern moves this\n",
    "per-object state out into the\n",
    "parent or larger context"
   ]
  },
  {
   "cell_type": "markdown",
   "metadata": {
    "slideshow": {
     "slide_type": "fragment"
    }
   },
   "source": [
    "```python\n",
    "textbox.chars = [(cT, 0, 14),\n",
    "                 (ch, 9, 14),\n",
    "                 (ce, 18, 18),\n",
    "                 (c_space, 27, 14),\n",
    "                 (ch, 36, 14),\n",
    "                 (ce, 45, 18),\n",
    "                 ...]\n",
    "\n",
    "cT.letter = 'T'\n",
    "cT.width = 9\n",
    "cT.height = 10\n",
    "cT.depth = 0\n",
    "cT.outline = [(0, 10), (9, 10), ...]\n",
    "cT.draw(x, y)\n",
    "```"
   ]
  },
  {
   "cell_type": "markdown",
   "metadata": {
    "slideshow": {
     "slide_type": "subslide"
    }
   },
   "source": [
    "### Flyweight\n",
    "- A small set of objects can each\n",
    "appear thousands of times inside\n",
    "of parent objects\n",
    "-But context like the x and y passed\n",
    "    - to Character.draw(x, y) will now need\n",
    "    - to be passed in to flyweight methods\n",
    "-Saves memory at the expense of noise\n",
    "and higher coupling"
   ]
  },
  {
   "cell_type": "markdown",
   "metadata": {
    "slideshow": {
     "slide_type": "subslide"
    }
   },
   "source": [
    "### Flyweight in stdlib\n",
    "\n",
    " C-Python uses the flyweight pattern\n",
    "internally for integer objects\n",
    "\n",
    "Since integer objects are immutable,\n",
    "it only keeps a single copy of each small\n",
    "integer like 0, 1, 2, ... and hands them\n",
    "to your code over and over again"
   ]
  },
  {
   "cell_type": "markdown",
   "metadata": {
    "slideshow": {
     "slide_type": "subslide"
    }
   },
   "source": [
    "## Proxy\n",
    "\n",
    "A proxy object wraps another object called\n",
    "the subject and accepts method calls and\n",
    "attribute lookups on its behalf\n",
    "Proxying can be performed dynamically\n",
    "in Python with **`__getattr__()`** instead of\n",
    "having to write n proxying methods"
   ]
  },
  {
   "cell_type": "markdown",
   "metadata": {
    "slideshow": {
     "slide_type": "subslide"
    }
   },
   "source": [
    "### Proxy\n",
    "\n",
    "- weakref.proxy(obj) returns a proxy\n",
    "- Remote procedure call libraries offer\n",
    "proxies for remote APIs, including the\n",
    "Standard Library xmlrpc.client.ServerProxy\n",
    "and also Pyro and rpyc\n",
    "- The Zope web framework used proxies\n",
    "that enforced security"
   ]
  },
  {
   "cell_type": "markdown",
   "metadata": {
    "slideshow": {
     "slide_type": "subslide"
    }
   },
   "source": [
    "![Proxy.png](images/ProxyUML.png)"
   ]
  },
  {
   "cell_type": "markdown",
   "metadata": {
    "slideshow": {
     "slide_type": "subslide"
    }
   },
   "source": [
    "- Allows for object level access control by acting as a pass through entity or a placeholder object.\n",
    "- Use When\n",
    "    - The object being represented is external to the system. \n",
    "    - Objects need to be created on demand. \n",
    "    - Access control for the original object is required. \n",
    "    - Added functionality is required when an object is accessed. "
   ]
  },
  {
   "cell_type": "markdown",
   "metadata": {
    "slideshow": {
     "slide_type": "subslide"
    }
   },
   "source": [
    "## Decorator\n",
    "\n",
    "- Like the Proxy, a Decorator class\n",
    "offers the same attributes and methods\n",
    "as the subject that it wraps\n",
    "\n",
    "- But instead of being completely\n",
    "transparent, it varies the behavior\n",
    "or edits the data passing in and\n",
    "out of the subject\n",
    "\n",
    "- Decorators tend to appear in “glue”\n",
    "code in applications, not inside\n",
    "Python libraries themselves"
   ]
  },
  {
   "cell_type": "markdown",
   "metadata": {
    "slideshow": {
     "slide_type": "subslide"
    }
   },
   "source": [
    "![Decorator.png](images/DecoratorUML.png)"
   ]
  },
  {
   "cell_type": "markdown",
   "metadata": {
    "slideshow": {
     "slide_type": "subslide"
    }
   },
   "source": [
    "## Behavioral Patterns\n",
    "- Chain of responsibility\n",
    "- Command\n",
    "- Interpreter\n",
    "- Iterator\n",
    "- Mediator\n",
    "- Memento\n",
    "- Observer\n",
    "- State\n",
    "- State\n",
    "- Strategy\n",
    "- Template\n",
    "- Visitor"
   ]
  },
  {
   "cell_type": "markdown",
   "metadata": {
    "slideshow": {
     "slide_type": "subslide"
    }
   },
   "source": [
    "## Chain of responsibility\n",
    "\n",
    "Pass a request along a chain of objects\n",
    "until one of them decides to handle it"
   ]
  },
  {
   "cell_type": "markdown",
   "metadata": {
    "slideshow": {
     "slide_type": "subslide"
    }
   },
   "source": [
    "![Chain.png](images/ChainUML.png)"
   ]
  },
  {
   "cell_type": "code",
   "execution_count": 287,
   "metadata": {
    "slideshow": {
     "slide_type": "fragment"
    }
   },
   "outputs": [],
   "source": [
    "def processClick(self, x, y):\n",
    "    if self.active:\n",
    "        self.buttonPress(x, y)\n",
    "    else:\n",
    "        self.next.processClick(x, y)"
   ]
  },
  {
   "cell_type": "markdown",
   "metadata": {
    "slideshow": {
     "slide_type": "fragment"
    }
   },
   "source": [
    "Used by GUIs and DOMs for mouse events\n",
    "Can be used by “help” feature: maybe button\n",
    "has no help, but enclosing form does"
   ]
  },
  {
   "cell_type": "markdown",
   "metadata": {
    "slideshow": {
     "slide_type": "subslide"
    }
   },
   "source": [
    "## Command\n",
    "\n",
    "Replaces immediate actions like:"
   ]
  },
  {
   "cell_type": "markdown",
   "metadata": {
    "slideshow": {
     "slide_type": "fragment"
    }
   },
   "source": [
    "```python\n",
    "paintLine(x1, y1, x2, y2)\n",
    "```"
   ]
  },
  {
   "cell_type": "markdown",
   "metadata": {
    "slideshow": {
     "slide_type": "fragment"
    }
   },
   "source": [
    "Instead, you instantiate a command:"
   ]
  },
  {
   "cell_type": "markdown",
   "metadata": {
    "slideshow": {
     "slide_type": "fragment"
    }
   },
   "source": [
    "```python\n",
    "cmd = PaintLineCommand(x1, y1, x2, y2)\n",
    "cmd.do()\n",
    "command_history.append(cmd)\n",
    "```\n",
    "Allows auditing and undo()"
   ]
  },
  {
   "attachments": {
    "image.png": {
     "image/png": "[encoded data removed]"
    }
   },
   "cell_type": "markdown",
   "metadata": {
    "slideshow": {
     "slide_type": "subslide"
    }
   },
   "source": [
    "![image.png](attachment:image.png)"
   ]
  },
  {
   "cell_type": "markdown",
   "metadata": {
    "slideshow": {
     "slide_type": "fragment"
    }
   },
   "source": [
    "Crucial to version control systems"
   ]
  },
  {
   "cell_type": "markdown",
   "metadata": {
    "slideshow": {
     "slide_type": "subslide"
    }
   },
   "source": [
    "## Interpreter\n",
    "\n",
    "Instead of compiling to machine language,\n",
    "an interpreted language gets parsed into a\n",
    "data structure that an interpreter program\n",
    "iterates across, following the instructions\n",
    "Data structure can be AST or bytecode\n",
    "Python itself is interpreted!\n",
    "Small domain-specific languages do sometimes\n",
    "get written in Python to ease customization"
   ]
  },
  {
   "cell_type": "markdown",
   "metadata": {
    "slideshow": {
     "slide_type": "subslide"
    }
   },
   "source": [
    "![Interpreter.png](images/InterpreterUML.png)"
   ]
  },
  {
   "cell_type": "markdown",
   "metadata": {
    "slideshow": {
     "slide_type": "subslide"
    }
   },
   "source": [
    "## Iterator\n",
    "\n",
    "- Built-in because Python is awesome\n",
    "- Introduced in 2001 — the most important\n",
    "- Python innovation of decade\n",
    "- See Raymond Hettinger's PyCodeConf 2011\n",
    "  talk “What Makes Python Awesome?”\n",
    "  "
   ]
  },
  {
   "cell_type": "markdown",
   "metadata": {
    "slideshow": {
     "slide_type": "subslide"
    }
   },
   "source": [
    "![Iterator.png](images/IteratorUML.png)"
   ]
  },
  {
   "cell_type": "markdown",
   "metadata": {
    "slideshow": {
     "slide_type": "subslide"
    }
   },
   "source": [
    "Lets you for x in obj: across your own\n",
    "user-defined obj, or loop by hand\n",
    "with `i = iter(obj)` and `i.next()`\n",
    "Two basic ways to implement iterator\n",
    "First, you can create an actual class\n",
    "to be your iterator that remembers:\n",
    "What it is iterating across\n",
    "Where it is in the sequence"
   ]
  },
  {
   "cell_type": "markdown",
   "metadata": {
    "slideshow": {
     "slide_type": "subslide"
    }
   },
   "source": [
    "### Iterator"
   ]
  },
  {
   "cell_type": "code",
   "execution_count": 288,
   "metadata": {
    "slideshow": {
     "slide_type": "fragment"
    }
   },
   "outputs": [],
   "source": [
    "class Box(object):\n",
    "    def __init__(self): self.things = [10, 20, 30]\n",
    "    def __iter__(self): return BoxIterator(self)\n",
    "\n",
    "class BoxIterator(object):\n",
    "    def __init__(self, box):\n",
    "        self.box = box\n",
    "        self.index = -1\n",
    "\n",
    "    def next(self):\n",
    "        self.index += 1\n",
    "        if self.index >= len(self.box.things):\n",
    "            raise StopIteration()\n",
    "        return self.box.things[self.index]"
   ]
  },
  {
   "cell_type": "markdown",
   "metadata": {
    "slideshow": {
     "slide_type": "subslide"
    }
   },
   "source": [
    "**|Or, you can simply make**"
   ]
  },
  {
   "cell_type": "code",
   "execution_count": 289,
   "metadata": {
    "slideshow": {
     "slide_type": "fragment"
    }
   },
   "outputs": [],
   "source": [
    "#__iter__() a generator\n",
    "class Box(object):\n",
    "    def __init__(self):\n",
    "        self.things = [10, 20, 30]\n",
    "\n",
    "    def __iter__(self):\n",
    "        for thing in things:\n",
    "            yield thing"
   ]
  },
  {
   "cell_type": "markdown",
   "metadata": {
    "slideshow": {
     "slide_type": "subslide"
    }
   },
   "source": [
    "### Iterator\n",
    "\n",
    "- Very powerful pattern\n",
    "- Eliminates ugly mechanics of iteration\n",
    "so code is more readable\n",
    "- Enhances re-use because code is\n",
    "easy to lock together in new ways;\n",
    "again, see Raymond's talk!\n",
    "-  JavaScript is littered with:\n",
    "for (var i=0; i < box.length; i++) ..."
   ]
  },
  {
   "cell_type": "markdown",
   "metadata": {
    "slideshow": {
     "slide_type": "subslide"
    }
   },
   "source": [
    "## Mediator\n",
    "\n",
    "- Parent object responds to child events\n",
    "and plays out their consequences for\n",
    "other child objects\n",
    "- Child objects like buttons or form fields\n",
    "can remain generic instead of having to\n",
    "be subclassed to learn specific behavior\n",
    "- Children have no references to each other"
   ]
  },
  {
   "cell_type": "markdown",
   "metadata": {
    "slideshow": {
     "slide_type": "subslide"
    }
   },
   "source": [
    "![Mediator.png](images/MediatorUML.png)"
   ]
  },
  {
   "cell_type": "markdown",
   "metadata": {
    "slideshow": {
     "slide_type": "subslide"
    }
   },
   "source": [
    "**Use When**\n",
    "\n",
    "- Communication between sets of objects is well defined and complex. \n",
    "- Too many relationships exist and common point of control or communication is needed.\n",
    "- Multiple objects need to notify the same list of observers"
   ]
  },
  {
   "cell_type": "markdown",
   "metadata": {
    "slideshow": {
     "slide_type": "subslide"
    }
   },
   "source": [
    "## Memento\n",
    "\n",
    "- A memento is a record of an object's\n",
    "internal state — might be a string, or\n",
    "file, or complex data structure\n",
    "- Callers ask an object instance for a\n",
    "memento, then can hand it back later\n",
    "to ask the object to restore itself\n",
    "to its earlier state\n",
    "- Similar to pickle but instead of\n",
    "creating a new object like un-pickling,\n",
    "it changes an existing object"
   ]
  },
  {
   "cell_type": "markdown",
   "metadata": {
    "slideshow": {
     "slide_type": "subslide"
    }
   },
   "source": [
    "## Observer\n",
    "\n",
    "Without Observer pub-sub, you get:"
   ]
  },
  {
   "cell_type": "code",
   "execution_count": 290,
   "metadata": {
    "slideshow": {
     "slide_type": "fragment"
    }
   },
   "outputs": [],
   "source": [
    "class MyModel:\n",
    "    def set_total(self, number):\n",
    "        self.total = number\n",
    "        self.titlebar.update()\n",
    "        self.graph.update()\n",
    "        self.summary.update()"
   ]
  },
  {
   "cell_type": "markdown",
   "metadata": {
    "slideshow": {
     "slide_type": "notes"
    }
   },
   "source": [
    "Note:\n",
    "Very popular pattern in GUIs and DOMs\n",
    "Display elements let the framework\n",
    "know that they need to redraw when\n",
    "specific model attributes change\n",
    "Your models stay simple and have\n",
    "no knowledge of the big application\n",
    "you have build around them, so long\n",
    "as they signal a list of listeners\n",
    "when an attribute changes"
   ]
  },
  {
   "cell_type": "markdown",
   "metadata": {
    "slideshow": {
     "slide_type": "subslide"
    }
   },
   "source": [
    "With Observer pub-sub, things are simpler:"
   ]
  },
  {
   "cell_type": "code",
   "execution_count": 291,
   "metadata": {
    "slideshow": {
     "slide_type": "fragment"
    }
   },
   "outputs": [],
   "source": [
    "class MyModel:\n",
    "    def set_total(self, number):\n",
    "        self.total = number\n",
    "\n",
    "class MyTitlebar:\n",
    "    def __init__(self, model):\n",
    "        subscribe(model, 'total', self.redraw)\n"
   ]
  },
  {
   "cell_type": "markdown",
   "metadata": {
    "slideshow": {
     "slide_type": "subslide"
    }
   },
   "source": [
    "## State"
   ]
  },
  {
   "cell_type": "markdown",
   "metadata": {
    "slideshow": {
     "slide_type": "fragment"
    }
   },
   "source": [
    "```\n",
    "open()    close()\n",
    "TCPStart → TCPOpen → TCPClosed\n",
    "```\n",
    "What we want to avoid:"
   ]
  },
  {
   "cell_type": "markdown",
   "metadata": {
    "slideshow": {
     "slide_type": "fragment"
    }
   },
   "source": [
    "```python\n",
    "if state == 'start':\n",
    "    if action == 'open':\n",
    "        ⋮\n",
    "    elif action == 'close':\n",
    "        ⋮\n",
    "elif state == 'open':\n",
    "    if action == 'open':\n",
    "        ⋮\n",
    "    elif action == 'close':\n",
    "        ⋮\n",
    "```"
   ]
  },
  {
   "cell_type": "code",
   "execution_count": 292,
   "metadata": {},
   "outputs": [],
   "source": [
    "from abc import ABC, abstractmethod \n",
    "\n",
    "class AbstractState(ABC):\n",
    "    \n",
    "    @abstractmethod\n",
    "    def open(self): pass\n",
    "\n",
    "    @abstractmethod\n",
    "    def close(self): pass\n",
    "    \n",
    "\n",
    "class StateClosed(AbstractState):\n",
    "    \n",
    "    def open(self):\n",
    "        print(\"opening\")\n",
    "        return StateOpen()\n",
    "    \n",
    "    def close(self):\n",
    "        print('already closed')\n",
    "        return self\n",
    "    \n",
    "    def __init__(self):pass"
   ]
  },
  {
   "cell_type": "code",
   "execution_count": 293,
   "metadata": {
    "slideshow": {
     "slide_type": "fragment"
    }
   },
   "outputs": [],
   "source": [
    " class StateOpen(AbstractState):\n",
    "\n",
    "    def open(self):\n",
    "        print(\"already open\")\n",
    "        return self\n",
    "\n",
    "    def close(self):\n",
    "        print('Closing')\n",
    "        return StateClosed()\n",
    "    \n",
    "    def __init__(self):pass\n"
   ]
  },
  {
   "cell_type": "code",
   "execution_count": 294,
   "metadata": {},
   "outputs": [],
   "source": [
    "class State(AbstractState):\n",
    "\n",
    "    def __init__(self, state=StateClosed()):\n",
    "        self.state = state\n",
    "\n",
    "    def open(self):\n",
    "        self.state=self.state.open()\n",
    "        \n",
    "    def close(self):\n",
    "        self.state=self.state.close()"
   ]
  },
  {
   "cell_type": "code",
   "execution_count": 295,
   "metadata": {},
   "outputs": [
    {
     "data": {
      "text/plain": [
       "<__main__.StateClosed at 0x10d3c4048>"
      ]
     },
     "execution_count": 295,
     "metadata": {},
     "output_type": "execute_result"
    }
   ],
   "source": [
    "s = State()\n",
    "s.state"
   ]
  },
  {
   "cell_type": "code",
   "execution_count": 296,
   "metadata": {},
   "outputs": [
    {
     "name": "stdout",
     "output_type": "stream",
     "text": [
      "opening\n"
     ]
    },
    {
     "data": {
      "text/plain": [
       "<__main__.StateOpen at 0x10d39cba8>"
      ]
     },
     "execution_count": 296,
     "metadata": {},
     "output_type": "execute_result"
    }
   ],
   "source": [
    "s.open()\n",
    "s.state"
   ]
  },
  {
   "cell_type": "markdown",
   "metadata": {},
   "source": [
    "open()    close()\n",
    "TCPStart → TCPOpen → TCPClosed\n",
    "Represent each state as a class\n",
    "like TCPOpen or TCPClosed\n",
    "Give each class one method for\n",
    "each transition like open()\n",
    "and close() that returns the\n",
    "next state\n",
    "Avoids huge nested if-then's, but\n",
    "simple state machines can be a dict\n",
    "in Python instead"
   ]
  },
  {
   "cell_type": "markdown",
   "metadata": {
    "slideshow": {
     "slide_type": "subslide"
    }
   },
   "source": [
    "## Strategy\n",
    "\n",
    "Parametrize a big process by passing in\n",
    "an object that specifies custom behavior\n",
    "Python has first-class functions so we\n",
    "often just pass callbacks instead\n",
    "A simple example of the Strategy pattern\n",
    "is the key= function that we pass to\n",
    "sorted() and list.sort()"
   ]
  },
  {
   "cell_type": "markdown",
   "metadata": {
    "slideshow": {
     "slide_type": "subslide"
    }
   },
   "source": [
    "## Template\n",
    "\n",
    "Give your classes empty methods like\n",
    "aboutToStart() and justStarted()\n",
    "that a subclass can customize\n",
    "The original author of threading in\n",
    "the Standard Library intended callers to\n",
    "subclass (!) Thread and provide their\n",
    "own, more interesting run() method\n",
    "In Python we often pass a callable instead,\n",
    "or — when there are many callbacks — pass\n",
    "a Strategy object instead"
   ]
  },
  {
   "cell_type": "markdown",
   "metadata": {
    "slideshow": {
     "slide_type": "subslide"
    }
   },
   "source": [
    "## Visitor\n",
    "\n",
    "Replaces doThis() and doThat() methods on\n",
    "tree nodes, that act on the current node and\n",
    "then call the same method on their children,\n",
    "with a do(action) traversal method\n",
    "Not frequently encountered in Python\n",
    "We tend to turn this problem inside out:\n",
    "for node in lxml_root.walk():  # or os.walk!\n",
    "    # do something to the node\n",
    "Behavioral Patterns\n",
    "\n",
    "Are big solutions for big problems\n",
    "Most patterns work fine in Python\n",
    "Many of them turn up in big and\n",
    "popular libraries, or even in the\n",
    "Standard Library\n",
    "The Iterator pattern is now a\n",
    "foundation of how we write Python/\n",
    "\n",
    "---"
   ]
  },
  {
   "cell_type": "markdown",
   "metadata": {
    "slideshow": {
     "slide_type": "slide"
    }
   },
   "source": [
    "# Regular Expressions\n",
    "\n",
    "- Pattern matching\n",
    "- Validation\n",
    "- Searching, Replacing etc..."
   ]
  },
  {
   "cell_type": "markdown",
   "metadata": {
    "slideshow": {
     "slide_type": "subslide"
    }
   },
   "source": [
    "## re module"
   ]
  },
  {
   "cell_type": "code",
   "execution_count": 297,
   "metadata": {},
   "outputs": [],
   "source": [
    "import re"
   ]
  },
  {
   "cell_type": "markdown",
   "metadata": {
    "slideshow": {
     "slide_type": "fragment"
    }
   },
   "source": [
    "- search\n",
    "- match\n",
    "- sub\n",
    "- finditer, findall\n",
    "- compile"
   ]
  },
  {
   "cell_type": "markdown",
   "metadata": {
    "slideshow": {
     "slide_type": "subslide"
    }
   },
   "source": [
    "### Metachars\n",
    "\n",
    "|Char    | Matches                        | example                    |\n",
    "|:------|:--------------------------------|:----------------------------|\n",
    "|**`.`**     |Match any character             |`foo.bar` foodbar             |\n",
    "|**`^`**     |Match the beginning of line     |`^hi` lines starting \"hi\"     |\n",
    "|**`$`**     | Match the end of line          |`hi$` lines ending \"hi\"       |\n",
    "|**`[ABC]`** |Match A or B or C               |`h[ae]ll` hall, hell          |\n",
    "|**`[^DEF]`**|Any character except D or E or F|`h[^ae]ll` h9ll but not hall  |\n",
    "|**`[A-Z]`** |A character in the range A-Z    |`A[A-Z]T` ANT, but not AnT    |"
   ]
  },
  {
   "cell_type": "markdown",
   "metadata": {
    "slideshow": {
     "slide_type": "subslide"
    }
   },
   "source": [
    "### Special Character Sets\n",
    "|Char|Meaning|\n",
    "|--|:-------|\n",
    "| **`\\w`**|Word characters, same as `[A-Za-z0-9_]`|\n",
    "| **`\\W`**|Not word characters, same as `[^A-Za-z0-9_]`|\n",
    "| **`\\d`**|Digit same as `[0-9]`|\n",
    "| **`\\D`**|Not Digit, same as `[^0-9]`|\n",
    "| **`\\s`**|White space, that is space, tab, newline, vspace, hspace etc.|\n",
    "| **`\\S`**|Not whitespace|\n",
    "| **`\\b`**|Word break. Matches a word character to non word character transition or vice versa|"
   ]
  },
  {
   "cell_type": "markdown",
   "metadata": {
    "slideshow": {
     "slide_type": "subslide"
    }
   },
   "source": [
    "### Quantifiers\n",
    "|Char|Number of matches|\n",
    "|--|:-------|\n",
    "| **`*`**|Any number of times|\n",
    "| **`+`**|1 or more times|\n",
    "| **`?`**|0 or 1|\n",
    "| **`{N,M}`**|N,M are ints N <= mathes <=M|\n",
    "| **`{N,}`**|At least N times (No max)|"
   ]
  },
  {
   "cell_type": "markdown",
   "metadata": {},
   "source": [
    "Match an IP address, assuming that 0.0.0.0 up to 999.999.999.999 is possible, not 255.255.255.255 as in reality."
   ]
  },
  {
   "cell_type": "code",
   "execution_count": 298,
   "metadata": {},
   "outputs": [
    {
     "data": {
      "text/plain": [
       "<re.Match object; span=(0, 11), match='192.168.1.1'>"
      ]
     },
     "execution_count": 298,
     "metadata": {},
     "output_type": "execute_result"
    }
   ],
   "source": [
    "import re\n",
    "ip_regex = r'^(\\d{1,3}\\.){3}\\d{1,3}$'\n",
    "re.search(ip_regex, '192.168.1.1')"
   ]
  },
  {
   "cell_type": "code",
   "execution_count": 299,
   "metadata": {},
   "outputs": [
    {
     "data": {
      "text/plain": [
       "<re.Match object; span=(12, 40), match='fred.bloggs@acme-trading.com'>"
      ]
     },
     "execution_count": 299,
     "metadata": {},
     "output_type": "execute_result"
    }
   ],
   "source": [
    "email_regex = r'\\b[\\w.-]+@[b\\w.-]+\\b'\n",
    "re.search(email_regex, 'my email is fred.bloggs@acme-trading.com what is yours')"
   ]
  },
  {
   "cell_type": "markdown",
   "metadata": {},
   "source": [
    "## Groups"
   ]
  },
  {
   "cell_type": "code",
   "execution_count": 300,
   "metadata": {},
   "outputs": [],
   "source": [
    "email_regex = r'\\b([\\w.-]+)@([b\\w.-]+)\\b'\n",
    "match = re.search(email_regex, 'my email is fred.bloggs@acme-trading.com what is yours')"
   ]
  },
  {
   "cell_type": "code",
   "execution_count": 301,
   "metadata": {},
   "outputs": [
    {
     "data": {
      "text/plain": [
       "('fred.bloggs', 'acme-trading.com')"
      ]
     },
     "execution_count": 301,
     "metadata": {},
     "output_type": "execute_result"
    }
   ],
   "source": [
    "match.groups()"
   ]
  },
  {
   "cell_type": "code",
   "execution_count": 302,
   "metadata": {},
   "outputs": [
    {
     "data": {
      "text/plain": [
       "'fred.bloggs'"
      ]
     },
     "execution_count": 302,
     "metadata": {},
     "output_type": "execute_result"
    }
   ],
   "source": [
    "match.group(1)"
   ]
  },
  {
   "cell_type": "code",
   "execution_count": 303,
   "metadata": {},
   "outputs": [
    {
     "data": {
      "text/plain": [
       "'acme-trading.com'"
      ]
     },
     "execution_count": 303,
     "metadata": {},
     "output_type": "execute_result"
    }
   ],
   "source": [
    "match.group(2)"
   ]
  },
  {
   "cell_type": "code",
   "execution_count": 304,
   "metadata": {},
   "outputs": [
    {
     "data": {
      "text/plain": [
       "'fred.bloggs@acme-trading.com'"
      ]
     },
     "execution_count": 304,
     "metadata": {},
     "output_type": "execute_result"
    }
   ],
   "source": [
    "match.group(0)"
   ]
  },
  {
   "cell_type": "markdown",
   "metadata": {
    "slideshow": {
     "slide_type": "slide"
    }
   },
   "source": [
    "# Profiling\n",
    "- *__cProfile__* is a  deterministic profiling module for Python programs.  (Compiles in C) \n",
    "- A profile is a set of statistics that describes how often and for how long various parts of the program executed. \n",
    "- These statistics can be formatted into reports via the *__pstats__* module."
   ]
  },
  {
   "cell_type": "markdown",
   "metadata": {
    "slideshow": {
     "slide_type": "subslide"
    }
   },
   "source": [
    "## Calling cProfile"
   ]
  },
  {
   "cell_type": "code",
   "execution_count": 305,
   "metadata": {},
   "outputs": [
    {
     "name": "stdout",
     "output_type": "stream",
     "text": [
      "         214 function calls (207 primitive calls) in 0.000 seconds\n",
      "\n",
      "   Ordered by: standard name\n",
      "\n",
      "   ncalls  tottime  percall  cumtime  percall filename:lineno(function)\n",
      "        1    0.000    0.000    0.000    0.000 <string>:1(<module>)\n",
      "        2    0.000    0.000    0.000    0.000 enum.py:284(__call__)\n",
      "        2    0.000    0.000    0.000    0.000 enum.py:526(__new__)\n",
      "        1    0.000    0.000    0.000    0.000 enum.py:836(__and__)\n",
      "        1    0.000    0.000    0.000    0.000 re.py:232(compile)\n",
      "        1    0.000    0.000    0.000    0.000 re.py:271(_compile)\n",
      "        1    0.000    0.000    0.000    0.000 sre_compile.py:249(_compile_charset)\n",
      "        1    0.000    0.000    0.000    0.000 sre_compile.py:276(_optimize_charset)\n",
      "        2    0.000    0.000    0.000    0.000 sre_compile.py:453(_get_iscased)\n",
      "        1    0.000    0.000    0.000    0.000 sre_compile.py:461(_get_literal_prefix)\n",
      "        1    0.000    0.000    0.000    0.000 sre_compile.py:492(_get_charset_prefix)\n",
      "        1    0.000    0.000    0.000    0.000 sre_compile.py:536(_compile_info)\n",
      "        2    0.000    0.000    0.000    0.000 sre_compile.py:595(isstring)\n",
      "        1    0.000    0.000    0.000    0.000 sre_compile.py:598(_code)\n",
      "      3/1    0.000    0.000    0.000    0.000 sre_compile.py:71(_compile)\n",
      "        1    0.000    0.000    0.000    0.000 sre_compile.py:759(compile)\n",
      "        3    0.000    0.000    0.000    0.000 sre_parse.py:111(__init__)\n",
      "        7    0.000    0.000    0.000    0.000 sre_parse.py:160(__len__)\n",
      "       18    0.000    0.000    0.000    0.000 sre_parse.py:164(__getitem__)\n",
      "        7    0.000    0.000    0.000    0.000 sre_parse.py:172(append)\n",
      "      3/1    0.000    0.000    0.000    0.000 sre_parse.py:174(getwidth)\n",
      "        1    0.000    0.000    0.000    0.000 sre_parse.py:224(__init__)\n",
      "        8    0.000    0.000    0.000    0.000 sre_parse.py:233(__next)\n",
      "        2    0.000    0.000    0.000    0.000 sre_parse.py:249(match)\n",
      "        6    0.000    0.000    0.000    0.000 sre_parse.py:254(get)\n",
      "        1    0.000    0.000    0.000    0.000 sre_parse.py:286(tell)\n",
      "        1    0.000    0.000    0.000    0.000 sre_parse.py:417(_parse_sub)\n",
      "        2    0.000    0.000    0.000    0.000 sre_parse.py:475(_parse)\n",
      "        1    0.000    0.000    0.000    0.000 sre_parse.py:76(__init__)\n",
      "        2    0.000    0.000    0.000    0.000 sre_parse.py:81(groups)\n",
      "        1    0.000    0.000    0.000    0.000 sre_parse.py:903(fix_flags)\n",
      "        1    0.000    0.000    0.000    0.000 sre_parse.py:919(parse)\n",
      "        1    0.000    0.000    0.000    0.000 {built-in method _sre.compile}\n",
      "        1    0.000    0.000    0.000    0.000 {built-in method builtins.exec}\n",
      "       25    0.000    0.000    0.000    0.000 {built-in method builtins.isinstance}\n",
      "    29/26    0.000    0.000    0.000    0.000 {built-in method builtins.len}\n",
      "        2    0.000    0.000    0.000    0.000 {built-in method builtins.max}\n",
      "        9    0.000    0.000    0.000    0.000 {built-in method builtins.min}\n",
      "        6    0.000    0.000    0.000    0.000 {built-in method builtins.ord}\n",
      "       48    0.000    0.000    0.000    0.000 {method 'append' of 'list' objects}\n",
      "        1    0.000    0.000    0.000    0.000 {method 'disable' of '_lsprof.Profiler' objects}\n",
      "        5    0.000    0.000    0.000    0.000 {method 'find' of 'bytearray' objects}\n",
      "        1    0.000    0.000    0.000    0.000 {method 'items' of 'dict' objects}\n",
      "\n",
      "\n"
     ]
    }
   ],
   "source": [
    "import cProfile\n",
    "import re\n",
    "cProfile.run('re.compile(\"foo|bar\")')"
   ]
  },
  {
   "cell_type": "markdown",
   "metadata": {
    "slideshow": {
     "slide_type": "subslide"
    }
   },
   "source": [
    "### cProfile output columns\n",
    "- **ncalls**\n",
    "    for the number of calls,\n",
    "- **tottime**\n",
    "    for the total time spent in the given function (and excluding time made in calls to sub-functions)\n",
    "- **percall**\n",
    "    is the quotient of tottime divided by ncalls\n",
    "- **cumtime**\n",
    "    is the cumulative time spent in this and all subfunctions (from invocation till exit). This figure is accurate even for recursive functions.\n",
    "- **percall**\n",
    "    is the quotient of cumtime divided by primitive calls\n",
    "- **filename:lineno(function)**\n",
    "    provides the respective data of each function"
   ]
  },
  {
   "cell_type": "markdown",
   "metadata": {
    "slideshow": {
     "slide_type": "subslide"
    }
   },
   "source": [
    "### Calling cProfile\n",
    "- shell `python -m cProfile -s tottime your_program.py`\n",
    "- RunSnakeRun is GUI program for viewing cProfile"
   ]
  },
  {
   "cell_type": "markdown",
   "metadata": {
    "slideshow": {
     "slide_type": "subslide"
    }
   },
   "source": [
    "### Line Profiling\n",
    "- Line by line profiling\n",
    "- Finer grained"
   ]
  },
  {
   "cell_type": "markdown",
   "metadata": {
    "slideshow": {
     "slide_type": "notes"
    }
   },
   "source": [
    "Note:\n",
    "Sometimes the profiler may lump together methods calls from different parts of your code, or just won't be precise enough."
   ]
  },
  {
   "cell_type": "markdown",
   "metadata": {
    "slideshow": {
     "slide_type": "subslide"
    }
   },
   "source": [
    "`pip install line_profiler`\n",
    "\n",
    "Then, modify your code and decorate each function that you want to profile with @profile. Let's decorate our function so it will look like this:"
   ]
  },
  {
   "cell_type": "markdown",
   "metadata": {
    "slideshow": {
     "slide_type": "fragment"
    }
   },
   "source": [
    "```python\n",
    "@profile\n",
    "def write_sorted_letters(nb_letters=10**7):\n",
    "    ...\n",
    "```"
   ]
  },
  {
   "cell_type": "markdown",
   "metadata": {
    "slideshow": {
     "slide_type": "subslide"
    }
   },
   "source": [
    "You can then run your program through the line profiler like this:\n",
    "\n",
    "`kernprof -l -v your_program.py`\n",
    "\n",
    "- `-l` for line by line profile\n",
    "- `-v` for immediately visualizing the results"
   ]
  },
  {
   "cell_type": "markdown",
   "metadata": {
    "slideshow": {
     "slide_type": "subslide"
    }
   },
   "source": [
    "### result"
   ]
  },
  {
   "cell_type": "markdown",
   "metadata": {},
   "source": [
    "    Total time: 21.4412 s\n",
    "    File: ./sort.py\n",
    "    Function: write_sorted_letters at line 5\n",
    "    Line #      Hits         Time    Per Hit   % Time  Line Contents\n",
    "    ================================================================\n",
    "     5                                             @profile\n",
    "     6                                             def write_sorted_letters(nb_letters=10**7):\n",
    "     7         1            1        1.0      0.0  random_string = ''\n",
    "     8  10000001      3230206        0.3     15.1  for _ in range(nb_letters):\n",
    "     9  10000000      9352815        0.9     43.6  random_string += random.choice('abcdefghijklmnopqrstuvwxyz')\n",
    "    10         1      1647254  1647254.0      7.7  sorted_string = sorted(random_string)\n",
    "    11                                           \n",
    "    12         1         1334     1334.0      0.0  with open(\"sorted_text.txt\", \"w\") as sorted_text:\n",
    "    13  10000001      2899712        0.3     13.5  for character in sorted_string:\n",
    "    14  10000000      4309926        0.4     20.1  sorted_text.write(character)"
   ]
  },
  {
   "cell_type": "markdown",
   "metadata": {
    "slideshow": {
     "slide_type": "subslide"
    }
   },
   "source": [
    "### Analysis\n",
    "- First, note that this profiling tool is slowing down our program almost twofold, from 11 seconds to 21.\n",
    "\n",
    "- But there is an upside: we have our program on the right hand side and can see which lines are impacting the performance of our application and how much so."
   ]
  },
  {
   "cell_type": "markdown",
   "metadata": {
    "slideshow": {
     "slide_type": "subslide"
    }
   },
   "source": [
    "### Realtime Continuous  Profiling\n",
    "\n",
    "- The integrated profiler is simple enough and can get you where you want in terms of performance for single-thread, local workloads. But a large, threaded, web application is a whole different beast.\n",
    "\n",
    "- Let's have a look at the awesome Profiling module.\n",
    "\n",
    "- First, install it with sudo pip install profiling, then run your program through it: profiling your_program.py. Don't forget to remove the @profile decorator that will only work with the line_profiler."
   ]
  },
  {
   "cell_type": "markdown",
   "metadata": {
    "slideshow": {
     "slide_type": "subslide"
    }
   },
   "source": [
    "**Realtime Continuous Profiling Continued**\n",
    "\n",
    "- It gives us a detailed tree-like view of the profile at the end of the program's run:\n",
    "\n",
    "\n",
    "- It's interactive so you can navigate and fold/unfold each line by using the arrow keys.\n",
    "\n",
    "- There is also a live mode for long running processes such as web servers. You can invoke it like this: profiling live-profile your_server_program.py. You can interact with it as your program is running to explore your program's performance profile as it runs.\n",
    "\n",
    "---"
   ]
  },
  {
   "cell_type": "markdown",
   "metadata": {
    "slideshow": {
     "slide_type": "slide"
    }
   },
   "source": [
    "# Identifying memory leaks"
   ]
  },
  {
   "cell_type": "markdown",
   "metadata": {
    "slideshow": {
     "slide_type": "fragment"
    }
   },
   "source": [
    "## The Muppy Module\n",
    "Muppy allows you to get hold of all objects,"
   ]
  },
  {
   "cell_type": "code",
   "execution_count": 306,
   "metadata": {
    "slideshow": {
     "slide_type": "fragment"
    }
   },
   "outputs": [
    {
     "data": {
      "text/plain": [
       "140843"
      ]
     },
     "execution_count": 306,
     "metadata": {},
     "output_type": "execute_result"
    }
   ],
   "source": [
    "from pympler import muppy\n",
    "all_objects = muppy.get_objects()\n",
    "len(all_objects)                           "
   ]
  },
  {
   "cell_type": "markdown",
   "metadata": {
    "slideshow": {
     "slide_type": "notes"
    }
   },
   "source": [
    "Note:\n",
    "Muppy tries to help developers to identity memory leaks of Python applications. It enables the tracking of memory usage during runtime and the identification of objects which are leaking. Additionally, tools are provided which allow to locate the source of not released objects.\n",
    "\n",
    "Muppy is (yet another) Memory Usage Profiler for Python. The focus of this toolset is laid on the identification of memory leaks. Let's have a look what you can do with muppy.\n",
    "The muppy module"
   ]
  },
  {
   "cell_type": "markdown",
   "metadata": {
    "slideshow": {
     "slide_type": "subslide"
    }
   },
   "source": [
    "### Using The Muppy Module\n",
    "or filter out certain types of objects."
   ]
  },
  {
   "cell_type": "code",
   "execution_count": 307,
   "metadata": {
    "slideshow": {
     "slide_type": "fragment"
    }
   },
   "outputs": [
    {
     "data": {
      "text/plain": [
       "14878"
      ]
     },
     "execution_count": 307,
     "metadata": {},
     "output_type": "execute_result"
    }
   ],
   "source": [
    "import types\n",
    "my_types = muppy.filter(all_objects, Type=types.CodeType)\n",
    "len(my_types)"
   ]
  },
  {
   "cell_type": "code",
   "execution_count": 308,
   "metadata": {
    "slideshow": {
     "slide_type": "subslide"
    }
   },
   "outputs": [
    {
     "name": "stdout",
     "output_type": "stream",
     "text": [
      "<code object _wrap at 0x10a762150, file \"<frozen importlib._bootstrap>\", line 27>\n",
      "<code object _new_module at 0x10a7621e0, file \"<frozen importlib._bootstrap>\", line 35>\n",
      "<code object _get_module_lock at 0x10a762c90, file \"<frozen importlib._bootstrap>\", line 157>\n",
      "<code object _lock_unlock_module at 0x10a762d20, file \"<frozen importlib._bootstrap>\", line 194>\n",
      "<code object _call_with_frames_removed at 0x10a762db0, file \"<frozen importlib._bootstrap>\", line 211>\n",
      "<code object _verbose_message at 0x10a762e40, file \"<frozen importlib._bootstrap>\", line 222>\n",
      "<code object _requires_builtin at 0x10a762f60, file \"<frozen importlib._bootstrap>\", line 230>\n",
      "<code object _requires_frozen at 0x10a7ad0c0, file \"<frozen importlib._bootstrap>\", line 241>\n",
      "<code object _load_module_shim at 0x10a7ad150, file \"<frozen importlib._bootstrap>\", line 253>\n",
      "<code object _module_repr at 0x10a7ad1e0, file \"<frozen importlib._bootstrap>\", line 269>\n"
     ]
    }
   ],
   "source": [
    "for t in my_types[:10]:\n",
    "    print(t)"
   ]
  },
  {
   "cell_type": "markdown",
   "metadata": {
    "slideshow": {
     "slide_type": "notes"
    }
   },
   "source": [
    "Note:\n",
    "This result, for example, tells us that the number of lists remained the same, but the memory allocated by lists has increased by 8 bytes. The correct increase for a LP64 system (see 64-Bit_Programming_Models).\n",
    "The summary module"
   ]
  },
  {
   "cell_type": "markdown",
   "metadata": {
    "slideshow": {
     "slide_type": "subslide"
    }
   },
   "source": [
    "### You can create summaries"
   ]
  },
  {
   "cell_type": "code",
   "execution_count": 309,
   "metadata": {
    "slideshow": {
     "slide_type": "fragment"
    }
   },
   "outputs": [
    {
     "name": "stdout",
     "output_type": "stream",
     "text": [
      "                              types |   # objects |   total size\n",
      "=================================== | =========== | ============\n",
      "                                str |       52096 |      6.93 MB\n",
      "                               dict |       13163 |      5.42 MB\n",
      "                               code |       14878 |      2.05 MB\n",
      "                               type |        2311 |      1.98 MB\n",
      "                              tuple |       12059 |    783.04 KB\n",
      "                                set |         472 |    475.75 KB\n",
      "                 _io.BufferedWriter |           3 |    384.52 KB\n",
      "                               list |        2128 |    354.66 KB\n",
      "                            weakref |        3253 |    254.14 KB\n",
      "                        abc.ABCMeta |         241 |    243.08 KB\n",
      "  traitlets.traitlets.MetaHasTraits |         194 |    189.56 KB\n",
      "                 wrapper_descriptor |        2382 |    186.09 KB\n",
      "                  getset_descriptor |        2219 |    156.02 KB\n",
      "                function (__init__) |        1110 |    147.42 KB\n",
      "                                int |        4801 |    143.95 KB\n"
     ]
    }
   ],
   "source": [
    "from pympler import summary\n",
    "sum1 = summary.summarize(all_objects)\n",
    "summary.print_(sum1)"
   ]
  },
  {
   "cell_type": "markdown",
   "metadata": {
    "slideshow": {
     "slide_type": "subslide"
    }
   },
   "source": [
    "### Compare them with other summaries."
   ]
  },
  {
   "cell_type": "code",
   "execution_count": 310,
   "metadata": {},
   "outputs": [
    {
     "name": "stdout",
     "output_type": "stream",
     "text": [
      "                       types |   # objects |   total size\n",
      "============================ | =========== | ============\n",
      "                        list |        9570 |      2.12 MB\n",
      "                         str |        9561 |    684.40 KB\n",
      "                         int |        1935 |     52.92 KB\n",
      "                        dict |          45 |      8.46 KB\n",
      "                       tuple |          46 |      2.98 KB\n",
      "                       bytes |          22 |      2.60 KB\n",
      "       zmq.sugar.frame.Frame |           7 |      1.26 KB\n",
      "                     weakref |          16 |      1.25 KB\n",
      "           member_descriptor |          16 |      1.12 KB\n",
      "                        cell |          23 |      1.08 KB\n",
      "  builtin_function_or_method |          15 |      1.05 KB\n",
      "           method_descriptor |          12 |    864     B\n",
      "         function (<lambda>) |           6 |    816     B\n",
      "                      method |          11 |    704     B\n",
      "             _asyncio.Future |           5 |    640     B\n"
     ]
    }
   ],
   "source": [
    "sum2 = summary.summarize(muppy.get_objects())\n",
    "diff = summary.get_diff(sum1, sum2)\n",
    "summary.print_(diff)                          "
   ]
  },
  {
   "cell_type": "markdown",
   "metadata": {
    "slideshow": {
     "slide_type": "subslide"
    }
   },
   "source": [
    "## The tracker module"
   ]
  },
  {
   "cell_type": "code",
   "execution_count": 311,
   "metadata": {
    "slideshow": {
     "slide_type": "fragment"
    }
   },
   "outputs": [
    {
     "name": "stdout",
     "output_type": "stream",
     "text": [
      "                       types |   # objects |   total size\n",
      "============================ | =========== | ============\n",
      "                        list |        9538 |    895.59 KB\n",
      "                         str |        9535 |    682.04 KB\n",
      "                         int |        1927 |     52.69 KB\n",
      "                        dict |           3 |    592     B\n",
      "       function (store_info) |           1 |    136     B\n",
      "                        cell |           2 |     96     B\n",
      "                      method |           1 |     64     B\n",
      "            _ast.Interactive |           1 |     56     B\n",
      "                 _ast.Module |          -1 |    -56     B\n",
      "  builtin_function_or_method |          -3 |   -216     B\n",
      "                       tuple |          -9 |   -632     B\n"
     ]
    }
   ],
   "source": [
    "from pympler import tracker\n",
    "tr = tracker.SummaryTracker()\n",
    "tr.print_diff()"
   ]
  },
  {
   "cell_type": "markdown",
   "metadata": {
    "slideshow": {
     "slide_type": "notes"
    }
   },
   "source": [
    "Note:\n",
    "A tracker object creates a summary (that is a summary which it will remember) on initialization. Now whenever you call tracker.print_diff(), a new summary of the current state is created, compared to the previous summary and printed to the console. As you can see here, quite a few objects got in between these two invocations. But if you don't do anything, nothing will change."
   ]
  },
  {
   "cell_type": "markdown",
   "metadata": {
    "slideshow": {
     "slide_type": "subslide"
    }
   },
   "source": [
    "**Diff 2**"
   ]
  },
  {
   "cell_type": "code",
   "execution_count": 312,
   "metadata": {
    "slideshow": {
     "slide_type": "fragment"
    }
   },
   "outputs": [
    {
     "name": "stdout",
     "output_type": "stream",
     "text": [
      "                       types |   # objects |   total size\n",
      "============================ | =========== | ============\n",
      "                       bytes |          13 |      1.54 KB\n",
      "                       tuple |          14 |    912     B\n",
      "                        list |           5 |    664     B\n",
      "                         str |           7 |    659     B\n",
      "  builtin_function_or_method |           4 |    288     B\n",
      "                        cell |           6 |    288     B\n",
      "         function (<lambda>) |           2 |    272     B\n",
      "               list_iterator |           3 |    168     B\n",
      "                        code |           1 |    144     B\n",
      "              sqlite3.Cursor |           1 |    112     B\n",
      "                     weakref |           1 |     80     B\n",
      "                      method |           1 |     64     B\n",
      "                       float |           1 |     24     B\n",
      "              _ast.Attribute |          -1 |    -56     B\n",
      "                   _ast.Call |          -1 |    -56     B\n"
     ]
    }
   ],
   "source": [
    "tr.print_diff()                               "
   ]
  },
  {
   "cell_type": "markdown",
   "metadata": {
    "slideshow": {
     "slide_type": "subslide"
    }
   },
   "source": [
    "**Now check out this code snippet**"
   ]
  },
  {
   "cell_type": "code",
   "execution_count": 313,
   "metadata": {
    "slideshow": {
     "slide_type": "fragment"
    }
   },
   "outputs": [
    {
     "name": "stdout",
     "output_type": "stream",
     "text": [
      "        types |   # objects |   total size\n",
      "============= | =========== | ============\n",
      "         dict |          14 |      1.66 KB\n",
      "         list |           8 |    680     B\n",
      "          str |           7 |    595     B\n",
      "     _ast.Num |           5 |    280     B\n",
      "        tuple |           4 |    272     B\n",
      "    _ast.Name |           3 |    168     B\n",
      "  _ast.Assign |           3 |    168     B\n",
      "        bytes |           1 |    157     B\n",
      "      weakref |           1 |     80     B\n",
      "    _ast.List |           1 |     56     B\n",
      "    _ast.Dict |           1 |     56     B\n",
      "          int |           1 |     28     B\n",
      "        float |           1 |     24     B\n"
     ]
    }
   ],
   "source": [
    "i = 1\n",
    "l = [1,2,3,4]\n",
    "d = {}\n",
    "tr.print_diff()                               "
   ]
  },
  {
   "cell_type": "markdown",
   "metadata": {
    "slideshow": {
     "slide_type": "notes"
    }
   },
   "source": [
    "Note:\n",
    "As you can see both, the new list and the new dict appear in the summary, but not the 4 integers used. Why is that? Because they existed already before they were used here, that is some other part in the Python interpreter code makes already use of them. Thus, they are not new.\n",
    "The refbrowser module"
   ]
  },
  {
   "cell_type": "markdown",
   "metadata": {
    "slideshow": {
     "slide_type": "subslide"
    }
   },
   "source": [
    "## Reference Browser\n",
    "In case some objects are leaking and you don't know where they are still referenced, you can use the referrers browser. At first let's create a root object which we then reference from a tuple and a list."
   ]
  },
  {
   "cell_type": "code",
   "execution_count": 314,
   "metadata": {
    "slideshow": {
     "slide_type": "subslide"
    }
   },
   "outputs": [],
   "source": [
    "from pympler import refbrowser\n",
    "root = \"some root object\"\n",
    "root_ref1 = [root]\n",
    "root_ref2 = (root, )\n",
    "\n",
    "def output_function(o):\n",
    "    return str(type(o))"
   ]
  },
  {
   "cell_type": "code",
   "execution_count": 315,
   "metadata": {
    "slideshow": {
     "slide_type": "fragment"
    }
   },
   "outputs": [],
   "source": [
    "cb = refbrowser.ConsoleBrowser(root, maxdepth=2, str_func=output_function)"
   ]
  },
  {
   "cell_type": "markdown",
   "metadata": {
    "slideshow": {
     "slide_type": "subslide"
    }
   },
   "source": [
    "## ConsoleBrowser\n",
    "Then we create a ConsoleBrowser, which will give us a referrers tree starting at root, printing to a maximum depth of 2, and uses str_func to represent objects. Now it's time to see where we are at."
   ]
  },
  {
   "cell_type": "code",
   "execution_count": 316,
   "metadata": {
    "slideshow": {
     "slide_type": "subslide"
    }
   },
   "outputs": [
    {
     "name": "stdout",
     "output_type": "stream",
     "text": [
      "<class 'str'>-+-<class 'list'>--<class 'dict'>\n",
      "              +-<class 'tuple'>--<class 'dict'>\n",
      "              +-<class 'dict'>-+-<class 'function'>\n",
      "                               +-<class 'dict'>\n",
      "                               +-<class 'module'>\n",
      "                               +-<class 'dict'>\n",
      "                               +-<class 'dict'>\n",
      "                               +-<class 'function'>\n",
      "                               +-<class 'function'>\n",
      "                               +-<class 'function'>\n",
      "                               +-<class 'function'>\n",
      "                               +-<class 'function'>\n",
      "                               +-<class 'function'>\n",
      "                               +-<class 'function'>\n",
      "                               +-<class 'function'>\n",
      "                               +-<class 'function'>\n",
      "                               +-<class 'function'>\n",
      "                               +-<class 'function'>\n",
      "                               +-<class 'function'>\n",
      "                               +-<class 'function'>\n",
      "                               +-<class 'function'>\n",
      "                               +-<class 'function'>\n",
      "                               +-<class 'function'>\n",
      "                               +-<class 'function'>\n",
      "                               +-<class 'function'>\n",
      "                               +-<class 'function'>\n",
      "                               +-<class 'function'>\n",
      "                               +-<class 'function'>\n",
      "                               +-<class 'function'>\n",
      "                               +-<class 'function'>\n",
      "                               +-<class 'function'>\n",
      "                               +-<class 'function'>\n",
      "                               +-<class 'function'>\n",
      "                               +-<class 'function'>\n",
      "                               +-<class 'function'>\n",
      "                               +-<class 'function'>\n",
      "                               +-<class 'function'>\n",
      "                               +-<class 'function'>\n",
      "                               +-<class 'function'>\n",
      "                               +-<class 'function'>\n",
      "                               +-<class 'function'>\n",
      "                               +-<class 'function'>\n",
      "                               +-<class 'function'>\n",
      "                               +-<class 'function'>\n",
      "                               +-<class 'function'>\n",
      "                               +-<class 'function'>\n",
      "                               +-<class 'function'>\n",
      "                               +-<class 'function'>\n",
      "                               +-<class 'function'>\n",
      "                               +-<class 'function'>\n",
      "                               +-<class 'function'>\n",
      "                               +-<class 'function'>\n",
      "                               +-<class 'function'>\n",
      "                               +-<class 'function'>\n",
      "                               +-<class 'function'>\n",
      "                               +-<class 'function'>\n",
      "                               +-<class 'function'>\n",
      "                               +-<class 'function'>\n",
      "                               +-<class 'function'>\n",
      "                               +-<class 'function'>\n",
      "                               +-<class 'function'>\n",
      "                               +-<class 'function'>\n",
      "                               +-<class 'function'>\n",
      "                               +-<class 'function'>\n",
      "                               +-<class 'function'>\n",
      "                               +-<class 'function'>\n",
      "                               +-<class 'function'>\n",
      "                               +-<class 'function'>\n",
      "                               +-<class 'function'>\n",
      "                               +-<class 'function'>\n",
      "                               +-<class 'function'>\n",
      "                               +-<class 'function'>\n",
      "                               +-<class 'function'>\n",
      "                               +-<class 'function'>\n",
      "                               +-<class 'function'>\n",
      "                               +-<class 'function'>\n",
      "                               +-<class 'function'>\n",
      "                               +-<class 'function'>\n",
      "                               +-<class 'function'>\n",
      "                               +-<class 'function'>\n",
      "                               +-<class 'function'>\n",
      "                               +-<class 'function'>\n",
      "                               +-<class 'function'>\n",
      "                               +-<class 'function'>\n",
      "                               +-<class 'function'>\n",
      "                               +-<class 'function'>\n",
      "                               +-<class 'function'>\n",
      "                               +-<class 'function'>\n",
      "                               +-<class 'function'>\n",
      "                               +-<class 'function'>\n",
      "                               +-<class 'frame'>\n",
      "                               +-<class 'function'>\n",
      "                               +-<class 'function'>\n",
      "                               +-<class 'function'>\n",
      "                               +-<class 'function'>\n",
      "                               +-<class 'function'>\n",
      "                               +-<class 'function'>\n",
      "                               +-<class 'function'>\n",
      "                               +-<class 'function'>\n",
      "                               +-<class 'function'>\n",
      "                               +-<class 'function'>\n",
      "                               +-<class 'function'>\n",
      "                               +-<class 'function'>\n",
      "                               +-<class 'function'>\n",
      "                               +-<class 'function'>\n",
      "                               +-<class 'function'>\n",
      "                               +-<class 'function'>\n",
      "                               +-<class 'function'>\n",
      "                               +-<class 'function'>\n",
      "                               +-<class 'function'>\n",
      "                               +-<class 'function'>\n",
      "                               +-<class 'function'>\n",
      "                               +-<class 'function'>\n",
      "                               +-<class 'function'>\n",
      "                               +-<class 'function'>\n",
      "                               +-<class 'function'>\n",
      "                               +-<class 'function'>\n",
      "                               +-<class 'function'>\n",
      "                               +-<class 'list'>\n"
     ]
    }
   ],
   "source": [
    ">>> cb.print_tree()"
   ]
  },
  {
   "cell_type": "markdown",
   "metadata": {
    "slideshow": {
     "slide_type": "notes"
    }
   },
   "source": [
    "Note:\n",
    "What we see is that the root object is referenced by the tuple and the list, as well as by three dictionaries. These dictionaries belong to the environment, e.g. the ConsoleBrowser we just started and the current execution context.\n",
    "\n",
    "---"
   ]
  },
  {
   "cell_type": "markdown",
   "metadata": {
    "slideshow": {
     "slide_type": "slide"
    }
   },
   "source": [
    "# Performance Tips\n",
    "\n",
    "\n",
    "1. Get it right.\n",
    "2. Test it's right.\n",
    "3. Profile if slow.\n",
    "4. Optimise.\n",
    "5. Repeat from 2."
   ]
  },
  {
   "cell_type": "markdown",
   "metadata": {
    "slideshow": {
     "slide_type": "notes"
    }
   },
   "source": [
    "Note:\n",
    "you can only know what makes your program slow after first getting the program to give correct results, then running it to see if the correct program is slow. When found to be slow, profiling can show what parts of the program are consuming most of the time. A comprehensive but quick-to-run test suite can then ensure that future optimizations don't change the correctness of your program. In short:\n",
    "\n",
    "Certain optimizations amount to good programming style and so should be learned as you learn the language. An example would be moving the calculation of values that don't change within a loop, outside of the loop."
   ]
  },
  {
   "cell_type": "markdown",
   "metadata": {
    "slideshow": {
     "slide_type": "subslide"
    }
   },
   "source": [
    "## Choose the Right Data Structure\n",
    "if ...\n",
    "- del anylist[0]\n",
    "- anylist.pop(0)\n",
    "- anylist.insert(0,o)\n",
    "\n",
    "then ...\n",
    "\n",
    "use **deque**"
   ]
  },
  {
   "cell_type": "markdown",
   "metadata": {
    "slideshow": {
     "slide_type": "subslide"
    }
   },
   "source": [
    "** Do not do this **"
   ]
  },
  {
   "cell_type": "markdown",
   "metadata": {
    "slideshow": {
     "slide_type": "fragment"
    }
   },
   "source": [
    "```python\n",
    "s = \"\"\n",
    "for substring in list:\n",
    "    s += substring\n",
    "```"
   ]
  },
  {
   "cell_type": "markdown",
   "metadata": {
    "slideshow": {
     "slide_type": "fragment"
    }
   },
   "source": [
    "- Use `s = \"\".join(list)` instead. \n",
    "- The former is a very common and catastrophic mistake when building large strings. Similarly, if you are generating bits of a string sequentially instead of:"
   ]
  },
  {
   "cell_type": "markdown",
   "metadata": {
    "slideshow": {
     "slide_type": "subslide"
    }
   },
   "source": [
    "## Loops\n",
    "- Loop *may* be less efficient than\n",
    "   - map\n",
    "   - filter\n",
    "   - reduce"
   ]
  },
  {
   "cell_type": "markdown",
   "metadata": {
    "slideshow": {
     "slide_type": "notes"
    }
   },
   "source": [
    "Note:\n",
    "Python supports a couple of looping constructs. The for statement is most commonly used. It loops over the elements of a sequence, assigning each to the loop variable. If the body of your loop is simple, the interpreter overhead of the for loop itself can be a substantial amount of the overhead. This is where the map function is handy. You can think of map as a for moved into C code. The only restriction is that the \"loop body\" of map must be a function call. Besides the syntactic benefit of list comprehensions, they are often as fast or faster than equivalent use of map."
   ]
  },
  {
   "cell_type": "markdown",
   "metadata": {
    "slideshow": {
     "slide_type": "subslide"
    }
   },
   "source": [
    "### Example Loop -> Map"
   ]
  },
  {
   "cell_type": "markdown",
   "metadata": {
    "slideshow": {
     "slide_type": "fragment"
    }
   },
   "source": [
    "```python\n",
    "newlist = []\n",
    "for word in oldlist:\n",
    "    newlist.append(word.upper())\n",
    "```"
   ]
  },
  {
   "cell_type": "markdown",
   "metadata": {
    "slideshow": {
     "slide_type": "fragment"
    }
   },
   "source": [
    "- you can use map to push the loop from the interpreter into compiled C code:\n",
    "- Avoid attribute lookups by caching in a local, especially if it's occurring in a high-iteration loop. Everything that doesn't change can be cached as local variables, even instance methods. (This is one of the optimizations that the pypy JIT does automatically)"
   ]
  },
  {
   "cell_type": "markdown",
   "metadata": {
    "slideshow": {
     "slide_type": "subslide"
    }
   },
   "source": [
    "## Guido van Rossums Tips\n",
    "- Avoid overengineering datastructures. Tuples are better than objects (try namedtuple too though). Prefer simple fields over getter/setter functions.\n",
    "\n",
    "- Built-in datatypes are your friends. Use more numbers, strings, tuples, lists, sets, dicts. Also check out the collections library, esp. deque.\n",
    "\n",
    "- Be suspicious of function/method calls; creating a stack frame is expensive.\n",
    "\n",
    "- Don't write Java (or C++, or Javascript, ...) in Python.\n",
    "\n",
    "- Are you sure it's too slow? Profile before optimizing!\n",
    "\n",
    "- The universal speed-up is rewriting small bits of code in C. Do this only when all else fails."
   ]
  },
  {
   "cell_type": "markdown",
   "metadata": {
    "slideshow": {
     "slide_type": "subslide"
    }
   },
   "source": [
    "## Avoiding dots..."
   ]
  },
  {
   "cell_type": "markdown",
   "metadata": {
    "slideshow": {
     "slide_type": "fragment"
    }
   },
   "source": [
    "```python\n",
    "upper = str.upper\n",
    "newlist = []\n",
    "append = newlist.append\n",
    "for word in oldlist:\n",
    "    append(upper(word))\n",
    "```"
   ]
  },
  {
   "cell_type": "markdown",
   "metadata": {
    "slideshow": {
     "slide_type": "notes"
    }
   },
   "source": [
    "Note:\n",
    "Suppose you can't use map or a list comprehension? You may be stuck with the for loop. The for loop example has another inefficiency. Both newlist.append and word.upper are function references that are reevaluated each time through the loop. The original loop can be replaced with:\n",
    "\n",
    "This technique should be used with caution. It gets more difficult to maintain if the loop is large. Unless you are intimately familiar with that piece of code you will find yourself scanning up to check the definitions of append and upper."
   ]
  },
  {
   "cell_type": "markdown",
   "metadata": {
    "slideshow": {
     "slide_type": "subslide"
    }
   },
   "source": [
    "### Local Variables\n",
    "- Local faster than global\n",
    "\n",
    "Note:\n",
    "The final speedup available to us for the non-map version of the for loop is to use local variables wherever possible. If the above loop is cast as a function, append and upper become local variables. Python accesses local variables much more efficiently than global variables."
   ]
  },
  {
   "cell_type": "markdown",
   "metadata": {
    "slideshow": {
     "slide_type": "subslide"
    }
   },
   "source": [
    "### Import Statement Overhead\n",
    "- import only what is needed\n",
    "- put imports in conditional "
   ]
  },
  {
   "cell_type": "markdown",
   "metadata": {
    "slideshow": {
     "slide_type": "subslide"
    }
   },
   "source": [
    "Note:\n",
    "import statements can be executed just about anywhere. It's often useful to place them inside functions to restrict their visibility and/or reduce initial startup time. Although Python's interpreter is optimized to not import the same module multiple times, repeatedly executing an import statement can seriously affect performance in some circumstances."
   ]
  },
  {
   "cell_type": "markdown",
   "metadata": {
    "slideshow": {
     "slide_type": "subslide"
    }
   },
   "source": [
    "### Data Aggregation\n",
    "- Loop inside function"
   ]
  },
  {
   "cell_type": "markdown",
   "metadata": {
    "slideshow": {
     "slide_type": "notes"
    }
   },
   "source": [
    "Note:\n",
    "Function call overhead in Python is relatively high, especially compared with the execution speed of a builtin function. This strongly suggests that where appropriate, functions should handle data aggregates. Here's a contrived example written in Python."
   ]
  },
  {
   "cell_type": "code",
   "execution_count": 317,
   "metadata": {
    "slideshow": {
     "slide_type": "subslide"
    }
   },
   "outputs": [],
   "source": [
    "import time\n",
    "\n",
    "x = 0\n",
    "def doit1(i):\n",
    "    global x\n",
    "    x = x + i\n",
    "\n",
    "list = range(100000)\n",
    "t = time.time()\n",
    "for i in list:\n",
    "    doit1(i)"
   ]
  },
  {
   "cell_type": "code",
   "execution_count": 318,
   "metadata": {
    "slideshow": {
     "slide_type": "subslide"
    }
   },
   "outputs": [],
   "source": [
    "x = 0\n",
    "def doit2(list):\n",
    "    global x\n",
    "    for i in list:\n",
    "        x = x + i\n"
   ]
  },
  {
   "cell_type": "markdown",
   "metadata": {
    "slideshow": {
     "slide_type": "subslide"
    }
   },
   "source": [
    "### Doing Stuff Less Often\n",
    "- **sys.setcheckinterval**"
   ]
  },
  {
   "cell_type": "markdown",
   "metadata": {
    "slideshow": {
     "slide_type": "notes"
    }
   },
   "source": [
    "Note:\n",
    "The Python interpreter performs some periodic checks. In particular, it decides whether or not to let another thread run and whether or not to run a pending call (typically a call established by a signal handler). Most of the time there's nothing to do, so performing these checks each pass around the interpreter loop can slow things down. There is a function in the sys module, setcheckinterval, which you can call to tell the interpreter how often to perform these periodic checks. Prior to the release of Python 2.3 it defaulted to 10. In 2.3 this was raised to 100. If you aren't running with threads and you don't expect to be catching many signals, setting this to a larger value can improve the interpreter's performance, sometimes substantially."
   ]
  },
  {
   "cell_type": "markdown",
   "metadata": {
    "slideshow": {
     "slide_type": "subslide"
    }
   },
   "source": [
    "### Use xrange instead of range\n",
    "- range creates a real lis\n",
    "- use more memory\n",
    "- generators rather than structures\n",
    "- Py3 converts many real lists in Py2 to generators"
   ]
  },
  {
   "cell_type": "markdown",
   "metadata": {
    "slideshow": {
     "slide_type": "subslide"
    }
   },
   "source": [
    "### Re-map Functions at runtime\n",
    "\n",
    "- Say you have a function"
   ]
  },
  {
   "cell_type": "code",
   "execution_count": 319,
   "metadata": {
    "slideshow": {
     "slide_type": "fragment"
    }
   },
   "outputs": [],
   "source": [
    "class Test:\n",
    "    def check(self,a,b,c):\n",
    "        if a == 0:\n",
    "            self.str = b*100\n",
    "        else:\n",
    "            self.str = c*100"
   ]
  },
  {
   "cell_type": "code",
   "execution_count": 320,
   "metadata": {
    "slideshow": {
     "slide_type": "fragment"
    }
   },
   "outputs": [],
   "source": [
    "a = Test()\n",
    "def example():\n",
    "    for i in range(0,100000):\n",
    "        a.check(i,\"b\",\"c\")"
   ]
  },
  {
   "cell_type": "code",
   "execution_count": 321,
   "metadata": {
    "slideshow": {
     "slide_type": "fragment"
    }
   },
   "outputs": [
    {
     "name": "stdout",
     "output_type": "stream",
     "text": [
      "         100005 function calls in 0.368 seconds\n",
      "\n",
      "   Ordered by: standard name\n",
      "\n",
      "   ncalls  tottime  percall  cumtime  percall filename:lineno(function)\n",
      "        1    0.000    0.000    0.368    0.368 :0(exec)\n",
      "        1    0.000    0.000    0.000    0.000 :0(setprofile)\n",
      "   100000    0.180    0.000    0.180    0.000 <ipython-input-319-4c9847eebec3>:2(check)\n",
      "        1    0.187    0.187    0.368    0.368 <ipython-input-320-ace2934187fc>:2(example)\n",
      "        1    0.000    0.000    0.368    0.368 <string>:1(<module>)\n",
      "        1    0.000    0.000    0.368    0.368 profile:0(example())\n",
      "        0    0.000             0.000          profile:0(profiler)\n",
      "\n",
      "\n"
     ]
    }
   ],
   "source": [
    "import profile\n",
    "profile.run(\"example()\")"
   ]
  },
  {
   "cell_type": "markdown",
   "metadata": {
    "slideshow": {
     "slide_type": "notes"
    }
   },
   "source": [
    "And suppose this function gets called from somewhere else many times.\n",
    "\n",
    "Well, your check will have an if statement slowing you down all the time except the first time, so you can do this:"
   ]
  },
  {
   "cell_type": "markdown",
   "metadata": {
    "slideshow": {
     "slide_type": "subslide"
    }
   },
   "source": [
    "**If runs only once**"
   ]
  },
  {
   "cell_type": "code",
   "execution_count": 322,
   "metadata": {
    "slideshow": {
     "slide_type": "fragment"
    }
   },
   "outputs": [],
   "source": [
    "class Test2:\n",
    "    def check(self,a,b,c):\n",
    "        self.str = b*100\n",
    "        self.check = self.check_post\n",
    "    def check_post(self,a,b,c):\n",
    "        self.str = c*100"
   ]
  },
  {
   "cell_type": "code",
   "execution_count": 323,
   "metadata": {
    "slideshow": {
     "slide_type": "fragment"
    }
   },
   "outputs": [
    {
     "name": "stdout",
     "output_type": "stream",
     "text": [
      "         100005 function calls in 0.366 seconds\n",
      "\n",
      "   Ordered by: standard name\n",
      "\n",
      "   ncalls  tottime  percall  cumtime  percall filename:lineno(function)\n",
      "        1    0.000    0.000    0.366    0.366 :0(exec)\n",
      "        1    0.000    0.000    0.000    0.000 :0(setprofile)\n",
      "        1    0.000    0.000    0.000    0.000 <ipython-input-322-53cf9952682c>:2(check)\n",
      "    99999    0.177    0.000    0.177    0.000 <ipython-input-322-53cf9952682c>:5(check_post)\n",
      "        1    0.189    0.189    0.366    0.366 <ipython-input-323-eda624e9d4ab>:2(example2)\n",
      "        1    0.000    0.000    0.366    0.366 <string>:1(<module>)\n",
      "        1    0.000    0.000    0.366    0.366 profile:0(example2())\n",
      "        0    0.000             0.000          profile:0(profiler)\n",
      "\n",
      "\n"
     ]
    }
   ],
   "source": [
    "a = Test2()\n",
    "def example2():\n",
    "    for i in range(0,100000):\n",
    "        a.check(i,\"b\",\"c\")\n",
    "\n",
    "import profile\n",
    "profile.run(\"example2()\")"
   ]
  },
  {
   "cell_type": "markdown",
   "metadata": {
    "slideshow": {
     "slide_type": "notes"
    }
   },
   "source": [
    "---"
   ]
  },
  {
   "cell_type": "markdown",
   "metadata": {
    "slideshow": {
     "slide_type": "slide"
    }
   },
   "source": [
    "# Multithreading\n",
    "- Multitasking\n",
    "- Multiprocessing\n",
    "- Multicore\n",
    "- Explicit VS Implicit Multii-Threading"
   ]
  },
  {
   "cell_type": "markdown",
   "metadata": {
    "slideshow": {
     "slide_type": "subslide"
    }
   },
   "source": [
    "## GIL\n",
    "- Global Interpreter Lock\n",
    "- Only one python implicit thread runs concurrently per processor\n",
    "- Implicit threads cannot be used to achieve multiprocessing."
   ]
  },
  {
   "cell_type": "markdown",
   "metadata": {
    "slideshow": {
     "slide_type": "subslide"
    }
   },
   "source": [
    "## Thread and Threading\n",
    "- thread package low level\n",
    "    - only use thead.lock\n",
    "- threaing\n",
    "    - Thread class"
   ]
  },
  {
   "cell_type": "markdown",
   "metadata": {
    "slideshow": {
     "slide_type": "subslide"
    }
   },
   "source": [
    "## Using threading.Thread\n",
    "- Constructor"
   ]
  },
  {
   "cell_type": "markdown",
   "metadata": {
    "slideshow": {
     "slide_type": "fragment"
    }
   },
   "source": [
    "```python\n",
    "Thread(group=None, target=None, name=None, \n",
    "       args=(), kwargs=None, verbose=None)\n",
    "```"
   ]
  },
  {
   "cell_type": "markdown",
   "metadata": {
    "slideshow": {
     "slide_type": "fragment"
    }
   },
   "source": [
    "- Should be called with named args as the order of the signature may be altered in future."
   ]
  },
  {
   "cell_type": "markdown",
   "metadata": {
    "slideshow": {
     "slide_type": "subslide"
    }
   },
   "source": [
    "## Thread constructor args\n",
    "- **`group`** should be None; reserved for future extension when a ThreadGroup class is implemented.\n",
    "\n",
    "- **`target`** is the callable object to be invoked by the `run()` method. \n",
    "\n",
    "- **`name`** is the thread name. Defaults to a \"Thread-N\" where N is a unique int.\n",
    "- **`args`**, **`kwargs`** arguments for *target*, empty by default."
   ]
  },
  {
   "cell_type": "markdown",
   "metadata": {
    "slideshow": {
     "slide_type": "subslide"
    }
   },
   "source": [
    "## Two Approaches to Thread\n",
    "- Two approaches subclass thread and overide *run*\n",
    "- Set target to existing function\n",
    "- `start()` calls *run* or *target* if not None"
   ]
  },
  {
   "cell_type": "markdown",
   "metadata": {
    "slideshow": {
     "slide_type": "subslide"
    }
   },
   "source": [
    "## Trivial Example"
   ]
  },
  {
   "cell_type": "code",
   "execution_count": 324,
   "metadata": {
    "slideshow": {
     "slide_type": "fragment"
    }
   },
   "outputs": [
    {
     "name": "stdout",
     "output_type": "stream",
     "text": [
      "\n",
      "hello\n",
      "Press Enter when donea\n",
      "\n",
      "hello\n",
      "\n",
      "hello\n"
     ]
    }
   ],
   "source": [
    "from threading import Thread\n",
    "from time import sleep\n",
    "\n",
    "def timeout_message(message=None, repeat=3, timeout=5):\n",
    "    def target():\n",
    "        for i in range(repeat):\n",
    "            sleep(timeout)\n",
    "            print('\\n'+message)\n",
    "    \n",
    "    Thread(target=target).start()\n",
    "    input('Press Enter when done')\n",
    "\n",
    "timeout_message('hello')"
   ]
  },
  {
   "cell_type": "markdown",
   "metadata": {
    "slideshow": {
     "slide_type": "subslide"
    }
   },
   "source": [
    "### Daemonization?\n",
    "- A *thread* is said to be a *daemon* if python can terminate in spite of *thread*.\n",
    "- The previous example does not terminate unless both *&lt;enter&gt;* has been pressed and `target()`  has completed."
   ]
  },
  {
   "cell_type": "markdown",
   "metadata": {
    "slideshow": {
     "slide_type": "subslide"
    }
   },
   "source": [
    "To Daemonize, replace:"
   ]
  },
  {
   "cell_type": "markdown",
   "metadata": {
    "slideshow": {
     "slide_type": "fragment"
    }
   },
   "source": [
    "```python\n",
    "Thread(target=target).start()\n",
    "```"
   ]
  },
  {
   "cell_type": "markdown",
   "metadata": {
    "slideshow": {
     "slide_type": "fragment"
    }
   },
   "source": [
    "With:"
   ]
  },
  {
   "cell_type": "markdown",
   "metadata": {
    "slideshow": {
     "slide_type": "fragment"
    }
   },
   "source": [
    "```python\n",
    "t = Thread(target=target)\n",
    "t.setDaemon(1)\n",
    "t.start()\n",
    "```"
   ]
  },
  {
   "cell_type": "markdown",
   "metadata": {
    "slideshow": {
     "slide_type": "subslide"
    }
   },
   "source": [
    "## Local Storage\n",
    "- `l=threading.Local()`\n",
    "- `l.get()`, `l.set()`   return differnt values for each *thread*.\n",
    "- `l.__dict__` Contains values\n",
    "\n",
    "- See the primes example."
   ]
  },
  {
   "cell_type": "markdown",
   "metadata": {
    "slideshow": {
     "slide_type": "subslide"
    }
   },
   "source": [
    "## Safe Multi Threading\n",
    "- All External Resources must be handled by a single thread.\n",
    "- All other threads mus communicate via an *atomic* messaging system. e.g.:\n",
    "    - Queue Module\n",
    "    - Database\n",
    "- OR use locks\n",
    "- The logging module uses locks."
   ]
  },
  {
   "cell_type": "markdown",
   "metadata": {
    "slideshow": {
     "slide_type": "notes"
    }
   },
   "source": [
    "Note:\n",
    "[Excellent talk by Raymond Hettinger](https://youtu.be/Bv25Dwe84g0)\n",
    "[slides](https://dl.dropboxusercontent.com/u/3967849/pyru/_build/html/threading.html)"
   ]
  },
  {
   "cell_type": "markdown",
   "metadata": {
    "slideshow": {
     "slide_type": "subslide"
    }
   },
   "source": [
    "### Atomic operations\n",
    "- reading or replacing a single instance attribute\n",
    "- reading or replacing a single global variable\n",
    "- fetching an item from a list\n",
    "- modifying a list in place (e.g. adding an item using append)\n",
    "- fetching an item from a dictionary\n",
    "- modifying a dictionary in place (e.g. adding an item, or calling the clear method)"
   ]
  },
  {
   "cell_type": "markdown",
   "metadata": {
    "slideshow": {
     "slide_type": "subslide"
    }
   },
   "source": [
    "## Locking\n",
    "- Locks \n",
    "- most fundamental synchronization mechanism"
   ]
  },
  {
   "cell_type": "markdown",
   "metadata": {
    "slideshow": {
     "slide_type": "notes"
    }
   },
   "source": [
    "Note:\n",
    "Locks are the most fundamental synchronization mechanism provided by the threading module. At any time, a lock can be held by a single thread, or by no thread at all. If a thread attempts to hold a lock that's already held by some other thread, execution of the first thread is halted until the lock is released.\n",
    "\n",
    "Locks are typically used to synchronize access to a shared resource. For each shared resource, create a Lock object. When you need to access the resource, call acquire to hold the lock (this will wait for the lock to be released, if necessary), and call release to release it:"
   ]
  },
  {
   "cell_type": "markdown",
   "metadata": {
    "slideshow": {
     "slide_type": "fragment"
    }
   },
   "source": [
    "```python\n",
    "lock = Lock()\n",
    "\n",
    "lock.acquire() # will block if lock is already held\n",
    "... access shared resource\n",
    "lock.release()\n",
    "```"
   ]
  },
  {
   "cell_type": "markdown",
   "metadata": {
    "slideshow": {
     "slide_type": "subslide"
    }
   },
   "source": [
    "### Always release"
   ]
  },
  {
   "cell_type": "markdown",
   "metadata": {
    "slideshow": {
     "slide_type": "fragment"
    }
   },
   "source": [
    "```python\n",
    "lock.acquire()\n",
    "try:\n",
    "    ... access shared resource\n",
    "finally:\n",
    "    lock.release() # release lock, no matter what\n",
    "```"
   ]
  },
  {
   "cell_type": "markdown",
   "metadata": {
    "slideshow": {
     "slide_type": "notes"
    }
   },
   "source": [
    "Note:\n",
    "- For proper operation, it's important to release the lock even if something goes wrong when accessing the resource. You can use try-finally for this purpose:"
   ]
  },
  {
   "cell_type": "markdown",
   "metadata": {
    "slideshow": {
     "slide_type": "subslide"
    }
   },
   "source": [
    "### Lock and with"
   ]
  },
  {
   "cell_type": "markdown",
   "metadata": {
    "slideshow": {
     "slide_type": "fragment"
    }
   },
   "source": [
    "```python\n",
    "from __future__ import with_statement # 2.5 only\n",
    "\n",
    "with lock:\n",
    "    ... access shared resource\n",
    "```"
   ]
  },
  {
   "cell_type": "markdown",
   "metadata": {
    "slideshow": {
     "slide_type": "fragment"
    }
   },
   "source": [
    "The acquire method takes an optional wait flag, which can be used to avoid blocking if the lock is held by someone else. If you pass in False, the method never blocks, but returns False if the lock was already held:"
   ]
  },
  {
   "cell_type": "markdown",
   "metadata": {
    "slideshow": {
     "slide_type": "fragment"
    }
   },
   "source": [
    "```python\n",
    "if not lock.acquire(False):\n",
    "    ... failed to lock the resource\n",
    "else:\n",
    "    try:\n",
    "        ... access shared resource\n",
    "    finally:\n",
    "        lock.release()\n",
    "```"
   ]
  },
  {
   "cell_type": "markdown",
   "metadata": {
    "slideshow": {
     "slide_type": "notes"
    }
   },
   "source": [
    "Note:\n",
    "In Python 2.5 and later, you can also use the with statement. When used with a lock, this statement automatically acquires the lock before entering the block, and releases it when leaving the block:"
   ]
  },
  {
   "cell_type": "markdown",
   "metadata": {
    "slideshow": {
     "slide_type": "subslide"
    }
   },
   "source": [
    "### lock.locked?"
   ]
  },
  {
   "cell_type": "markdown",
   "metadata": {
    "slideshow": {
     "slide_type": "fragment"
    }
   },
   "source": [
    "```python\n",
    "if not lock.locked():\n",
    "    # some other thread may run before we get\n",
    "    # to the next line\n",
    "    lock.acquire() # may block anyway```"
   ]
  },
  {
   "cell_type": "markdown",
   "metadata": {
    "slideshow": {
     "slide_type": "notes"
    }
   },
   "source": [
    "Note:\n",
    "You can use the locked method to check if the lock is held. Note that you cannot use this method to determine if a call to acquire would block or not; some other thread may have acquired the lock between the method call and the next statement."
   ]
  },
  {
   "cell_type": "markdown",
   "metadata": {
    "slideshow": {
     "slide_type": "subslide"
    }
   },
   "source": [
    "## Problems with Simple Locking \n",
    "- Locks are difficult to manage\n",
    "- Hard to reason about"
   ]
  },
  {
   "cell_type": "markdown",
   "metadata": {
    "slideshow": {
     "slide_type": "notes"
    }
   },
   "source": [
    "Note: \n",
    "The standard lock object doesn't care which thread is currently holding the lock; if the lock is held, any thread that attempts to acquire the lock will block, even if the same thread is already holding the lock. Consider the following example:"
   ]
  },
  {
   "cell_type": "markdown",
   "metadata": {
    "slideshow": {
     "slide_type": "subslide"
    }
   },
   "source": [
    "### Locking problem example"
   ]
  },
  {
   "cell_type": "markdown",
   "metadata": {
    "slideshow": {
     "slide_type": "fragment"
    }
   },
   "source": [
    "```python\n",
    "lock = threading.Lock()\n",
    "\n",
    "def get_first_part():\n",
    "    lock.acquire()\n",
    "    try:\n",
    "        # ... fetch data for first part from shared object\n",
    "    finally:\n",
    "        lock.release()\n",
    "    return data\n",
    "\n",
    "def get_second_part():\n",
    "    lock.acquire()\n",
    "    try:\n",
    "        ... fetch data for second part from shared object\n",
    "    finally:\n",
    "        lock.release()\n",
    "    return data\n",
    "```"
   ]
  },
  {
   "cell_type": "markdown",
   "metadata": {
    "slideshow": {
     "slide_type": "notes"
    }
   },
   "source": [
    "Note:\n",
    "Here, we have a shared resource, and two access functions that fetch different parts from the resource. The access functions both use locking to make sure that no other thread can modify the resource while we're accessing it."
   ]
  },
  {
   "cell_type": "markdown",
   "metadata": {
    "slideshow": {
     "slide_type": "subslide"
    }
   },
   "source": [
    "## Re-Entrant Locks (RLock) \n",
    "- rlock only if lock is held by another thread"
   ]
  },
  {
   "cell_type": "markdown",
   "metadata": {
    "slideshow": {
     "slide_type": "notes"
    }
   },
   "source": [
    "Note:\n",
    "The RLock class is a version of simple locking that only blocks if the lock is held by another thread. While simple locks will block if the same thread attempts to acquire the same lock twice, a re-entrant lock only blocks if another thread currently holds the lock. If the current thread is trying to acquire a lock that it's already holding, execution continues as usual."
   ]
  },
  {
   "cell_type": "markdown",
   "metadata": {
    "slideshow": {
     "slide_type": "subslide"
    }
   },
   "source": [
    "### Rlock example"
   ]
  },
  {
   "cell_type": "markdown",
   "metadata": {
    "slideshow": {
     "slide_type": "fragment"
    }
   },
   "source": [
    "```python\n",
    "lock = threading.Lock()\n",
    "lock.acquire()\n",
    "lock.acquire() # this will block\n",
    "\n",
    "lock = threading.RLock()\n",
    "lock.acquire()\n",
    "lock.acquire() # this won't block\n",
    "```"
   ]
  },
  {
   "cell_type": "markdown",
   "metadata": {
    "slideshow": {
     "slide_type": "subslide"
    }
   },
   "source": [
    "Note:\n",
    "The main use for this is nested access to shared resources, as illustrated by the example in the previous section. To fix the access methods in that example, just replace the simple lock with a re-entrant lock, and the nested calls will work just fine."
   ]
  },
  {
   "cell_type": "markdown",
   "metadata": {
    "slideshow": {
     "slide_type": "subslide"
    }
   },
   "source": [
    "## Semaphores \n",
    "- advanced lock\n",
    "- counter not flag\n",
    "- allows multiple but limitted no. threads "
   ]
  },
  {
   "cell_type": "markdown",
   "metadata": {
    "slideshow": {
     "slide_type": "notes"
    }
   },
   "source": [
    "Note:\n",
    "\n",
    "A semaphore is a more advanced lock mechanism. A semaphore has an internal counter rather than a lock flag, and it only blocks if more than a given number of threads have attempted to hold the semaphore. Depending on how the semaphore is initialized, this allows multiple threads to access the same code section simultaneously."
   ]
  },
  {
   "cell_type": "markdown",
   "metadata": {
    "slideshow": {
     "slide_type": "subslide"
    }
   },
   "source": [
    "### Semaphore Example"
   ]
  },
  {
   "cell_type": "markdown",
   "metadata": {
    "slideshow": {
     "slide_type": "fragment"
    }
   },
   "source": [
    "```python\n",
    "semaphore = threading.BoundedSemaphore()\n",
    "semaphore.acquire() # decrements the counter\n",
    "... access the shared resource\n",
    "semaphore.release() # increments the counter\n",
    "```"
   ]
  },
  {
   "cell_type": "markdown",
   "metadata": {
    "slideshow": {
     "slide_type": "notes"
    }
   },
   "source": [
    "Note:\n",
    "The counter is decremented when the semaphore is acquired, and incremented when the semaphore is released. If the counter reaches zero when acquired, the acquiring thread will block. When the semaphore is incremented again, one of the blocking threads (if any) will run.\n",
    "\n",
    "Semaphores are typically used to limit access to resource with limited capacity, such as a network connection or a database server. Just initialize the counter to the maximum number, and the semaphore implementation will take care of the rest.\n",
    "\n",
    "`max_connections = 10`\n",
    "\n",
    "semaphore = threading.BoundedSemaphore(max_connections)\n",
    "If you don't pass in a value, the counter is initialized to 1.\n",
    "\n",
    "Python's threading module provides two semaphore implementations; the Semaphore class provides an unlimited semaphore which allows you to call release any number of times to increment the counter. To avoid simple programming errors, it's usually better to use the BoundedSemaphore  class, which considers it to be an error to call release more often than you've called acquire."
   ]
  },
  {
   "cell_type": "markdown",
   "metadata": {
    "slideshow": {
     "slide_type": "subslide"
    }
   },
   "source": [
    "## Events"
   ]
  },
  {
   "cell_type": "markdown",
   "metadata": {
    "slideshow": {
     "slide_type": "fragment"
    }
   },
   "source": [
    "```python\n",
    "import threading\n",
    "event = threading.Event()\n",
    "\n",
    "# a client thread can wait for the flag to be set\n",
    "event.wait()\n",
    "\n",
    "# a server thread can set or reset it\n",
    "event.set()\n",
    "event.clear()\n",
    "```"
   ]
  },
  {
   "cell_type": "markdown",
   "metadata": {
    "slideshow": {
     "slide_type": "notes"
    }
   },
   "source": [
    "Note:\n",
    "An event is a simple synchronization object; the event represents an internal flag, and threads can wait for the flag to be set, or set or clear the flag themselves.\n",
    "\n",
    "If the flag is set, the wait method doesn't do anything. If the flag is cleared, wait will block until it becomes set again. Any number of threads may wait for the same event."
   ]
  },
  {
   "cell_type": "markdown",
   "metadata": {
    "slideshow": {
     "slide_type": "subslide"
    }
   },
   "source": [
    "## Conditions \n",
    "- advanced event\n",
    "- thread can wait condition to *notify*"
   ]
  },
  {
   "cell_type": "markdown",
   "metadata": {
    "slideshow": {
     "slide_type": "notes"
    }
   },
   "source": [
    "Note:\n",
    "\n",
    "A condition is a more advanced version of the event object. A condition represents some kind of state change in the application, and a thread can wait for a given condition, or signal that the condition has happened. Here's a simple consumer/producer example. First, you need a condition object:"
   ]
  },
  {
   "cell_type": "markdown",
   "metadata": {
    "slideshow": {
     "slide_type": "subslide"
    }
   },
   "source": [
    "### represents the addition of an item to a resource"
   ]
  },
  {
   "cell_type": "markdown",
   "metadata": {
    "slideshow": {
     "slide_type": "fragment"
    }
   },
   "source": [
    "```python\n",
    "condition = threading.Condition()\n",
    "```"
   ]
  },
  {
   "cell_type": "markdown",
   "metadata": {
    "slideshow": {
     "slide_type": "notes"
    }
   },
   "source": [
    "Note:\n",
    "The producing thread needs to acquire the condition before it can notify the consumers that a new item is available:"
   ]
  },
  {
   "cell_type": "markdown",
   "metadata": {
    "slideshow": {
     "slide_type": "subslide"
    }
   },
   "source": [
    "### producer thread"
   ]
  },
  {
   "cell_type": "markdown",
   "metadata": {
    "slideshow": {
     "slide_type": "fragment"
    }
   },
   "source": [
    "```python\n",
    "... generate item\n",
    "condition.acquire()\n",
    "... add item to resource\n",
    "condition.notify() # signal that a new item is available\n",
    "condition.release()\n",
    "```"
   ]
  },
  {
   "cell_type": "markdown",
   "metadata": {
    "slideshow": {
     "slide_type": "notes"
    }
   },
   "source": [
    "Note:\n",
    "The consumers must acquire the condition (and thus the related lock), and can then attempt to fetch items from the resource:"
   ]
  },
  {
   "cell_type": "markdown",
   "metadata": {
    "slideshow": {
     "slide_type": "subslide"
    }
   },
   "source": [
    "### consumer thread"
   ]
  },
  {
   "cell_type": "markdown",
   "metadata": {
    "slideshow": {
     "slide_type": "fragment"
    }
   },
   "source": [
    "```python\n",
    "condition.acquire()\n",
    "while True:\n",
    "    ... get item from resource\n",
    "    if item:\n",
    "        break\n",
    "    condition.wait() # sleep until item becomes available\n",
    "condition.release()\n",
    "... process item\n",
    "```"
   ]
  },
  {
   "cell_type": "markdown",
   "metadata": {
    "slideshow": {
     "slide_type": "notes"
    }
   },
   "source": [
    "Note:\n",
    "The wait method releases the lock, blocks the current thread until another thread calls notify or notifyAll on the same condition, and then reacquires the lock. If multiple threads are waiting, the notify method only wakes up one of the threads, while notifyAll always wakes them all up.\n",
    "\n",
    "To avoid blocking in wait, you can pass in a timeout value, as a floating-point value in seconds. If given, the method will return after the given time, even if notify hasn't been called. If you use a timeout, you must inspect the resource to see if something actually happened.\n",
    "\n",
    "Note that the condition object is associated with a lock, and that lock must be held before you can access the condition. Likewise, the condition lock must be released when you're done accessing the condition. In production code, you should use `try`-`finally` or with, as shown earlier.\n",
    "\n",
    "To associate the condition with an existing lock, pass the lock to the Condition constructor. This is also useful if you want to use several conditions for a single resource:\n",
    "\n",
    "`lock = threading.RLock()`\n",
    "\n",
    "`condition_1 = threading.Condition(lock)`\n",
    "\n",
    "`condition_2 = threading.Condition(lock)`"
   ]
  },
  {
   "cell_type": "markdown",
   "metadata": {
    "slideshow": {
     "slide_type": "subslide"
    }
   },
   "source": [
    "## Queue Module\n",
    "- provides a FIFO\n",
    "    - first-in, first-out\n",
    "- suitable for multi-threading\n",
    "    - Locking for caller"
   ]
  },
  {
   "cell_type": "markdown",
   "metadata": {
    "slideshow": {
     "slide_type": "notes"
    }
   },
   "source": [
    "Note:\n",
    "The Queue module provides a FIFO implementation suitable for multi-threaded programming. It can be used to pass messages or other data between producer and consumer threads safely. Locking is handled for the caller, so it is simple to have as many threads as you want working with the same Queue instance. A Queue's size (number of elements) may be restricted to throttle memory usage or processing.\n",
    "\n",
    "The Queue class implements a basic first-in, first-out container. Elements are added to one “end” of the sequence using `put()`, and removed from the other end using `get()`."
   ]
  },
  {
   "cell_type": "code",
   "execution_count": 325,
   "metadata": {
    "slideshow": {
     "slide_type": "fragment"
    }
   },
   "outputs": [
    {
     "name": "stdout",
     "output_type": "stream",
     "text": [
      "0\n",
      "1\n",
      "2\n",
      "3\n",
      "4\n"
     ]
    }
   ],
   "source": [
    "import queue\n",
    "# was Queue in python 2.x\n",
    "\n",
    "q = queue.Queue()\n",
    "\n",
    "for i in range(5):\n",
    "    q.put(i)\n",
    "\n",
    "while not q.empty():\n",
    "    print(q.get())"
   ]
  },
  {
   "cell_type": "markdown",
   "metadata": {
    "slideshow": {
     "slide_type": "notes"
    }
   },
   "source": [
    "Note:\n",
    "This example uses a single thread to illustrate that elements are removed from the queue in the same order they are inserted."
   ]
  },
  {
   "cell_type": "markdown",
   "metadata": {
    "slideshow": {
     "slide_type": "subslide"
    }
   },
   "source": [
    "### LIFO Queue\n",
    "- LifoQueue\n",
    "- last-in, first-out\n",
    "- stack"
   ]
  },
  {
   "cell_type": "markdown",
   "metadata": {
    "slideshow": {
     "slide_type": "notes"
    }
   },
   "source": [
    "Note:\n",
    "In contrast to the standard FIFO implementation of Queue, the LifoQueue uses last-in, first-out ordering (normally associated with a stack data structure).\n",
    "|||"
   ]
  },
  {
   "cell_type": "code",
   "execution_count": 326,
   "metadata": {
    "slideshow": {
     "slide_type": "fragment"
    }
   },
   "outputs": [
    {
     "name": "stdout",
     "output_type": "stream",
     "text": [
      "4\n",
      "3\n",
      "2\n",
      "1\n",
      "0\n"
     ]
    }
   ],
   "source": [
    "q = queue.LifoQueue()\n",
    "\n",
    "for i in range(5):\n",
    "    q.put(i)\n",
    "\n",
    "while not q.empty():\n",
    "    print(q.get())"
   ]
  },
  {
   "cell_type": "markdown",
   "metadata": {
    "slideshow": {
     "slide_type": "subslide"
    }
   },
   "source": [
    "- The item most recently put() into the queue is removed by get()."
   ]
  },
  {
   "cell_type": "markdown",
   "metadata": {
    "slideshow": {
     "slide_type": "subslide"
    }
   },
   "source": [
    "### Priority Queue\n",
    "- PriorityQueue\n",
    "- Uses the sort order"
   ]
  },
  {
   "cell_type": "markdown",
   "metadata": {
    "slideshow": {
     "slide_type": "notes"
    }
   },
   "source": [
    "Note:\n",
    "\n",
    "Sometimes the processing order of the items in a queue needs to be based on characteristics of those items, rather than just the order they are created or added to the queue. For example, print jobs from the payroll department may take precedence over a code listing printed by a developer. PriorityQueue uses the sort order of the contents of the queue to decide which to retrieve."
   ]
  },
  {
   "cell_type": "code",
   "execution_count": 327,
   "metadata": {
    "slideshow": {
     "slide_type": "subslide"
    }
   },
   "outputs": [],
   "source": [
    "\n",
    "class Job(object):\n",
    "    def __init__(self, priority, description):\n",
    "        self.priority = priority\n",
    "        self.description = description\n",
    "        print('New job:', description)\n",
    "        return\n",
    "    def __lt__(self, other):\n",
    "        return self.priority < other.priority"
   ]
  },
  {
   "cell_type": "code",
   "execution_count": 328,
   "metadata": {
    "slideshow": {
     "slide_type": "subslide"
    }
   },
   "outputs": [
    {
     "name": "stdout",
     "output_type": "stream",
     "text": [
      "New job: Mid-level job\n",
      "New job: Low-level job\n",
      "New job: Important job\n"
     ]
    }
   ],
   "source": [
    "q = queue.PriorityQueue()\n",
    "\n",
    "q.put( Job(3, 'Mid-level job') )\n",
    "q.put( Job(10, 'Low-level job') )\n",
    "q.put( Job(1, 'Important job') )"
   ]
  },
  {
   "cell_type": "code",
   "execution_count": 329,
   "metadata": {
    "slideshow": {
     "slide_type": "fragment"
    }
   },
   "outputs": [
    {
     "name": "stdout",
     "output_type": "stream",
     "text": [
      "Processing job: Important job\n",
      "Processing job: Mid-level job\n",
      "Processing job: Low-level job\n"
     ]
    }
   ],
   "source": [
    "while not q.empty():\n",
    "    next_job = q.get()\n",
    "    print('Processing job:', next_job.description)"
   ]
  },
  {
   "cell_type": "markdown",
   "metadata": {
    "slideshow": {
     "slide_type": "notes"
    }
   },
   "source": [
    "In this single-threaded example, the jobs are pulled out of the queue in strictly priority order. If there were multiple threads consuming the jobs, they would be processed based on the priority of items in the queue at the time get() was called."
   ]
  },
  {
   "cell_type": "markdown",
   "metadata": {
    "slideshow": {
     "slide_type": "subslide"
    }
   },
   "source": [
    "### Using Queues with Threads\n",
    "- printing to the terminal is not a \"thread safe\"\n",
    "- Edit primes example to place all `print` statements in a single thread\n",
    "- Use Queue to send messages for printing"
   ]
  },
  {
   "cell_type": "markdown",
   "metadata": {
    "slideshow": {
     "slide_type": "subslide"
    }
   },
   "source": [
    "# Parallell Processing\n",
    "- GIL Prevents Genuine Parallel Processing\n",
    "- Have to explicit multi-threading or multi-processing"
   ]
  },
  {
   "cell_type": "markdown",
   "metadata": {
    "slideshow": {
     "slide_type": "notes"
    }
   },
   "source": [
    "Note: \n",
    "CPUs with multiple cores have become the standard in the recent\n",
    "development of modern computer architectures and we can not only find\n",
    "them in supercomputer facilities but also in our desktop machines at\n",
    "home, and our laptops; even Apple’s iPhone 5S got a 1.3 Ghz Dual-core\n",
    "processor in 2013.\n",
    "\n",
    "However, the default Python interpreter was designed with simplicity in\n",
    "mind and has a thread-safe mechanism, the so-called “GIL” (Global\n",
    "Interpreter Lock). In order to prevent conflicts between threads, it\n",
    "executes only one statement at a time (so-called serial processing, or\n",
    "single-threading).\n",
    "\n",
    "In this introduction to Python’s `multiprocessing`\n",
    "module, we will see how we can spawn multiple subprocesses to avoid some\n",
    "of the GIL’s disadvantages."
   ]
  },
  {
   "cell_type": "markdown",
   "metadata": {
    "slideshow": {
     "slide_type": "notes"
    }
   },
   "source": [
    "### Multi-Threading vs. Multi-Processing\n",
    "\n",
    "Note:\n",
    "\n",
    "Depending on the application, two common approaches in parallel\n",
    "programming are either to run code via threads or multiple processes,\n",
    "respectively. If we submit “jobs” to different threads, those jobs can\n",
    "be pictured as “sub-tasks” of a single process and those threads will\n",
    "usually have access to the same memory areas (i.e., shared memory). This\n",
    "approach can easily lead to conflicts in case of improper\n",
    "synchronization, for example, if processes are writing to the same\n",
    "memory location at the same time.\n",
    "\n",
    "A safer approach (although it comes with an additional overhead due to\n",
    "the communication overhead between separate processes) is to submit\n",
    "multiple processes to completely separate memory locations (i.e.,\n",
    "distributed memory): Every process will run completely independent from\n",
    "each other."
   ]
  },
  {
   "cell_type": "markdown",
   "metadata": {
    "slideshow": {
     "slide_type": "subslide"
    }
   },
   "source": [
    "## The `Process` class"
   ]
  },
  {
   "cell_type": "code",
   "execution_count": 330,
   "metadata": {
    "slideshow": {
     "slide_type": "fragment"
    }
   },
   "outputs": [],
   "source": [
    "import multiprocessing as mp\n",
    "import random\n",
    "import string\n",
    "\n",
    "random.seed(123)\n",
    "\n",
    "# Define an output queue\n",
    "output = mp.Queue()\n",
    "\n",
    "# define a example function\n",
    "def rand_string(length, output):\n",
    "    \"\"\" Generates a random string of numbers, lower- and uppercase chars. \"\"\"\n",
    "    rand_str = ''.join(random.choice(\n",
    "                        string.ascii_lowercase\n",
    "                        + string.ascii_uppercase\n",
    "                        + string.digits)\n",
    "                   for i in range(length))\n",
    "    output.put(rand_str)"
   ]
  },
  {
   "cell_type": "markdown",
   "metadata": {
    "slideshow": {
     "slide_type": "notes"
    }
   },
   "source": [
    "Note:\n",
    "\n",
    "The most basic approach is probably to use the\n",
    "`Process`  class from the\n",
    "`multiprocessing`  module.\n",
    "Here, we will use a simple queue function to compute the cubes for the 6\n",
    "numbers 1, 2, 3, 4, 5, and 6 in 6 parallel processes."
   ]
  },
  {
   "cell_type": "markdown",
   "metadata": {
    "slideshow": {
     "slide_type": "subslide"
    }
   },
   "source": [
    "**Setup a list of processes that we want to run**"
   ]
  },
  {
   "cell_type": "code",
   "execution_count": 331,
   "metadata": {
    "slideshow": {
     "slide_type": "fragment"
    }
   },
   "outputs": [],
   "source": [
    "processes = [mp.Process(target=rand_string, args=(5, output)) for x in range(4)]"
   ]
  },
  {
   "cell_type": "markdown",
   "metadata": {
    "slideshow": {
     "slide_type": "fragment"
    }
   },
   "source": [
    "**Run processes**"
   ]
  },
  {
   "cell_type": "code",
   "execution_count": 332,
   "metadata": {
    "slideshow": {
     "slide_type": "fragment"
    }
   },
   "outputs": [],
   "source": [
    "for p in processes:\n",
    "    p.start()"
   ]
  },
  {
   "cell_type": "markdown",
   "metadata": {
    "slideshow": {
     "slide_type": "fragment"
    }
   },
   "source": [
    "**Exit the completed processes**"
   ]
  },
  {
   "cell_type": "code",
   "execution_count": 333,
   "metadata": {},
   "outputs": [],
   "source": [
    "for p in processes:\n",
    "    p.join()"
   ]
  },
  {
   "cell_type": "markdown",
   "metadata": {
    "slideshow": {
     "slide_type": "subslide"
    }
   },
   "source": [
    "**Get process results from the output queue**"
   ]
  },
  {
   "cell_type": "code",
   "execution_count": 334,
   "metadata": {
    "slideshow": {
     "slide_type": "fragment"
    }
   },
   "outputs": [
    {
     "name": "stdout",
     "output_type": "stream",
     "text": [
      "['pQSVw', 'xfFcp', 'oR4at', '3BVWD']\n"
     ]
    }
   ],
   "source": [
    "results = [output.get() for p in processes]\n",
    "\n",
    "print(results)"
   ]
  },
  {
   "cell_type": "markdown",
   "metadata": {
    "slideshow": {
     "slide_type": "fragment"
    }
   },
   "source": [
    "### Ordered Results"
   ]
  },
  {
   "cell_type": "markdown",
   "metadata": {
    "slideshow": {
     "slide_type": "notes"
    }
   },
   "source": [
    "Note:\n",
    "The order of the obtained results does not necessarily have to match the\n",
    "order of the processes (in the `processes` list).\n",
    "Since we eventually use the `.get()` method to\n",
    "retrieve the results from the `Queue` sequentially,\n",
    "the order in which the processes finished determines the order of our\n",
    "results.\n",
    "E.g., if the second process has finished just before the first process,\n",
    "the order of the strings in the `results` list could\n",
    "have also been\n",
    "`['PQpqM', 'yzQfA', 'SHZYV', 'PSNkD']` instead of\n",
    "`['yzQfA', 'PQpqM', 'SHZYV', 'PSNkD']`"
   ]
  },
  {
   "cell_type": "markdown",
   "metadata": {
    "slideshow": {
     "slide_type": "fragment"
    }
   },
   "source": [
    "The results could be sorted by their original order in the following manner.\n",
    "\n",
    "Put tuples in the queue with an index called `pos` below.\n",
    "\n",
    "```python\n",
    "output.put((pos, rand_str))\n",
    "\n",
    "\n",
    "...\n",
    "[(0, 'h5hoV'), (1, 'fvdmN'), (2, 'rxGX4'), (3, '8hDJj')]\n",
    "```"
   ]
  },
  {
   "cell_type": "markdown",
   "metadata": {
    "slideshow": {
     "slide_type": "subslide"
    }
   },
   "source": [
    "### The `Pool` class\n",
    "\n",
    "Another and more convenient approach for simple parallel processing\n",
    "tasks is provided by the `Pool` class.\n",
    "\n",
    "There are four methods that are particularly interesing:\n",
    "\n",
    "-   `Pool.apply`\n",
    "\n",
    "-   `Pool.map`\n",
    "\n",
    "-   `Pool.apply_async`\n",
    "\n",
    "-   `Pool.map_async`\n",
    "\n"
   ]
  },
  {
   "cell_type": "markdown",
   "metadata": {
    "slideshow": {
     "slide_type": "notes"
    }
   },
   "source": [
    "The `Pool.apply` and `Pool.map`\n",
    "methods are basically equivalents to Python’s in-built\n",
    "[`apply`](https://docs.python.org/2/library/functions.html#apply)\n",
    "and\n",
    "[`map`](https://docs.python.org/2/library/functions.html#map)\n",
    "functions.\n",
    "Before we come to the `async` variants of the\n",
    "`Pool` methods, let us take a look at a simple\n",
    "example using `Pool.apply` and\n",
    "`Pool.map`. Here, we will set the number of\n",
    "processes to 4, which means that the `Pool` class\n",
    "will only allow 4 processes running at the same time."
   ]
  },
  {
   "cell_type": "code",
   "execution_count": 335,
   "metadata": {
    "slideshow": {
     "slide_type": "subslide"
    }
   },
   "outputs": [
    {
     "name": "stdout",
     "output_type": "stream",
     "text": [
      "[1, 8, 27, 64, 125, 216]\n"
     ]
    },
    {
     "data": {
      "text/plain": [
       "[1, 8, 27, 64, 125, 216]"
      ]
     },
     "execution_count": 335,
     "metadata": {},
     "output_type": "execute_result"
    }
   ],
   "source": [
    "def cube(x):\n",
    "    return x**3\n",
    "\n",
    "pool = mp.Pool(processes=4)\n",
    "results = [pool.apply(cube, args=(x,)) for x in range(1,7)]\n",
    "print(results)\n",
    "...\n",
    "[1, 8, 27, 64, 125, 216]"
   ]
  },
  {
   "cell_type": "code",
   "execution_count": 336,
   "metadata": {
    "slideshow": {
     "slide_type": "fragment"
    }
   },
   "outputs": [
    {
     "name": "stdout",
     "output_type": "stream",
     "text": [
      "[1, 8, 27, 64, 125, 216]\n"
     ]
    }
   ],
   "source": [
    "pool = mp.Pool(processes=4)\n",
    "results = pool.map(cube, range(1,7))\n",
    "print(results)"
   ]
  },
  {
   "cell_type": "markdown",
   "metadata": {
    "slideshow": {
     "slide_type": "notes"
    }
   },
   "source": [
    "Note:\n",
    "The `Pool.map` and `Pool.apply`\n",
    "will lock the main program until all a process is finished, which is\n",
    "quite useful if we want to obtain resuls in a particular order for\n",
    "certain applications.\n",
    "In contrast, the `async` variants will submit all\n",
    "processes at once and retrieve the results as soon as they are finished.\n",
    "One more difference is that we need to use the `get`\n",
    "method after the `apply_async()` call in order to\n",
    "obtain the `return` values of the finished\n",
    "processes."
   ]
  },
  {
   "cell_type": "code",
   "execution_count": 337,
   "metadata": {
    "slideshow": {
     "slide_type": "subslide"
    }
   },
   "outputs": [
    {
     "name": "stdout",
     "output_type": "stream",
     "text": [
      "[1, 8, 27, 64, 125, 216]\n"
     ]
    }
   ],
   "source": [
    "pool = mp.Pool(processes=4)\n",
    "results = [pool.apply_async(cube, args=(x,)) for x in range(1,7)]\n",
    "output = [p.get() for p in results]\n",
    "print(output)"
   ]
  },
  {
   "cell_type": "markdown",
   "metadata": {
    "slideshow": {
     "slide_type": "slide"
    }
   },
   "source": [
    "# Forking other processes\n",
    "\n",
    "- os.system\n",
    "- os.popen\n",
    "- subprocess"
   ]
  },
  {
   "cell_type": "markdown",
   "metadata": {
    "slideshow": {
     "slide_type": "subslide"
    }
   },
   "source": [
    "## os.system"
   ]
  },
  {
   "cell_type": "code",
   "execution_count": 338,
   "metadata": {
    "slideshow": {
     "slide_type": "fragment"
    }
   },
   "outputs": [
    {
     "name": "stdout",
     "output_type": "stream",
     "text": [
      "Help on built-in function system in module posix:\n",
      "\n",
      "system(command)\n",
      "    Execute the command in a subshell.\n",
      "\n"
     ]
    }
   ],
   "source": [
    "import os\n",
    "help(os.system)"
   ]
  },
  {
   "cell_type": "code",
   "execution_count": 339,
   "metadata": {
    "slideshow": {
     "slide_type": "fragment"
    }
   },
   "outputs": [
    {
     "data": {
      "text/plain": [
       "0"
      ]
     },
     "execution_count": 339,
     "metadata": {},
     "output_type": "execute_result"
    }
   ],
   "source": [
    "os.system('echo hello')\n",
    "#prints hello, returns 0 exit status of the shell"
   ]
  },
  {
   "cell_type": "markdown",
   "metadata": {
    "slideshow": {
     "slide_type": "subslide"
    }
   },
   "source": [
    "## subprocess\n",
    "\n",
    "This module allows you to spawn processes, connect to their\n",
    "input/output/error pipes, and obtain their return codes.  This module\n",
    "intends to replace several older modules and functions:\n",
    "    \n",
    "- os.system\n",
    "- os.spawn*\n",
    "- os.popen*\n",
    "- popen2.*\n",
    "- commands.*"
   ]
  },
  {
   "cell_type": "markdown",
   "metadata": {},
   "source": [
    "## subprocess.Popen class"
   ]
  },
  {
   "cell_type": "markdown",
   "metadata": {
    "slideshow": {
     "slide_type": "fragment"
    }
   },
   "source": [
    "```python\n",
    "Popen(args, bufsize=0, executable=None,\n",
    "      stdin=None, stdout=None, stderr=None,\n",
    "      preexec_fn=None, close_fds=False, shell=False,\n",
    "      cwd=None, env=None, universal_newlines=False,\n",
    "      startupinfo=None, creationflags=0)\n",
    "```"
   ]
  },
  {
   "cell_type": "markdown",
   "metadata": {
    "slideshow": {
     "slide_type": "subslide"
    }
   },
   "source": [
    "## Popen arguments\n",
    "- **args**: A sequence containing the command and its arguments\n",
    "- **stdout, stderr, stdin**: Standard file descriptors may be assigned to:\n",
    "    - PIPE: will be piped from another process\n",
    "    - file object (existing file)\n",
    "    - file descriptor (existing file) "
   ]
  },
  {
   "cell_type": "markdown",
   "metadata": {},
   "source": [
    "\n",
    "## Popen examples"
   ]
  },
  {
   "cell_type": "markdown",
   "metadata": {},
   "source": [
    "```sh\n",
    "#shell command\n",
    "output=`mycmd myarg`\n",
    "```\n",
    "\n",
    "Becomes\n",
    "\n",
    "```python\n",
    "output = Popen([\"mycmd\", \"myarg\"], stdout=PIPE).communicate()[0]\n",
    "```"
   ]
  },
  {
   "cell_type": "code",
   "execution_count": 340,
   "metadata": {},
   "outputs": [
    {
     "name": "stdout",
     "output_type": "stream",
     "text": [
      "b' 34M\\t.\\n'\n"
     ]
    }
   ],
   "source": [
    "from subprocess import Popen, PIPE\n",
    "output = Popen([\"du\", \"-sh\"], stdout=PIPE).communicate()[0]\n",
    "print(output)"
   ]
  },
  {
   "cell_type": "markdown",
   "metadata": {
    "slideshow": {
     "slide_type": "subslide"
    }
   },
   "source": [
    "### Popen object methods"
   ]
  },
  {
   "cell_type": "markdown",
   "metadata": {
    "slideshow": {
     "slide_type": "fragment"
    }
   },
   "source": [
    "```python\n",
    "communicate(self, input=None)\n",
    "```\n",
    "\n",
    "Interact with process: Send data to *stdin*.  Read data from\n",
    "and *stderr*, until end-of-file is reached.  Wait for\n",
    "to terminate.  The optional input argument should be a\n",
    "to be sent to the child process, or None, if no data\n",
    "be sent to the child.\n",
    "`communicate()` returns a tuple (*stdout*, *stderr*)."
   ]
  },
  {
   "cell_type": "markdown",
   "metadata": {
    "slideshow": {
     "slide_type": "subslide"
    }
   },
   "source": [
    "### Replacing shell pipe line"
   ]
  },
  {
   "cell_type": "markdown",
   "metadata": {
    "slideshow": {
     "slide_type": "fragment"
    }
   },
   "source": [
    "```sh\n",
    "#shell command\n",
    "output=`uptime | cut -d, -f2`\n",
    "```"
   ]
  },
  {
   "cell_type": "markdown",
   "metadata": {
    "slideshow": {
     "slide_type": "fragment"
    }
   },
   "source": [
    "Becomes"
   ]
  },
  {
   "cell_type": "code",
   "execution_count": 341,
   "metadata": {
    "slideshow": {
     "slide_type": "fragment"
    }
   },
   "outputs": [
    {
     "data": {
      "text/plain": [
       "b'  5:03\\n'"
      ]
     },
     "execution_count": 341,
     "metadata": {},
     "output_type": "execute_result"
    }
   ],
   "source": [
    "p1 = Popen([\"uptime\"], stdout=PIPE)\n",
    "p2 = Popen([\"cut\", \"-d,\", \"-f2\"], stdin=p1.stdout, stdout=PIPE)\n",
    "output = p2.communicate()[0]\n",
    "output"
   ]
  },
  {
   "cell_type": "markdown",
   "metadata": {
    "slideshow": {
     "slide_type": "subslide"
    }
   },
   "source": [
    "## subprocess functions"
   ]
  },
  {
   "cell_type": "code",
   "execution_count": 345,
   "metadata": {
    "slideshow": {
     "slide_type": "fragment"
    }
   },
   "outputs": [],
   "source": [
    "from subprocess import call, check_call, check_output"
   ]
  },
  {
   "cell_type": "markdown",
   "metadata": {
    "slideshow": {
     "slide_type": "subslide"
    }
   },
   "source": [
    "```python\n",
    "call(*popenargs, **kwargs):\n",
    "```\n",
    "Run command with arguments.  Wait for command to complete, then\n",
    "return the returncode attribute.\n",
    "    \n",
    "The arguments are the same as for the Popen constructor.  Example:"
   ]
  },
  {
   "cell_type": "code",
   "execution_count": 346,
   "metadata": {
    "slideshow": {
     "slide_type": "fragment"
    }
   },
   "outputs": [
    {
     "data": {
      "text/plain": [
       "0"
      ]
     },
     "execution_count": 346,
     "metadata": {},
     "output_type": "execute_result"
    }
   ],
   "source": [
    "retcode = call([\"ls\", \"-l\"])\n",
    "retcode"
   ]
  },
  {
   "cell_type": "markdown",
   "metadata": {
    "slideshow": {
     "slide_type": "subslide"
    }
   },
   "source": [
    "```python\n",
    "check_call(*popenargs, **kwargs)\n",
    "```\n",
    "Run command with arguments.  Wait for command to complete.  If the\n",
    "exit code was zero then return, otherwise raise\n",
    "CalledProcessError.  The CalledProcessError object will have the\n",
    "return code in the returncode attribute.\n",
    "\n",
    "The arguments are the same as for the Popen constructor.  Example:"
   ]
  },
  {
   "cell_type": "code",
   "execution_count": 347,
   "metadata": {
    "slideshow": {
     "slide_type": "fragment"
    }
   },
   "outputs": [
    {
     "data": {
      "text/plain": [
       "0"
      ]
     },
     "execution_count": 347,
     "metadata": {},
     "output_type": "execute_result"
    }
   ],
   "source": [
    "check_call([\"ls\", \"-l\"])"
   ]
  },
  {
   "cell_type": "markdown",
   "metadata": {
    "slideshow": {
     "slide_type": "subslide"
    }
   },
   "source": [
    "```python\n",
    "check_output(*popenargs, **kwargs)\n",
    "```\n",
    "Run command with arguments and return its output as a byte string.\n",
    "\n",
    "If the exit code was non-zero it raises a CalledProcessError.  The\n",
    "CalledProcessError object will have the return code in the returncode\n",
    "attribute and output in the output attribute.\n",
    "\n",
    "The arguments are the same as for the Popen constructor.  Example:"
   ]
  },
  {
   "cell_type": "code",
   "execution_count": 348,
   "metadata": {
    "slideshow": {
     "slide_type": "fragment"
    }
   },
   "outputs": [
    {
     "data": {
      "text/plain": [
       "b'crw-rw-rw-  1 root  wheel    3,   2 Nov 24 22:00 /dev/null\\n'"
      ]
     },
     "execution_count": 348,
     "metadata": {},
     "output_type": "execute_result"
    }
   ],
   "source": [
    "output = check_output([\"ls\", \"-l\", \"/dev/null\"])\n",
    "output"
   ]
  },
  {
   "cell_type": "markdown",
   "metadata": {
    "slideshow": {
     "slide_type": "notes"
    }
   },
   "source": [
    "---"
   ]
  },
  {
   "cell_type": "markdown",
   "metadata": {
    "slideshow": {
     "slide_type": "subslide"
    }
   },
   "source": [
    "# Concurrent Futures \n",
    "\n",
    "The `concurrent.futures` module provides a high-level interface for\n",
    "asynchronously executing callables.\n",
    "\n",
    "The asynchronous execution can be performed with threads,\n",
    "using `ThreadPoolExecutor`, or separate processes,\n",
    "using `ProcessPoolExecutor`. Both implement the same interface, which is\n",
    "defined by the abstract Executor class."
   ]
  },
  {
   "cell_type": "markdown",
   "metadata": {
    "slideshow": {
     "slide_type": "subslide"
    }
   },
   "source": [
    "### Executor Objects \n",
    "\n",
    "```python \n",
    "class concurrent.futures.Executor\n",
    "```\n",
    "\n",
    "An abstract class that provides methods to execute calls asynchronously.\n",
    "It should not be used directly, but through its concrete subclasses.\n",
    "\n",
    "```python\n",
    "submit(fn, **args, **kwargs)\n",
    "```\n",
    "\n",
    "Schedules the callable, *fn*, to be executed\n",
    "as `fn(*args, **kwargs)` and returns a Future object representing the\n",
    "execution of the callable."
   ]
  },
  {
   "cell_type": "code",
   "execution_count": 349,
   "metadata": {
    "slideshow": {
     "slide_type": "subslide"
    }
   },
   "outputs": [
    {
     "name": "stdout",
     "output_type": "stream",
     "text": [
      "733018741971166252529244672995227796776583345783942437386911678051742014907619818389889490523633966891088361470574959346120460571462260749066868322280895817921819178047106351622746089787222709001409723271535998886740900624008120633567081904814632812393533764463134148203902627783449817391855430335563732106041226371560673691183984708116601872233266074247493626304648260263767914583249791984053769482918833516091413131011123944919964273965579371981208614941585953495908535921540210708056885341387737215923345202544222865141850763901074317449693617326298168109535915635940121796253976420394712905525890085230066381155268301872764521970724361150250533240741250911370641578495445037349949847056446112243875919940177685220040160664042867777937760175315580842852772334361081793849764931709880797656009445214260838004008425745329486287217583337196739975624879209997958066918269289529173759400388462627027867023449158801888859657106016910393756105722308386102404609268566550368738720443422703712421937413064228232666730605742388335837146714118055611327514203299723649208298344877573265368313069762781039793226859829488229032564965635731481369752167217585943588854930073123415040389709513212962223638396059885947892393069120539629752913087293860710229309854604802321674065167382714715102476300146693438431833224964213369532024918771644330976993898734654636960222338307689812245659000814812860386873604770823862137671384853381092605916632447158620208279102871362522121737075798746297634021439677681885846906025762209900264981149145400622176046541895913713446104210012678561757945542108470975177238574885971783008091688989094139568186322074509855040235429441987295597788583656003164149522040284092940950997841383270838931250004957560959392148357213125798758355221152004876638131530060401294918574742158403027075892317311713232948774508045444387008377268956511566790988750066274475945057011826156359365664084922898519338475775136584478799585953802786369705215183341960068786541347670144480851661915646211142904738434781594527201521904996219737980968884208250267436396423981779399709186303960293407672554877346877193170897982220120029537710504050457313802321446995592434916524383256286111803049392908220573240027642399185919278901303127877945119916025120410258623536046989159056988455695917457277794657573586903543406892809506842341172324188614146189747989997492566982444418485858555939830994931765546646159933948646331181720254477223093614552419921625948715007606190469859917311824745902574837132432028609681828479562137848761003845549339456254612745501089667544053262976758087180329859844324991679303251520118205924889348811070368534970345655190383142368597970622914787824113699770230464815835988172741718871079971541784210688842581288010501153867757557117911157916834496975757069921359922064002354851413718493414469919988528124300509472377943419402710070938638340816072261896269139282992942967710326722487988387814927252378444344275944579731813013115789048970941051188880593003843626208600970181761638829477861608229607983725051555487136745926844381097959339538810272017727875770008857972396527027073630500507\n"
     ]
    }
   ],
   "source": [
    "from concurrent.futures import ThreadPoolExecutor\n",
    "\n",
    "with ThreadPoolExecutor(max_workers=1) as executor:\n",
    "\n",
    "    future = executor.submit(pow, 323, 1235)\n",
    "    print(future.result())"
   ]
  },
  {
   "cell_type": "markdown",
   "metadata": {
    "slideshow": {
     "slide_type": "subslide"
    }
   },
   "source": [
    "```python\n",
    "map(func, *iterables, timeout=None, chunksize=1)\n",
    "```\n",
    "\n",
    "Equivalent to `map(func, *iterables)` except *func* is executed\n",
    "asynchronously and several calls to *func* may be made concurrently."
   ]
  },
  {
   "cell_type": "markdown",
   "metadata": {
    "slideshow": {
     "slide_type": "notes"
    }
   },
   "source": [
    "Note:\n",
    "\n",
    "The returned iterator raises\n",
    "a concurrent.futures.TimeoutError if `next()` is called and the\n",
    "result isn’t available after *timeout* seconds from the original call\n",
    "to `Executor.map().timeout` can be an int or a float. If *timeout*is\n",
    "not specified or None, there is no limit to the wait time. If a call\n",
    "raises an exception, then that exception will be raised when its value\n",
    "is retrieved from the iterator. When using `ProcessPoolExecutor`, this\n",
    "method chops *iterables* into a number of chunks which it submits to the\n",
    "pool as separate tasks. The (approximate) size of these chunks can be\n",
    "specified by setting *chunksize* to a positive integer. For very long\n",
    "iterables, using a large value for *chunksize* can significantly improve\n",
    "performance compared to the default size of 1.\n",
    "With ThreadPoolExecutor, *chunksize* has no effect.\n",
    "\n",
    "Changed in version 3.5: Added the *chunksize* argument."
   ]
  },
  {
   "cell_type": "markdown",
   "metadata": {
    "slideshow": {
     "slide_type": "subslide"
    }
   },
   "source": [
    "`shutdown(wait=True)`\n",
    "\n",
    "Signal the executor that it should free any resources that it is using\n",
    "when the currently pending futures are done executing. Calls\n",
    "to Executor.submit() and Executor.map() made after shutdown will\n",
    "raise RuntimeError."
   ]
  },
  {
   "cell_type": "markdown",
   "metadata": {
    "slideshow": {
     "slide_type": "notes"
    }
   },
   "source": [
    "If *wait* is True then this method will not return until all the pending\n",
    "futures are done executing and the resources associated with the\n",
    "executor have been freed. If *wait* is False then this method will\n",
    "return immediately and the resources associated with the executor will\n",
    "be freed when all pending futures are done executing. Regardless of the\n",
    "value of *wait*, the entire Python program will not exit until all\n",
    "pending futures are done executing.\n",
    "\n",
    "You can avoid having to call this method explicitly if you use\n",
    "the with statement, which will shutdown the Executor (waiting as\n",
    "if `Executor.shutdown()` were called with *wait* set to True):"
   ]
  },
  {
   "cell_type": "code",
   "execution_count": 350,
   "metadata": {
    "slideshow": {
     "slide_type": "subslide"
    }
   },
   "outputs": [],
   "source": [
    "import shutil\n",
    "\n",
    "with ThreadPoolExecutor(max_workers=4) as e:\n",
    "    e.submit(shutil.copy, 'src1.txt', 'dest1.txt')\n",
    "    e.submit(shutil.copy, 'src2.txt', 'dest2.txt')\n",
    "    e.submit(shutil.copy, 'src3.txt', 'dest3.txt')\n",
    "    e.submit(shutil.copy, 'src4.txt', 'dest4.txt')"
   ]
  },
  {
   "cell_type": "markdown",
   "metadata": {
    "slideshow": {
     "slide_type": "subslide"
    }
   },
   "source": [
    "### ThreadPoolExecutor \n",
    "\n",
    "ThreadPoolExecutor is an Executor subclass that uses a pool of threads to execute calls asynchronously.\n",
    "\n",
    "Deadlocks can occur when the callable associated with a Future waits on the results of another Future. For example:"
   ]
  },
  {
   "cell_type": "code",
   "execution_count": 351,
   "metadata": {
    "slideshow": {
     "slide_type": "subslide"
    }
   },
   "outputs": [],
   "source": [
    "import time\n",
    "\n",
    "def wait_on_b():\n",
    "    time.sleep(5)\n",
    "    print(b.result())  \n",
    "    # b will never complete because it is waiting on a.\n",
    "    return 5\n",
    "\n",
    "def wait_on_a():\n",
    "    time.sleep(5)\n",
    "    print(a.result())  \n",
    "    # a will never complete because it is waiting on b.\n",
    "    return 6\n",
    "executor = ThreadPoolExecutor(max_workers=2)\n",
    "a = executor.submit(wait_on_b)\n",
    "b = executor.submit(wait_on_a)"
   ]
  },
  {
   "cell_type": "markdown",
   "metadata": {
    "slideshow": {
     "slide_type": "subslide"
    }
   },
   "source": [
    "And:"
   ]
  },
  {
   "cell_type": "code",
   "execution_count": 352,
   "metadata": {
    "slideshow": {
     "slide_type": "fragment"
    }
   },
   "outputs": [
    {
     "data": {
      "text/plain": [
       "<Future at 0x11cef1240 state=running>"
      ]
     },
     "execution_count": 352,
     "metadata": {},
     "output_type": "execute_result"
    }
   ],
   "source": [
    "def wait_on_future():\n",
    "    f = executor.submit(pow, 5, 2)\n",
    "    # This will never complete because there is only one worker thread and\n",
    "    # it is executing this function.\n",
    "    print(f.result())\n",
    "\n",
    "executor = ThreadPoolExecutor(max_workers=1)\n",
    "executor.submit(wait_on_future)"
   ]
  },
  {
   "cell_type": "markdown",
   "metadata": {
    "slideshow": {
     "slide_type": "subslide"
    }
   },
   "source": [
    "`class concurrent.futures.ThreadPoolExecutor(max_workers=None, thread_name_prefix='')`\n",
    "\n",
    "An Executor subclass that uses a pool of at most *max\\_workers* threads\n",
    "to execute calls asynchronously."
   ]
  },
  {
   "cell_type": "markdown",
   "metadata": {
    "slideshow": {
     "slide_type": "subslide"
    }
   },
   "source": [
    "### ThreadPoolExecutor Example "
   ]
  },
  {
   "cell_type": "code",
   "execution_count": 353,
   "metadata": {
    "slideshow": {
     "slide_type": "fragment"
    }
   },
   "outputs": [],
   "source": [
    "from concurrent.futures import *\n",
    "import urllib.request"
   ]
  },
  {
   "cell_type": "code",
   "execution_count": 354,
   "metadata": {
    "slideshow": {
     "slide_type": "fragment"
    }
   },
   "outputs": [],
   "source": [
    "URLS = ['http://www.foxnews.com/',\n",
    "        'http://www.cnn.com/',\n",
    "        'http://europe.wsj.com/',\n",
    "        'http://www.bbc.co.uk/',\n",
    "        'http://some-made-up-domain.com/']"
   ]
  },
  {
   "cell_type": "code",
   "execution_count": 355,
   "metadata": {
    "slideshow": {
     "slide_type": "subslide"
    }
   },
   "outputs": [
    {
     "name": "stdout",
     "output_type": "stream",
     "text": [
      "'http://www.bbc.co.uk/' page is 327926 bytes\n",
      "'http://some-made-up-domain.com/' generated an exception: <urlopen error [Errno 8] nodename nor servname provided, or not known>\n",
      "'http://www.cnn.com/' page is 1135305 bytes\n",
      "'http://europe.wsj.com/' page is 2804527 bytes\n",
      "'http://www.foxnews.com/' page is 231472 bytes\n"
     ]
    }
   ],
   "source": [
    "# Retrieve a single page and report the URL and contents\n",
    "def load_url(url, timeout):\n",
    "    with urllib.request.urlopen(url, timeout=timeout) as conn:\n",
    "        return conn.read()\n",
    "# We can use a with statement to ensure threads are cleaned up promptly\n",
    "with ThreadPoolExecutor(max_workers=5) as executor:\n",
    "     # Start the load operations and mark each future with its URL\n",
    "    future_to_url = {executor.submit(load_url, url, 60): url for url in URLS}\n",
    "for future in as_completed(future_to_url):\n",
    "    url = future_to_url[future]\n",
    "    try:\n",
    "        data = future.result()\n",
    "    except Exception as exc:\n",
    "        print('%r generated an exception: %s' % (url, exc))\n",
    "    else:\n",
    "        print('%r page is %d bytes' % (url, len(data)))"
   ]
  },
  {
   "cell_type": "markdown",
   "metadata": {
    "slideshow": {
     "slide_type": "subslide"
    }
   },
   "source": [
    "### ProcessPoolExecutor \n",
    "\n",
    "The ProcessPoolExecutor class is an Executor subclass that uses a pool\n",
    "of processes to execute calls asynchronously.ProcessPoolExecutor uses\n",
    "the multiprocessing module, which allows it to side-step the Global\n",
    "Interpreter Lock but also means that only picklable objects can be\n",
    "executed and returned.\n",
    "\n",
    "The `__main__` module must be importable by worker subprocesses. This\n",
    "means that ProcessPoolExecutor will not work in the interactive\n",
    "interpreter.\n",
    "\n",
    "Calling Executor or Future methods from a callable submitted to\n",
    "a ProcessPoolExecutor will result in deadlock."
   ]
  },
  {
   "cell_type": "markdown",
   "metadata": {
    "slideshow": {
     "slide_type": "subslide"
    }
   },
   "source": [
    "`class concurrent.futures.ProcessPoolExecutor(max_workers=None)`\n",
    "\n",
    "An Executor subclass that executes calls asynchronously using a pool of at most **`max_workers`** processes. If **max_workers** is None or not given, it will default to the number of processors on the machine.\n",
    "If **`max_workers`** is lower or equal to 0, then a ValueError will be raised."
   ]
  },
  {
   "cell_type": "markdown",
   "metadata": {
    "slideshow": {
     "slide_type": "subslide"
    }
   },
   "source": [
    "### ProcessPoolExecutor Example"
   ]
  },
  {
   "cell_type": "code",
   "execution_count": 356,
   "metadata": {
    "slideshow": {
     "slide_type": "fragment"
    }
   },
   "outputs": [
    {
     "name": "stdout",
     "output_type": "stream",
     "text": [
      "112272535095293 is prime: True\n",
      "112582705942171 is prime: True\n",
      "112272535095293 is prime: True\n",
      "115280095190773 is prime: True\n",
      "115797848077099 is prime: True\n",
      "1099726899285419 is prime: False\n"
     ]
    }
   ],
   "source": [
    "import concurrent.futures\n",
    "import math\n",
    "PRIMES = [\n",
    "        112272535095293,\n",
    "        112582705942171,\n",
    "        112272535095293,\n",
    "        115280095190773,\n",
    "        115797848077099,\n",
    "        1099726899285419]\n",
    "\n",
    "def is_prime(n):\n",
    "    if n % 2 == 0:\n",
    "        return False\n",
    "    sqrt_n = int(math.floor(math.sqrt(n)))\n",
    "    for i in range(3, sqrt_n + 1, 2):\n",
    "        if n % i == 0:\n",
    "            return False\n",
    "    return True\n",
    "\n",
    "def main():\n",
    "    with concurrent.futures.ProcessPoolExecutor() as executor:\n",
    "        for number, prime in zip(PRIMES, executor.map(is_prime,\n",
    "             PRIMES)):\n",
    "            print('%d is prime: %s' % (number, prime))\n",
    "\n",
    "if __name__ == '__main__':\n",
    "    main()"
   ]
  },
  {
   "cell_type": "markdown",
   "metadata": {
    "slideshow": {
     "slide_type": "subslide"
    }
   },
   "source": [
    "### Future Objects \n",
    "\n",
    "The Future class encapsulates the asynchronous execution of a\n",
    "callable. Future instances are created by Executor.submit()."
   ]
  },
  {
   "cell_type": "markdown",
   "metadata": {
    "slideshow": {
     "slide_type": "subslide"
    }
   },
   "source": [
    "- `class concurrent.futures.Future`\n",
    "Encapsulates the asynchronous execution of a callable. Future instances\n",
    "are created by `Executor.submit()` and should not be created directly\n",
    "except for testing."
   ]
  },
  {
   "cell_type": "markdown",
   "metadata": {
    "slideshow": {
     "slide_type": "subslide"
    }
   },
   "source": [
    "- `cancel()`\n",
    "Attempt to cancel the call. If the call is currently being executed and\n",
    "cannot be cancelled then the method will return False, otherwise the\n",
    "call will be cancelled and the method will return True."
   ]
  },
  {
   "cell_type": "markdown",
   "metadata": {
    "slideshow": {
     "slide_type": "subslide"
    }
   },
   "source": [
    "- `cancelled()`\n",
    "Return True if the call was successfully cancelled."
   ]
  },
  {
   "cell_type": "markdown",
   "metadata": {
    "slideshow": {
     "slide_type": "subslide"
    }
   },
   "source": [
    "- `running()`\n",
    "Return True if the call is currently being executed and cannot be\n",
    "cancelled."
   ]
  },
  {
   "cell_type": "markdown",
   "metadata": {
    "slideshow": {
     "slide_type": "subslide"
    }
   },
   "source": [
    "- `done()`\n",
    "Return True if the call was successfully cancelled or finished running."
   ]
  },
  {
   "cell_type": "markdown",
   "metadata": {
    "slideshow": {
     "slide_type": "subslide"
    }
   },
   "source": [
    "- `result(timeout=None)`\n",
    "Return the value returned by the call. If the call hasn’t yet completed then this method will wait up to *timeout* seconds. \n",
    "    - If the call hasn’t completed in *timeout* seconds, then a `concurrent.futures.TimeoutError` will be raised. *timeout* can be an int or float. \n",
    "    - If *timeout* is not specified or None, there is no limitto the wait time. \n",
    "    - If the future is cancelled before completing then `CancelledError` will be raised. \n",
    "    - If the call raised, this method will raise the same exception"
   ]
  },
  {
   "cell_type": "markdown",
   "metadata": {
    "slideshow": {
     "slide_type": "subslide"
    }
   },
   "source": [
    "- `exception(timeout=None)`\n",
    "Return the exception raised by the call. If the call hasn’t yet\n",
    "completed then this method will wait up to *timeout* seconds. \n",
    "    - If the call hasn’t completed in *timeout* seconds, then\n",
    "a `concurrent.futures.TimeoutError` will be raised. *timeout* can be an int or float. \n",
    "    - If *timeout* is not specified or None, there is no limit to the wait time. If the future is cancelled before completing then `CancelledError` will beraised. \n",
    "    - If the call completed without raising, None is returned."
   ]
  },
  {
   "cell_type": "markdown",
   "metadata": {
    "slideshow": {
     "slide_type": "subslide"
    }
   },
   "source": [
    "- `add_done_callback(fn)`\n",
    "Attaches the callable *fn* to the future. *fn* will be called, with the future as its only argument, when the future is cancelled or finishes running.\n",
    "\n",
    "    - Added callables are called in the order that they were added and are always called in a thread belonging to the process that added them. Ifthe callable raises an Exception subclass, it will be logged and ignored. If the callable raises a BaseException subclass, the behavior is undefined.\n",
    "\n",
    "    - If the future has already completed or been cancelled, *fn* will be called immediately."
   ]
  },
  {
   "cell_type": "markdown",
   "metadata": {
    "slideshow": {
     "slide_type": "subslide"
    }
   },
   "source": [
    "The following Future methods are meant for use in unit tests\n",
    "and Executor implementations."
   ]
  },
  {
   "cell_type": "markdown",
   "metadata": {
    "slideshow": {
     "slide_type": "subslide"
    }
   },
   "source": [
    "- `set_running_or_notify_cancel()`\n",
    "This method should only be called by Executor implementations before\n",
    "executing the work associated with the Futureand by unit tests.\n",
    "\n",
    "    - If the method returns False then the Future was cancelled,\n",
    "i.e. Future.cancel() was called and returned *True*. Any threads waiting\n",
    "on the Future completing (i.e. through `as_completed()` or `wait()`) will\n",
    "be woken up.\n",
    "\n",
    "    - If the method returns True then the Future was not cancelled and has\n",
    "been put in the running state, i.e. calls `toFuture.running()` will\n",
    "return *True*.\n",
    "\n",
    "    - This method can only be called once and cannot be called\n",
    "after `Future.set_result()` or `Future.set_exception()` have been called."
   ]
  },
  {
   "cell_type": "markdown",
   "metadata": {
    "slideshow": {
     "slide_type": "subslide"
    }
   },
   "source": [
    "- `set_result(result)`\n",
    "Sets the result of the work associated with the Future to *result*.\n",
    "This method should only be used by Executor implementations and unit\n",
    "tests."
   ]
  },
  {
   "cell_type": "markdown",
   "metadata": {
    "slideshow": {
     "slide_type": "subslide"
    }
   },
   "source": [
    "- `set_exception(exception)`\n",
    "Sets the result of the work associated with the Future to\n",
    "the Exception *exception*."
   ]
  },
  {
   "cell_type": "markdown",
   "metadata": {
    "slideshow": {
     "slide_type": "subslide"
    }
   },
   "source": [
    "### Module Functions \n",
    "\n",
    "`concurrent.futures.wait(fs, timeout=None, return_when=ALL_COMPLETED)`\n",
    "\n",
    "Wait for the Future instances (possibly created by\n",
    "different Executor instances) given by *fs* to complete. Returns a named\n",
    "2-tuple of sets. The first set, named done, contains the futures that\n",
    "completed (finished or were cancelled) before the wait completed. The\n",
    "second set, named not\\_done, contains uncompleted futures.\n",
    "\n",
    "*timeout* can be used to control the maximum number of seconds to wait\n",
    "before returning. *timeout* can be an int or float. If *timeout* is not\n",
    "specified or None, there is no limit to the wait time."
   ]
  },
  {
   "cell_type": "markdown",
   "metadata": {
    "slideshow": {
     "slide_type": "subslide"
    }
   },
   "source": [
    "### Constants\n",
    "|Constant|Description|\n",
    "| ------ |-----------|\n",
    "|`FIRST_COMPLETED`|The function will return when any future finishes or is cancelled.|\n",
    "|`FIRST_EXCEPTION`|The function will return when any future finishes by raising an exception. If no future raises an exception then it is equivalent to `ALL_COMPLETED`.|\n",
    "|`ALL_COMPLETED`|The function will return when all futures finish or are cancelled.|"
   ]
  },
  {
   "cell_type": "markdown",
   "metadata": {
    "slideshow": {
     "slide_type": "subslide"
    }
   },
   "source": [
    "`concurrent.futures.as_completed(fs, timeout=None)`\n",
    "\n",
    "different Executor instances given by *fs* that yields futures as\n",
    "they complete (finished or were cancelled). Any futures given\n",
    "by *fs* that are duplicated will be returned once. Any futures that\n",
    "completed before `as_completed()` is called will be yielded first. The  returned iterator raises a `concurrent.futures.TimeoutError` if `__next__()` is called and the\n",
    "result isn’t available after *timeout* seconds from the original call\n",
    " to `as_completed()`.\n",
    " \n",
    "*timeout* can be an int or float. If*timeout* is not specified or None, there is no limit to the wait time."
   ]
  },
  {
   "cell_type": "markdown",
   "metadata": {
    "slideshow": {
     "slide_type": "slide"
    }
   },
   "source": [
    "# Async Programming\n",
    "\n",
    "- User Mode Threading (event loop)\n",
    "- Single OS thread\n",
    "- I/O concurrency\n",
    "- Non-blocking Sockets\n",
    "- Callbacks, Futures, Coroutines\n",
    "- epoll\n",
    "\n",
    "Note:\n",
    "\n",
    "As has been noted threading can be useful for io bound processes, however race conditions can occur when the os swaps between threads.  The os is not aware of any of the inner workings of your code and thus cannot intelligently choose a \"good time\" to swap to a waiting thread. Asynchronous programming solves this problem by running all the code in a single thread, but in an event loop that effectively creates a user mode thread within your program."
   ]
  },
  {
   "cell_type": "markdown",
   "metadata": {
    "slideshow": {
     "slide_type": "subslide"
    }
   },
   "source": [
    "## Coroutines\n",
    "\n",
    "Asynchronour programming can make use of *call-backs* and *futures* however coroutines are much easier to understand and reason about.\n",
    "\n",
    "- In Python 2.5, a slight modification to the `yield` statement was introduced (PEP-342)"
   ]
  },
  {
   "cell_type": "code",
   "execution_count": 357,
   "metadata": {
    "slideshow": {
     "slide_type": "fragment"
    }
   },
   "outputs": [],
   "source": [
    "def grep(pattern):\n",
    "    print(\"Looking for %s\" % pattern)\n",
    "    while True:\n",
    "        line = (yield)\n",
    "        if pattern in line:\n",
    "            print(line)"
   ]
  },
  {
   "cell_type": "markdown",
   "metadata": {
    "slideshow": {
     "slide_type": "fragment"
    }
   },
   "source": [
    "- Where does yield get its value\n",
    "- Resulting object is now o coroutine."
   ]
  },
  {
   "cell_type": "markdown",
   "metadata": {
    "slideshow": {
     "slide_type": "subslide"
    }
   },
   "source": [
    "### Coroutine as consumer"
   ]
  },
  {
   "cell_type": "code",
   "execution_count": 358,
   "metadata": {
    "slideshow": {
     "slide_type": "fragment"
    }
   },
   "outputs": [
    {
     "name": "stdout",
     "output_type": "stream",
     "text": [
      "Looking for hello\n"
     ]
    }
   ],
   "source": [
    "o = grep('hello')\n",
    "next(o)"
   ]
  },
  {
   "cell_type": "code",
   "execution_count": 359,
   "metadata": {
    "slideshow": {
     "slide_type": "fragment"
    }
   },
   "outputs": [],
   "source": [
    "o.send('hi')"
   ]
  },
  {
   "cell_type": "code",
   "execution_count": 360,
   "metadata": {
    "slideshow": {
     "slide_type": "fragment"
    }
   },
   "outputs": [],
   "source": [
    "o.send('bye')"
   ]
  },
  {
   "cell_type": "code",
   "execution_count": 361,
   "metadata": {
    "slideshow": {
     "slide_type": "fragment"
    }
   },
   "outputs": [
    {
     "name": "stdout",
     "output_type": "stream",
     "text": [
      "hello\n"
     ]
    }
   ],
   "source": [
    "o.send('hello')"
   ]
  },
  {
   "cell_type": "code",
   "execution_count": 362,
   "metadata": {
    "slideshow": {
     "slide_type": "fragment"
    }
   },
   "outputs": [
    {
     "name": "stdout",
     "output_type": "stream",
     "text": [
      "Well hello there!\n"
     ]
    }
   ],
   "source": [
    "o.send('Well hello there!')"
   ]
  },
  {
   "cell_type": "markdown",
   "metadata": {
    "slideshow": {
     "slide_type": "subslide"
    }
   },
   "source": [
    "### Coroutine priming\n",
    "- You can only `send()` after the first `next()`\n",
    "- The coroutine needs to be advanced to the first `yield`"
   ]
  },
  {
   "cell_type": "markdown",
   "metadata": {
    "slideshow": {
     "slide_type": "subslide"
    }
   },
   "source": [
    "### Coroutine decorator\n",
    "- Performs the first `next()` call automatically.\n",
    "- Identifies as a coroutine"
   ]
  },
  {
   "cell_type": "code",
   "execution_count": 363,
   "metadata": {
    "slideshow": {
     "slide_type": "fragment"
    }
   },
   "outputs": [],
   "source": [
    "def coroutine(func):\n",
    "    def start(*args,**kwargs):\n",
    "        cr = func(*args,**kwargs)\n",
    "        next(cr)\n",
    "        return cr\n",
    "    return start"
   ]
  },
  {
   "cell_type": "code",
   "execution_count": 364,
   "metadata": {
    "slideshow": {
     "slide_type": "fragment"
    }
   },
   "outputs": [],
   "source": [
    "@coroutine\n",
    "def grep(pattern):\n",
    "    print(\"Looking for %s\" % pattern)\n",
    "    while True:\n",
    "        line = (yield)\n",
    "        if pattern in line:\n",
    "            print(line)"
   ]
  },
  {
   "cell_type": "code",
   "execution_count": 365,
   "metadata": {
    "slideshow": {
     "slide_type": "fragment"
    }
   },
   "outputs": [
    {
     "name": "stdout",
     "output_type": "stream",
     "text": [
      "Looking for hello\n",
      "hello again\n"
     ]
    }
   ],
   "source": [
    "o = grep('hello')\n",
    "o.send('hello again')"
   ]
  },
  {
   "cell_type": "markdown",
   "metadata": {
    "slideshow": {
     "slide_type": "subslide"
    }
   },
   "source": [
    "### Closing a Coroutine\n",
    "- A coroutine might run indefinitely\n",
    "- Calling `o.close()` will shut it down."
   ]
  },
  {
   "cell_type": "markdown",
   "metadata": {
    "slideshow": {
     "slide_type": "subslide"
    }
   },
   "source": [
    "### Catching close"
   ]
  },
  {
   "cell_type": "code",
   "execution_count": 366,
   "metadata": {
    "slideshow": {
     "slide_type": "fragment"
    }
   },
   "outputs": [],
   "source": [
    "@coroutine\n",
    "def grep(pattern):\n",
    "    print(\"Looking for %s\" % pattern)\n",
    "    try:\n",
    "        while True:\n",
    "            line = (yield)\n",
    "            if pattern in line:\n",
    "                print(line)\n",
    "    except GeneratorExit:\n",
    "        print(\"End of grep!\")"
   ]
  },
  {
   "cell_type": "code",
   "execution_count": 367,
   "metadata": {},
   "outputs": [
    {
     "name": "stdout",
     "output_type": "stream",
     "text": [
      "Looking for hello\n",
      "hello\n",
      "another hello\n",
      "End of grep!\n"
     ]
    }
   ],
   "source": [
    "o = grep('hello')\n",
    "o.send('hello')\n",
    "o.send('another hello')\n",
    "o.close()"
   ]
  },
  {
   "cell_type": "markdown",
   "metadata": {
    "slideshow": {
     "slide_type": "subslide"
    }
   },
   "source": [
    "## Asyncio\n",
    "\n",
    "Python 3.5 introduces the `async` and `await` keywords (functions using these keywords are also called “native coroutines”, which replace the ). \n",
    "\n",
    "- `async` annotates a function as a coroutine.  That is: `async def my_coroutine()`.\n",
    "- `await` replaces `yield from`, but is less flexible than yield.\n",
    "\n",
    "\n",
    "- asycio introduced in py3.4\n",
    "- trollius is a py2.7 backport (no longer maintained!)"
   ]
  },
  {
   "cell_type": "markdown",
   "metadata": {
    "slideshow": {
     "slide_type": "subslide"
    }
   },
   "source": [
    "### trollius example"
   ]
  },
  {
   "cell_type": "markdown",
   "metadata": {
    "slideshow": {
     "slide_type": "fragment"
    }
   },
   "source": [
    "```python\n",
    "import trollius as asyncio\n",
    "from trollius import From\n",
    " \n",
    "@asyncio.coroutine\n",
    "def my_coroutine(seconds_to_sleep=3):\n",
    "    print('my_coroutine sleeping for: %d seconds' % seconds_to_sleep)\n",
    "    yield From(asyncio.sleep(seconds_to_sleep))\n",
    "    #py3: yield from asyncio.sleep(seconds_to_sleep) \n",
    "\n",
    "loop = asyncio.get_event_loop()\n",
    "loop.run_until_complete(\n",
    "    asyncio.gather(my_coroutine())\n",
    ")\n",
    "loop.close()\n",
    "```"
   ]
  },
  {
   "cell_type": "markdown",
   "metadata": {
    "slideshow": {
     "slide_type": "subslide"
    }
   },
   "source": [
    "### asyncio generator example"
   ]
  },
  {
   "cell_type": "markdown",
   "metadata": {
    "slideshow": {
     "slide_type": "fragment"
    }
   },
   "source": [
    "```python\n",
    "import asyncio\n",
    " \n",
    "@asyncio.coroutine\n",
    "def my_coroutine(seconds_to_sleep=3):\n",
    "    print('my_coroutine sleeping for: %d seconds' % seconds_to_sleep)\n",
    "    yield from asyncio.sleep(seconds_to_sleep) \n",
    "\n",
    "\n",
    "loop = asyncio.get_event_loop()\n",
    "loop.run_until_complete(\n",
    "   asyncio.gather(my_coroutine())\n",
    ")\n",
    "loop.close()\n",
    "```"
   ]
  },
  {
   "cell_type": "markdown",
   "metadata": {
    "slideshow": {
     "slide_type": "subslide"
    }
   },
   "source": [
    "## Future and Callbacks"
   ]
  },
  {
   "cell_type": "markdown",
   "metadata": {
    "slideshow": {
     "slide_type": "fragment"
    }
   },
   "source": [
    "```python\n",
    "#can't run in Notebook\n",
    "import trollius as asyncio\n",
    "from trollius import From\n",
    "\n",
    "@asyncio.coroutine\n",
    "def my_coroutine(future, task_name, seconds_to_sleep=3):\n",
    "    print('my_coroutine sleeping for: {0} seconds'.format(seconds_to_sleep))\n",
    "    yield From(asyncio.sleep(seconds_to_sleep))\n",
    "    1/0\n",
    "    future.set_result('{0} is finished'.format(task_name))\n",
    "\n",
    "def got_result(future):\n",
    "    print future.result()\n",
    "```"
   ]
  },
  {
   "cell_type": "markdown",
   "metadata": {
    "slideshow": {
     "slide_type": "fragment"
    }
   },
   "source": [
    "```python\n",
    "loop = asyncio.get_event_loop()\n",
    "\n",
    "future1 = asyncio.Future()\n",
    "future2 = asyncio.Future()\n",
    "\n",
    "tasks = [\n",
    "            my_coroutine(future1, 'task1', 3),\n",
    "            my_coroutine(future2, 'task2', 1)]\n",
    "\n",
    "future1.add_done_callback(got_result)\n",
    "future2.add_done_callback(got_result)\n",
    "\n",
    "\n",
    "loop.run_until_complete(\n",
    "    asyncio.wait(tasks)\n",
    ")\n",
    "loop.close()\n",
    "```"
   ]
  },
  {
   "cell_type": "markdown",
   "metadata": {},
   "source": [
    "\n",
    "# Tornado \n",
    "\n",
    "Tornado can be roughly divided into four major components:\n",
    "\n",
    "A web framework (including RequestHandler which is subclassed to create web applications, and various supporting classes).\n",
    "\n",
    "Client- and server-side implementions of HTTP (HTTPServer and AsyncHTTPClient).\n",
    "\n",
    "An asynchronous networking library including the classes IOLoop and IOStream, which serve as the building blocks for the HTTP components and can also be used to implement other protocols.\n",
    "\n",
    "A coroutine library (tornado.gen) which allows asynchronous code to be written in a more straightforward way than chaining callbacks. This is similar to the native coroutine feature introduced in Python 3.5 (async def). Native coroutines are recommended in place of the tornado.gen module when available.\n",
    "\n",
    "The Tornado web framework and HTTP server together offer a full-stack alternative to WSGI. While it is possible to use the Tornado HTTP server as a container for other WSGI frameworks (WSGIContainer), this combination has limitations and to take full advantage of Tornado you will need to use Tornado’s web framework and HTTP server together."
   ]
  },
  {
   "cell_type": "markdown",
   "metadata": {},
   "source": [
    "## Tornado Web Framework"
   ]
  },
  {
   "cell_type": "markdown",
   "metadata": {
    "slideshow": {
     "slide_type": "subslide"
    }
   },
   "source": [
    "### REST\n",
    "Separate actions for different HTTP Methods:\n",
    "\n",
    "- GET\n",
    "- PUT\n",
    "- POST\n",
    "- PATCH\n",
    "- DELETE\n",
    "\n",
    "![Sloth](images/sloth.jpeg)\n",
    "\n",
    "\n",
    "\n",
    "REST stands for **REpresentational State Transfer**. REST is resource based \n",
    "which means that it is based on things instead of actions. An example of a \n",
    "resource could be a contact, article or product. Each resource is identified by \n",
    "a URI. Multiple URI's may refer to the same resource.\n",
    "\n",
    "REST makes use of actions in combination with a resource. The following actions \n",
    "are supported: GET, POST, PUT, PATCH, DELETE.\n",
    "\n",
    "A resful API for a contacts database may look something like \n",
    "The following:\n",
    "\n",
    "Method|URI|Description\n",
    "---|---|---\n",
    "GET|contacts|List all contacts\n",
    "GET|contacts/create|Form - create contact\n",
    "POST|contacts|Add new contact\n",
    "GET|contacts/2|Show contact 2\n",
    "GET|contacts/2/edit|Form - edit contact 2\n",
    "PUT|contacts/2|Update contact 2\n",
    "DELETE|contacts/2|Delete contact 2"
   ]
  },
  {
   "cell_type": "markdown",
   "metadata": {
    "slideshow": {
     "slide_type": "subslide"
    }
   },
   "source": [
    "### Hello World"
   ]
  },
  {
   "cell_type": "markdown",
   "metadata": {
    "slideshow": {
     "slide_type": "subslide"
    }
   },
   "source": [
    "```python\n",
    "import tornado.ioloop\n",
    "import tornado.web\n",
    "\n",
    "class MainHandler(tornado.web.RequestHandler):\n",
    "    def get(self):\n",
    "        self.write(\"Hello, world\")\n",
    "\n",
    "def make_app():\n",
    "    return tornado.web.Application([\n",
    "        (r\"/\", MainHandler),\n",
    "    ])\n",
    "\n",
    "if __name__ == \"__main__\":\n",
    "    app = make_app()\n",
    "    app.listen(8888)\n",
    "    tornado.ioloop.IOLoop.current().start()\n",
    " ```"
   ]
  },
  {
   "cell_type": "markdown",
   "metadata": {
    "slideshow": {
     "slide_type": "notes"
    }
   },
   "source": [
    "Note:\n",
    "\n",
    "Structure of the app includes a list of routes with handlers, \n",
    "in the above case we only have one root: `(r\"/\", MainHandler)`.\n",
    "Once the main loop is started it will poll for requests on the roots.\n",
    "When a connections occurs: a method matching the HTTP protocol of the connection,\n",
    "is called from the class specified as the handler."
   ]
  },
  {
   "cell_type": "markdown",
   "metadata": {
    "slideshow": {
     "slide_type": "subslide"
    }
   },
   "source": [
    "## Asynchronous routines.\n",
    "\n",
    "`tornado.gen` is a generator-based interface to make it easier to work in an asynchronous environment. Code using the gen module is technically asynchronous, but it is written as a single generator instead of a collection of separate functions.  Since python 3.5 and tornado 4.3 it is possible to use native coroutines with tornado.  The tornado event loop has become a wrapper for the asyncio event loop."
   ]
  },
  {
   "cell_type": "markdown",
   "metadata": {
    "slideshow": {
     "slide_type": "subslide"
    }
   },
   "source": [
    "### example, the following asynchronous handler:"
   ]
  },
  {
   "cell_type": "markdown",
   "metadata": {
    "slideshow": {
     "slide_type": "fragment"
    }
   },
   "source": [
    "```python\n",
    "class AsyncHandler(RequestHandler):\n",
    "    @asynchronous\n",
    "    def get(self):\n",
    "        http_client = AsyncHTTPClient()\n",
    "        http_client.fetch(\"http://example.com\",\n",
    "                          callback=self.on_fetch)\n",
    "\n",
    "    def on_fetch(self, response):\n",
    "        do_something_with_response(response)\n",
    "        self.render(\"template.html\")\n",
    "```"
   ]
  },
  {
   "cell_type": "markdown",
   "metadata": {
    "slideshow": {
     "slide_type": "subslide"
    }
   },
   "source": [
    "**could be written with gen as:**"
   ]
  },
  {
   "cell_type": "markdown",
   "metadata": {
    "slideshow": {
     "slide_type": "fragment"
    }
   },
   "source": [
    "```python\n",
    "class GenAsyncHandler(RequestHandler):\n",
    "    @gen.coroutine\n",
    "    def get(self):\n",
    "        http_client = AsyncHTTPClient()\n",
    "        response = yield http_client.fetch(\"http://example.com\")\n",
    "        do_something_with_response(response)\n",
    "        self.render(\"template.html\")\n",
    "```"
   ]
  },
  {
   "cell_type": "markdown",
   "metadata": {
    "slideshow": {
     "slide_type": "fragment"
    }
   },
   "source": [
    "```python\n",
    "class GenAsyncHandler(RequestHandler):\n",
    "    async def get(self):\n",
    "        http_client = AsyncHTTPClient()\n",
    "        response = await http_client.fetch(\"http://example.com\")\n",
    "        do_something_with_response(response)\n",
    "        self.render(\"template.html\")\n",
    "```"
   ]
  },
  {
   "cell_type": "markdown",
   "metadata": {
    "slideshow": {
     "slide_type": "subslide"
    }
   },
   "source": [
    "Most asynchronous functions in Tornado return a Future; yielding this object returns its result.\n",
    "\n",
    "You can also yield a list or dict of Futures, which will be started at the same time and run in parallel; a list or dict of results will be returned when they are all finished:"
   ]
  },
  {
   "cell_type": "markdown",
   "metadata": {
    "slideshow": {
     "slide_type": "subslide"
    }
   },
   "source": [
    "```python\n",
    "async def get(self):\n",
    "    http_client = AsyncHTTPClient()\n",
    "    response1, response2 = await [http_client.fetch(url1),\n",
    "                                  http_client.fetch(url2)]\n",
    "    response_dict = await dict(response3=http_client.fetch(url3),\n",
    "                               response4=http_client.fetch(url4))\n",
    "    response3 = response_dict['response3']\n",
    "    response4 = response_dict['response4']\n",
    "```"
   ]
  },
  {
   "cell_type": "markdown",
   "metadata": {
    "slideshow": {
     "slide_type": "notes"
    }
   },
   "source": [
    "---"
   ]
  },
  {
   "cell_type": "markdown",
   "metadata": {
    "slideshow": {
     "slide_type": "slide"
    }
   },
   "source": [
    "# Interacting with C\n",
    "Modules\n",
    "- instant compile and execute c code from python\n",
    "- ctypes  access shared library \n",
    "- numba   compile python code as c."
   ]
  },
  {
   "cell_type": "markdown",
   "metadata": {
    "slideshow": {
     "slide_type": "subslide"
    }
   },
   "source": [
    "## The instant module\n",
    "- Instant allows inlining of C and C++ functions in Python codes"
   ]
  },
  {
   "cell_type": "markdown",
   "metadata": {
    "slideshow": {
     "slide_type": "subslide"
    }
   },
   "source": [
    "### The hello world example:"
   ]
  },
  {
   "cell_type": "code",
   "execution_count": null,
   "metadata": {
    "slideshow": {
     "slide_type": "fragment"
    }
   },
   "outputs": [],
   "source": [
    "from instant import inline\n",
    "source = \"\"\"\n",
    "double hw1(double r1, double r2)\n",
    "{\n",
    "return sin(r1 + r2);\n",
    "}\n",
    "\"\"\"\n",
    "hw1 = inline(source)\n",
    "\n",
    "x = 1.0\n",
    "y = 2.5\n",
    "print(\"sin({0}+{1}) = {2}\".format(x,y,hw1(x,y)))"
   ]
  },
  {
   "cell_type": "markdown",
   "metadata": {
    "slideshow": {
     "slide_type": "notes"
    }
   },
   "source": [
    "Note:**How it works**\n",
    "C/C++ code is automatically wrapped and compiled at run-time\n",
    "Resulting object files are stored, only recompiled when source code is changed\n",
    "Simple to use, but only works for smaller codes\n"
   ]
  },
  {
   "cell_type": "markdown",
   "metadata": {
    "slideshow": {
     "slide_type": "subslide"
    }
   },
   "source": [
    "## The ctypes module\n",
    "- ctypes gives access to C datatypes from Python\n",
    "\n",
    "- C libraries can be imported and called from python\n",
    "Work only in Python - no need for writing wrapper code in C\n",
    "Less elegant interface than a regular Python extension module"
   ]
  },
  {
   "cell_type": "markdown",
   "metadata": {
    "slideshow": {
     "slide_type": "subslide"
    }
   },
   "source": [
    "### ctypes usage\n",
    "\n",
    "- Primitive C data types are interfaced:\n",
    "- `c_int`, `c_bool`, `c_double`, `c_char` ..."
   ]
  },
  {
   "cell_type": "markdown",
   "metadata": {
    "slideshow": {
     "slide_type": "subslide"
    }
   },
   "source": [
    "- Libraries may be loaded by instantiating ctypes.CDLL:"
   ]
  },
  {
   "cell_type": "markdown",
   "metadata": {
    "slideshow": {
     "slide_type": "fragment"
    }
   },
   "source": [
    "```python\n",
    "clib = ctypes.CDLL('./clib.so')\n",
    "```"
   ]
  },
  {
   "cell_type": "markdown",
   "metadata": {
    "slideshow": {
     "slide_type": "subslide"
    }
   },
   "source": [
    "### ctypes usage\n",
    "\n",
    "- Arguments and return type for library functions must be converted to the correct C type:"
   ]
  },
  {
   "cell_type": "markdown",
   "metadata": {
    "slideshow": {
     "slide_type": "fragment"
    }
   },
   "source": [
    "```python\n",
    "c_arg1 = c_double(arg1)\n",
    "c_arg2 = c_double(arg2)\n",
    "clib.function1.restype = c_double\n",
    "```"
   ]
  },
  {
   "cell_type": "markdown",
   "metadata": {
    "slideshow": {
     "slide_type": "fragment"
    }
   },
   "source": [
    "After the conversion, calling library functions is intuitive:\n",
    "```python\n",
    "result = clib.function1(c_arg1,c_arg2)\n",
    "```"
   ]
  },
  {
   "cell_type": "markdown",
   "metadata": {
    "slideshow": {
     "slide_type": "subslide"
    }
   },
   "source": [
    "### Hello world with ctypes (1)\n",
    "\n",
    "- Unmodified C code, compiled to a shared library;"
   ]
  },
  {
   "cell_type": "markdown",
   "metadata": {
    "attributes": {
     "classes": [
      "c"
     ],
     "id": ""
    },
    "slideshow": {
     "slide_type": "fragment"
    }
   },
   "source": [
    "```C\n",
    "double hw1(double r1, double r2)\n",
    "{\n",
    "    double s;\n",
    "    s = sin(r1 + r2);\n",
    "    return s;\n",
    "}\n",
    "\n",
    "void hw2(double r1, double r2)\n",
    "{\n",
    "    double s;\n",
    "    s = sin(r1 + r2);\n",
    "    printf(\"Hello, World! sin(%g+%g)=%g\\n\", r1, r2, s);\n",
    "}\n",
    "\n",
    "/* special version of hw1 where the result is an argument: */\n",
    "void hw3(double r1, double r2, double *s)\n",
    "{\n",
    "    *s = sin(r1 + r2);\n",
    "}\n",
    "```"
   ]
  },
  {
   "cell_type": "markdown",
   "metadata": {
    "slideshow": {
     "slide_type": "subslide"
    }
   },
   "source": [
    "### Hello world with ctypes (2)\n",
    "\n",
    "- C library is loaded into Python and accessed directly;"
   ]
  },
  {
   "cell_type": "markdown",
   "metadata": {
    "slideshow": {
     "slide_type": "fragment"
    }
   },
   "source": [
    "```python\n",
    "#!/usr/bin/env python\n",
    "from ctypes import *\n",
    "hw_lib = CDLL('./hw.so')  # load shared library\n",
    "\n",
    "hw_lib.hw1.restype = c_double  # specify return type\n",
    "s = hw_lib.hw1(c_double(1), c_double(2.14159))\n",
    "print(s, type(s))\n",
    "\n",
    "# automatic conversion of arguments from Python to ctypes:\n",
    "hw_lib.hw1.argtypes = [c_double, c_double]\n",
    "s = hw_lib.hw1(1, 2.14159)\n",
    "print(s, type(s))\n",
    "\n",
    "hw_lib.hw2.argtypes = [c_double, c_double]\n",
    "hw_lib.hw1.restype = None  # returns void\n",
    "hw_lib.hw2(1, 2.14159)\n",
    "\n",
    "s = c_double()\n",
    "hw_lib.hw3(c_double(1), c_double(2.14159), byref(s))\n",
    "print(s.value)\n",
    "```"
   ]
  },
  {
   "cell_type": "markdown",
   "metadata": {
    "slideshow": {
     "slide_type": "subslide"
    }
   },
   "source": [
    "### Ctypes bottom line\n",
    "\n",
    "- Works well for interfacing a few C functions\n",
    "- Less convenient for a large number of function calls\n",
    "- Can be wrapped in a Python module, but with a performance loss"
   ]
  }
 ],
 "metadata": {
  "kernelspec": {
   "display_name": "Python 3",
   "language": "python",
   "name": "python3"
  },
  "language_info": {
   "codemirror_mode": {
    "name": "ipython",
    "version": 3
   },
   "file_extension": ".py",
   "mimetype": "text/x-python",
   "name": "python",
   "nbconvert_exporter": "python",
   "pygments_lexer": "ipython3",
   "version": "3.7.3"
  }
 },
 "nbformat": 4,
 "nbformat_minor": 2
}
